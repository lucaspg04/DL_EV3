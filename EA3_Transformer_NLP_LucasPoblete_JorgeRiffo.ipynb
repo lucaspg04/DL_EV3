{
  "cells": [
    {
      "cell_type": "markdown",
      "id": "7283a721",
      "metadata": {
        "id": "7283a721"
      },
      "source": [
        "# Implementación de Transformers para Procesamiento de Lenguaje Natural (NLP)"
      ]
    },
    {
      "cell_type": "markdown",
      "id": "6422d1ff",
      "metadata": {
        "id": "6422d1ff"
      },
      "source": [
        "\n",
        "### Objetivo\n",
        "En esta evaluación, implementaremos un modelo basado en arquitecturas de Transformers para una tarea de procesamiento de lenguaje natural (NLP), utilizando el dataset **DailyDialog**. Este conjunto de datos de diálogos permite que el modelo practique en generación de texto y comprensión de contexto en interacciones cotidianas.\n",
        "\n",
        "Usaremos TensorFlow para construir un modelo transformer básico con las siguientes características:\n",
        "- **Encoder-Decoder**: para procesar la entrada y generar salida secuencial.\n",
        "- **Atención Multi-cabezal**: para capturar dependencias a largo plazo en el diálogo.\n",
        "\n",
        "Al final, evaluaremos el modelo utilizando métricas específicas de NLP, como BLEU o ROUGE.\n"
      ]
    },
    {
      "cell_type": "markdown",
      "id": "bca5997e",
      "metadata": {
        "id": "bca5997e"
      },
      "source": [
        "## 1. Carga y Exploración del Dataset: DailyDialog"
      ]
    },
    {
      "cell_type": "code",
      "source": [
        "!wget https://raw.githubusercontent.com/JaznaLaProfe/Deep-Learning/main/data/dialog/train.csv\n",
        "!wget https://raw.githubusercontent.com/JaznaLaProfe/Deep-Learning/main/data/dialog/test.csv\n",
        "!wget https://raw.githubusercontent.com/JaznaLaProfe/Deep-Learning/main/data/dialog/validation.csv"
      ],
      "metadata": {
        "colab": {
          "base_uri": "https://localhost:8080/"
        },
        "id": "DcWs7Nf3pRIq",
        "outputId": "711bbfc6-b1f8-45f8-c279-54484a6369a6"
      },
      "id": "DcWs7Nf3pRIq",
      "execution_count": null,
      "outputs": [
        {
          "output_type": "stream",
          "name": "stdout",
          "text": [
            "--2025-06-23 08:22:21--  https://raw.githubusercontent.com/JaznaLaProfe/Deep-Learning/main/data/dialog/train.csv\n",
            "Resolving raw.githubusercontent.com (raw.githubusercontent.com)... 185.199.108.133, 185.199.109.133, 185.199.110.133, ...\n",
            "Connecting to raw.githubusercontent.com (raw.githubusercontent.com)|185.199.108.133|:443... connected.\n",
            "HTTP request sent, awaiting response... 200 OK\n",
            "Length: 6233555 (5.9M) [text/plain]\n",
            "Saving to: ‘train.csv.9’\n",
            "\n",
            "train.csv.9         100%[===================>]   5.94M  --.-KB/s    in 0.06s   \n",
            "\n",
            "2025-06-23 08:22:21 (104 MB/s) - ‘train.csv.9’ saved [6233555/6233555]\n",
            "\n",
            "--2025-06-23 08:22:21--  https://raw.githubusercontent.com/JaznaLaProfe/Deep-Learning/main/data/dialog/test.csv\n",
            "Resolving raw.githubusercontent.com (raw.githubusercontent.com)... 185.199.108.133, 185.199.109.133, 185.199.110.133, ...\n",
            "Connecting to raw.githubusercontent.com (raw.githubusercontent.com)|185.199.108.133|:443... connected.\n",
            "HTTP request sent, awaiting response... 200 OK\n",
            "Length: 561656 (548K) [text/plain]\n",
            "Saving to: ‘test.csv.9’\n",
            "\n",
            "test.csv.9          100%[===================>] 548.49K  --.-KB/s    in 0.04s   \n",
            "\n",
            "2025-06-23 08:22:21 (14.2 MB/s) - ‘test.csv.9’ saved [561656/561656]\n",
            "\n",
            "--2025-06-23 08:22:21--  https://raw.githubusercontent.com/JaznaLaProfe/Deep-Learning/main/data/dialog/validation.csv\n",
            "Resolving raw.githubusercontent.com (raw.githubusercontent.com)... 185.199.108.133, 185.199.109.133, 185.199.111.133, ...\n",
            "Connecting to raw.githubusercontent.com (raw.githubusercontent.com)|185.199.108.133|:443... connected.\n",
            "HTTP request sent, awaiting response... 200 OK\n",
            "Length: 575615 (562K) [text/plain]\n",
            "Saving to: ‘validation.csv.9’\n",
            "\n",
            "validation.csv.9    100%[===================>] 562.12K  --.-KB/s    in 0.03s   \n",
            "\n",
            "2025-06-23 08:22:22 (17.1 MB/s) - ‘validation.csv.9’ saved [575615/575615]\n",
            "\n"
          ]
        }
      ]
    },
    {
      "cell_type": "code",
      "execution_count": null,
      "id": "8a63cf22",
      "metadata": {
        "id": "8a63cf22"
      },
      "outputs": [],
      "source": [
        "import pandas as pd\n",
        "import numpy as np\n",
        "import tensorflow as tf\n",
        "import ast\n",
        "import re\n",
        "import unicodedata\n",
        "import keras_nlp\n",
        "import matplotlib.pyplot as plt\n",
        "from tensorflow.keras.preprocessing.text import Tokenizer\n",
        "from tensorflow.keras.preprocessing.sequence import pad_sequences\n",
        "from tensorflow.keras.preprocessing.text import text_to_word_sequence\n",
        "from keras_nlp.tokenizers import BytePairTokenizer\n",
        "from nltk.translate.bleu_score import sentence_bleu\n",
        "from nltk.tokenize import sent_tokenize  # Más robusto que split simple\n",
        "from tensorflow.keras.callbacks import EarlyStopping\n",
        "from tensorflow.keras.layers import TextVectorization\n"
      ]
    },
    {
      "cell_type": "code",
      "source": [
        "print(keras_nlp.__version__)"
      ],
      "metadata": {
        "colab": {
          "base_uri": "https://localhost:8080/"
        },
        "id": "aD8_hZdfi_WU",
        "outputId": "c148c015-d6ef-4348-92ee-48bcebdd1743"
      },
      "id": "aD8_hZdfi_WU",
      "execution_count": null,
      "outputs": [
        {
          "output_type": "stream",
          "name": "stdout",
          "text": [
            "0.18.1\n"
          ]
        }
      ]
    },
    {
      "cell_type": "code",
      "source": [
        "pip install rouge-score"
      ],
      "metadata": {
        "colab": {
          "base_uri": "https://localhost:8080/"
        },
        "id": "2k8yMDxsjntH",
        "outputId": "39c7ef75-f83e-42df-bdf8-fc2c9dc38555"
      },
      "id": "2k8yMDxsjntH",
      "execution_count": null,
      "outputs": [
        {
          "output_type": "stream",
          "name": "stdout",
          "text": [
            "Requirement already satisfied: rouge-score in /usr/local/lib/python3.11/dist-packages (0.1.2)\n",
            "Requirement already satisfied: absl-py in /usr/local/lib/python3.11/dist-packages (from rouge-score) (1.4.0)\n",
            "Requirement already satisfied: nltk in /usr/local/lib/python3.11/dist-packages (from rouge-score) (3.9.1)\n",
            "Requirement already satisfied: numpy in /usr/local/lib/python3.11/dist-packages (from rouge-score) (2.0.2)\n",
            "Requirement already satisfied: six>=1.14.0 in /usr/local/lib/python3.11/dist-packages (from rouge-score) (1.17.0)\n",
            "Requirement already satisfied: click in /usr/local/lib/python3.11/dist-packages (from nltk->rouge-score) (8.2.1)\n",
            "Requirement already satisfied: joblib in /usr/local/lib/python3.11/dist-packages (from nltk->rouge-score) (1.5.1)\n",
            "Requirement already satisfied: regex>=2021.8.3 in /usr/local/lib/python3.11/dist-packages (from nltk->rouge-score) (2024.11.6)\n",
            "Requirement already satisfied: tqdm in /usr/local/lib/python3.11/dist-packages (from nltk->rouge-score) (4.67.1)\n"
          ]
        }
      ]
    },
    {
      "cell_type": "code",
      "source": [
        "from nltk.translate.bleu_score import sentence_bleu, SmoothingFunction\n",
        "# Si quieres usar ROUGE, instala primero: pip install rouge-score\n",
        "try:\n",
        "    from rouge_score import rouge_scorer\n",
        "    rouge_available = True\n",
        "except ImportError:\n",
        "    rouge_available = False"
      ],
      "metadata": {
        "id": "HEJvBSGYj2v5"
      },
      "id": "HEJvBSGYj2v5",
      "execution_count": null,
      "outputs": []
    },
    {
      "cell_type": "code",
      "source": [
        "train = pd.read_csv('train.csv')\n",
        "test = pd.read_csv('test.csv')\n",
        "validation = pd.read_csv('validation.csv')"
      ],
      "metadata": {
        "id": "Tw1ETOfgpVBT"
      },
      "id": "Tw1ETOfgpVBT",
      "execution_count": null,
      "outputs": []
    },
    {
      "cell_type": "code",
      "source": [
        "train"
      ],
      "metadata": {
        "id": "-RTuSWKwUeP0",
        "colab": {
          "base_uri": "https://localhost:8080/",
          "height": 424
        },
        "outputId": "3f4905b0-3c58-40ba-f335-0adccd457868"
      },
      "id": "-RTuSWKwUeP0",
      "execution_count": null,
      "outputs": [
        {
          "output_type": "execute_result",
          "data": {
            "text/plain": [
              "                                                  dialog  \\\n",
              "0      ['Say , Jim , how about going for a few beers ...   \n",
              "1      ['Can you do push-ups ? '\\n \" Of course I can ...   \n",
              "2      ['Can you study with the radio on ? '\\n ' No ,...   \n",
              "3      ['Are you all right ? '\\n ' I will be all righ...   \n",
              "4      ['Hey John , nice skates . Are they new ? '\\n ...   \n",
              "...                                                  ...   \n",
              "11113  ['Hello , I bought a pen in your shop just bef...   \n",
              "11114  ['Do you have any seats available ? ' ' Yes . ...   \n",
              "11115  ['Uncle Ben , how did the Forbidden City get t...   \n",
              "11116  ['May I help you , sir ? ' ' I want a pair of ...   \n",
              "11117  ['Could I have the check , please ? ' \" Okay ....   \n",
              "\n",
              "                                     act                            emotion  \n",
              "0                  [3 4 2 2 2 3 4 1 3 4]              [0 0 0 0 0 0 4 4 4 4]  \n",
              "1                          [2 1 2 2 1 1]                      [0 0 6 0 0 0]  \n",
              "2                            [2 1 2 1 1]                        [0 0 0 0 0]  \n",
              "3                              [2 1 1 1]                          [0 0 0 0]  \n",
              "4                    [2 1 2 1 1 2 1 3 4]                [0 0 0 0 0 6 0 6 0]  \n",
              "...                                  ...                                ...  \n",
              "11113                [1 1 1 2 3 2 1 4 1]                [0 4 0 0 0 0 0 0 4]  \n",
              "11114                      [2 1 2 1 3 4]                      [0 0 0 0 0 4]  \n",
              "11115  [2 1 2 1 1 1 1 1 2 1 2 1 2 1 3 4]  [0 0 6 0 6 0 0 0 0 0 0 0 0 0 4 0]  \n",
              "11116                          [2 3 4 3]                          [0 0 0 0]  \n",
              "11117                              [3 4]                              [0 0]  \n",
              "\n",
              "[11118 rows x 3 columns]"
            ],
            "text/html": [
              "\n",
              "  <div id=\"df-aded26e5-a10d-4527-b07c-e82dc61d267a\" class=\"colab-df-container\">\n",
              "    <div>\n",
              "<style scoped>\n",
              "    .dataframe tbody tr th:only-of-type {\n",
              "        vertical-align: middle;\n",
              "    }\n",
              "\n",
              "    .dataframe tbody tr th {\n",
              "        vertical-align: top;\n",
              "    }\n",
              "\n",
              "    .dataframe thead th {\n",
              "        text-align: right;\n",
              "    }\n",
              "</style>\n",
              "<table border=\"1\" class=\"dataframe\">\n",
              "  <thead>\n",
              "    <tr style=\"text-align: right;\">\n",
              "      <th></th>\n",
              "      <th>dialog</th>\n",
              "      <th>act</th>\n",
              "      <th>emotion</th>\n",
              "    </tr>\n",
              "  </thead>\n",
              "  <tbody>\n",
              "    <tr>\n",
              "      <th>0</th>\n",
              "      <td>['Say , Jim , how about going for a few beers ...</td>\n",
              "      <td>[3 4 2 2 2 3 4 1 3 4]</td>\n",
              "      <td>[0 0 0 0 0 0 4 4 4 4]</td>\n",
              "    </tr>\n",
              "    <tr>\n",
              "      <th>1</th>\n",
              "      <td>['Can you do push-ups ? '\\n \" Of course I can ...</td>\n",
              "      <td>[2 1 2 2 1 1]</td>\n",
              "      <td>[0 0 6 0 0 0]</td>\n",
              "    </tr>\n",
              "    <tr>\n",
              "      <th>2</th>\n",
              "      <td>['Can you study with the radio on ? '\\n ' No ,...</td>\n",
              "      <td>[2 1 2 1 1]</td>\n",
              "      <td>[0 0 0 0 0]</td>\n",
              "    </tr>\n",
              "    <tr>\n",
              "      <th>3</th>\n",
              "      <td>['Are you all right ? '\\n ' I will be all righ...</td>\n",
              "      <td>[2 1 1 1]</td>\n",
              "      <td>[0 0 0 0]</td>\n",
              "    </tr>\n",
              "    <tr>\n",
              "      <th>4</th>\n",
              "      <td>['Hey John , nice skates . Are they new ? '\\n ...</td>\n",
              "      <td>[2 1 2 1 1 2 1 3 4]</td>\n",
              "      <td>[0 0 0 0 0 6 0 6 0]</td>\n",
              "    </tr>\n",
              "    <tr>\n",
              "      <th>...</th>\n",
              "      <td>...</td>\n",
              "      <td>...</td>\n",
              "      <td>...</td>\n",
              "    </tr>\n",
              "    <tr>\n",
              "      <th>11113</th>\n",
              "      <td>['Hello , I bought a pen in your shop just bef...</td>\n",
              "      <td>[1 1 1 2 3 2 1 4 1]</td>\n",
              "      <td>[0 4 0 0 0 0 0 0 4]</td>\n",
              "    </tr>\n",
              "    <tr>\n",
              "      <th>11114</th>\n",
              "      <td>['Do you have any seats available ? ' ' Yes . ...</td>\n",
              "      <td>[2 1 2 1 3 4]</td>\n",
              "      <td>[0 0 0 0 0 4]</td>\n",
              "    </tr>\n",
              "    <tr>\n",
              "      <th>11115</th>\n",
              "      <td>['Uncle Ben , how did the Forbidden City get t...</td>\n",
              "      <td>[2 1 2 1 1 1 1 1 2 1 2 1 2 1 3 4]</td>\n",
              "      <td>[0 0 6 0 6 0 0 0 0 0 0 0 0 0 4 0]</td>\n",
              "    </tr>\n",
              "    <tr>\n",
              "      <th>11116</th>\n",
              "      <td>['May I help you , sir ? ' ' I want a pair of ...</td>\n",
              "      <td>[2 3 4 3]</td>\n",
              "      <td>[0 0 0 0]</td>\n",
              "    </tr>\n",
              "    <tr>\n",
              "      <th>11117</th>\n",
              "      <td>['Could I have the check , please ? ' \" Okay ....</td>\n",
              "      <td>[3 4]</td>\n",
              "      <td>[0 0]</td>\n",
              "    </tr>\n",
              "  </tbody>\n",
              "</table>\n",
              "<p>11118 rows × 3 columns</p>\n",
              "</div>\n",
              "    <div class=\"colab-df-buttons\">\n",
              "\n",
              "  <div class=\"colab-df-container\">\n",
              "    <button class=\"colab-df-convert\" onclick=\"convertToInteractive('df-aded26e5-a10d-4527-b07c-e82dc61d267a')\"\n",
              "            title=\"Convert this dataframe to an interactive table.\"\n",
              "            style=\"display:none;\">\n",
              "\n",
              "  <svg xmlns=\"http://www.w3.org/2000/svg\" height=\"24px\" viewBox=\"0 -960 960 960\">\n",
              "    <path d=\"M120-120v-720h720v720H120Zm60-500h600v-160H180v160Zm220 220h160v-160H400v160Zm0 220h160v-160H400v160ZM180-400h160v-160H180v160Zm440 0h160v-160H620v160ZM180-180h160v-160H180v160Zm440 0h160v-160H620v160Z\"/>\n",
              "  </svg>\n",
              "    </button>\n",
              "\n",
              "  <style>\n",
              "    .colab-df-container {\n",
              "      display:flex;\n",
              "      gap: 12px;\n",
              "    }\n",
              "\n",
              "    .colab-df-convert {\n",
              "      background-color: #E8F0FE;\n",
              "      border: none;\n",
              "      border-radius: 50%;\n",
              "      cursor: pointer;\n",
              "      display: none;\n",
              "      fill: #1967D2;\n",
              "      height: 32px;\n",
              "      padding: 0 0 0 0;\n",
              "      width: 32px;\n",
              "    }\n",
              "\n",
              "    .colab-df-convert:hover {\n",
              "      background-color: #E2EBFA;\n",
              "      box-shadow: 0px 1px 2px rgba(60, 64, 67, 0.3), 0px 1px 3px 1px rgba(60, 64, 67, 0.15);\n",
              "      fill: #174EA6;\n",
              "    }\n",
              "\n",
              "    .colab-df-buttons div {\n",
              "      margin-bottom: 4px;\n",
              "    }\n",
              "\n",
              "    [theme=dark] .colab-df-convert {\n",
              "      background-color: #3B4455;\n",
              "      fill: #D2E3FC;\n",
              "    }\n",
              "\n",
              "    [theme=dark] .colab-df-convert:hover {\n",
              "      background-color: #434B5C;\n",
              "      box-shadow: 0px 1px 3px 1px rgba(0, 0, 0, 0.15);\n",
              "      filter: drop-shadow(0px 1px 2px rgba(0, 0, 0, 0.3));\n",
              "      fill: #FFFFFF;\n",
              "    }\n",
              "  </style>\n",
              "\n",
              "    <script>\n",
              "      const buttonEl =\n",
              "        document.querySelector('#df-aded26e5-a10d-4527-b07c-e82dc61d267a button.colab-df-convert');\n",
              "      buttonEl.style.display =\n",
              "        google.colab.kernel.accessAllowed ? 'block' : 'none';\n",
              "\n",
              "      async function convertToInteractive(key) {\n",
              "        const element = document.querySelector('#df-aded26e5-a10d-4527-b07c-e82dc61d267a');\n",
              "        const dataTable =\n",
              "          await google.colab.kernel.invokeFunction('convertToInteractive',\n",
              "                                                    [key], {});\n",
              "        if (!dataTable) return;\n",
              "\n",
              "        const docLinkHtml = 'Like what you see? Visit the ' +\n",
              "          '<a target=\"_blank\" href=https://colab.research.google.com/notebooks/data_table.ipynb>data table notebook</a>'\n",
              "          + ' to learn more about interactive tables.';\n",
              "        element.innerHTML = '';\n",
              "        dataTable['output_type'] = 'display_data';\n",
              "        await google.colab.output.renderOutput(dataTable, element);\n",
              "        const docLink = document.createElement('div');\n",
              "        docLink.innerHTML = docLinkHtml;\n",
              "        element.appendChild(docLink);\n",
              "      }\n",
              "    </script>\n",
              "  </div>\n",
              "\n",
              "\n",
              "    <div id=\"df-69bcabd6-bc68-413c-b5e1-c3c311ea78b7\">\n",
              "      <button class=\"colab-df-quickchart\" onclick=\"quickchart('df-69bcabd6-bc68-413c-b5e1-c3c311ea78b7')\"\n",
              "                title=\"Suggest charts\"\n",
              "                style=\"display:none;\">\n",
              "\n",
              "<svg xmlns=\"http://www.w3.org/2000/svg\" height=\"24px\"viewBox=\"0 0 24 24\"\n",
              "     width=\"24px\">\n",
              "    <g>\n",
              "        <path d=\"M19 3H5c-1.1 0-2 .9-2 2v14c0 1.1.9 2 2 2h14c1.1 0 2-.9 2-2V5c0-1.1-.9-2-2-2zM9 17H7v-7h2v7zm4 0h-2V7h2v10zm4 0h-2v-4h2v4z\"/>\n",
              "    </g>\n",
              "</svg>\n",
              "      </button>\n",
              "\n",
              "<style>\n",
              "  .colab-df-quickchart {\n",
              "      --bg-color: #E8F0FE;\n",
              "      --fill-color: #1967D2;\n",
              "      --hover-bg-color: #E2EBFA;\n",
              "      --hover-fill-color: #174EA6;\n",
              "      --disabled-fill-color: #AAA;\n",
              "      --disabled-bg-color: #DDD;\n",
              "  }\n",
              "\n",
              "  [theme=dark] .colab-df-quickchart {\n",
              "      --bg-color: #3B4455;\n",
              "      --fill-color: #D2E3FC;\n",
              "      --hover-bg-color: #434B5C;\n",
              "      --hover-fill-color: #FFFFFF;\n",
              "      --disabled-bg-color: #3B4455;\n",
              "      --disabled-fill-color: #666;\n",
              "  }\n",
              "\n",
              "  .colab-df-quickchart {\n",
              "    background-color: var(--bg-color);\n",
              "    border: none;\n",
              "    border-radius: 50%;\n",
              "    cursor: pointer;\n",
              "    display: none;\n",
              "    fill: var(--fill-color);\n",
              "    height: 32px;\n",
              "    padding: 0;\n",
              "    width: 32px;\n",
              "  }\n",
              "\n",
              "  .colab-df-quickchart:hover {\n",
              "    background-color: var(--hover-bg-color);\n",
              "    box-shadow: 0 1px 2px rgba(60, 64, 67, 0.3), 0 1px 3px 1px rgba(60, 64, 67, 0.15);\n",
              "    fill: var(--button-hover-fill-color);\n",
              "  }\n",
              "\n",
              "  .colab-df-quickchart-complete:disabled,\n",
              "  .colab-df-quickchart-complete:disabled:hover {\n",
              "    background-color: var(--disabled-bg-color);\n",
              "    fill: var(--disabled-fill-color);\n",
              "    box-shadow: none;\n",
              "  }\n",
              "\n",
              "  .colab-df-spinner {\n",
              "    border: 2px solid var(--fill-color);\n",
              "    border-color: transparent;\n",
              "    border-bottom-color: var(--fill-color);\n",
              "    animation:\n",
              "      spin 1s steps(1) infinite;\n",
              "  }\n",
              "\n",
              "  @keyframes spin {\n",
              "    0% {\n",
              "      border-color: transparent;\n",
              "      border-bottom-color: var(--fill-color);\n",
              "      border-left-color: var(--fill-color);\n",
              "    }\n",
              "    20% {\n",
              "      border-color: transparent;\n",
              "      border-left-color: var(--fill-color);\n",
              "      border-top-color: var(--fill-color);\n",
              "    }\n",
              "    30% {\n",
              "      border-color: transparent;\n",
              "      border-left-color: var(--fill-color);\n",
              "      border-top-color: var(--fill-color);\n",
              "      border-right-color: var(--fill-color);\n",
              "    }\n",
              "    40% {\n",
              "      border-color: transparent;\n",
              "      border-right-color: var(--fill-color);\n",
              "      border-top-color: var(--fill-color);\n",
              "    }\n",
              "    60% {\n",
              "      border-color: transparent;\n",
              "      border-right-color: var(--fill-color);\n",
              "    }\n",
              "    80% {\n",
              "      border-color: transparent;\n",
              "      border-right-color: var(--fill-color);\n",
              "      border-bottom-color: var(--fill-color);\n",
              "    }\n",
              "    90% {\n",
              "      border-color: transparent;\n",
              "      border-bottom-color: var(--fill-color);\n",
              "    }\n",
              "  }\n",
              "</style>\n",
              "\n",
              "      <script>\n",
              "        async function quickchart(key) {\n",
              "          const quickchartButtonEl =\n",
              "            document.querySelector('#' + key + ' button');\n",
              "          quickchartButtonEl.disabled = true;  // To prevent multiple clicks.\n",
              "          quickchartButtonEl.classList.add('colab-df-spinner');\n",
              "          try {\n",
              "            const charts = await google.colab.kernel.invokeFunction(\n",
              "                'suggestCharts', [key], {});\n",
              "          } catch (error) {\n",
              "            console.error('Error during call to suggestCharts:', error);\n",
              "          }\n",
              "          quickchartButtonEl.classList.remove('colab-df-spinner');\n",
              "          quickchartButtonEl.classList.add('colab-df-quickchart-complete');\n",
              "        }\n",
              "        (() => {\n",
              "          let quickchartButtonEl =\n",
              "            document.querySelector('#df-69bcabd6-bc68-413c-b5e1-c3c311ea78b7 button');\n",
              "          quickchartButtonEl.style.display =\n",
              "            google.colab.kernel.accessAllowed ? 'block' : 'none';\n",
              "        })();\n",
              "      </script>\n",
              "    </div>\n",
              "\n",
              "  <div id=\"id_cbfa72d6-6b47-48db-8e49-cc6d0c5c8fe4\">\n",
              "    <style>\n",
              "      .colab-df-generate {\n",
              "        background-color: #E8F0FE;\n",
              "        border: none;\n",
              "        border-radius: 50%;\n",
              "        cursor: pointer;\n",
              "        display: none;\n",
              "        fill: #1967D2;\n",
              "        height: 32px;\n",
              "        padding: 0 0 0 0;\n",
              "        width: 32px;\n",
              "      }\n",
              "\n",
              "      .colab-df-generate:hover {\n",
              "        background-color: #E2EBFA;\n",
              "        box-shadow: 0px 1px 2px rgba(60, 64, 67, 0.3), 0px 1px 3px 1px rgba(60, 64, 67, 0.15);\n",
              "        fill: #174EA6;\n",
              "      }\n",
              "\n",
              "      [theme=dark] .colab-df-generate {\n",
              "        background-color: #3B4455;\n",
              "        fill: #D2E3FC;\n",
              "      }\n",
              "\n",
              "      [theme=dark] .colab-df-generate:hover {\n",
              "        background-color: #434B5C;\n",
              "        box-shadow: 0px 1px 3px 1px rgba(0, 0, 0, 0.15);\n",
              "        filter: drop-shadow(0px 1px 2px rgba(0, 0, 0, 0.3));\n",
              "        fill: #FFFFFF;\n",
              "      }\n",
              "    </style>\n",
              "    <button class=\"colab-df-generate\" onclick=\"generateWithVariable('train')\"\n",
              "            title=\"Generate code using this dataframe.\"\n",
              "            style=\"display:none;\">\n",
              "\n",
              "  <svg xmlns=\"http://www.w3.org/2000/svg\" height=\"24px\"viewBox=\"0 0 24 24\"\n",
              "       width=\"24px\">\n",
              "    <path d=\"M7,19H8.4L18.45,9,17,7.55,7,17.6ZM5,21V16.75L18.45,3.32a2,2,0,0,1,2.83,0l1.4,1.43a1.91,1.91,0,0,1,.58,1.4,1.91,1.91,0,0,1-.58,1.4L9.25,21ZM18.45,9,17,7.55Zm-12,3A5.31,5.31,0,0,0,4.9,8.1,5.31,5.31,0,0,0,1,6.5,5.31,5.31,0,0,0,4.9,4.9,5.31,5.31,0,0,0,6.5,1,5.31,5.31,0,0,0,8.1,4.9,5.31,5.31,0,0,0,12,6.5,5.46,5.46,0,0,0,6.5,12Z\"/>\n",
              "  </svg>\n",
              "    </button>\n",
              "    <script>\n",
              "      (() => {\n",
              "      const buttonEl =\n",
              "        document.querySelector('#id_cbfa72d6-6b47-48db-8e49-cc6d0c5c8fe4 button.colab-df-generate');\n",
              "      buttonEl.style.display =\n",
              "        google.colab.kernel.accessAllowed ? 'block' : 'none';\n",
              "\n",
              "      buttonEl.onclick = () => {\n",
              "        google.colab.notebook.generateWithVariable('train');\n",
              "      }\n",
              "      })();\n",
              "    </script>\n",
              "  </div>\n",
              "\n",
              "    </div>\n",
              "  </div>\n"
            ],
            "application/vnd.google.colaboratory.intrinsic+json": {
              "type": "dataframe",
              "variable_name": "train",
              "summary": "{\n  \"name\": \"train\",\n  \"rows\": 11118,\n  \"fields\": [\n    {\n      \"column\": \"dialog\",\n      \"properties\": {\n        \"dtype\": \"string\",\n        \"num_unique_values\": 10549,\n        \"samples\": [\n          \"[\\\"How's your brother doing ? \\\"\\n \\\" As a matter of fact , he hasn't been feeling too well . \\\"\\n \\\" I'm sorry to hear that . What's the matter ? \\\"\\n \\\" Tell him I hope he's better soon . \\\"\\n \\\" I'll tell him . Thanks for asking about him . \\\"]\",\n          \"[\\\"just don't understand why we have to take the subway . Look at this place . It's modern enough . But it's far from lively . \\\"\\n \\\" It's convenient . People in network go everywhere by subway if they don't drive . \\\"\\n \\\" This isn't network , Frida . We are in San Francisco . \\\"\\n \\\" What's the difference ? \\\"\\n \\\" We haven't come here in business but for pleasure . We should go out exciting . What can you see in the subway ? Nothing ! \\\"\\n ' What can you see from a tram or a double-decker ? '\\n ' I can see people who are walking on the sidewalk . I can see cars driving on the streets . I can see the sun shining and beautiful flowers dancing in the wind . I can even smell the scent of flowers and the freshness of the air . '\\n ' But they are not as convenient as the subway . '\\n ' You miss the point ! We are not in a hurry to go anywhere . '\\n \\\" Well , maybe you are right . We'll be more amused in a tram or a double-decker than on the subway . \\\"\\n \\\" I'm so glad you can finally see things in my way . Can we leave this dull place now ? \\\"\\n \\\" What about the tickets ? I've already bought them . \\\"\\n ' Just throw them away ! ']\",\n          \"['Good evening , sir . What can I do for you ? '\\n ' We are going to have a party tonight , would you please look after our baby tonight ? '\\n ' Well , we have baby-sitting service . We will take good care of your baby . '\\n \\\" That's good . \\\" ' Please fill out the table . ']\"\n        ],\n        \"semantic_type\": \"\",\n        \"description\": \"\"\n      }\n    },\n    {\n      \"column\": \"act\",\n      \"properties\": {\n        \"dtype\": \"category\",\n        \"num_unique_values\": 5005,\n        \"samples\": [\n          \"[3 4 2 3 2 2 1 2 1 2 1]\",\n          \"[3 3 2 1 4 2 1 2 1 2 1 2 1 2 1 2 1 3]\",\n          \"[3 2 3 2 1 3 3 4]\"\n        ],\n        \"semantic_type\": \"\",\n        \"description\": \"\"\n      }\n    },\n    {\n      \"column\": \"emotion\",\n      \"properties\": {\n        \"dtype\": \"category\",\n        \"num_unique_values\": 2453,\n        \"samples\": [\n          \"[0 0 0 0 0 5 0 0 0]\",\n          \"[1 0 0]\",\n          \"[4 4 4 4 4 4 4 0 0 0 0 0]\"\n        ],\n        \"semantic_type\": \"\",\n        \"description\": \"\"\n      }\n    }\n  ]\n}"
            }
          },
          "metadata": {},
          "execution_count": 137
        }
      ]
    },
    {
      "cell_type": "code",
      "source": [
        "train['dialog'][0]"
      ],
      "metadata": {
        "colab": {
          "base_uri": "https://localhost:8080/",
          "height": 105
        },
        "id": "jrWn-wzWTg1c",
        "outputId": "fa51e015-5f5d-4ea0-c48e-e5b709418b56"
      },
      "id": "jrWn-wzWTg1c",
      "execution_count": null,
      "outputs": [
        {
          "output_type": "execute_result",
          "data": {
            "text/plain": [
              "'[\\'Say , Jim , how about going for a few beers after dinner ? \\'\\n \\' You know that is tempting but is really not good for our fitness . \\'\\n \\' What do you mean ? It will help us to relax . \\'\\n \" Do you really think so ? I don\\'t . It will just make us fat and act silly . Remember last time ? \"\\n \" I guess you are right.But what shall we do ? I don\\'t feel like sitting at home . \"\\n \\' I suggest a walk over to the gym where we can play singsong and meet some of our friends . \\'\\n \" That\\'s a good idea . I hear Mary and Sally often go there to play pingpong.Perhaps we can make a foursome with them . \"\\n \\' Sounds great to me ! If they are willing , we could ask them to go dancing with us.That is excellent exercise and fun , too . \\'\\n \" Good.Let \\' s go now . \" \\' All right . \\']'"
            ],
            "application/vnd.google.colaboratory.intrinsic+json": {
              "type": "string"
            }
          },
          "metadata": {},
          "execution_count": 138
        }
      ]
    },
    {
      "cell_type": "markdown",
      "source": [
        "### 1. Normalización"
      ],
      "metadata": {
        "id": "1eNb7QXWeuc1"
      },
      "id": "1eNb7QXWeuc1"
    },
    {
      "cell_type": "code",
      "source": [
        "def normalize_text(text):\n",
        "    text = text.lower()\n",
        "    text = unicodedata.normalize('NFKD', text).encode('ascii', 'ignore').decode('utf-8')\n",
        "    text = re.sub(r'([.,;?!])', r' \\1 ', text)\n",
        "    text = re.sub(r'[^a-zA-Z0-9áéíóúñÁÉÍÓÚÑ .,;?!]', '', text)\n",
        "    text = re.sub(r'\\s+', ' ', text)\n",
        "    return text.strip()"
      ],
      "metadata": {
        "id": "euvYQXHKeq_v"
      },
      "id": "euvYQXHKeq_v",
      "execution_count": null,
      "outputs": []
    },
    {
      "cell_type": "markdown",
      "source": [
        "#### Train"
      ],
      "metadata": {
        "id": "nXlpVIwIfCaG"
      },
      "id": "nXlpVIwIfCaG"
    },
    {
      "cell_type": "code",
      "source": [
        "texto_norm_train = [normalize_text(a) for a in train['dialog']]"
      ],
      "metadata": {
        "id": "nqjybRuZfBD1"
      },
      "id": "nqjybRuZfBD1",
      "execution_count": null,
      "outputs": []
    },
    {
      "cell_type": "code",
      "source": [
        "texto_norm_train[0]"
      ],
      "metadata": {
        "colab": {
          "base_uri": "https://localhost:8080/",
          "height": 87
        },
        "id": "9Lx0fV7lfb8A",
        "outputId": "6c20f295-eae1-4009-baa3-76a27d80162c"
      },
      "id": "9Lx0fV7lfb8A",
      "execution_count": null,
      "outputs": [
        {
          "output_type": "execute_result",
          "data": {
            "text/plain": [
              "'say , jim , how about going for a few beers after dinner ? you know that is tempting but is really not good for our fitness . what do you mean ? it will help us to relax . do you really think so ? i dont . it will just make us fat and act silly . remember last time ? i guess you are right . but what shall we do ? i dont feel like sitting at home . i suggest a walk over to the gym where we can play singsong and meet some of our friends . thats a good idea . i hear mary and sally often go there to play pingpong . perhaps we can make a foursome with them . sounds great to me ! if they are willing , we could ask them to go dancing with us . that is excellent exercise and fun , too . good . let s go now . all right .'"
            ],
            "application/vnd.google.colaboratory.intrinsic+json": {
              "type": "string"
            }
          },
          "metadata": {},
          "execution_count": 141
        }
      ]
    },
    {
      "cell_type": "code",
      "source": [
        "texto_norm_train"
      ],
      "metadata": {
        "colab": {
          "base_uri": "https://localhost:8080/"
        },
        "collapsed": true,
        "id": "XRHEE4LRik11",
        "outputId": "d6cfb083-aea3-4c7c-ce12-94fc8a726b6e"
      },
      "id": "XRHEE4LRik11",
      "execution_count": null,
      "outputs": [
        {
          "output_type": "execute_result",
          "data": {
            "text/plain": [
              "['say , jim , how about going for a few beers after dinner ? you know that is tempting but is really not good for our fitness . what do you mean ? it will help us to relax . do you really think so ? i dont . it will just make us fat and act silly . remember last time ? i guess you are right . but what shall we do ? i dont feel like sitting at home . i suggest a walk over to the gym where we can play singsong and meet some of our friends . thats a good idea . i hear mary and sally often go there to play pingpong . perhaps we can make a foursome with them . sounds great to me ! if they are willing , we could ask them to go dancing with us . that is excellent exercise and fun , too . good . let s go now . all right .',\n",
              " 'can you do pushups ? of course i can . its a piece of cake ! believe it or not , i can do 30 pushups a minute . really ? i think thats impossible ! you mean 30 pushups ? yeah ! its easy . if you do exercise everyday , you can make it , too .',\n",
              " 'can you study with the radio on ? no , i listen to background music . what is the difference ? the radio has too many comerials . thats true , but then you have to buy a record player .',\n",
              " 'are you all right ? i will be all right soon . i was terrified when i watched them fall from the wire . dont worry . he is an acrobat i see .',\n",
              " 'hey john , nice skates . are they new ? yeah , i just got them . i started playing ice hockey in a community league . so , i finally got myself new skates . what position do you play ? i m a defender . it s a lot of fun . you don t have to be able to skate as fast on defense . yeah , you re a pretty big guy . i play goalie , myself . oh , yeah ? which team ? the rockets . really ? i think we play you guys next week . well , i have to go to practice . see you later . all right , see you later .',\n",
              " 'hey lydia , what are you reading ? i m looking at my horoscope for this month ! my outlook is very positive . it says that i should take a vacation to someplace exotic , and that i will have a passionate summer fling ! what are you talking about ? let me see that . . . what are horoscopes ? it s a prediction of your month , based on your zodiac sign . you have a different sign for the month and date you were born in . i was born on april 15th , so i m an aries . when were you born ? january 5th . let s see . . . you re a capricorn . it says that you will be feeling stress at work , but you could see new , exciting developments in your love life . looks like we ll both have interesting summers ! that s bogus . i dont feel any stress at work , and my love life is practically nonexistent . this zodiac stuff is all a bunch of nonsense . no , it s not , your astrology sign can tell you a lot about your personality . see ? it says that an aries is energetic and loves to socialize . well , you certainly match those criteria , but they re so broad they could apply to anyone . what does it say about me ? a capricorn is seriousminded and practical . she likes to do things in conventional ways . that sounds just like you !',\n",
              " 'frank s getting married , do you believe this ? is he really ? yes , he is . he loves the girl very much . who is he marring ? a girl he met on holiday in spain , i think . have they set a date for the wedding ? not yet .',\n",
              " 'i hear you bought a new house in the northern suburbs . that s right , we bought it the same day we came on the market . what kind of house is it ? it s a wonderful spanish style . oh , i love the roof tiles on spanish style houses . and it s a bargaining . a house like this in river side costs double the price . great , is it a two bedroom house ? no , it has three bedrooms and three beds , and has a living room with a twelvefoot ceiling . there s a twocar garage . that s a nice area too . it ll be a good investment for you . yeas , when will you buy a house ? not untill the end of this year , you know , just before my wedding . right , congratulations . thank you .',\n",
              " 'hi , becky , whats up ? not much , except that my motherinlaw is driving me up the wall . whats the problem ? she loves to nitpick and criticizes everything that i do . i can never do anything right when shes around . for example ? well , last week i invited her over to dinner . my husband and i had no problem with the food , but if you listened to her , then it would seem like i fed her old meat and rotten vegetables . theres just nothing can please her . no , i cant see that happening . i know youre a good cook and nothing like that would ever happen . its not just that . she also criticizes how we raise the kids . my motherinlaw used to do the same thing to us . if it wasnt disciplining them enough , then we were disciplining them too much . she also complained about the food we fed them , the schools we sent them too , and everything else under the sun . you said she used to ? how did you stop her ? we basically sat her down and told her how we felt about her constant criticizing , and how we welcomed her advice but hoped shed let us do our things . she understood , and now everything is a lot more peaceful . that sounds like a good idea . ill have to try that .',\n",
              " 'how are zinas new programmers working out ? i hate to admit it , but theyre good . and fast . the filipino kid is a genius . so youll make the stars . com deadline , and have us up and running next week ? itll be close , but well make it . good . after stars . com starts paying us , we wont need vikams cash anymore . and if we dont need them , we wont need zina , either .',\n",
              " 'do you like cooking ? yes . i like cooking very much . i got this hobby when i was 12 years sold . why do you like it ? i have no idea . i like cooking by myself . i like to taste delicious food . thats wonderful ! and i love trying new recipes , which i usually test with my friends . you can come , too . really ? i hope i can have a chance to taste it . dont forget to tell me . certainly .',\n",
              " 'anyone home ? jen ! im in the kitchen . . . let yourself in ! wow ! youre really working up a storm ! i know . ive even worked up a sweat . you look like a cooking show hostonly messier .',\n",
              " 'you look so tan and healthy ! thanks . i just got back from summer camp . how was it ? great . i got to try so many things for the first time . like what ? i went sailing , fishing , and horseback riding . i m so jealous . the counselors were so nice too . it was the best summer ever . except for all those mosquitoes !',\n",
              " 'diana , do you like the perfume i gave you ? it s good . but to tell you the truth , i don t wear perfume . i m sorry . i didn t know that . that s all right . thank you all the same .',\n",
              " 'ah , ah , ah . . . all right , bill . here s your daily exercise schedule . you are to jog before breakfast . jog ? then , you are to walk to work . walk ? thirty minutes in gym at lunch time . oh no . use the stairs , never the elevator . oh , dear . and three times a week , you can either swim , play racketball , or hand ball . oh no . ok , you can stop now . it s time for the dance class . dance class ! i dont know how . you will . oh . . .',\n",
              " 'hi bill , i saw your grandma yesterday . oh where was that ? i was running around the track at my college and there she was walking around the same track . grannie always tries to stay fit and healthy . she is always making us kids eat the proper foods . well , it pays off for her . how old is she anyway ? she will be 86 next month . that is truly amazing !',\n",
              " 'i would like to register for a class today . no problem , what class would you like to take ? i would very much enjoy taking a psychology class . because im crazy . there are two classes that are still open . which days are these classes on ? the first class is a tuesday and thursday class from two to three . what about the other class ? the other class is on monday and wednesday from 10 am 12 . are you sure there are no more open classes ? im positive . sign me up for monday and wednesday . okay , ill sign you up .',\n",
              " 'dad , why are you taping the windows ? honey , a typhoon is coming . really ? wow , i dont have to go to school tomorrow . jenny , come and help , we need to prepare more food . ok . dad ! im coming .',\n",
              " 'hi , my name is lean , and im from russia . nice to meet you , lean . my name is alike . im from japan . to me english is a difficult language . a second language is always difficult . true , but english is harder than most . its a crazy language . a crazy language ? why do you say that ? one letter can have several pronunciations and one word can have several meanings . no wonder you say english is a crazy language .',\n",
              " 'can i help you ? i hope so . im looking for some material for a paper im writing , and im not quite sure where to look . ill certainly try to help you . what topic is your paper on ? my paper is on the influence of television on children . there are several possible sources you might use for that topic . i suggest you use the computer and the computer will give you a list of every scientific journal that talks about children and television . thank you for you help .',\n",
              " 'here s your hot dog and beer . what happened ? did i miss anything ? yeah , cal ripen just hit a home run . what s the score ? well it was 3 to 4 , but ripen s home run made it 5 to 4 since another player was on first base . so baltimore is winning ? right . this is a really great place to watch a baseball game . yeah , there isn t a bad seat in the place . the fans are great here , too . not like in philadelphia . it was a great idea to spend a day watching a game . yeah , it reminds you why they say baseball is america s favorite pastime .',\n",
              " 'how do you like the pizza here ? perfect . it really hits the spot .',\n",
              " 'do you have a light ? sorry , i dont smoke .',\n",
              " 'i was scared stiff of giving my first performance . were you ? your performance was excellent . thank you for your kindly words .',\n",
              " 'excuse me . could you please take a picture of us with this camera ? sure . which button do i press to shoot ? this one . do i have to focus it ? no , this is a focusfree camera . all you have to do is point and press the button . all right . say cheese !',\n",
              " 'every country should face the history . yeah , we don t live in the vacuum . we have traditional values and long but different history . sometimes , we , human beings , really had done something wrong , so we should admit it at first . but there is always somebody who wants to turn his back on the true history . i believe such things won t be realized , just daydreaming .',\n",
              " 'do you like traveling , kathy ? i like traveling for pleasure to get places for vacation for instance . but i don t like traveling to work , waiting for buses , or . . . or getting stuck in traffic jams when you re driving . exactly .',\n",
              " 'your house is too small . why not buy a big one . i do wish i could afford one . you can get a loan from the bank . you know lpf program provides low cost loans for participants home purchases . of course i know that . but dont you notice that the house price is skyrocketing ?',\n",
              " 'how do you do , prof . smith . how do you do , ms . yang . you speak very good english . thank you . i begin to like english even when i was a child . where did you learn it ? at school , in china . this is my first time to be out of my own country . its amazing .',\n",
              " 'do you want black or white coffee ? white , please look ! theres a folk concert tomorrow evening . do you want to go ? i dont like folk music very much . what kind of music do you like ? i like classical music . do you ? not very much . classical music sends me to sleep i dont believe you . it s true . you are funny ! so are you ! how about another coffee ?',\n",
              " 'what do you like to do in your spare time ? i like playing chess . do you have any hobbies besides playing chess ? im afraid not . do you have any hobbies like playing tennis or things like that ? oh , yes . i like playing basketball . can you tell me why you like it ? because i like the feeling of cooperating with others .',\n",
              " 'where is john ? i cant find him anywhere . havent you heard that he is in prison ? what ? beg your pardon . john is in prison now . he was copped outstealing . i just cannt believe my ears !',\n",
              " 'can i help you ? i hope so . im looking for some material for a paper im writing , and im not quite sure where to look . ill certainly try to help you . what topic is your paper on ? my paper is on the influence of television on children . there are several possible sources you might use for that topic . i suggest you use the computer and the computer will give you a list of every scientific journal that talks about children and television . thank you for you help .',\n",
              " 'hey , ted . what are you up to this friday ? well , i have the day off from work . that s great ! do you have any plans ? well , i ve been working so hard lately , so i ll probably just take it easy . sounds nice . yeah , i ll probably just stay in and relax . maybe watch a few movies . can i stop by ? sure . any time .',\n",
              " 'you honestly believe the world s improving every year ? yes , i do . i think that science is making us wiser . what do you think ? i don t think you re right there . i believe industry is making us wealthier . i don t believe that . and in my opinion , medicine is making us healthier . i agree with you in the sense . but we re all more miserable than ever , aren t we ? i don t agree with you . i maintain that we re healthier , wealthier and wiser than we were a hundred years ago . that s your opinion not mine .',\n",
              " 'what do you plan to do for your birthday ? i want to have a picnic with my friends , mum . how about a party at home ? that way we can get together and celebrate it . ok , mum . ill invite my friends home .',\n",
              " 'how may i help you ? i would like to return this book . is that all you need ? i also want to check out this video . is that all you would like to check out ? that s all i need . do you have your library card ? here it is . make sure to take proper care of this video . that won t be a problem . if you damage the video , you will be fined . i won t damage it .',\n",
              " 'whats the matter with you then ? you look miserable . its us . what do you mean by us . well , you always say youre busy . thats right . and you often go back to live with your parents and leave our son in the room by himself . i . . . i . . . i miss my parents , also they miss me . oh i remember , i cut terrible calls , and you didnt say anything about it . you mean i am groaned a few words ? totally not . perhaps its about our marriage .',\n",
              " 'hi , mary . you look pale today . whats the matter with you ? i think ive caught a cold . now im aching all over . youd better take some medicine and have a good rest . i hope youll be yourself pretty soon . thank you . i suppose i should go to see a doctor .',\n",
              " 'i feel like going for a drink , its been a long day . great idea ! peter , i could use the drink . how about the new bar across road ? sounds good . the food there is fantastic , too . i agree , i had lunch there last week . excellent ! that sounds like a plan .',\n",
              " 'could you tell me the right time , please ? well . my watch says five past two . but it s no use rely on it because it has been gaining and losing these last a few days . you have to go and fix it . yes . i will .',\n",
              " 'does your family have a record of your ancestors ? sure . my mom has been working on our family tree for years . she s always updating it . do you have a copy of your family tree in your house ? i d love to see it . i can show it to you now , if you like . i think it goes back about 8 generations so far . that s amazing . do you have a large extended family ? i ve got 30 cousins on my mom s side and 10 cousins on my dad s side . are you very close to your firstcousins ? the ones that are my age are close relatives . now that i m older , i don t spend as much time with them as i used to , so i don t know my younger cousins as well as the older ones . i see . who s the head of your household ? it s definitely my mother . and , her mother is definitely the matriarch of the bigger family . that s interesting . what does your grandfather think of your stepmother ? at first , she was quite critical of her , but now that they ve been married for a few years , she s starting to accept the fact that my father divorced my mother . that s pretty much how you feel about your stepmother . like grandmother , like grandson .',\n",
              " 'hi , mr . wang . do you feel like going boating with me ? sounds interesting , i havent gone boating for some time now , and what time ? how about tomorrow afternoon ? sure . where shall i meet you ? at the gate of the park . great . i look forward to meeting you . see you then . see you .',\n",
              " 'i hear that youve been to the saikei ski resort for the weekend . did you enjoy it ? yes , its so exciting , though i had the most falls in our skiing team . isnt there any coach to teach you how to ski ? of course there is . the toplevel coaches there are from the state sports general administration . could you move smoothly ? yes . my face even ached in the icy wind . what happened afterwards ? i was skiing on and on excitedly until i realized one thingi could not stop ! you can just imagine how terrified i was . poor girl !',\n",
              " 'you look pale recently . yeah . i have got much pressure in the company . i have tobe wrapped upon my work . take good care of yourself . thank you . i will .',\n",
              " 'hey , maggy , did you hear about david ? about david ? no , i didn t hear anything . you know , about david and his new boss . sorry , i don t quite follow you . well , i heard david has been fired . oh , that is a shame . he is really hard working .',\n",
              " 'how do you usually get to school ? i usually ride my bike . which form of transport do you prefer to use ? i feel that i can see more when i pedal a bicycle , but when i feel lazy , i drive my car . i think we should discourage people from using their private cars . they produce too much pollution ! i agree , but i would find it difficult to stop using my car . its just so convenient . cars might be convenient , but theyre so bad for the environment . do you have a car ? no . i used to have one though . once i started using my bicycle to get around , i found that i didnt really need it . maybe if i sold my car now , i wouldnt be so tempted to use it . you could try . it would save you a lot of money . thats true . every month , i spend hundreds of dollars on gas , insurance , and repairs . if you got to class by riding a bicycle every day instead of driving , you will get lots of exercise , too ! i could stand to lose a few pounds . having a car has made me lazy . i never end up walking anywhere ! lets go to a car dealership . ill help you try to sell your car for a good price . sounds good ! lets go !',\n",
              " 'whats wrong with him ? his nose is out of joint because we forgot to invite him to the party .',\n",
              " 'what are you going to do for one year abroad , tom ? study , study , study . i want to learn a lot . you are going to take courses ? yes . i am going to take some university courses there . sounds hard . yes , but i think its probably for the best . won t you get lonely ? hey , i am a pretty cool guy . i will make friends , and ill have a lot of extracurricular activities too . you know , like fencing , or theater or something .',\n",
              " 'isnt this lovely weather ? will you help me water the flowers , jack ? well , do you think i have to ? i do . we havent watered them for quite a few days . please look at the sky . don t you see the dark clouds ? its going to rain soon . good . so we dont have to work . how nice ! but i dont think its so nice . why ? the weather report says its going to rain for a whole week . oh , im afraid all the flowers will die in the rain .',\n",
              " 'on , darn . the grocery store is closed . yeah , this one closes at ten . we could drive to the 24 hour store on sixth . alright . we are out of everything . i wish the store close to us was open 24 house a day . i know , our schedules are so weird . sometimes , the little corner store is the only thing within walking distance that s open when we get home . yeah , and the prices there are very high . i know . three dollars for milk .',\n",
              " 'do you think they two will get married ? you can count on it . i think so . yes , they get along so well . i like him . he s good for her . youre right . he sure is .',\n",
              " 'dad , where are we off to ? first we will go to the city centre and stop for something to drink . then we will visit the university museum . where are we going to have a drink ? there is a coffee shop round the corner . can you see that big building at the end of the road ? yes ? that is a bank . the coffee shop is opposite the bank . good . i will have hot chocolate . a stop ! wait for the lights to turn green . when crossing the road you must always pay attention to whats around you . sorry . how far is the museum ? i am not sure . we will ask for directions in the coffee shop . here we are . you find us a table and ill get the drinks .',\n",
              " 'how about going to the cinema tonight ? thats great . whats on tonight ? i am not sure about the name of the film , but i know its a romantic one . romantic ? i am afraid i like thrillers better . dont you think its too bloody ? on the contrary , very exciting .',\n",
              " 'i feel so uncomfortable . are you sick ? no . the teacher is dragging the chalk over the blackboard . it set my teeth on edge . he ll finish writing in a minute .',\n",
              " 'i have made up my mind . i am getting a tattoo . really ? are you sure ? yeah ! why not ? they are trendy and look great ! i want to get a dragon on my arm or maybe a tiger on my back . yeah but , it is something that you will have forever ! they use indelible ink that can only be removed with laser treatment . on top of all that , i have heard it hurts a lot ! really ? of course ! they use this machine with a needle that pokes your skin and inserts the ink . oh , i didn t know that ! i thought they just paint it on your skin or something . i think you should reconsider and do some more research about tattoos . also , find out where the nearest tattoo parlor is and make sure they used sterilized needles , and that the place is hygienic . maybe i should just get a tongue piercing !',\n",
              " 'excuse me , whats the screen near your steering wheel for ? its a portable tv . its a popular thing now . oh , thats new to me . so whats on everyday ? news about current affairs , documentaries , music , movies , noncommercial ads and so on . is there anything interesting ? yes , there are something good and informative . i think that many people underestimate the value of tv in education . i agree . are there any commercials on the tv ? of course . because the tv stations need to make money from commercials between the programs . that makes a lot of sense . does the tv work well ? not always . it depends on the transmission of the satellite signals . i got it . do you pay for the programs ? yes , 50 yuan per month .',\n",
              " 'oh , no ! how dreadful ! look at the view from the window . oh , dear . that s terrible . not at all what i expected . it s awful , isn t it ? i can t bear to look at it . i m rather disappointed . it can t be helped .',\n",
              " 'what do you do in your free time , nancy ? well , i like playing the violin . really ? how long have you been playing the violin ? about ten years so far . i started learning when i was in middle school . thats really interesting . sure . so what about you ? do you have any hobbies ? well , i like collecting matchbox ! im not sure if that counts , though . of course it does . everybody has his own hobby .',\n",
              " 'how can i tell her about this ? dont worry , youll find a way . there is no need to be so frustrated . how can you live without job in the future ? dont worry , youll find a way .',\n",
              " 'what sports do you like to play ? i like baseball and basketball . how about football ? in my country football is brand new , so i never learned the game when i was younger . its a very popular game in america . yeah . i heard a lot about it . is it really that fun ? for me , its one of those games that are fun to both watch and play . are you a football player ? no , i just for fun with my friends . we play two hand touch or flag football . were too old to play tackle football . what is two hand touch and flag football ? instead of tackling somebody , you just have to touch them with two hands , or if it is flag football , grab the flag that the ball carrier is wearing . i see . its safer then right ? exactly . we play every saturdays on the field by the tennis courts . if you want to learn and play a little , youre welcome to join us . ill give it a try . give me a call and lets go down together . ok . ill call you saturday morning . great .',\n",
              " 'what upsets you ? my parents called . as usual , they reminded me again that i should have a plan to marry by my late 20s . easier said then done . who should i marry ? i have no time to go on a date . it is not your mother finding one for you ? i will find one myself , of course . i m a modern girl . perhaps you can try the three minutes date , the latest type . you mean dozens of the opposite sex meet each other for three minutes in a dimly bar serving alcohol , i hate that idea . no , there is an updated virgin , three minutes video date . i know an online dating website providing such service with a microphone and webcam , you can sigh for it . you can be facetoface with a guy talking for maximum three minutes . i don t think it makes sense . three minutes is such a short time . i think you can find out if there is a possibility of romance within the first second of meeting someone , socalled love at first sight . anyway , i don t want to post my face up for sale on the internet like that . don t worry . there are many other options using the internet as dating methods . some sites operate at international standard even have got certifications . of course , for these sites , you have to pay a membership fee . but all in all , it is more serious and professional . the chance of meeting a good and serious person who does not play games is higher . i don t want to post my personal information on the internet . i m not knowing who is reading it .',\n",
              " 'are you going to the party on saturday ? i was thinking about it . are you ? yeah , i heard its going to be a lot of fun . really ? well , what time does it start ? it starts at 8 well , who all is going to be there ? everyone from school . how do you know its going to be so fun ? this party is going to have a dj , food , and drinks . wow , that does sound like its going to be fun . so am i going to see you at the party ? yeah , i will be there .',\n",
              " 'could you talk to me for a few minutes about my grades ? step into my office for a moment . what is your concern ? am i failing ? lets go on the computer to see whats up . do you think you are doing well ? i am pretty sure that i am in trouble . i can see that you are trying , but where do you think you could improve ? i missed a few classes ; i need to make sure i come to school on a regular basis . having a regular study routine and following it is very important , right ? ill try ; its hard ! thanks for stopping by !',\n",
              " 'good luck on your test tomorrow . well be crossing our fingers for you ! thanks .',\n",
              " 'ill never ever work together with him ! what happened ? quarrel again ? will you take my materials back from him for me ? please ! dont ask me . i dont wanna be involved in your quarrel .',\n",
              " 'oh , my god ! ive been cheated ! what ? what did you buy ? its a brick ! i cant believe how stupid i was . damn it ! what is it ? why did you buy a brick ? there was a guy on the sidewalk . he had three new boxes , panasonic video camera boxes . he said he had to get rid of them quick . and ? so he said hed sell me one for twenty dollars . a fourhundreddollar camera for twenty bucks . and its a brick ? yes . i cant believe how stupid you are . why didnt you open the box ? i wanted to . but he said , no , the box is still in its plastic wrap from the store . if its opened , other people wont believe its new . so he had the boxes wrapped in plastic . yes , it was the kind of perfect plastic wrap that comes with new products . look , it even had a barcode price sticker on it ! it looked brand new . but why would a guy be selling new video cameras for twenty dollars ? he said he had to get rid of them . they were stolen . aha ! now i understand . you were trying to buy stolen goods on the sidewalk . so , what i think is , you deserve to get cheated ! cmon , dont blame me ! i thought it was a new camera . we could use it . we were even thinking about buying a camera . i dont understand how he could have such a perfectlooking box . thats no problem . he just has a friend who works in a shop that can do plastic wrap . thats easy . and probably its the same shop he got the boxes from . maybe his friend works in an electronics store . they sell video cameras there . probably they had a couple video camera boxes lying around . so they get the idea of wrapping bricks to sell to fools like you . twenty dollars a brick . thats a good profit if they can sell enough bricks . youre right , sarah . i was a fool . i cant believe it . how could i fall for such a trick ?',\n",
              " 'is the clock right ? im afraid it gains a little . by how many minutes ? two .',\n",
              " 'hey , mary , whats up ? just so so . last night i met this great guy at the bar and we had such a wonderful time , so we decided to meet again tonight . oh , thats exciting . what does this guy look like ? is he hot ? well , i didnt think so at first . but as we started talking , i found him extremely funny and witty . i couldnt stop laughing at his jokes ! and we have so much in common . we like the same team , music , and most amazingly , we both love chinese food ! i have the feeling that we are going to be great friends . it seems you two are a good match . what qualities do you look for in a friend ? theres nothing definite i think . i dont have a list or anything , but when i first meet somebody , i can usually tell whether or not that person is going to be a good friend . it seems i have radar helping me spot new friends . well , thats something ive never heard of . but if you ask me what i value most in a friend , i would say honesty . i agree . you cant expect a close relationship with a dishonest person . those are the people that will turn their back on you when you are in need . yeah , i know . a friend in need is a friend indeed . i dont need fairweather friends either .',\n",
              " 'what s up ? you don t look too good . yeah , my head hurts , that s all . i ve been in physics class all day . it s killer ! i liked physics . it s all math , really . arcs , curves , velocity , cool stuff . yeah , yeah , but today s lesson was all about the creation of the universe . a physics class about the creation of the universe ? that s some pretty unscientific language there . sounds more religious to me . it s all religion . take the theory of the big bang . how is it possible that all of the stuff in the universe comes from an explosion ? that s no better than atlas carrying the globe on his back or african myths about turtles and stuff . turtles ? whatever . . . look , all that s required for the creation of matter an imbalance of particles and antiparticles . at least , that s what the math says . math , sheath . what s the evidence ? there is evidence ! you know edwin hubble ? he s the guy who in the early twentieth century was the first scientist to measure the drift of matter in the universe , thus advancing notions of an expanding universe . what would it be expanding from ? well , the big bang . . . duh ! anyway , it s just a theory . why do people go around touting theories ? where s the scientific rigor in that ? dude , don t equivocate . a theory only becomes a theory after withstanding rigorous testing . you slept through class , didn t you ?',\n",
              " 'today more and more people advocate lifelong learning . but people have different views about lifelong learning . how do you understand lifelong learning ? i think lifelong learning is the concept that its never too soon or too late for learning does that mean studying all the time ? i dont think so . i think its about your attitude towards learning . one should be open to new ideas , decisions , skills or behaviors . then the axiom you cant teach an old dog new tricks doesnt work any longer . youre right . lifelong learning is about finding learning opportunities at all ages and in numerous contexts yes , i agree with you . when i retired i will participate in programs to keep momentally active . me too . to keep up with the changing world , one must be involved in lifelong learning and be ready to accept new things . you know what ? ive recently been teaching myself french . really ? thats great ! i know that your company has a lot of clients in france . yes , so i want to learn french to develop my career .',\n",
              " 'how old are you ? nine . . . but ill be ten on may 1st . when is your birthday ? im older than you ! ill be ten on april 14th . are you going to have a birthday party ? maybe . ill have to ask my mother .',\n",
              " 'it smells like an ashtray in here ! hi honey ! what s wrong ? why do you have that look on your face ? what s wrong ? i thought we agreed that you were gonna quit smoking . no ! i said i was going to cut down which is very different . you can t just expect me to go cold turkey overnight ! look , there are other ways to quit . you can try the nicotine patch , or nicotine chewing gum . we spend a fortune on cigarettes every month and now laws are cracking down and not allowing smoking in any public place . it s not like you can just light up like before . i know , i know . i am trying but , i don t have the willpower to just quit . i can t fight with the urge to reach for my pack of smokes in the morning with coffee or after lunch ! please understand ? fine ! i want a divorce !',\n",
              " 'why are you shivering ? its freezing .',\n",
              " 'it seems that you get antsy when you hear i praise another guy . i get antsy not because you praise a guy , but because you may be taken for a ride by a guy like him . how come you think of him that way ? because you seem to have lost your vigilance . you should be on the watch out . i have no reason to distrust him . hes never caused any harm . isnt there anything that sounds fishy ? nothing smells a rat . i told you that hes an allright guy . allright guy ? all right . lets talk about something else instead .',\n",
              " 'cheese ! it tastes like cardboard . i think so . maybe that s why it s cheap here .',\n",
              " 'have you signed up to join the company s christmas party ? sure , i have . will you join ? i will . you know , as a newcomer , i think it might be a good opportunity to get to know people from the other departments of our company in a more relaxed atmosphere . you are right . our company s christmas party has always been an amazing occasion for everybody to relax and get to know each other better . it is also a time to make new friends and do some networking . i hope that it is not a formal one when the boss is there . no , it will not be formal at all . it is a fun time . you will love the game show . please dress casually . usually there is an over abandon of drinks , so be careful with that . don t worry , i can handle that . and i know if the boss is there , even it is an informal evening , it does not make a good impression to get totally drunk in front of him .',\n",
              " 'if the weathermans predictions are accurate , it should rain tomorrow . i hope not . then wed have to reschedule our baseball game .',\n",
              " 'hi , emily , do you know that guy over there ? the tall one ? sure , thats drive , he works with lily . he is cute . what dose he do ? im not sure , he is a manager i think . really ? are you going to introduce us ? well , he has already taken you know , thats his wife right there .',\n",
              " 'you didnt ring me last night . you said you would . im sorry to have made you disappointed . thats all right . but why were you so rude to me at lunch . was i ? sorry , i didn t mean to be . i do apologize . and why are you yarning now ? are you bored ? forgive me darling . im very tired .',\n",
              " 'hi , nicole . did you have a good weekend ? yes , i did . but i feel tired today . really ? why ? well , on saturday i cleaned the house and played tennis . then on sunday i hiked in the country . and i bet you studied , too . yeah . i studied on sunday evening . what about you ? well , i didnt clean the house and i didnt study . i stayed in bed and watched tv . that sounds like fun , but did you exercise ? sort of . i played golf on my computer !',\n",
              " 'there will be a parade to celebrate national day this weekend . whats the route ? from zhongshan circus to city bank . if only i could join it !',\n",
              " 'excuse me . im afraid youre in my seat . youve moved my books . oh , dear . you must have realized somebody was here . oh , well , i looked around . there wasnt any other space . i waited a while and nobody came . im sorry if ive taken your place .',\n",
              " 'what s the life expectancy in your country ? i m not sure , but probably about 75 years . how about in your country ? about 70 , i think . this newspaper article talks about the problems of an aging population . it s a problem that will soon affect most of the world . i heard that the government might need to increase the retirement age , because otherwise there will not be enough workers to support the young and the elderly . perhaps we need to have more babies ! tina gave birth to a baby boy yesterday . did she ? that s great . however , if we have too many children , that will have a bad effect on the enviroment . how s your son these days ? oh , he s fine . kids seem to grow up very quickly nowadays . he ll be a teenager before you know it ! teenagers are often rebellious ! when do you mine it is a good age to have a child ? i had mine when i was 24 . that s a little young . i d suggest you wait until you are in your late twenties . , or even in your early thirties if you have a good career . yes , i think you re right . i m thinking about having a child , but not just yet . is there a big generation gap between parents and their children in you country ? yes , there is . teenagers do not want to live traditional lives . they want to go out , have fun , and explore the world . they want to develop their own view of life . parents usually try to discourage them , but they don t often succeed . parents usually give their children more freedom in my country . sometimes they give them too much freedom . it s almost impossible to get the right balance . if you are too strict , kids might ignore you . if you are too lenient , they might go wild .',\n",
              " 'im going to japan this year on vacation . have you ever been to america ? no , but id really like to . youd like it .',\n",
              " 'hey , mark , long time no see . julie ! its good to see you again . how have you been ? great . i just got back from a weeks vacation in thailand . really ? how was it ? fantastic ! i didnt want to come back . i hear the beaches in thailand are beautiful . they are . and not only that the people are friendly , but also the food is delicious , not to mention cheap . i do like thai food . did you see much of bangkok ? not much . ive got enough city life in beijing . i know what you mean . i could use a vacation myself . hey , wouldnt it be great if we could go to thailand together sometime ? yeah , it sure would .',\n",
              " 'could i see the manager please ? i have a complaint to make . yes , i m the manager here . what can i do for you , madam ? did you have the room checked before we move in ? which room are you in ? 1808 . the toilet doesn t work properly , the water doesn t run in the shower . i m awfully sorry to hear that . i ll turn to it right away .',\n",
              " 'congratulations , vivian . you won the grand prize , again . isnt it just great ! i just knew id win ! you did ? how ? did you wear red underwear again this year ? not only that ! tell me ! tell me ! whats your secret ? ! ok , ok . ill whisper it to you , but you have to promise not to tell anyone ! what ? ! you did that ? ? ! ! !',\n",
              " 'we are going to the concert this evening . will you join us . im very sorry i cant . why not ? ive been snowed under with since my bosses away on business .',\n",
              " 'youv been work here for nearly a month , how do you feel about the job ? not bad . thank you for your help . i am always busy with this job , i feel a bit tired . i had the same feeling when i first came to work here . but after a period of time , i feel better , i am sure you ll get used to this busy job . i also feel that work efficiency here is very high . and you have strong working ability and professional skill , it seems that you know all , thats really wonderful ! you know the phrase , the survival the fittest . we have no choices . thats right , i have to work hard .',\n",
              " 'the music is on . may i have the pleasure to dance with you ? sorry , im engaged for the foxtrot . will the next walls be all right ? certainly .',\n",
              " 'excuse me , is this seat taken ? no , please feel free . thanks a lot . do you work in shanghai ? yes i do . how about you ? no , im a tourist . this place is amazing ! its much bigger than i imagined , and much more exciting ! theres so much to see here . you can say that again ! its much more modern than people imagine . where are you from ? um , well lets see . . . im from kansas originally . a much quieter and more peaceful place than here , thats for sure ! uh huh . . .',\n",
              " 'look at this headline , soo mi . wow ! so many people in the united states get divorced ! is it the same in korea ? i dont think so . in korea some marriages break up , but most couples stay together . do people get married young ? not really . very few people get married beforethe age of 20 . hmm . do women usually work after they get married ? no , a lot of women stay home and take care of their families . but some work .',\n",
              " 'boy ! what a beauty ! i fall in love with her at the first sight . the beauty under the tree ? of course . no girl is more charming . she is a young man !',\n",
              " 'excuse me . where do i register ? oh , over there in pacific pavilion . is that the large , white building ? yeah , thats it . thanks .',\n",
              " 'how was your education going on in australia ? im going to graduate this summer . where are you going to work then , in australia or back in china ? im planning to return to china after graduation . why are you choosing to leave a foreign country ? many people are reluctant to leave the superior living environment abroad . well , i think personal development is much more important than simply having a superior living environment . yeah , chinas developing so fast and development opportunities can be found almost in every corner of the country .',\n",
              " 'do you have any particular hobbies , tom ? oh , yes . i love playing badminton , table tennis and computer games . and playing the games has become my favorite . i hear many teenagers will spend hours and hours sitting at computers . and they dont care about their own health at all . how about you ? im no better than them . they say its mindless to sit in front of a machine all the time , but i think its stimulating . you wont play online games full of violence , will you ? once in a while . its no good . and i think spending several hours each day playing computer games is a waste of time . you might as well do something healthy and meaningful . i hope i can practice selfcontrol again .',\n",
              " 'what s the plot of your new movie ? it s a story about a policemen who is investigating a series of strange murders . i play the part of the detective . he has to catch the killer , but there s very little evidence . it s a psychological th did you enjoy making the movie ? we heard stories of disagreement with other actors and with the director . i have had disagreement with every director . i ve worked with . we ve always disagreed in a friendly way and we have always resolved our differences . it was the same when i made this movie . i don t no critics are not very happy with the movies that you ve made recently . does that bother you ? not at all . the feedback from audience has been great . i care about what they think more than what the critics think . did you do you own stunts in the movie ? i wanted to , but my insurance company wouldn t let me . all of my stunts were done by a stuntman . as you know , i used to do my own stunts , but i ll leave that to the experts in future . thank you very much for doing this interview . my pleasure . have you seen the movie yet ? yes . i have . i liked it very much . like you , i was very impressed with rachel s performance in the movie . she s going to be a star .',\n",
              " 'whos that old lady trimming the trees ? shes my grandma . shes looks very healthy . how old is she ? 92 .',\n",
              " 'mom . my legs are killing me . hold on . we will be successful right away .',\n",
              " 'oh , man . i had the best supper last night . my wife made a stirfry and it was amazing ! i love stir fry crispy bitesize vegetables covered in a mixture of soy sauce and oyster sauce . wilted greens and fresh bean sprouts . throw in some onion and garlic and ginger ! mmm ! mmm ! it s almost lunchtime . i would die for a plate of stir fry right now ! well , you can keep the vegetables , i ll take the meat . the stir fry my wife made was really hearty , with chunks of beef and slivers of bell peppers and onion . . . what ? you call that a stir fry ? more meat than vegetables ? that s the worst insult you could throw at a chinese stir fry . what a disgrace to the wok she fried it in ! what you had is equivalent to a fajita without the wrap !',\n",
              " 'what did you say ? i said its a lovely day . why dont we go for a walk ? well , i feel a little tired . come on ! a little labor , much health . then can you wait a few minutes ? i want to finish writing this letter . dont take too long . it would be a shame not to take advantage of such lovely weather . i wont be long . no more than ten minutes . why dont you go ahead and ill meet you in the park ? i believe i will . look for me near the lake .',\n",
              " 'thank god you showed up when you did ! he s insane ! do you think we should call the police ? don t worry about it , i ll call my friend and have him take care of it . i can t believe he was stalking you all these years . what a nut job ! i know ! well . . . he said i m not pregnant . i m sorry if i got you all worked up over nothing . i want you to know that i didn t do it on purpose . . . don t apologize ! from the moment i met you , not a day has gone by when i haven t thought of you . and now that i m with you again , i m . . . i m just scared , veronica . the closer i get to you , the worse it gets . the thought of not being with you , i mean , i just can t handle it ! we were made for each other , veronica . you are my everything , my soul mate . what can i do ? just hold me . . . i ll always be here for you , no matter what . and together , we can tackle whatever life throws at us . i believe in us , steven . i m so happy to hear that ! i knew we belong together . i love you so much .',\n",
              " 'zina , can i talk to you about something personal ? as long as it doesnt take too long . my boyfriend says i work too much . that i spend more time with you than with him . was he upset when you told him you had to leave this weekend ? he said not to bother coming back . and i said , fine , i wont . so whats the problem ?',\n",
              " 'mary , how was your date with john ? its ok . it seems we have a lot in common . oh , really . that is great news . what does he look like ? he is tall and slim , fairhaired . sounds like he is pretty cute . what do you think of him ? he is a nice guy and very considerate . i was impressed with how smart he was and he has a great sense of humor . oh , its love at first sight . when will you see each other again ? he didnt say , but he said he would call me . maybe he is busy with his work . just wait and try not to think about it too much ! oh , steve . stop it ! i am a bit nervous ! what if he doesnt call ? come on , mary , youre a total catch . i bet he will call you . dont worry . thank you , steve . youre always so encouraging . thats what friends are for .',\n",
              " 'hi , francis , how was your business trip ? it was a nightmare . what s up ? actually , the business trip itself was very successful . we arrived on time , we had nice conversations and we settled some important issues for the next year . sounds quite fruitful , why do you call it still a nightmare then ? well , the air line lost my luggage on the return flight and then i lost my carry on bag when i was tackling with the officers in charge . i left the airport three hours later than i expected and then i was caught in a traffic jam . when i finally got home , i was totally exhausted . but i found the elevator was out of service due to a blackout . this is really a sad story . did they trace back your luggage ? i am still waiting for their call . take it easy , all sufferings have their reward .',\n",
              " 'so the company decided to cancel your trip to hong kong ? yes , the sars epidemic is not under effective control yet . so id better not risk it . maybe its a good things . if you dont have to go to hong kong , you can take a break and take things easy for a while . you are right . maybe we should work out a fitness plan and start to do more exercise . sitting around in the office all day is no way of keeping fit . thats a good idea . lets see if we can get more people in this plan . there isnt much business these days anyway , so i think many people will be interested .',\n",
              " 'which pair of jeans do you like best ? i really like the straight legs . but they arent very fashionable . what about these ? i dont like the way they sag down . i feel like i have plumber butt in them . thats the style ! you just wear boxers . what if someone got it in their head to give them a tug ? what then ? youre so old fashioned ! nobody is going to pull down your pants ! if you ask me , its a walking invitation !',\n",
              " 'hi , charles . whats the matter ? oh ! ! my car isnt working . im waiting for a towtruck . do you have a ride home ? yes , my wife is coming to get me . thats good . do you live near here ? no , we live in the suburbs . what about you ? i live downtown , with my parents . do you have a car ? i dont need a car . i walk to work . youre lucky !',\n",
              " 'happy anniversary , sweetheart ! yes . to our first anniversary and many more to come . cheers ! ill drink to that . thanks for making this a night worth remembering . well , its a special day . they say if you survive the first year , the rest is smooth sailing . thats good to know . oh , listen ! the bands playing our song . i requested it . what do you say ? do you have your dancing shoes on ? always .',\n",
              " 'what do you plan to do for your birthday ? i want to have a picnic with my friends , mum . how about a party at home ? that way we can get together and celebrate it . ok , mum . ill invite my friends home .',\n",
              " 'how about seconds , victor ? no . thanks . im full .',\n",
              " 'why dont you have dinner with me tonight ? id love to . lets say about 600 ? thats ok with me .',\n",
              " 'cigarette ? oh , uh . . . thanks . henry , do you have a light ? sorry , here . thanks . lovely day . pity i m on duty . i ll stand in with you if you like . i ve got nothing else to do . oh , no . i couldn t possibly .',\n",
              " 'hi rose , what are you busy with right now ? hi jack , im working on these documents . the manager wants them for half an hour . well , rose . is there something any need ? are your free this weekend ? yes , i have nothing to do . great , is it convenient if i visit you this weekend ? i beg your pardon ? id like to call on you this weekend . i just want to a drop in for a chat . really ? well , ok , youre welcome . is 5 pm . saturday a good time for you ? hmm , how about seven ? i can treat you to dinner . sure , that would be great . ill bring the wine . ok . then ill be expecting you . ill be there on time .',\n",
              " 'how do you shoot pool ? you have 16 balls on the table , 7 solid colored , 7 striped colored , a black 8 ball , and the white ball . and ? you hit the white ball with your cue . the white ball hits the colored balls . and you want to get the colored balls into the pockets . how do you know whether you should hit the solid or the striped one ? at the beginning , it does not matter , but once someone gets one ball in , it is set . can i get the black ball in ? the black ball has to be the final ball in the pockets . lets go and try now !',\n",
              " 'how about going to hear a countryandwestern singer tonight ? id enjoy that . ill pick you up around 8 00 . ok . ill see you then .',\n",
              " 'the mosquitos are biting me ! me , too , i can t stop scratching . they are everywhere ! sneaky little jerks . do you have any bug spray ? no , i forgot to buy some . then we ll have to put up with it . we can cover ourselves with beer ! that way if they bite us , they ll get drunk and fall asleep . that s without a doubt , the best idea you ve had ! let s do it ! run ! they are thirsty for more !',\n",
              " 'stop running around in front of the tv , will you ? why dont you just sit and watch ? ive tried , but i cant stand the bald man talking so loudly in the program . then stay away . no one is keeping you from doing that . dont be so irritable . i just dont understand the program , thats all . all right , i will explain it to you later on . now scram . ok . i will wait until you have had your fun , if thats what you want . thats exactly what i want , thank you .',\n",
              " 'okay , can i ask you something direct ? ha ! its not like youve ever been one to beat around the bush . fair enough . give it to me straight . did she bully you into this ? no , seriously . . . i really want this . i tell ya , when i got the invite , it really threw me for a loop . youve done a complete 180 . i know . but things have changed . i guess ive settled down . i guess so .',\n",
              " 'my daughter plans to quit her present job and wants to find another . she says she wants to get a better job with higher pay . it seems quite normal to me . it is pretty much what i want to do . but what about settling down to start a family ? doesnt anyone want to get married any more ? it is different now . the world is becoming colorful . some of my friends dont feel the same pressure to marry . we all want to wait for the right moment . what time is the right moment ? let the universe find us instead of forcing love . we prefer natural love . the most important thing is to be happy . love will find us later . that is what we say .',\n",
              " 'please excuse me , but i really have to be going . yes , of course . it was nice to see you . it was nice to see you , too . and please give my regards to mrs . robbins .',\n",
              " 'excuse me . is this seat taken ? im afraid so .',\n",
              " 'what do you think of the coming match ? winning is a piece of cake to me . you are bragging again .',\n",
              " 'what would you reckon the taxing increases ? well , the state will benefit a lot , i suppose . but what do most people think about it ? ah , it s hard to say .',\n",
              " 'are you still coming to my place for dinner tomorrow night ? of course . is the dinner still on ? yes , i was just wondering how you and your roommate were planning on coming to my place . we were planning on walking both ways since the weather is still nice . thats what i thought you would do . listen , i live in a bit of a rough neighborhood . its just down the street from all the bars . you probably dont want to be walking around after dark . it cant be that bad . i wish it wasnt , but there is actually a lot of crime and prostitution around here . really ? i never would have guessed . the criminals must only come out in the evenings , because ive never noticed anything strange when ive been at your house in the daytime . do me a favor , and take a taxi . itd make me feel a lot better . ok , we will . how do you get around in the evenings ? when i first moved in , i walked everywhere . but within a week , i had my purse stolen just a block away from the police station ! now , i always take public transportation . has anything else happened to you ? nothing else has happened to me , but i have seen quite a few fights on the streets after the bars close . well , well be careful . thanks for letting me know .',\n",
              " 'jack wonders whether linda likes him or not . why doesnt he ask her ? he is too scared to ask her . hes a chicken guy .',\n",
              " 'i dont understand why some parents keep beefing and complaining about their daughters not being able to follow suit . yeah . li nas mother has been building a fire under her since her neighbours daughter got married with a canadian . shes almost driving li na crazy . if i were li na , i would ask her if she had done that . she is as meek as a lamb . she never goes against anyone or anything . shes as good as gold , you know ?',\n",
              " 'where is john ? i cant find him anywhere . havent you heard that he is in prison ? what ? beg your pardon . john is in prison now . he was copped outstealing . i just cannt believe my ears !',\n",
              " 'what do you need ? i need to use the internet . you have your library card , right ? yes , i do . there is a wait right now to use the computers . that s fine . would you please write your name on this list ? then what ? i will call you when a computer is free . how do i log on to the computer ? use the number on the back of your library card . thanks . i ll be sitting over there .',\n",
              " 'what a nice tie you are wearing ! thank you . but does it really look all right ? certainly . it matches your suit perfectly . then does it go well with my sweater ? yes . you look very smart today . thank you very much .',\n",
              " 'what do you make of the case ? if you ask me , i don t think it s guilty . what do you mean by saying so ? i mean it s not his fault . oh , yeah ? yes . don t you think he should be pitied rather than accused ?',\n",
              " 'happy mothers day , mom ! thanks ! these are beautiful . you shouldnt have ! of course i should have ! you certainly deserve them ! you put up with all of us . i forgot what i put up with . in that case , i do deserve these flowers .',\n",
              " 'i have a real problem when i meet people . what is it ? maybe i can help . i never know when to shake hands and when not to . can you tell me something about it ? do you come from a country where they shake hands ? oh yes . men , women , and children shake hands all the time . it s very simple . men shake hands , women and children don t . but some women do shake hands . and now a lot of children have such good manners , they shake hands too . well , a good rule to follow is , for men you hold out your hand , for women and children , you wait and see what they do . that sounds easy enough . sure . once you get the hang of it , it s a piece of cake ! it s nothing to worry about .',\n",
              " 'sam , i am so sorry . it was your birthday yesterday and i completely forgot about it . dont worry about it . i keep forgetting everyones birthdays as well . margaret really told me off when she found out that i had forgotten all about it . we did try to phone you , but you and jane must have gone out . yes , jane invited me for dinner to this new restaurant which opened near us . oh , yes , i know the one . how was the food ? the food was excellent , but jane ordered a birthday cake , which they forgot about . so as you can see , you were not the only one . oh , no . yes , jane was quite upset about it . the manager came to apologize and we did get free dessert , but still . . . i would think this was the least they could do . in the end it was a nice evening and i got an ipad as my birthday present which i wanted for a while . great . i have also been thinking of getting one . do you think you could ask jane to have a quiet word with margaret ? my birthday is not that far away . i can try , but knowing margaret she will see through that immediately .',\n",
              " 'heres the restaurant were meeting the smiths at . lets go in to wait for them . after you .',\n",
              " 'when do you usually go to the movies ? i usually go in my free time on the weekends . how about you ? the movie theater is always so crowded on the weekends . i like to go to the movies during the week . thats true . and sometimes the tickets are cheaper during the week as well .',\n",
              " 'are you telling us a lie again ? i will be hanged if i lying . all right . but what was the trouble ? my car run out of petrol .',\n",
              " 'i cant believe mr . fro didnt buy it . who does that guy think he is anyway ? bill gates ? he had a lot of nerve telling us our ads sucked . time to order . balista , today i want a skinny triple latte . when did you start worrying about your weight ? im not . i just dont feel like drinking whole milk today . why ? do you think im fat ? no , jess , chill out !',\n",
              " 'come on , tara . let s go up to the window and buy two tickets . the movie is starting in a few minutes . we can t break into the line . don t be so impatient . we ll be at the front of the line soon . two tickets , please . how much are they ? oh no , ari . i didn t mean for you to pay for me when i invited you to go tonight . let s go dutch . i ll pay my own way . i insist . i m looking forward to this film . i read a good review of it in this morning s newspaper . me , too . it will be great to see something light and funny for a change . i m tired of heavy drama . are these seats okay ? they re fine , but i can t watch a movie without popcorn .',\n",
              " 'do you often buy magazines ? i buy a computer magazine every month . it keeps me upto date with all the latest developments . why don t you find the information on the internet instead ? sometimes it takes too long to find the exact information you are looking for . besides , i like to read a magazine in a coffee bar sometimes . do you have an online edition of that magazine ? yes , they do . but you can only access all the articles if you have a subscription . do you have a subscription ? yes , i do . the magazine arrives by post at the beginning of each month . do you every buy magazines ? i only buy them if they look particularly interesting . i don t buy any regularly .',\n",
              " 'mumm . those burgers smell great . its perfect day for a barbecue . it sure is . im glad it didnt rain . my names mike gates , by the way . oh , hi ! im barbara johnson . nice to meet you . im sorry . whats your name again ? barbara . but please , just call me barb . so barb . . . what do you do ? im studying medicine . really ? where ? at harvard . what about you ? im an engineer at ibm . oh , are you ? that sounds interesting . yeah . i like it . hey , it looks like the food is ready . good . im starving .',\n",
              " 'wow ! i cant believe im standing here ! what are you so excited about ? im standing in front of an exquisite work of art ! whats the big deal ? its just a picture of some woman . ive seen it so many times in books , but i never imagined id get to see it in person . there are tons of other paintings that i think are better . maybe so , but do you have any idea how much this one is worth ? no , how much is it worth ? about 80 million dollars . whoa .',\n",
              " 'hey , maris , are you a parttimer ? parttimer ? is that a new buzzword ? oh , it s pretty popular among my classmates these days . so are you ? sure , i have a parttime job as a bartender . cool ! it must be amazing to work at a bar ! yeah , but i m not there for fun . i have to remain professional and if i get distracted , the manager would be pretty upset . that s true . i m wondering did you learn anything from the job ? of course . there s always much to learn . i got to know more about the real world . you mean you got working experience , right ? not just working experience . i would say the biggest lesson i learned is how to deal with people from all walks of life . it must be very demanding . sometimes it is . but after working for a few weeks , it s easy to figure out . really ? it sounds interesting . maybe you can come to the bar one day and i ll show you around . great . i m looking forward to it .',\n",
              " 'have you seen that house ? yes , it looks interesting . youre right . i love it very much . it must be old . at least more than 100 years old . lets enter it ! i cant open the door . it must be locked . let me ask the old woman in that reception office . she cant answer you . she must be deaf . it must be a haunted house . are you frightened ? frightened ? you must be joking .',\n",
              " 'have you got any hobbies ? yes . im fond of playing the chess and im very keen on playing cards . which is easier to learn ? both , but the rules of playing cards vary in different places .',\n",
              " 'jim , how was your weekend ? i went to the beach with my friends and had a barbecue there . that sounds like a lot of fun . did you go swimming , too ? sure . i think it s a fantastic place to go . i couldn t agree more . that s an ideal place for a vacation . it sure is . i can t wait to go there myself .',\n",
              " 'youd better prepare for the examination . i dont think the exam will be very hard . you should change your attitude , or you will not pass the course . maybe youre right . i have been too lazy lately .',\n",
              " 'it is high time you have a talk with him . that may help clear the mists . i did , but he gives me a runaround . if i were you , i would put the whole matter on the table . but he was trying to beat about the bush . and my talk with him was fruitless .',\n",
              " 'what is the correct time , please ? its exactly twelve minutes past seven . when will the lecture begin ? itll begin at nine oclock sharp .',\n",
              " 'should i ask sara to the party ? i would if i were you .',\n",
              " 'if he promised to help you , im sure he will help . hes a man of his word . you said it . i always count on him when i need his help . last year he helped me out of trouble , too .',\n",
              " 'were having a sixties party next week . do you want to come ? what is a sixties party ? you come dressed in anything from the sixties . that sounds like fun . but where can i get clothes that old ? check out your moms closet . ill bet she still has something . good idea . can i bring some music from that period too ? that will be great ! do you have lps or cds ? dont tell me you have a record player !',\n",
              " 'i want to improve my handwriting , and ive practiced it for several weeks , but nothing happened . you see , my handwriting is still bad . oh , come on . you know its a long process , you have to be patient . i know it , but i dont know when i can make it better . a , whatever you do , the most important is perseverance . so you have to hang on there , the longer , the better . then some day , you will find youve already made a lot of progress . yeah , you are right . i must stop complaining and stick to it every day . yeah ! where there is a will , there is a way .',\n",
              " 'i m so excited , mother . oh , a new baby ! my first grandchild . and my first nephew . he looks a lot like you , mum . he does . do you think so ? well , i guess . he does look a lot like me . oh , he s got richard s eyes though . yes , he does have richard s eyes . the baby even looks like you than richard does . well , children usually resemble their parents . it s true . michelle is a lot like henry in so many ways . and she is shy with new people just like he is . you often like comparing children with their parents . you re right .',\n",
              " 'the music has started . how do you like this waltz ? its very nice . may i ask you for a dance ? certainly . you are doing the waltz wonderfully well . thanks . im glad you say so . oh , the music has stopped .',\n",
              " 'do you speak only english in the class , or does your teacher explain everything to you in spanish ? oh , we never speak spanish in class ! miss . parker speaks to us only in english . i suppose shes right . does she speak english very slowly ? not always . sometimes we dont understand her . then she has to repeat what she said . it must be interesting to study english . mario and i are the best students in the class . miss parker says that my pronunciation is very good . is english pronunciation easy or difficult ? sometimes its difficult . some words look different from the way one pronounces them .',\n",
              " 'doris , im glad youre home . im terrified . i dont know what to do ! what is it ? what happened ? i think someone is stalking me . no , it cant be . really ? who ? i dont know . i saw him the first time tuesday . he was at the cafe . i noticed he was looking at me a lot . not just the usual looking , but staring . he just kept staring at me . he didnt stop . what did you do ? i didnt do anything . finally , he left . but then i saw him again today . outside the shoe store . near the cafe . i went into a cd store and pretended i was looking at cds . but then he came in too . did he leave when you left ? yes . then i noticed he was on the sidewalk behind me . he was following me . what did you do ? he followed me all the way home ! thats about five blocks . and around corners too . so he was definitely following you . yes , he was . im not imagining it . finally , just when i got home , i turned around and looked at him . he was just standing there . he didnt smile . he just stood there . it was so obvious . what should i do ? im so scared . can i call the police ? actually , i dont think you can call the police . not yet at least . he hasnt done anything . and probably the police will just ignore it . but if anything happens again , then maybe you should call . why cant i call the police now ? he was definitely following me ! of course you can call the police if you want . thats not what i mean . im just saying that they probably wont do anything . i suppose . what can they do ? i dont even know who he is . listen , carol . dont let this bother you too much . probably its nothing . just keep your eyes open when you go out . if you see him a third time , and if he follows you again , then i think we should go to the police . but for now , just try not to worry . alright . and i wont go to that cafe for awhile .',\n",
              " 'han maimed , whats your plan for the weekend ? i plan to travel around harvard university and know more about it . to tell you the truth , i plan to apply for harvard after graduation from high school . it s better to get to know it . what about you ? i get together with my christian brothers on saturdays . oh , my god ! john , i didn t know you are religious . you just look like a scientific kook , like leonard in the big bang theory . come on , han maimed , don t make a fuss . a lot of americans , including many scientists , believe in religion . but i m really surprised . i thought science and religion are not compatible , are they ? yes , they are compatible . actually , the u . s . is both the most developed and the most religious country in the world . ive heard about it a little bit before , but i don t understand . how can people believe in god since they know god doesnt exist ? that s a little complicated . you ll get to know it when you are acquainted with the u . s . history later on . religion was and is a part of american people s life . guess what ? even harvard university , which is a highly academic institution , is in a sense the product of religion . really ? absolutely ! it was founded by a group of puritan immigrants from england . why was it founded by the puritans ? where were the atheistic educators ? because most of the first english immigrants who came to the united states were puritans . how come ? i mean why most of them were religious people ? that s because in the 16th and 17th century , there was a series of religious reforms in england . many religious separatists were persecuted and fled to other countries . so , you mean people didnt enjoy religious freedom in england ? yes , thats why puritans moved to the new world , where they believed they could establish a heaven for puritans . later on , it was these puritans who founded harvard college . why did they want to found a college ? many puritans had received classic style of higher education in oxford university and cambridge university back in england . they hoped that their descendants could receive this kind of education as well . oh , i see . actually harvard was first named new college , without a formal name . when did it begin to be called harvard university ? in 1639 , it was renamed after its major benefactor john harvard . interestingly , johnharvard himself was a clergyman . it seems that harvard was predestined to be influenced by religion . therefore , it s not exaggerate to claim that had there not been religion , there would note harvard . wow , i didn t know that religion had played such an important role in harvard history . religion has been playing an indispensible part in harvard history as well as the u . s . i finally begin to get to know harvard . it seems that my knowledge of harvard is rather poor . i have a lot work to do before applying for harvard . remember that harvard is a part of the united states . so you have to know the u . s . history and culture if you want to have indepth knowledge of harvard . the two are closely related . that s right . i have a lot to learn from you . you can ask me any question at any time .',\n",
              " 'i am not convinced by your explanation . could you explain it ? sorry , i really cant do that . theres little time left for us . i cant accept your excuse . its five oclock . but i have an appointment with ann . ok , sounds good . but i think its your trick .',\n",
              " 'what do you do in summer ? i love going out into the countryside for walks or bike ride . i love being out in the fresh summer air . how about you ? i don t often go for walks , but i either play sports outsideyou know , tennis or badmintonor just sit in the sunshine and read a good book . what do you do in winter ? well , i play sports indoors quite often . if i m feeling lazy , i just watch a film at home . i prefer summer to winter . i think most people do . i like wearing nice , colorful clothes in summeryou know , a nice dress or skirt . it s too cold for those kinds of clothes in winter . yes . i like wearing shorts in summer . my legs would freeze ! do you think we ll have a nice summer this year ? thanks to global warming , it could be hotter than ever !',\n",
              " 'i will never forget linda . after all , she was my first lover . i think you ll lay it to rest with the time flying . i remember that someone says that it is difficult to forget the people who don t want to forget . but i think time can change everything .',\n",
              " 'could you tell me what university you want to go to , john ? pardon ? what university would you enter ? university ? why ? you asked me last year . oh , i forget . sorry . i went to harvard university . did you ? and what course did you take there ? god save me ! is there anything wrong with you ? didnt i tell you ? ive not known . perhaps , ive got a bad memory . i did a b . a . in economics . remember ? terrific ! b . a . , again and againb . a .',\n",
              " 'ive been chosen to plan the next family reunion . fun for you ! do you get to do anything you want ? yep . and i should start planning now . does everyone usually show up for your family reunions ? just about . there are at least a few hundred in our immediate family alone . how ay days will the reunion be ? usually its at least five days and four nights . this is going to be a major production for you !',\n",
              " 'hi , my name is lean , and im from russia . nice to meet you , lvan . my name is alike . im from japan . to me english is a difficult language . a second language is always difficult . true , but english is harder than most . it s a crazy language . a crazy language ? why do you say that ? one letter can have several pronunciations and one word can have several meanings . no wonder you say english is a crazy language .',\n",
              " 'what did you think of the film ? i liked it . i thought it was great . yes , i liked it , too . did you like the acting ? yes . i thought it was excellent . didnt you ? not really . i thought it was disappointing . its a nice cinema , isnt it ? do you think so ? i dont like it very much . i found it rather uncomfortable .',\n",
              " 'what s up ? you don t look too good . yeah , my head hurts , that s all . i ve been in physics class all day . it s killer ! i liked physics . it s all math , really , arcs , curves , velocity , cool stuff . yeah , yeah , but today s lesson was all about the creation of the universe . a physics class about the creation of the universe ? that s some pretty unscientific language there . sounds more religious to me . it s all religion . take the theory of the big bang . how is it possible that all of the stuff in the universe comes from an explosion ? that s no better than atlas carrying the globe on his back or african myths about turtles and stuff . turtles ? whatever . . . look , all that s required for the creation of matter an imbalance of particles and antiparticles . at least , that s what the math says . math , sheath . what s the evidence ? there is evidence ! you know edwin hubble ? he s the guy who in the early twentieth century was the first scientist to measure the drift of matter in the universe , thus advancing notions of an expanding universe . what would it be expanding from ? well , the big bang . . . duh ! anyway , it s just a theory . why do people go around touting theories ? where s the scientific rigor in that ? dude , don t equivocate . a theory only becomes a theory after withstanding rigorous testing . you slept through class , didn t you ?',\n",
              " 'which film shall we see ? there is nothing good at the moment . let s do something different . would you like to go to a concert ? yes , id love to . here is a good one , mozart and beethoven . it s on the festival hall . shall we go there ? fine ! do you want anything to eat now ? no , im not hungry . well , lets go and have something to drink instead . i know a good place . its a little expensive , but its fun .',\n",
              " 'everyone wants to be financial lose kill . you must invest your savings if you planed to retire rich . i m thinking about buying stocks . it can be a good investment if i can manage well . what do you say ? i partly agree with you . buying stocks is not difficult , but making money consistently from buying stock is very difficult . even professionals don t find it easy , so be careful . anyway , people like us need help with investing . why not do some online research ? there are data , reports and discussion forums to educate people on how to invest . in addition , you need to visit an established website that offers stock charts . wow , you sound very professional . i just watched the investment tv program last weekend . it has become a very hot topic these days . actually i am not even a beginner .',\n",
              " 'can i borrow your suit ? thats out of the question .',\n",
              " 'bill , how can you hear so happy today ? aha . ive read of my roommate . i made a move today . really ? what was the matter ? you knew brain locker ? brain locker ? no , i dont think so . what does he look like ? well , hes thin and tall . he has brown hair , a holt nose , green eyes and wearing glasses . mm . ive seen him a couple of times , i think .',\n",
              " 'where are you from ? im from guangzhou . where in china is guangzhou ? its in the south of china .',\n",
              " 'well , i must be off now . i have an appointment at six . in that case , i won t keep you any longer . drop in anytime . ok , goodbye . see you later .',\n",
              " 'hey ! how was your first day of class ? i m in level two and i m loving my class this semester ! it s great being in a class of international students ! mine was ok , except that no one in my class speaks english . i guess it will force me to converse in chinese more in class so at least i should improve a lot this semester . that s both fortunate and unfortunate . it s the united nations in my class ! we have people from all over the world ! there are three germans , a pole , a scottish , two french , an american , a brazilian , that s quite the array of nationalities . everyone in my class is from asia , except me . there are a few south koreans , several japanese , malaysian , thai , singaporean , filipino , kazakhstan , and o well , i think you re pretty lucky actually . you ll have the opportunity to learn so much about asian culture . i guess so , but i think it s going to be hard to relate to my classmates , especially with the language barrier . i think i might change classes . don t ! stay the course ! your spoken chinese will be eternally grateful . i bet you it will even surpass mine with all that practice . i highly doubt it . your girlfriend is chinese . well , there is that , yes .',\n",
              " 'hey , im hungry . how about you ? yeah , i can really go for some chinese food right now . thats a great idea . lets go to a chinese restaurant . i know one . lets go .',\n",
              " 'good morning , miss li . morning , mike . i m sorry that i was absent yesterday . i ve already got your certificate for sickleave . how do you feel today ? i feel much better now . have you received the reading material handed out yesterday ? i ve already got it . thanks . i will explain it in detail in the next class . could you preview it ? i will .',\n",
              " 'do you like flowers ? of course , i like . whats your favorite flower ? forsythia . its also called winter jasmine which is the symbol of the springs arrival . spring is a lively season . yes . how about you ? i admire plum blossoms very much . it seems that only it can blossom in the cold winter . you have a perfect taste ! it is the symbol of laughing at hoar frost and fighting with snow . i admire the bravery of plum blossoms . but it used to be ignored by many people . the bright people will remember it forever . well , its snowing . lets enjoy the plum blossoms when snowing .',\n",
              " 'what is the weather like today ? it stops snowing , but theres a bit wind . and the streets are covered with ice . do you know what the temperature is today ? i missed todays weather for cast in the radio it seems 10 degree below zero at least . i dont mind the cold weather , but do hate when it get slippery . the ice is soon be thick for skating . im so fine to want a sport thats fine . lets go skating together tomorrow .',\n",
              " 'what kind of music do you like listening to ? i like music that has a fast beat and is lively , like dance music . you know , i go to a disco almost every week . sometimes its too loud though . you prefer classical music , don t you ? yes , i do . i find it very relaxing . i often listen to mozart or bach in the evening after a hard day at work . i must admit that i like several pieces of classical music . it s certainly more sophisticated that modern dance music . classical music is supposed to be good for you brain . research suggest that it makes your brain more active . students who listen to classical music while studying perform better . really ? perhaps i should listen to classical music often . i heard that listening to classical music is helpful in reducing stress . yes . that s why i listen to it in the evenings . i usually play it as background music while i m cooking or doing other housework . i ve got a few classical music cd s . i should follow your lead and increase my brian power . you can find plenty of recording on the internet too . you can listen to samples and then buy them very cheaply if you like them . that s a good idea . you should do the same with some music . you might find something you like . classical music might make you clever , but dance might make you livelier and happier . that s true . there s clear evidence that people who listen to lively music are lively people . music can influence a person s feeling and character .',\n",
              " 'there is a new coffee shop opening up down the street . i hope that they have a good menu . most coffee shops only have coffee and danish . thats right . you dont drink coffee , do you ? no , so its usually boring to join my friends in the afternoon at a regular coffee shop . what kind of things would you like to see on the menu ? maybe a fruit salad and a few different hot sandwiches at least . that shouldnt be too difficult . since this is a small neighborhood , maybe they will take this suggestion . lets try it !',\n",
              " 'darling , i have news for you . bobby and his wife , evelyn , are going to have a baby soon . really ? i thought his wife couldn t have a baby . actually they re expecting the baby to come on my birthday . oh , what a coincidence ! i bet bobby must be very happy about it . he likes children and always wants a child of his own . in fact , they re both very excited about the coming baby . evelyn imagines what their baby would be look like , since one parent is american and the other one is chinese . oh , right . now i know why they would want to see our boy . it s hard to imagine the wonder ! are they expecting a boy or a girl ? it s still a mystery . because evelyn is only threemonth pregnant . but she begins to take her maternity leave now . oh ! you mean she doesn t have to work now ? it s hard for young parents not to overreact , isn t it ?',\n",
              " 'well , i am a regular member of this club . do you have to pay to join ? yes , membership fees vary depending on the club but usually they run into tens of thousands of dollars . wow , that much ? dont they have any public courses ? very few , unfortunately . how was your game today ? extremely good . i shot a 78 , including 5 birdies ! congratulations ! whats your normal handicap ? ten . how did your game go ? my drives were terrible today . i kept slicing the ball into the roughs and sand traps . maybe you can correct it by going to a driving range before you play again .',\n",
              " 'the concert was really great . i agree . the singing group used to be very popular . i cant believe they would play so good .',\n",
              " 'i have tickets to the phantom of the opera on friday night . would you like to go ? thanks . id love to . what time is the show ? its at 8 00 . that sounds great . so , do you want to have dinner at 600 ? uh , id like to , but i have to work late . oh , thats ok . lets just meet at the theater before the show , around 730 . that sounds fine .',\n",
              " 'is the chinese team taking the lead ? no , its the japanese team . japanese teams always play a dark horse . well , their team work is well worth learning .',\n",
              " 'do you mind if i ask your friend out ? of course , but we arent going out , were just friends . okay , thats good . do you want me to put in a good word for you ?',\n",
              " 'harry is so down that he wont talk to anyone . i know only too well what thats like . what do you mean ? i was very sad when i was laid off last year .',\n",
              " 'hi , is that david ? hi , jenny . its david here . hey , whats new ? not much . my girlfriend just dumped me . sorry to hear that . what happened ? well , she told me things just weren t working out and we weren t right together . but i thought things were just great . why did she say this ? its completely out of the blue . hey , that s not the girl with pink hair , is it ? the girl i saw with jack yesterday . what ? she was cheating on me with that ugly guy . oh , no , i feel like such a loser . hey , she is not worth it . forget her . but she lied to me . hey , she is not worth it . anyway , there are plenty more fish in the sea . listen , lets go for a drink in the town . how about that ? ok , then . but you have to promise me that you are not gonna wear that face . what face ? the one where you look like your dog just died . you have to get over her and the sooner the better . yeah , i know . you are right .',\n",
              " 'this is a nice set of wheels . how much did the dealer charge you for this ? a lot . i probably got to moonlight for the rest of my life , but so what , it s worth it . come on , get in . let s take a drive . okay then , let s go fast ! whoa ! this thing can really accelerate fast . check out what happens when i put on the brakes suddenly . it can stop quickly . hey , just watch out for cops or you re gonna end up in the slammer . you know you tend to go fast ? yes , i know it . i went through my last set of tires fast . i even had three flat tires in two weeks . now watch . . . some guys probably run a light and hit your car . cut out , would you ?',\n",
              " 'whens your birthday ? its just around the corner .',\n",
              " 'bob is getting on in years . yeah , im very worried about his health . he looks tired all the time . hes working too hard .',\n",
              " 'which church do you attend ? i am mormon , so i go to the church of jesus christ of latter day saints . what s the difference between this and other churches ? mormons believe that , after the death of christ and the death of the apostles 10 , their church christ founded became corrupt and the authority of christ on earth was lost to men . in 1830 , a prophet named joseph smith was brought up by god to restore the church . then does that mean the other churches are corrupt ? that means that they all have parts of the original gospel , but not all . do you believe that mormons have all of it ? yes . why do you really go to church ? we gather together to encourage each other , because we have common beliefs . we come together and call it church .',\n",
              " 'sorry i was late for the meeting today . i got stuck in traffic . thats okay . better late than never .',\n",
              " 'hello ! what are you reading about in the newspaper ? hello ! i was exhausted some studying , so i decided to read the newspaper to relax . unfortunately , the news is so depressing . there has been another murder in the city center . i m shocked that the police haven t caught the killer yet . people are starting to get frightened by it . everyone will be relieved when they finally catch the murder . you mean if they catch the murderer . i m scared stiff about going into the city center at night . there must have been some good news in the newspaper . i can t believe that none of the news stories make you happy or excited . well , there was one good piece of news . you remember the local girl who was dying of a rare blood disease ? yes . her parents were raising money to have her treated in the united states . well , they ve got the money and she s going tomorrow for treatment . i m so happy for the family ! they must be very relieved and excited about that . i m sure they are . oh , and a local man won the lottery . i m so jealous ! i wish it were me ! i buy a lottery ticket every week and i m amazed that i haven t even won a small prize yet . it s so unfair ! don t be moody ! i hope you re not tired , because we ve been invited to a party this evening . i know how excited you get about parties .',\n",
              " 'hi ! tom . want to go to play bowling tonight ? sounds good . when and where shall we meet ? let me see . how about 630 at the gate of the club ? fine , see you then .',\n",
              " 'are there many idioms in english ? there are hundreds and hundreds . english is particularly rich in idiomatic expressions . can you give us an example ? ill look up the rate . to look up doesnt mean to look high into the sky or to look at the roof . it means to search for and find some information . what about the expression goodbye ? is that an idiom ? that is just a natural , grammatical english expression . it has a direct translation in other languages . this is interesting , ms . parker .',\n",
              " 'why did the teacher criticise myra in front of the whole class ? because myra was cheating on exams , and she spoke back rudely . i dont think that myra should have spoken so rudely to the teacher . i know she was angry , but thats still no excuse for rudeness .',\n",
              " 'do you know where i can park ? do you need a spot here or off campus ? i want a space on campus . theres a parking structure for students . where can i find it ? go to the western side of the campus , and youll find it there . is it full ? when i went up there , it wasnt full at all . when was that ? sometime this morning . would it be full now ? i am really not sure .',\n",
              " 'have you heard of the love bug ? do you mean the i love you virus that attacks computers through email ? yes . it is one of the most harmful computer viruses in the world . people say it will break out again om valentines day this year . this is terrible . why do hackers play such a dirty trick ? hackers are smart , and they want people to know about it . so they create viruses to tell people they are smart ? thats really sick .',\n",
              " 'i am confused by what he said . why do you say that ? i don t know what he wants to do . does he want help me or just scold me ? think a little . i think he means well at the bottom of his heart .',\n",
              " 'where are you going ? i m going to the hospital . what s the matter ? professor wang was hurt in a traffic accident . that s too bad . how are things now ? his life is hanging by a thread , and he is under an emergency treatment .',\n",
              " 'want to meet for lunch this saturday ? sorry , i cant . i am busy . what are you doing ? i always do volunteer work on the first saturday of every month . what kind of volunteer work ? i help out at the childrens hospital . i help plan activities . oh , yeah ? yes , it s exciting . this month we are doing crossword puzzles .',\n",
              " 'are the children all grown up now , rose ? oh , yes . laura s the oldest . she s a computer programmer . oh , very interesting . and what about rita ? she was such a bright child always reading . she s a librarian at the public library . really ? and chris ? she was a very pretty little girl . christy is working as a waitress at a restaurant in paris . she s married to a french photographer . oh , how interesting . and what about larry and rocky ? larry drives a truck . he drives all over the country . we hardly ever seen him . really ? where does he live now ? colorado . and does rocky drive a truck , too ? oh , no . rocky is a pilot . really ? where does he fly ? does he fly to other countries ? yes . mostly to england and france .',\n",
              " 'merry christmas , linda ! merry christmas , lee ! linda , thank you for this wonderful christmas dinner . i really enjoyed it . thank you for coming . im glad you liked it .',\n",
              " 'wheres your better half ? shes at home .',\n",
              " 'look , there are some words on the fish . i know that they are auspicious fish . its quite popular nowadays . for gods sake ! its too bloody . how can people be so cruel ? not at all . i think the tattoos are so cool and chic . you cant prick the fish to please the sick tastes of some bloody people . honey , its not so serious . its just an animal . just an animal ? but it has life too . if you want a tattoo , get one . its your choice because you want it . but has anyone asked the fish if it wanted one ? ok , i understand , but what else could we do ?',\n",
              " 'whos singing in your home , jim ? its ellie and her friends . whos ellie ? shes my little niece . it s her birthday . they re singing happy birthday . oh , i see . how old is she ? shes ten . i suppose theyre playing games . oh , yes . ellie was playing games all day yesterday . by the way , alice , whens your birthday ? today . today ? yes . well , imagine that ! how old are you ? eighteen . some friends are having a birthday party for me tonight . do you want to come ? very much . what time ? about 600 . ill be at your house at about 530 . happy birthday .',\n",
              " 'well , it was nice meeting you . yes , i hope we meet again . sure , ill give you a call . okay .',\n",
              " 'i saw an interesting program on tv last night . it was about elderly people . and what did the program say ? it said that people with a positive attitude 7 tend to live longer and happier . i think that many physicians 8 now agree with that idea . and the tv program also said that physical exercise helps people deal with stress . and the most active older people seem to enjoy some kind of physical exercise . my father is over 60 years old , and he lifts weights every day .',\n",
              " 'did you see the information on sales for last year ? the sales review was made at our last board meeting . theres a great news for our shareholders . yeah , i went over the figures this morning . were finally started making money again ! weve never sold this much before , our growth this year has been phenomenal . we have captured 8 of the market , up from last year by 120 . our strategy is working ! not only our annual sales brake a record , but our month by month earnings exceeded our forecast as well . after a twoyear slump , we finally back in the black . the companys performance has improved since wallace became president . hes made our little business into a real lucrative operation . products are selling like hotcakes . i think our success is partly because of wallaces contribution , and partly because of our new marketing strategy . because of the new advertising campaign , we have become the top sellers in the field . lets hope this stroke of good luck lasts . i hope we are over our financial difficulties for good . lets hope it is !',\n",
              " 'what a letdown . i wanted to experience some mafia culture firsthand . its worth it just to go and eat what the mafia eat ! the fivedollar tiramisu is a culinary orgasm . such a thing exists ? fortunately , yes . youre blushing ! am i ? um . . . my face gets red when i walk too fast . youre embarrassed , arent you ? you gotta loosen up in little italy . the lady at the cafe will kiss you when you meet her . . .',\n",
              " 'did you get any rewards or honors in college ? yes , i received the scholarship 3 times on end . did you join the communist party of china cpc ? yes , i joined the cpc when i was a freshman',\n",
              " 'your brand new car is so excellent . i like it very much . let s go for a joy ride .',\n",
              " 'are you watching the soccer match tonight ? it must be the most exciting one in this season . well , of course i can t miss it . which team are you for ? manchester united . what about you ? me too . do you think they are going to get the championship this time ? i have confidence in them .',\n",
              " 'the weekends finally here ! and its a long one . i have monday off . its memorial day or something like that . yep . its the kickoff of the barbecue season . were invited to a grill party in the park tomorrow . sounds good . what do we need to bring ? we need to buy some buns for the hot dogs and hamburgers , and im making potato salad . ill dig out the frisbee and my kite from taiwan .',\n",
              " 'hi , martin . i ve been looking for you all morning . what s up ? i want to say goodbye . i m leaving for america tomorrow . america ? did you get admit to mit ? yes . congratulations ! susan . i m so happy for you . thank you . really going to miss you . me too . i ll write to you once i get settled . but i have so much to do . you might have to wait a while . but i really will write to you . i love to write letters . i think it s more meaning than the emails even than the phone call . ok . take care . have a nice journey . thank you . look after yourself . bye . bye .',\n",
              " 'you know , taylors been in the hospital for a couple of days . and im the one who put him there with my football moves . but youre not to blame for them keeping him there . yeah , what was all that stuff about running tests about anyway ? im not sure , but we can find out . i bought some crosswords to keep him busy . great , then lets go visit him . i want to give him some flowers , too , to say sorry .',\n",
              " 'did you see ally mabel last night ? yes , i did . did you ? yes , wasnt it funny ? oh yes , i loved it . wasnt the scene with the judge great ? ha , yes , brilliant !',\n",
              " 'look out ! your tea water is running over . oh , would you please turn off the fire ? my hands are sticky with the dough . sure . thanks .',\n",
              " 'did you see may today ? yes , but why does she have such a long face ? i dont have the foggiest idea . i thought shed be happy . yeah , especially since she got a promotion recently . i dont know . maybe it s some kind of personal problem .',\n",
              " 'i dont think the teacher had a right to say that . the teacher was wrong to have accused her in front of the whole class . youve got to be joking ! its the teachers right to say anything wants , and if she saw myra cheating , she certainly had the right to say so . i agree she had the right to say something , but i feel she should have done it privately . youre right . if i were the teacher , i wouldnt have done that .',\n",
              " 'come on in . i am so glad you are here . we have been expecting you . am i late for the party ? looks everyone is already here . hope i didn t miss something interesting . no , you are just on time . we haven t really started yet . great , here are some flowers for you . i hope you like them . i was not sure if the color will suit your new apartment . thank you , they re beautiful . you can hang your coat over there . try this new couch , it is so comfortable . you will love it . want something to drink , tea , coffee , juice or cola ? don t bother . i will help myself . make yourself at home . it is such a nice place . well , i don t mean to boast but all the designs are done by myself and some colleagues are already trying to copy some of them for their new apartments . look , they are making photos now of my designed kitchen .',\n",
              " 'steven , would you like to go dance with us tonight ? john , i am just not in the mood for this . you look so upset . whats going on ? i lost the table tennis game yesterday . oh , what a pity ! i just don t want to play table tennis any more . is it that bad ? it s nothing more than a game . my opponent bowled me with the very first ball . i was wondering if its appropriate for me to play table tennis . oh , come on ! failure is the mother of success . don t lose heart . im sure youll succeed . perhaps you are right . but i still need some time to recover from the failure . i understand .',\n",
              " 'the band is pretty good . how do you like the music ? its very nice . i havent heard live music in a while . this is fun . well , then , may i invite you for the next dance ? of course . but im afraid im not much of a dancer . . . dont worry . im not much of a dancer myself . youre dancing so well . you dance beautifully too . when did you learn to dance ? in college . but i dont dance very often . whats your favourite dance ? its hard to say . it depends . but i love the waltz . how about tango ? oh , i like it . its such a beautiful dance , but i cant do it well . what about you ? tango is my favorite . anything but hiphop or the foxtrot . the music has stopped thank you for the dance . my pleasure . lets go and have a drink . ok .',\n",
              " 'i think the biggest environment problem in my country is air pollution . yes , i agree . the air here is much more polluted than in my country . of course , my country is more agricultural and has much less industry . we have reduced emission of air pollutants in recent years , but cars are still a major source of them . factories have become cleaner as stricter environment pollution law have been introduced . the problem is now on a truly global scale . i dont believe that any single country can do anything about it . i think youre right . there needs to be an international response to this problem ?',\n",
              " 'i just had a terrible week . what a shame ! i fell down and hurt my arm . thats too bad . then my son drove into a tree . im sorry to hear that . the dog bit the delivery boy . what a pity ! and a storm blew our roof away . ho , no !',\n",
              " 'i m so excited , mother . oh , a new baby ! my first grandchild . and my first nephew . he looks a lot like you , mum . he does . do you think so ? well , i guess . he does look a lot like me . oh , he s got richard s eyes though . yes , he does have richard s eyes . the baby even looks like you than richard does . well , children usually resemble their parents . it s true . michelle is a lot like henry in so many ways . and she is shy with new people just like he is . you often like comparing children with their parents . you re right .',\n",
              " 'when do you go to bed usually ? i go to bed at ten and get up at six . thats helpful for your health . sure .',\n",
              " 'have you been ever been to disneyworld ? when i was young , my parents took me to the one in california . i always forget which is that one disneyland or disneyworld ? the one in florida is disneyworld and the one in california is disneyland , so you must have been to disneyland . thats right . why do you ask ? well , ive never been to either so i was thinking of going to disneyworld for my honeymoon . when are getting married ? some time next year . we havent set the date yet . congratulations ! i had no idea . thank you . so what do you think ? would we have a good time ? do you like amusement parks ? for the most part , yes . some of the rides are bit too scary for me , though . if you dont think twice about the rides and go on every ride that you can , youll have a good time . even the roller coasters that go through tunnels in the dark ? even those . itll be very romantic , i think . youll have loads of fun . thanks for the advice . ill talk to my fiance about it tonight . im sure hell love the idea . just throw yourself into it and youll enjoy it !',\n",
              " 'can you speak french ? yes , i can , but not very well . can you understand your spanish teacher ? more or less . how well do you understand mr . wang , your chinese teacher ? about 40 percent , if he speaks slowly . when he speaks fast , i can only catch a word here and there . but mr . wang is an excellent chinese teacher . with his help , my chinese is getting better and better e',\n",
              " 'you look better today . how did your test go ? much better than it did yesterday . did you pass ? i not only passed my test , but i aced it ! im so happy ! you should be . you worked really hard last night preparing for it . thanks for helping me with it . if you hadnt encouraged me to do my best , i wouldnt have ever been able to pass . you dont have to thank me . its just a part of my job as your counsellor . did you always do well at school ? no , in fact , i was terrible at taking exams . really ? sure , but my teachers always encouraged me to do the best that i could and that helped me a lot . when are your final exams ? ill get my finals in two months . when do you plan on studying for those exams ? most students just cram the night forehead . do you think thats a good idea ? no , i think i should study a little bit at a time , starting a few weeks before the exam . that sounds like a good idea . what are you going to do if you have any questions while youre studying ? ill go and talk to my professor or a learning support assistant . it sounds like youve learned something useful this year !',\n",
              " 'can i borrow your cds for our school dance ? oh , you dont ask much , do you ? i promise i will personally guard every single one and they will come back in perfect condition . ill tell you what . your class can rent them from me for the night and buy back any damaged ones . that sounds fair . thats still cheaper than paying a band to come play for us . not as fun though . a live band is way more exciting ! our class doesnt have enough money . we already checked into it . let me know with your next dance . i know a band that may give you a break for the publicity .',\n",
              " 'do you want to go to the beach tonight ? sure , which beach are we going to ? i wanted to go to malibu beach . i like santa monica . the water there looks so dirty . i just like the pier they have at santa monica . i like the pier too , because its beautiful at night . is malibu beach nice ? its a lot nicer , and i really like it better . so you want to go to malibu ? if thats okay with you . sure , lets go to malibu .',\n",
              " 'there are so many environment problems in the world today . do you think we can really solve them all or will destroy the world ? i hope that world leaders can get together and agree on a plan for action , but i doubt it ll happen before it s too late . we need to solve the problem of air pollution before we destroy the atmosphere . there s lots of clean , modern technology , but companies in developed countries say it s expensive . developing countries put more emphasis on economic development than on environment protection . everyone is looking at the issue in the short term , rather than the long term . it s the same with the destruction of the rainforests . countries and companies just want the wood . they re not thinking about the longterm damage to the forests . we should also remember that the forests are an important natural habitat for thousands of species of animal and plant life . in other parts of the world , especially in africa , there is a problem with desertification . climate change and overfarming are causing farmland to turn into desert . in means that people cannot grow enough food . it also means that people sometimes fight over the famp 3land that remains . damaging the environment actually leads to conflict between people . have you ever thought about joining an organization committed to protecting the environment ? you could get involved with projects to improve the environment . i think i d like to do that . i could take the things i learn here back to my country when i have finished my studies .',\n",
              " 'kathy ! how are you ? its been ages ! what are you doing these days ? i just opened my own restaurant . im also head chef . youre kidding ! youve always hated cooking ! well , i used to hate cooking , but now i love it . when did you change your mind ? after i tried french food . before that , i used to cook really boring things for my family . i still cant believe it ! so , did you go to cooking school or something ? yeah . i went to california to study . really ? how long did you stay there ? i was there between 88 and 90 . and what did you do after that ? then i came back here . i worked for about three years to get some experience .',\n",
              " 'susan , i am inviting you and frank to our house warming party this weekend . a house warming party ? yes , deborah and i are going to buy a new home in woodlawn . congratulations ! that s wonderful . i bet both of you are quite happy . well , we have always dreamed of owning our own home , but real estate 1 in this area is extremely expensive . i understand . that s why christopher and i want to find a place in a small town , far from the city . that s a good idea if you can find employment nearby . i agree . that s why christopher is already looking for a job in maine , or wisconsin .',\n",
              " 'what can i do for you ? i am trying to find this book . what s the problem ? it doesn t seem like this library has it . have you checked the computer ? i have already . what did it say ? it says the book is on the shelf , but i didn t find it there . i can always borrow the book from another library . you can do that ? i ll make the call and contact you when it gets in . that s fantastic . thank you .',\n",
              " 'abc rentacar . may i help you ? i would like to rent a car . what kind of car do you have ? we have volkswagen , pinto , plymouth and datsun . what is the rate ? twenty dollars per day for volkswagen , pinto and datsun , and twentyseven dollars for plymouth . how about mileage and gas ? there is no charge for mileage . and fill up the gas when you return the car to us as it is not included . ok . ill try a pinto . i want to rent a car for one week . all right , sir . may i have your drivers license ? here you are .',\n",
              " 'would you be willing to accompany me to the party tonight ? sure , id love to .',\n",
              " 'which film shall we see ? there is nothing good at the moment . let s do something different . would you like to go to a concert ? yes , id love to . here is a good one , mozart and beethoven . it s on the festival hall . fine ! do you want anything to eat now ? no , im not hungry . well , lets go and have something to drink instead . i know a good place . its a little expensive , but its fun .',\n",
              " 'spring festival is the most important festival in china , isnt it ? yes , thats true . how long is the holiday ? it depends . but usually its about 15 days . do you eat any special food for the festival ? yes , dumpling is a must . there is also other food . for example , people eat chicken for good luck . thats interesting . im told the chinese firework is very beautiful , isnt it ? yes , its really wonderful ! oh , great ! i hope i can spend this spring festival with you here in beijing . im sure youll have a good time .',\n",
              " 'im really sick of waiting for a bus . yeah . especially when you have something urgent to do . but a taxi costs too much . thats true .',\n",
              " 'i feel absolutely horrible . my temperature is 41 degrees celsius , and ive got a headache and a runny nose . do you have any other symptoms ? ive also got a terrible stomachache . is my face still swollen ? just a little . has your toothache gone now ? yes , for the most part . it doesnt feel as bad as my other ailments , anyway . how about your tongue ? does it still hurt ? no , the burn ointment seemed to take effect right away . i think its already healed . how did you get that burn again ? i scalded on the hot coffee a few days ago . you havent had much luck lately , have you ? no , but im sure ill get better soon . whens the last time you took your tablets ? i took the red ones just before lunch and the white ones just after lunch . i think its time you took another does of each . what would you like to drink with them ? just some water , please . do you have any ointment for my nose ? it feels so itchy after blowing my nose so much . sure , ill just go and get it now . what would you like to eat ? some soup ? that sounds good . soup always makes me feel better when im sick . i hope it makes you feel better , too .',\n",
              " 'i havent got enough evidence for prosecuting him . why dont you find someone who is in the know . im just thinking about that , but the trouble is , i dont know who is well in the know . did you ask his former secretary , lora ? she knows a lot about him . thanks for reminding me . shes the right person to help me .',\n",
              " 'what are you two doing in here ? we heard you werent feeling well , so we came to check on you . i was sitting there giving out nametags and all of a sudden , there she was . who , femi ? yeah , yijun saw her inside . all these memories of prom night came back to me . i had to be alone . you remember that night ? i remember someone spiked my punch . you sat with me in the girls bathroom . . .',\n",
              " 'youre not looking happy . what s the matter ? oh , nothing special . im just a bit tired . with the job ? with everything , with everybody , with all this ! a good suggestion for you . you need a holiday . it wasnt always like this , you know . what do you mean ? well , i mean . we always do the same thing . there s no variety in our lives . you need a holiday . that s whats the matter . certainly , perhaps .',\n",
              " 'oh dear , miss , you are soaked ! wow , its really raining heavily outside . yes , it sure is . i had to run here from work ! i need to rush as im on my lunch break . well please , why dont you go ahead of me in line ? im in no hurry . oh , thats so nice of you ! thank you very much . my pleasure miss . actually , could you recommend what to eat here ? ive never been here before . sure . well , the avocado sandwich is delicious , and its the healthiest thing on the menu . personally , i think the beef salad is the tastiest choice . i usually get that . also , the milkshakes are the best milkshakes in town ! well , thanks for the suggestions . oh , dont mention it .',\n",
              " 'dad , whats the date ? its december eighteenth . in seven days it will be christmas day . yes , i know that . so , can i buy some new shoes as a christmas present ? sure , a promise is a promise .',\n",
              " 'what happen , john ? nothing . why do you look unhappy ? i m rather disappointed at not being able to see my best friend off . oh , cheer up . he ll understand you .',\n",
              " 'this man is your fiance , dolly ? yeah , how do you like him ? hes handsome . can you give me a touch of his character ? hes outgoing and honest , but sometimes hes a bit conservative .',\n",
              " 'do you think i should buy this now and bring it with us ? dont bother . those are a dime a dozen where we are going .',\n",
              " 'brooke , are you still mad ? is your mom mad ? no . . . mom said that well have the wedding at home on the 2nd . so lets hope your mom is right about that being a lucky day . . . it will be . and today is , too . i just talked to the airlines . . . theyre going to give us back the seats ? no , theyre giving us discount tickets on a honeymoon package in . . . hawaii ? my dream honeymoon destination ? you got it ! well fly there directly from texas . oh , jack ! thats wonderful !',\n",
              " 'the world changes , the family changes too . what do you mean ? people now like a small family composed of two parents and one child . that is called a nuclear family . i dont like such a family . what kind of family are you like ? i like a family composed of many people . it includes grandparents , parents , aunts and uncles , and children . its a traditional family . it may be too large to live well . we can live well , i think .',\n",
              " 'what was that all about ? we had a difference of opinion . is she going to be okay ? shell be fine .',\n",
              " 'is sailing fun ? you bet !',\n",
              " 'john dates her seven times a week . really ? thats a straws in the wind . i think so . maybe hes fallen for her . yeah . they suit each other . a perfect match between a man and a girl . right .',\n",
              " 'i was told my friend joe was speaking ill of me . thats a real letdown . i dont think joe has done such a thing . dont believe things in haste . maybe i should go and ask him whether its true .',\n",
              " 'good morning , loans . good morning , mr . smith . i would like to compliment you on your diligence . well , thank you , mr . smith . but i was just doing my job . yes . and were proud of you , loans . its nice of you to say so .',\n",
              " 'which countries have you been to ? i ve been to most of the countries in europe , several countries in asiachina , japan , korea , and thailandand to the united states and canada . i thought you had been to australia too . no , but i m planning on visiting australia and new zealand soon . i ve heard that they are beautiful countries . which is the most beautiful country you ve been to ? i think i d say norway . it has many picturesque fjords , waterfalls , and mountains . isn t it really cold there ? well , the north of norway is almost always cold , but further south it can be fairly warm in summer . it s a wet country , so there s snow almost everywhere in winter . i ve been to other scandinavian countries , but not to norway . perhaps i should go and do some winter sports there .',\n",
              " 'alison , would you like to have some more ? no thanks . i have had enough . actually you havent have much . to tell you the truth , i am on the diet . that sounds ridiculous . why ? well , i am gaining weight these days , and i have to watch my calories .',\n",
              " 'welcome to my birthday party , i am so happy you can come . thanks for inviting me . here is the gift for you . happy birthday , francis ! many more happy and healthy years for you ! thank you , shall i open it now ? yes , please do . wow , a remote car model and my favorite brand . i really like it . that is so nice of you . yeah , i was really struggling whether i should give you this nice little car . it was the last one they had and i really like it so much myself . typical you , always wanting to keep the best things for yourself . the more i appreciate the gift now .',\n",
              " 'did you read the news that chinas property prices rose at the fastest pace in 18 months in december , ending the year with rising fears of bubbles in the property market ? no . does the newspaper say what has caused that ? yes . it says the hike was a result of purchase rush in the fourth quarter on expectations of tightening politics . i think the government should make a serves of moves to cool the market . right . the climbing property prices has become a headache for chinese residents .',\n",
              " 'i think that show biz stars have a really easy life . they have lots of money , so they can buy almost anything they want . they re famous , so everyone loves them . i think they must have horrible lives . all the paparazzi take photos of them wherever they go and whatever they do . they must get sick of it . i bet they love it really . sure , they complain about it , but that just gets them more publicity , doesn t it ? i think that few of the show biz stars want any publicity for themselves . they only want it for their films . no way ! they want publicity for themselves , so that they get invited to make more films , go to lots of cocktail parties , and even make albums ! they have such an easy life . they don t even pay for drinks when they go to a cocktail party . show biz stars have plenty of expenses . that s why they need so much money . they need million of dollars to buy big , seclude houses and wonderful dresses . i bet most show biz stars would prefer to wear jeans and a tshirt , but they can t because their managers force them to wear clothes they don t like . i don t understand how you can have any sympathy for show biz stars . they re overpaid , overambitious , and overadored . i think you should give them some credit . they re very talented people and they deserve all the money they earn . they even donate money to charity to help people who are less fortunate than themselves . come on ! they only do that to get even more publicity for their films and themselves',\n",
              " 'hi , it is a pleasant surprise ! yeah , it s been ages ! so how have you been ? couldn t be better . and you ? just as usual , you know .',\n",
              " 'hey , mary , can you cut that out ? cut what out i m not doing anything . the tapping of your pen on your desk . it s driving me crazy . fine ! by the way would you mind not slurping your coffee every time you have a cup ! i don t slurp my coffee . and plus , how can you hear it when you re shouting into your phone all the time ? you ve got to be kidding me ! you re complaining about me talking on the phone when you go out for a cigarette break ten times a day to shoot the breeze ? look , we have a lot of accumulated anger from working in these conditions , and it s probably okay to let off steam once in a while . but , it s probably not a good idea to keep it up i m willing to forgive and forget and if you are . fine . lets call a truce . ill try to more considerate and to keep the noise down . yeah , i ll try to do the same . so , i was wondering you wanna go out to dinner friday night ?',\n",
              " 'the weather in beijing is just beautiful ! autumn is the best season in beijing , you know . yes , i can see . the summer heat is over , and the winter cold is still far away . what is the weather like in washington at this time of this year ? autumn is also very nice in washington . is it very cold in winter there ? no , it isnt . but sometimes it snows a lot in winter . does it rain a lot in summer there ? oh yes ! sometimes it rains very heavily . how about here in beijing ? theres a lot of rain in summer , but it seldom rains in autumn . i feel its rather dry here . thats true . many people from the south dont like the weather here . are you from the south ? no , im from the north . i was born in beijing , actually . i see . so this is your hometown ?',\n",
              " 'mike , come and look at this painting of shrimp ! it is so simple yet so vivid ! yeah . it is incredible ! is it the work of qi bakshi ? yes , it is . how do you know that ? well , qi is famous all over the world , isn t he ? besides i am quite interested in chinese painting . cool ! what kind of chinese painting do you prefer , free sketch or claboratestyle painting ? i prefer free sketch , especially the landscape paintings . i can always feel peace and harmony from those landscape paintings . thats true . chinese art stresses the harmony between man and nature , which is an important part of chinas traditional culture . i love this art exhibition ! so do i . let s go to other areas to see what they have got , shall we ? ok .',\n",
              " 'lousy weather , isnt it ? it has stopped snowing , but its even colder . look at the ice there hanging from the eaves . and the streets are covered with snow . do you know what the temperature is today ? i missed todays weather forecast over the tv . it feels like ten degrees below zero at least . i dont mind the cold weather but i do hate it when it gets slippery . the ice will soon be thick enough for skating . i am so fond of winter sports . thats great . lets go skating together tomorrow .',\n",
              " 'nick , its very nice of you to see me off . youre welcome . did you have a good time on this vacation ? very well . if i leave ill miss you . me too . please write to me as soon as you get boston . im sure and i remembered your phone number . ill call you . ok , they begin to register . its time i left . have a nice journey ! do give my regards to your parents .',\n",
              " 'what are your working hours ? eight to twelve in the morning , two to six in the afternoon . much better than mine . what are your hours ? mine arent fixed . sometimes i do the day shift , sometimes the night shift .',\n",
              " 'would it be all right if i went home next weekend ? for what ? well , i want to surprise my brother showing up for his birthday . well , that sounds like it would be ok . just be careful .',\n",
              " 'could you tell me what university you went to , mr . smith ? i went to yale university . did you ? and what did you study ? i have a b . a . in economics . would you mind telling me how old you are ? im twentyseven . and could you tell me what other jobs you have had ? yes , i have worked in a bank for the last years . and what was your salary at the bank ? i got 500 a week .',\n",
              " 'hi , jane . how are you doing this morning ? im all right , thanks . just a little tired . late night ? yeah , i got home around two .',\n",
              " 'i am going to celebrate my birthday with you all in a night club this year , what do you say ? fantastic ! i enjoy clubbing , especially those clubs with live bands . the only fly in the ointment is that the air is bad , full of smoke , and the music is too loud , so conversations are not really possible . once i nearly got burnt by a cigarette . how did that happen ? a wild dancer dropped it on my left foot and said nothing about it . if i had drunk enough and i would have had the bold to punch him in the face . sounds cool ! but that is not what a lady should do . people are easy to lose head in a night club and being drunk .',\n",
              " 'what do you do for a living ? i m a doctor . really ? do you like it ? yes , i do . it s very interesting . what s your job ? i m a bus driver . oh , do you enjoy it ? no , i don t really like it . it s boring .',\n",
              " 'what a nice garden ! look at these tulips ! that would be a good shot . can you take my picture here , dear ? please try to get the garden in the frame as well . all right . would you please stand closer to the flower bed ? good . smile . say cheese . ok , got you . thats terrific . thanks . could you take one more from this angle ? no problem . now lets have one together . do you know how to set the timer ? let me see . . . set the timer first and push the button , oh , come here . ok , lets have a try . cheese . . . did it come out ? yes , but its blurred and a little dark . never mind . lets go to the falls and try again . ok , lets go .',\n",
              " 'did you watch television last night , charles ? yes , i did . it was a good game , wasnt it ? oh , i didnt watch the football match . i wanted to but my wife preferred to see the old film . what a pity . it was quite exciting . both teams played very well . how did it finish ? it finished in a draw . what was the film like ? it was quite good . but . i missed the beginning of it because i had to eat first . did your wife enjoy it ? no , she didnt . after half an hour she stopped watching and started to read a book .',\n",
              " 'hey , vernassa . why be angry look ? its the new neighbor . i hate her guts . ive never seen you so worked up . what did she do to you ? she made another white crack about my clothes . are you sure she was trying to put you down ? of course , i am sure . you shall go easy on her . she is new here . just how am i supposed to do that ? you shall just take it in surprise . ive tried , but she keeps pushing my buttons . try to pull it together , vernassa . i am sure things will turn note , ok ? i am not . she is no picnic . well . if you think i can help , let me know . thanks , serena .',\n",
              " 'i m forming a music band . do you already know how to play an instrument ? uh . . . yeah ! i ve told you a thousand times that i m learning to play the drums . now that i know how to play well , i would like to form a rock band . aside from yourself , who are the other members of the band ? we have a guy who plays guitar , and another who plays bass . although we still haven t found anyone to be our singer . you told me that you had some musical talent , right ? yes , i m a singer . perfect . so you can audition this weekend here at my house . great ! wait here ? you don t have enough room for the amplifiers , microphones or even your drums ! by the way where do you keep them or practice ?',\n",
              " 'ive heard youre going to america tomorrow . i want to see you off at the airport . oh , thanks a lot . what time are you leaving ? 1 thirty p . m . but ive got to check in at 12 thirty p . m . what airline and what flight ? pan american airlines . flight 282 . ill see you at the airport at 12 thirty p . m . ok . see you tomorrow .',\n",
              " 'i m sorry , dad . but you can t do that . it s for me to decide . oh , i see . you ve already decided , have you ? now , you listen to me , you re only 19 . i didn t say i d already decided , dad . i said it was for me to decide . there is a difference . oh . so you think you can just do whatever you want , do you ? i didn t say that either . i was hoping we could discuss the matter together . i want your advice but i don t want you to tell me what to do . i ve got to make decisions for myself , dad .',\n",
              " 'hello , friendship restaurant . may i help you ? id like to book a table tonight . yes , sir . for how many people , please ? eight . what time ? eight oclock tonight , would you please set us in a private room ? so sorry , were fully booked in that room . would you like to make reservation some other time ? maybe not , thank you all the same then .',\n",
              " 'hey , zina . youre here early today . yeah , im going to be making phone calls all day . what a blast . i just wanted to say thanks for putting us on the map so fast . i appreciate it . save it , vince . after i put my first million in the bank , ill say youre welcome . fair enough . keep up the good work .',\n",
              " 'that is the most beautiful sunset ! lets stop the car and enjoy it for a minute . here is a good place . lets get out . wow . we dont get to see this in the city ! mother nature is quite an artist . look behind us at the mountains ! theyre reflecting pink ! amazing . the sun is almost gone and yet there is still color everywhere ! where is our camera ? lets see if we can catch this on film !',\n",
              " 'what a nice day ! why dont we go for an outing ? sure . where would you suggest ? how about going to the suburbs ? sounds good .',\n",
              " 'why didnt you tell me you had a girlfriend ? sorry , i thought you knew . but you should have told me you were in love with her . didnt i ? you know you didnt . well , im telling you now . yes , but you might have told me before . i didnt think youd be interested . you cant be serious . how dare you not tell me you were going to marry her ? sorry , i didnt think it mattered . oh , you men ! youre all the same .',\n",
              " 'hi , bill . hi , jim . where is that cool guy , dick ? i haven t seen him for two weeks . he s been sick since he came back from italy . bummer , i m sorry to hear that , is he better now ? yes , doctor william said that he could come back to work asap .',\n",
              " 'wheres tom this evening ? hes a little sick under the weather . really ! whats the matter with him ? he has the flu . tell him i was asking about him . i will .',\n",
              " 'maybe you should talk to the teacher . no , its no use . you never know unless you try . i know . she wont change my grade .',\n",
              " 'well , i finished my last final today . the end of all the hard work for my masters . what a nice feeling to get my degree ! do you want to attend the convocation ? certainly . after years of hard work , i wouldnt miss it . by the way , where can i find cap and gown ? do you want to have them made or do you want to rent them ? oh , i think theyre provided by the school for that special day . no . those you have to provide for yourself . what do most of the students do ? well , most of them only need a cap and gown for that particular convocation service , but some of the education majors have had them made , because they will be faculty members , and theyll need them f then , i might as well have them made . mary , dont move . stand right there . its a good shot . the background is very pretty . hold it a second . i want to fix my hairpin . it doesnt matter . saycheese . heres lisa . may i take a picture with her ? certainly . ok , got you .',\n",
              " 'do you mind if i ask you a question ? no , not at all . go ahead . what do you do in order to improve your english ? i go to movies ; i go to lectures ; i listen to the radio ; i do lots of things . most importantly , i practice every chance i get . it s a good idea to have a radio , isn t it ? sure . it s like understanding on the telephone you can t see the speaker ! it s great for improving listening comprehension . it takes a long time to learn a language , doesn t it ? it certainly does . but if you practice speaking every spare minute and learn useful sentences every day you can make big progress .',\n",
              " 'good morning , sue . good morning , tom . how are you ? im fine , thanks , how about yourself ? things couldnt be better . where are you going now ? i am heading for the library . ive got a research project to do . how about you ? im going to the english class . it ll start in five minutes , ive got to run . see you later , alligator . after a while , crocodile .',\n",
              " 'is the environment a big issues in your country ? it is in mine . it is in mine too . the biggest issue is water . the climate is dry and so water conservation is very important . what methods do you use to conserve water ? water is rationed . we can only use a certain amount each month . it means that we cannot use some modern household items , like washing machines . they use too much water . i see . i think the biggest environment problem in my country is air pollution . yes , i agree . the air here is much more polluted than in my country . of course , my country is more agricultural and has much less industry . we have reduced emission of air pollutants in recent years , but cars are still a major source of them . factories have become cleaner as stricter environment pollution law have been introduced . the problem is now on a truly global scale . i don t believe that any single country can do anything about it . i think you re right . there needs to be an international response to this problem .',\n",
              " 'hurry up . time is running out . i see . i have run as fast as i can .',\n",
              " 'hi cody , how did practicing go this week ? well i had several tests and an oral presentation this week so i didn t get a chance to memorize the second page , but i think i mastered the tricky section . great ! warm up with some scales and arpeggios first . good , good . this week , work on keeping the rhythm steady when you play the last part with the sixteenth note . now let s take a look at this charles ? before i start i was wondering if it was ok if i put a small crescendo in here and then decrescendo back to pianissimo again over here ? it might work . i ll have to hear it . show me what you ve done . it was horrible ! i played play it much better at home ! it s just nerves . just play the right hand for now . one two three four five six , ta ti tripleti . good , good . don t forget the accidentals ! the key signature says that note should be a gsharp b is that better ? yes , much better . watch where you lift your foot off the pedal . what was that ? sorry ! the stretch for that octave is always hard to make . thats ok , keep going , you re moving ahead by leaps and bounds . watch your dynamics ! keep your elbows lifted . remember to stroke the keys , don t pound . that s better ! remember that as a pianist or any',\n",
              " 'can you tell me the time ? its 530 by my watch . is your watch right ? yes . theres only a few seconds in a whole month .',\n",
              " 'i heard that youre going on your first date friday night . are you angry , lisa ? angry ? why would i be ? please dont tell my mom . come on . dating is a part of young peoples social life . besides , youre sixteen already . im glad that you see it that way . do you want to borrow my coat ? i have a black coat that would look smashing on you . thank you so much , lisa !',\n",
              " 'hi , mary , long time no see . i heard through the grapevine that your getting married . yes , next march . congratulations , i hope everything works out .',\n",
              " 'jim and you are bosom friends , arent you ? i wouldnt say so . what do you mean ? well , i thought he was , but he ends up to be a con man .',\n",
              " 'is everything alright ? yes , everything is fine . what took so long ? i thought your flight was supposed to arrive 3 hours ago ! didnt they announce that our flight was delayed ? i didnt hear anything about a delay . i thought everything was running on time . what happened ? we boarded the plane on time , but then we were held up for almost an hour due to a maintenance problem . then what ? your plane was three hours late ! we finally took off , but about 30 minutes later , the captain came on the loudspeaker to warn us that there would be some bad turbulence for most of the flight . turbulence is pretty normal , isnt it ? yes , but this was the worst turbulence id ever experienced in my life ! everyone started getting sick . the flight attendants had to stay in their seats . the captain decided to land early . so where did you land ? we landed in southampton and waited an hour for the storms to pass and then took off again . that sounds like a nightmare ! it wasnt too bad . at lease im alive . have you had anything to eat ? i managed to get a sandwich from a flight attendant . how about you ? i had a few coffees while i was waiting . lets get out of here !',\n",
              " 'ive got some bad news about the bike you lent me . whats that ? i fell on the way to school , and your bike got scratched . im really sorry . dont worry about it . its not new , it already has a few scratches . did you get hurt ? no , thank you . thats the most important thing . its kind of you to say . i feel a little stupid . forget about it . when you lent me the bike , it looked brand new , almost anyway . maybe , but really i have fallen a couple of times and its been hit once or twice as well . i appreciate that , thank you .',\n",
              " 'what date is it today ? today is december 23 , 2002 . oh , the day after tomorrow is christmas . merry christmas to you !',\n",
              " 'hello ! im penny , i moved here just now . oh , penny , im leonard , glad to meet you . nice to meet you , too . i thought i should come and say hello to you . i havent known anybody . it is hard to get used to a new place , isnt it ? yes . would you like to come here later to have a coffee ? bring all your family . wed like to . can you tell me when we go ? about 4 . ok . do you want us to bring something ? no , just come here . ok , see you later . bye .',\n",
              " 'you know what , last night i almost got hit by a vase falling from the third floor . oh , how dreadful ! i m ever so sorry . luckily that was nothing serious . thank god !',\n",
              " 'i do feel like a trip to florida on such a gloomy day in new york , to enjoy the sunshine while lying on the beaches of florida . thats a great idea . its the best season for tourists in florida . you can also get a good suntan there . but if the sunshine is too strong , it might damage the eyes and the skin . you can put on your shades . and remember dont make your skin look like a tomato . or else after that your skin will begin to flake off . you may even wind up with skin cancer . i see . overdoing it will do more harm than good . you said it .',\n",
              " 'i just finished reading this article getting old gracefully . its a very good article . what does it say ? a lot of things . there is a part about how old people should accept being old and stop feeling restless . you really should read it . thank you . but i dont think ill bother . why not ? what this article says makes good sense to me . if you read it , im sure youll agree with me . i dont think ill have any trouble with getting old . but perhaps you can keep the article for a while , i may read it later .',\n",
              " 'thanks for coming shopping with me . im so honored that you thought to ask me . ive never given a speech in front of a thousand people before . youre going to do great . and youre going to look great . thanks . now lets decide which one of these suits looks best for this occasion . i still like the olive one best . theres a tailor here who can take up the sleeves for you . the question is , can he have it done before friday ? these guys are professional . i think they can have it done tomorrow . lets ask .',\n",
              " 'i love slim girls , don t you ? not particularly . i like fat girls . and i like a girl with good skin , do you ? i can t say i do . what i like a girl with good manners . well , yes . but surely you like a girl with a nice figure . yes . but i like a girl with a nice personality . but you like a girl to be rich , surely ? not particularly . i like a girl to be good .',\n",
              " 'whats going on here ? were waiting in line to get one of master lis chinese couplets . i got one last year and i had good luck all year ! master li ? whos that ? hes taipeis most famous calligraphy master ! quick ! get in line ! i will ! i could use some good luck !',\n",
              " 'i suppose you like cinematography and costumes and that sort of stuff ? yes , i do . the look of a picture is very important . i think sound is even more important ! guns , bombs , sirensthats what makes a movie exciting ! you wouldnt know a good movie even if it bit you on the nose . in my book , all a good movie needs is a chase scene and lots of things that blow up . enough ! if we dont finish the game , there wont be time for any movies tonight !',\n",
              " 'what day is today ? its thursday , i think . tomorrow is friday . its going to be the weekend . were busy on weekdays , but well have a good rest at the weekend . well meet again in a few days .',\n",
              " 'i decided to go for this kind of life . try to keep cool . its not an easy take . i know . i always hope for the best and prepare for the worst . then you will be in line for a doom .',\n",
              " 'what day is it today ? its friday .',\n",
              " 'are you new to this school ? yes , i m new . is this your first year in college ? i transferred from another school . where did you transfer from ? i was at pcc before . why did you transfer ? i was going to go here first , but my grades weren t good enough . did you like it at pcc ? pcc is an incredible school . well , i wish you luck here . i m sure i ll like it here .',\n",
              " 'there is something wrong with my girlfriend . whats the trouble ? the department manager is all over her . he says he loves her . what about your friend ? did she fall for him ? of course not ! she thinks hes an applehead . she doesnt like an appleheaded man , you know . now you dont have the butterflies in your stomach , do you ?',\n",
              " 'are you ready to go to the bank ? sure , what do you need to do there ? there s problem with my bank statement . there s a mistake on it . i also need to withdraw some money some the atm . i have to exchange some money . that s right . you re going away next week . i also want to see if my salary has been paid into my bank account . there was a problem last week . i have to pay my credit bill too . if i don t pay it soon , the credit card company will charge me interest . their interest rates are usually quite high . it s a good idea to pay off your credit card debts before they attract interest .',\n",
              " 'it s so relaxing , taking a walk in the country . the air is so fresh and clean . would you like to live in the country ? i m not sure i d like it . i can see a lot of advantage and disadvantage . the problem is that , for me , each advantage has its own disadvantage . what do you mean ? well , i hate the noise in the city , but i love being around lost of people . the problem is that you can t have lots of people and have peace and quiet . the two just don t go together . i see what you mean . i love being far away from a city , but i hate being so far away department stores and sports facilities . people can t have it both ways . if you live in the country , it is often less convenient . if you live in a city , it is noisy , but there s more to do . i would love to be surrounded by hills and streams . they re so much better to look at than concrete , rows of parked cars and tall buildings . i would love to hear the birds singing and feel the fresh breeze on my face . when the wind blows in the city , you get dust in your mouth and in your eyes . the view from the hill is so beautiful and relaxing . there s so sign of pollution . the village looks so peaceful . just remember that in that village there s nothing to do . there s not even a pub or restaurant . there s just one small shop with a poor selection of goods . you re right . i would have to travel to the city at least once a week to go shopping and see friends . i would hate living in the country !',\n",
              " 'hey mike . what are you doing ? nothing much . what are you up to ? i was just concerned about sam . he hasnt been himself lately . he took the civil service exam and failed . that sucks . he must feel depressed . yeah . hes been sitting in his room everyday for the last 4 days . why dont we take him out ? we can try to take his mind off of it . in the least show him that were there for him . thats a great idea . why dont you call him . i already talked to him a couple of times and it might be good for him to hear from somebody else . ok . ill call you back after im done . sounds good .',\n",
              " 'did you hear peter just retired ? are you sure ? he is quite young , isnt he ? he is not young as he looks . i think hes almost sixty . really ? he looks so young .',\n",
              " 'hello , steven . congratulations ! thank you . hows your married life ? were happy together now . we both think that were a wellmatched couple . thats very good . its said that marriage is the ab of love . but the words may not be right . the situation differs in person .',\n",
              " 'we have waited for a long time . when will we start ? take it easy . i have to cut my losses .',\n",
              " 'are you working overtime again ? over the last two weeks , you have worked overtime every day without a break ! your company is draining the life out of you ! i know , but i dont have a choice , my boss has complete control over our work schedules . i havent made it out of the office before 9 pm a single day this week . well , i hope theyre paying you the big bucks for all this work . . . no , not exactly , im working for minimum wage . and they dont give extra pay for overtime . overtime is our own time . what ? ! isnt there a law against that , i think there is some legislation that requires employers to give their employees a fair rate of wages . you should know your rights ! if you are putting in so many hours , they should give you some kind of compensation . they do give bonuses at the end of the year for the employees with highest productivity numbers , but frankly , its not much of an incentive . they give us a bonus of ten dollars . thats just wrong ! why dont you just quit ? i would , but im afraid i wouldt be able to find another job . i dont have very many job marketable skills , there arent so many jobs that im qualified for . it sounds like any job will be better than the one you have now !',\n",
              " 'the tranquility of the night , the chirping of some insects , everything is so natural ! i felt as if i had been in a different world . and i was overwhelmed by this scene , too .',\n",
              " 'id like to reserve a table for three at 630 this evening . let me check . hold on , please . . . yes , thats fine . smoking or nonsmoking area ? nonsmoking , please . all right . may i have your name ? my surname is gao . how do you spell it , sir ?',\n",
              " 'ok . come back into the classroom , class . does the class start again , mam ? yes , but to the health , this break has long enough . oh , breaktime flies . come on , baby . it s time now . mam , another minute , could i ? hurry up , little boy .',\n",
              " 'why are you so upset today , maria ? cheer up ! oh , iris , it s about the job with the pr company . it s a great opportunity . you should be happy with the offer . but my mother won t allow me to accept any parttime job . i m afraid she will say no again . why ? it s unfair . you can learn a lot from it . she says a parttime job is cursed blessing . it takes so much time and energy that i won t be able to focus on my studys . that may be true . but i m sure you re able to find a balance between them . why not try it ? i turned down quite a few offers before for her sake . but i m a senior now , i don t want to miss the chance this time . i agree with you but i think you really need to talk to your mother and tell her whats on your mind . i ll try , but what if she insists ? just let her know that the experience will be both amazing and rewarding . and more importantly , you can manage both your study and the job . do you think it will work ? sure . every cloud has its silver lining . just try . ok , i ll do that . thank you , iris . sure . good luck , maria !',\n",
              " 'where did you go yesterday ? i went to play tennis in the public park . how often do you play tennis ? twice a week . how about you ? i seldom play tennis . i prefer football and basketball . what is very difficult to gather team player together . i usually play with my schoolmates . do you like watching football matches ? yes . i went to tinge sport centre for football match last sunday .',\n",
              " 'why are you all dressed up ? ive got a date .',\n",
              " 'i m sick of my job , i always have to work late at night , and the company keeps me working in the office . why don t you find a new career where you can do what you enjoy , being outside working during the day ? what do you suggest ? i can t afford to quit my job until i get a new one . maybe you have two choices . you could attend school during the day , or you could get a position that provides training .',\n",
              " 'i saw an interesting program on tv last night . it was about elderly people . and what did the program say ? it said that people with a positive attitude tend to live longer and happier . i think that many physicians now agree with that idea . and the tv program also said that physical exercise helps people deal with stress . and the most active older people seem to enjoy some kind of physical exercise . my father is over 60 years old , and he lifts weights every day .',\n",
              " 'saying you want to kill yourself , you terrified me out of my wits . i was playing a joke on you . that s too much . dear , forgive me . i won t do that again .',\n",
              " 'where are you going this weekend ? i m going to hainan . oh really ? it ll be nice and warm there . have you been there before ? yes , actually it s my second visit . i was there last october . i see . what s it like there ? well , the life style is much more relaxed than here in the city . and the seafood is tastier ! well , have a great time !',\n",
              " 'hurry up , daniel , its barbie time . all right , sis ! come on , its cool outside . i really wish mom and dad were here with us . hey , daniel , whats your favorite weather ? snowy or sunny ? me ? er , i like hot weather , just like today . what ? are you crazy ? i like to watch barbie sticking her tongue out . ew , danny , gross ! by the way , whats your favorite weather ? i love snowy , because it is very very romantic . look , is that tom ?',\n",
              " 'my girlfriend dumped me . well , thats life .',\n",
              " 'did roll win the race ? yeah , he did . but he only won it by a hairs breadth . but anyway , he won at last . yeah . to win is the most important thing .',\n",
              " 'whats this then ? its my geography , sir . the map of africa you set us . but this should have been handed in last thursday . yes , i know , sir . im sorry . well , whats your excuse then ? my mothers been ill and i had to stay at home . oh , yes ? its true , sir .',\n",
              " 'hey , this is your order . are you new here ? i come to this coffeehouse often . but i didnt see you here before . yes . i started this parttime job just three days ago . and my internship will last 1 week . im still a student now . do you mind if i ask you why youve taken the parttime job here ? of course not . you know , there are many foreign customers like you here . and i think its good for me to improve my oral english . oh , are you an english student ? or you just study english for interests sake ? no , im not an english student . but i do like english . im going to be a volunteer in the 2008 olympics where i want to be helpful with the language . so i try to improve my english . very nice . thank you for your time . thank you , sir . but im not allowed to accept any tips . ok then . i dont want to put you in trouble . well , would you like something else ? the newmade cafe parfait is really good . want some ? ok . but id like some cookies . sure . if you want more coffee , please go over there . there is selfhelp coffee maker . i surely know that . dont forget that i am a regular customer here . oops . well , wait for a while . well get it done quickly . its ok . thank you .',\n",
              " 'do you think the bad weather will last long ? i dont think so . it changes so quickly this time . i hope so . we have planed to visit the square but we have to cancel it . i think you can go to visit the museum . its worth seeing . you can go to the square some other time . good idea . thanks a billion .',\n",
              " 'lets go in . after you .',\n",
              " 'could you tell me what university you want to go to , john ? pardon ? what university would you enter ? university ? why ? you asked me last year . oh , i forget . sorry . i went to harvard university . did you ? and what course did you take there ? god save me ! is there anything wrong with you ? didnt i tell you ? ive not known . perhaps , ive got a bad memory . i did a b . a . in economics . remember ? terrific ! b . a . , again and againb . a .',\n",
              " 'i think he deserved his gold . did you see his last dive ? yes , its perfect ! hes diving for the gold .',\n",
              " 'you are studying here , aren t you ? yes . i have been here for three years . do you like this campus ? well . i m rather disappointed with it . how come ? it s too old . and it isn t as specious as i expected . oh . it s awful , but it can t be helped . i ll just have to put up with it .',\n",
              " 'how i wish my son mark could be as excellent as your joe ! don t be too humble . few young men could be equal to mark . and in some respects joe and mark are neck and neck . i agree . both joe and mark are men of guts .',\n",
              " 'hi mark . hi . what are you planning to do today ? im not sure yet . would you like to have lunch with me ? yes . when ? is 1130 am ok ? sorry , i didnt hear you . can you say that again please ? i said , 1130 am . oh , im busy then . can we meet a little later ? ok , how about 1230 pm ? ok . where ? how about bills seafood restaurant ? oh , where is that ? its on 7th street . ok , ill meet you there .',\n",
              " 'how have you been ? fine , thanks . how about you ?',\n",
              " 'hi , monica , congratulations ! your presentation at the meeting was very successful and everyone was impressed by your speech . and it was so persuasive and i bet our clients will be convinced to invest their money in this project . you really made a big contribution to our company . thank you , i just tried my best . i am very happy to know you like it . you must have been prepared for a long time . some statistics in this presentation are not easy to find , right ? well , yes . several colleagues from different departments helped me with that . they are very supportive . i consulted an economic expert last week . he was very kind to give valuable suggestions . now , the effort pays off . you have accomplished something . come on , don t flatter me anymore . i took the job because i love being challenged . but i can t get this turned around without the support from you people .',\n",
              " 'i hate to say goodbye , but its late . cant you stay for a little bit longer , its only 8 . i wish i could . but im afraid i cant . ive got some serious studying to do . i have to go . ok . see you on today . see you on moday . have a great weekend . you too . thanks for dropping in .',\n",
              " 'are you really dating with frank ? yeah . but in my heart of hearts , i find he s not very much to my liking . then why not keep away from him ? the problem is that i just have no one to turn to right now . that s stupid .',\n",
              " 'hi , jim . how are you ? i havent seen you for a while . im fine . ive been out of town . i just got back . where were you ? i was in new york for a wedding .',\n",
              " 'what do you think of the novel you just finished reading ? i like it a lot . it has a very funny beginning , i think . it attracts your attention the moment you begin reading it . what do you like best about it ? i like the plot . its so full of twists and turns . i also like the main character . she is so humorous and smart . what do you think of the ending ? the ending is a bit weak . its so abrupt , like those of most other detective stories .',\n",
              " 'quite a few times , i had my back to the wall . really ? generally they will turn out to be a good thing . that s right . you ll exert all your energy and get out of it .',\n",
              " 'is that your phone ? yes , its my new business phone . do you like it ? its very impressive . can you use the internet on your phone ? yes , its got wireless internet access . thats really convenient . does it have the bluetooth ? yes , but i dont really use it often . have you ever used it ? no , but i think itd be really great for people like you who are always on the go . yes , i guess i should try to use it .',\n",
              " 'good morning , mary ! good morning , john ! i want to have a few friends over for a dinner party to celebrate my birthday . would you be able to come the next weekend on saturday ? id be delighted to , john . saturday did you say ? yes , if thats all right for you . im pretty sure ill be all right . in fact , id be delighted to come over and celebrate your birthday with you . what time are you planning to start ? oh , good . if you could come around six thirty or seven oclock , that would give us some time to chat a whit over a glass of wine before dinner . that sounds fine . ill be there around seven .',\n",
              " 'dont worry . im sure youll do better next time . i didnt realize it was so difficult though i know im always too nervous in such competition . it doesnt matter . forget it . i dont think i performed well . oh ! thats much hetter than i did . can you tell me how to improve myself ? theres no secret at all . the only thing for you to do is to practice more . you will succeed . thank you for your encouragement . its a pleasure . come on . im on your side .',\n",
              " 'i just dropped in to say goodbye . what time are you leaving ? ill leave at 10 oclock . take care and give my best to you parents . thank you , i will . hope to see you again next year .',\n",
              " 'come back . you havent paid yet . may , just let him go . but he took some newspaper away without paying . i know . why ? you make me confused . he lives nearby and he would just glance at the newspaper headlines , read the political sections and return them later . why does he have such a privilege ? he used to be a hero during the war time and everyone respect him . i see . does he live by himself ? yes , he has no children and his wife passed away when he was in the battle . he must be lonely ? i bet . but he is always busy telling the children stories . how respectable !',\n",
              " 'how may i help you ? i need to get on the internet . do you have your library card with you ? yes , i have it . you re going to have to wait for a computer . that s okay . please put your name on this list . then what do i need to do ? when there is a computer available , i will call you . what do i do to log on to the computer ? just type in the number on the back of your library card . okay . thanks for your help .',\n",
              " 'are you coming to the bridal shower for jane ? yes , i am . when is the wedding ? aug 8 . august bride . how nice ! by the way , who is going to be the matron of honor ? mrs . white . oh , yeah ? i wonder who is going to give jane away at the wedding . you know her father passed away several years ago . maybe her uncle will . i think so . the wedding will be held at her church , right ? right . red rochester will officiate at the wedding . do you know where they will go on their honeymoon ? yes , jane says they will go to china .',\n",
              " 'don t do that again . you are riding the tiger . no problem . i can deal with it well . you will ask for it . all is best now , isn t it ?',\n",
              " 'hurry up ! time is money ! dont build a fire under me . i know the importance of time . but you are too slow to follow them . dont you see im trying my best ?',\n",
              " 'watch out ! youll hit that car if youre not careful . oh no , i wont . but we will have an accident if you dont stop shouting . you see . i told you youd hit him if you werent careful . oh , shut up , will you ? it was all your fault . if youd kept quite this would never have happened . oh , so it was my fault , was it ? if i hadnt warned you in time it would have been much worse .',\n",
              " 'steve , you look pale . what happened ? i didnt sleep a wink last night . did you have something on your mind ? you look so concerned . maybe i can help you . well , i am under a lot of pressure . my boss is very pushy . he assigned me three projects . now the deadlines are near , and i still have not finished all of my projects . is there anything i can do to help you ? well , i guess no one can help me but myself . for the moment , i just need someone to talk to , so that i can relieve my stress .',\n",
              " 'lodge , you must come around sometime , you have to check out my mew stereo . sure , when is good time for you ? can you make it on tuesday ? what time do you want me there ? anytime after six will be fine . all right , its a date .',\n",
              " 'my friend jean is very beautiful . whats her figure ? perfect , and i like her charming eyes too . whats the color of her eyes ? dark blue .',\n",
              " 'what s the life expectancy in your country ? i m not sure , but probably about 75 years . how about in your country ? about 70 , i think . this newspaper article talks about the problems of an aging population . it s a problem that will soon affect most of the world . i heard that the government might need to increase the retirement age , because otherwise there will not be enough workers to support the young and the elderly . perhaps we need to have more babies ! tina gave birth to a baby boy yesterday . did she ? that s great . however , if we have too many children , that will have a bad effect on the enviroment . how s your son these days ? oh , he s fine . kids seem to grow up very quickly nowadays . he ll be a teenager before you know it ! teenagers are often rebellious ! when do you think it is a good age to have a child ? i had mine when i was 24 . that s a little young . i d suggest you wait until you are in your late twenties . , or even in your early thirties if you have a good career . yes , i think you re right . i m thinking about having a child , but not just yet . is there a big generation gap between parents and their children in you country ? yes , there is . teenagers do not want to live traditional lives . they want to go out , have fun , and explore the world . they want to develop their own view of life . parents usually try to discourage them , but they don t often succeed . parents usually give their children more freedom in my country . sometimes they give them too much freedom . it s almost impossible to get the right balance . if you are too strict , kids might ignore you . if you are too lenient , they might go wild .',\n",
              " 'hey mike . i forgot about registration . im a day late , so all the classes are mostly full . what do you think i should do ? youre screwed . you cant do anything about that . you have to hope that you get some classes that will be useful . do you think going to the registration building will help at all ? no . they will tell you the same thing in a worse way . did you register yet ? of course . registering for classes is not something you want to miss . what classes do you think are still open ? well , i know psychology 101 is a big class , so there will always be seats in that class . you can also get into sociology . thats helpful . thanks . but what do you think about philosophy . i wanted to take that class this semester . i took that class last year . the professor is really cool , so if you go to his office , you can have him sign a card that will let you in even if the class is full . he does that ? i guess thats because so many people drop out of that class . that makes sense . i think ill do that . thanks for all the help . no problem , man .',\n",
              " 'thanks for helping me move into my new house . any time . im just glad i could help .',\n",
              " 'ive been so stressed these days . whats the matter ? are you ok ? i dont know where to go for college , and what to major in . dont worry . you have plenty of time to decide . and i also want to get scholarships to help me pay for the tuition . i want to get the burden off my family . you always worry too much about everything . take it easy , honey . you are good enough . you can go to the ideal college . ok , ok . im so sorry . by the way , for you , is it more important to make money or to enjoy your work ? in a perfect world , i would enjoy my work if i do not have to do much , and make lots of money ! ok , honey , stop dreaming . you should face the reality . thats only a joke . to be honest , i have to improve my english , because my english is not good enough . i still get confused about some simple grammars . since you are quite good at it , do you have any suggestions ? en , first you should be concentrated on what the teacher said in class . second , i suggest you to take an additional course in some training center . is the training center helpful ? i think so . because ive taken one to improve my oral english during summer vacation .',\n",
              " 'im glad we live in a small town . why ? because the houses look so nice at christmas time . yes , they do . do you have a christmas tree this year ? yes , we have a big tree this year . i bought the decorations at the fiveandtencent store yesterday . do you want to come and see it ? i cant now because i have to buy a present for my mother . when can you come ? i dont know when i can come . ill let you know later .',\n",
              " 'you know , smoking does do harm to your health . yes , youre right . why dont you try to give it up ? ive tried to give up smoking several times , but its no good . smoking relaxes me . have you ever thought of just cutting down ? you could do it gradually . yes , maybe i should have another try .',\n",
              " 'hello , jim . what was the film like ? awful . it was a complete waste of time . why ? what was it about ? it was about a married couple . they had to live with the wifes mother , because they didnt have enough money to buy a house of their own . a lot of young people have to do that . yes . but the husband had to work overtime three times a week , so he was always tired . lt sounds like the story of my life . yes , it does , doesnt it ? but this man was always overtired , and he couldnt sleep . so he used to take two sleeping pill every night . i take sleeping pills sometimes . yes , but not two every night . anyway , the strain was too much for him . he had nervous breakdown and had to go to hospital . it sounds a very depressing film . not really . his wife was able to find a good job as an interpreter , because she could speak french and german fluently . after a few months work , she had a better job than her husband . so in the end , i dont know . my wife used to speak french . i must tell her to brush it up .',\n",
              " 'would you like to stretch your legs ? sure . lets get a soft drink . do we have enough time ? its a fifteenminute intermission . the seats are excellent . were right in the center . its a new concert hall and the acoustics are great . i cant agree more . is this your first time to come to a symphony concert ? in the united states , yes . but back in china , i went to concerts a couple of times with my parents . do you have large concert halls in your city ? we have two . one is like this one . the other is a little smaller . thats great . well , wed better get back to our seats . its about to start .',\n",
              " 'may i help you ? what time will the library be closing ? it closes at six . does it always close at six ? no , not every day . will the library be open on saturday ? absolutely . what are your hours on saturday ? saturday s hours are from nine in the morning to sixthirty at night . all right . thank you . what else can i help you with ? that s it . thank you .',\n",
              " 'whose part do you think is best played ? that of the old man . youre absolutely right ! thats the very figure i like best . some of the scenes moved me into tears .',\n",
              " 'vince , i think one of your programmers is spying on us for webtracker . pardon ? i wont say who , because im not sure yet . but ill know soon . zina , i hope youre not scheming to make elvin look bad . it isnt elvin . dave then ? dave is a spy for webtracker ? you cant be serious . loan me that tape recorder you have . and dont say anything to anyone until i come back .',\n",
              " 'hello , zhang lin ! fancy meeting you here ! hi , lin tao . i havet seen you for some time . hows life going , zhang lin ? yes , the same as ever , thanks . what about you ? pretty good , thanks . im going to see my uncle . good bye then , and keep in touch . good bye .',\n",
              " 'fixing computer isn t my cup of tea . you can leave this job to jason . yeah , he has a good commend of computer skills . but . . . but what ? but he is always talking big .',\n",
              " 'what a great weekend that was ! my feelings exactly . i really enjoy the beach in the summer . i couldnt agree with you more . we should come here more often . you are absolutely right . id like to come back next weekend . thats exactly the way i feel .',\n",
              " 'aren t you going to swim ? are you kidding ? dont you know i cant swim ? you are not telling me that we drove 50 miles to come here for just sunbath , are you ? hey , dont shout . come here ! sit closer . now , jim , we ve had a lovely day . dont spoil it now . what about your beautiful bathing suit ? we shopped all day . dont you want to show it off ? everybody who walks past me sees it . besides , its a good sunbathing suit . all right . suit yourself . i am going swimming . jim ! yes ? can you get me a beach umbrella and a deck chair ? i am really tired of lying in thousand . ive got a better idea . why don t we hire a boat and go for a ride ? what do you think ? are you serious ? that will be wonderful !',\n",
              " 'how dare you accuse me of stealing your computer ? im sorry , but you were the only one who had access to it .',\n",
              " 'the flood will come on the heels of the heavy rain . i wonder if the municipal government will take some preventive measures . i m sure they will .',\n",
              " 'adam , could you show me around the school ? no problem . whats the tallest building ? you mean the white building near the playground ? yes . that is the library . and it has more than 1 , 000 , 000 books . whats the building to the south of the library ? you know , our school is divided into two parts , the junior high school and the senior high school . that is the new classroom building for our senior high school . is there a swimming pool in your school ? yes . there is a large swimming pool , but it is only available in summer . i do envy you . and i hope i can enter your school one day . i believe that you can make your dream come true .',\n",
              " 'television is undoubtedly a great invention , but one of the main criticisms of it is that people just arent selective enough . lesley , got a television . how do you pick out the sorts ofprogrammes you want to watch ? i try and look at the programmes that are on to decide which particular ones interest me , rather than you turning it on a seven oclock and you leaving it on until halfpast eleven when the programmes finish . do you think of television though as a great timewaster ? un . . . i think it can be a timewaster and it depends on how particular people are about what they want to see . . . mm , it can just be a sort total amusement for someone and totally consuming without reallyconsidering what it is theyre watching . aha , but how do you prevent it coming into your life and taking oversour evenings and at the same time perhaps get . . . get out of thetelevision some of the sort of best things . . . best programmes that . . . that undoubtedly are on television ? well , i suppose one of the problems is . . . will depend on what a persons life style is , and that if he has other outside interests which are equally important to him as television , he will then , you know , hmm . be more careful about which programme she wants to watch because he has time which he wants to use for other things . do you think though that . . . that in . . . in a sense television skilled peoples own er . . . sort of , creativity or their ability entertain themselves because if theyre bored all they do is justturn on the television ? yes , i think that is a danger , and i think that . . in fact is what mishappening to a lot of people who use it as their . . . their main . . . um field of amusement and . . . because they dont have other outside interests and even when people come round theyll leave the television and not be , you know , particularly interested in talking to them , you know the television will be the main thing in the room .',\n",
              " 'dont be shy . have some more chicken . thanks .',\n",
              " 'i feel pity for the old man . i feel the same way . it must be dreadful to grow old . yeah . he has no one to count on .',\n",
              " 'im going to see the doctor this weekend . whats your trouble ? i think i need a thorough checkup . i got it .',\n",
              " 'professor , i am going to need to leave class early today . what is the problem ? i need to go to the airport to pick up a relative . are you planning on having someone take notes for you ? yes , ive got that part covered . when , exactly do you need to leave ? i dont need to leave until the very end of class . fine , but next time try and not have to miss class again . thanks , professor . see you later ! see you later ! drive carefully .',\n",
              " 'im going to try sky diving this weekend . i wouldnt do it if i were you . its sounds like fun . its very dangerous , you know . i want to try something exciting . its an easy way to get hurt , let me tell you . ill tell you all about it next monday . well , take care of yourself , and dont say i didnt warn you .',\n",
              " 'does he know that he has already at his wits end ? i think he has realized that . but he is still whistling in the dark by putting up an act . he might be driven up a wall . you should not handle your relation with him with kid gloves . but when i noticed that he was left in the cold , i could not help wanting to help him to get out of the situation .',\n",
              " 'i visited the famous variety show host , dennis . whats he like ? oh , hes a very serious person . you must feel very uneasy at his home .',\n",
              " 'hi ! my name is mike . hi ! im nancy . nice to meet you . nice to meet you , too . where are you from ? im from shanghai . and you ? im from chicago .',\n",
              " 'why do you go fishing so often ? its fun .',\n",
              " 'hi , cindy . i thought i d missed you . oh , i am very sorry , hans . thank you for waiting for me . you must have been here a long time already . it s all right . i was caught in the heavy rain , or i would have come earlier . i am sorry i kept you waiting . i was in a comfortable place , so really , it s no problem . i am happy to see you . did the rain hold you up long ? yes . when i came out of the subway , it was raining cats and dogs . and i forgot my umbrella . so i had to wait for the rain to let up . i totally understand .',\n",
              " 'good morning , jim ! good morning , emma ! a lovely day , isnt it ? yes , it is . the sun is shining . there is no wind , only a pleasant breeze . it is the best season for a picnic right now . have you decided the place for your picnic ? we have decided to go to the park this sunday . would you like to go with us if you have not decided yet ? what did the whetherman say ? he s predicting clear skies . well , i will think it over .',\n",
              " 'come in , come in , what can i do for you ? professor donald , are you giving your advanced geology course again next semester ? yes , i am applying on it . i wonder if i could enroll in it . i know it is a graduate course and i m a junior , but . . . arent you a bit young ? i have a lot of qualified seniors to take the course and they usually have a hard time keeping up . i know , but the geology of the american west is my major interest and i have done a large reading in the field . well , if you think you are ready , ill let you enroll . oh , thanks , professor donald . this is really very nice of you .',\n",
              " 'management is going through a big turnover these days . with bills retirement , and department realignment , we have lost about 13 of our managerial staff . theyve been dropping like flies . . . isnt that a good thing ? having fewer bosses means having less stress , dont you think ? actually , i dont think so . supervisors are really important to make sure everything goes smoothly in the workplace . they are necessary for divvying up work and disciplining employees . if there is no one to keep an eye on us , no one would get any work done . you know what they say , when the cats away , the mice play . youre right , we do need leadership . but what we dont need is too many people to lead us . you know what they say about too many chiefs and not enough indians . . . alright . . . i get your point .',\n",
              " 'how do you like your job here , linda ? its interesting , i like being an editor . why ? i like talking to writers , i get to meet a lot of interesting people . im happy to hear that , but publishing is more than just talking to writers . it involves a lot of work , patience and responsibility . most of the work is boring . i dont feel bored at all . im getting along with my colleagues . i will enjoy working with them . people are great in this industry . do you have any complaints ? no , i have no complaints . i hear there are many opportunities to move up in this company . is that true ? yes , you have many opportunities to grow in this company as long as you do well . thats perfect . i will definitely do well .',\n",
              " 'i dont think weve met . no , i dont think we have . my name is dick brown . how do you do ? mr . brown . i am susan heywood . mr . smith often talked about you . really ? i am glad to meet you . im honored to know you .',\n",
              " 'why don t you sit down and relax , darling ? i don t want to . well , come and talk to me then . certainly not . may i turn on the radio then ? turn on the radio ? what for ? so that we can sit down together and listen to some music . listen to some music ? and who ll cook dinner ? will you ? ok , i will . but let s go to a disco after dinner . to a disco ? oh , no . you know i hate pop .',\n",
              " 'david , why dont you clean your room ? i am not in the mood . why are you feeling depress ? i was told my girlfriend was speaking ill of me . its a real letdown . i dont think she would do such a thing . but she did and it made me disappointed . oh , cheer up ! a girlfriend is not everything . but she means a lot to me . then forgive her mistake . oh , i just cant forget it .',\n",
              " 'my sister was taken to the hospital yesterday what happened ? she was hit by a car . luckily , she wasnt seriously hurt . lets buy some flowers , and pay her a visit well have to hurry ; visiting hours will be over soon ok . lets go',\n",
              " 'what are the good sights to see in beijing ? well , i know you are interested in architecture , so you shouldt miss the temple of heaven , and the great wall is a must too .',\n",
              " 'hello , let me introduce myself . im your new neighbor . my name is andy . hi , andy . im judy . its nice meeting you . nice meeting you , too . come over and visit when you have time . thanks for the invitation . i will !',\n",
              " 'what do you do when you are angry ? i usually calm down first and think about the reason that caused my anger . that s smart . what do you usually do to relieve your anger ? something like listening to music is a good idea . oh , what kind of music do you listen to ? classic . something that could calm your mind . i think that might work for me as well . working out is another good way to relieve anger . like what ? jogging , yoga , or even just taking a walk .',\n",
              " 'im sorry , but i cant come to your party . what a shame !',\n",
              " 'taylor , youre sweating up a storm ! your boyfriend , bryan , wanted to toss the football . i think he wore me out . yeah , you look a little shaky . and pale . you seriously need some time in the sun . youre like the tenth person to say that . were just worried about you , taylor . whatever . i wish people would just leave me alone !',\n",
              " 'she is so stupid . who cares ? she is pretty . so what ? youre just jealous .',\n",
              " 'mrs . smith , time has stood still with you ! thank you . you re partial . im not flattering you . you re full of energy every day . its nice to hear that anyway .',\n",
              " 'what a police officer ! i ve never seem such a scene either except in films . it s really unimaginable . the police officer screamed at the driver and used bad language , but the driver took it on the chin .',\n",
              " 'in my wedding ceremony , where do my parents sit in the church ? the brides parents seating arrangement is on the left side of the aisle and the grooms parents is on the right side . do friends of the bride always sit on one side of the church and friends of the groom on the other ? they usually do .',\n",
              " 'hi , mary ! youre here already . wheres harry ? he isnt a punctual person . we may have to wait for a little while . that should give us time for a cup of coffee . ill go and get some . make it three cups . here comes harry .',\n",
              " 'why did the teacher criticise myra in front of the whole class ? because myra was cheating on exams . and she spoke back rudely . i dont think that myra should have spoken so rudely to the teacher . i know she was angry , but thats still no excuse for rudeness .',\n",
              " 'is your city a historical place ? not rally . 200 years ago , it was just a small insignificant village . how did it grow into such a large place ? large deposits of coal were found nearly and so many industries located themselves here . the village quickly grew into a key industrial centre . as the city grew , it must have absorbed many village nearby . yes , it did . the names of those village survive as the names of parts of the city . i see . are there any building more than 200 years old in your city ? oh , yes . several of the buildings from the villages still survive . many of them were inns for travelers and today survive as pubs . there was a castle near one village , so our city has a castle too . really ? so your city does have some old history after all .',\n",
              " 'what is wrong with your face ? my brother did it . why ? i laughed up my sleeves at him . he s seen his girlfriend off at the airport and had lipstick on his face and did not know it .',\n",
              " 'hows jerrys new school ? very nice . he gets along with his classmates very well . hes a team player . yes , indeed .',\n",
              " 'how many people are there in your family ? five . my father , mother , brother , sisterinlaw and me . is your brother older or younger than you ? he is five years older than me , he got married last sunday . my brother and my sisterinlaw are the same age .',\n",
              " 'whats the problem ? you dont look happy . i failed my oral test . how come ? im not practicing enough . why dont you go to the english corner to talk to your classmates in english quite often ? when i talk to chinese , i always want to speak chinese . you should always keep in mind , the more you practice , the better english you can speak .',\n",
              " 'it s dangerous . i don t dare to go . come on . it s quite safe . you really have no guts .',\n",
              " 'did you get the car you wanted ? no . someone had stolen a march on me and bought it . what about the car over there ? it is marvelous , and the price is marvelous , as well .',\n",
              " 'how may i help you ? i want to return this video . is that all you need ? i also need to check this magazine out . you re not allowed to do that . i don t understand . it s our policy . what can i check out ? only books or videos . i need this magazine . you will have to read it here . that s weird .',\n",
              " 'have you heard the news ? no . what happened ?',\n",
              " 'such bad luck , 200 yuan was stolen by a thief on the bus today . dont be angry , you lose money just to avoid misfortune . well , you can just comfort yourself like that .',\n",
              " 'ok , so who are we going to invite to our dinner party ? well , we have the thompsons , the greens , and the anderson , about twelve people total . dont forget my friend andy from the office . he has nothing to do on friday , so i invited him over . but that makes thirteen people ! we cant have thirteen people for dinner on friday ! why cant we ? its an old superstition . if we have thirteen people at the table , then it means bad luck . can andy bring a date ? im not sure . he just broke up with his girlfriend recently , and i dont think hes in the mood to start again so soon . but we cant have thirteen for dinner ! i think youre making a mountain out of a molehill . its only a superstition . it really doesnt mean anything . absolutely not ! i refuse to have thirteen people for dinner on friday ! ok , ok . ill ask my sister to come . that way well have fourteen for dinner . thats better .',\n",
              " 'hello , 8520388 2 . hi , this is maria . is that shirley ? hi , maria , this is shirley . shirley , do you know todays homework from our economic law class ? i have written it on a piece of paper but i cant find it now . hold on for a moment please . im fetching my textbook . ok . oh , the homework is to explain what economic law is both in broad sense and in narrow sense . explain the economic law ? an essay question again ? yes . you can use your textbook for your reference . are there any clear answers in the book to this question ? i dont think so , maria , but i think you can look for information on the internet . ok , thank you , shirley . you are very helpful . i have another question . when does the economic law of china come into effect ? oh , there isnt such a code called economic law . the economic law of china is a general concept for several laws . there isnt such a code ? yes , its a general name for several laws related to economics , like commercial law , and law of central bank . got it . thank you , shirley .',\n",
              " 'i just dropped in to say goodbye . what time are you leaving ? i ll leave at ten o clock . take care , and give my best to your parents . thank you , i will . hope to see you again next year .',\n",
              " 'the performance is amazing . im curious about how they did it . i mean the way they sing . they must have practiced a lot . the perseverance has made them they are today . so cool . someone gave me this flier at the exit . whats it about ? let me have a look . well , it lists some shows that will be on next week . oh , tell me about it . anything interesting ? hmm . . . oh , this one , the drunken beauty . this is a real classic . the drunken beauty ? its funny that we have sleeping beauty in my country . anyway , whats it about ? is the beauty a drunkard ? of course not . she was said to be the most beautiful woman in her time and that made her become the queen . they play was famous for its singing and dancing . sure , people do that when they are drunk . what about the actress ? she is an opera star in china . her teachers teacher is mei landfang . oh , ive heard about him before . he even created a special dance of sleeve shaking . you are such an expert on it . i dont know that . you know , interest is the best teacher . so , want me to book the tickets again ? please do that . i cant wait to come back again . the performance must be really amazing . we can do that if you like . maybe next weekend . that will be great .',\n",
              " 'that was heaven ! the sea water treatments are supposed to be really good for you . really ? but the water has to be kept at 34 degrees so that the minerals can be absorbed by your body . well , whatever it does , i feel transformed !',\n",
              " 'you got a letter in the mail . give it to me . what is it ? it s from nyu . what does it say ? i didn t get accepted . you can t be serious ! i m serious . are you all right ? nyu was my first choice . i m sorry that you didn t get in . i ll just have to wait for ucla .',\n",
              " 'what are you going to do for one year abroad , tom ? study , study , study . i want to learn a lot . you are going to take courses ? yes . i am going to take some university courses there . sounds hard . yes , but i think its probably for the best . wont you get lonely ? hey , i am a pretty cool guy . i will make friends , and ill have a lot of extracurricular activities too . you know , like fencing , or theater or something .',\n",
              " 'i went shopping without my umbrella yesterday morning . yesterday morning was beautiful i thought the sunning was going to continue . so did i . thats why i didnt take my umbrella . i got cold in the rain in the afternoon . it was raining cats and dogs . i know . i could not believe it when i got hit by that storm . it was pouring with rain all afternoon . we really have some miserable weather sometime . i wish i would live somewhere which were sunning all year round . if it was sunning all year round there would be drought . you probably would not like it either . i guess you are right . maybe i just wish the weather could be a little more predictable . the weather forecasters are not good at predicting the weather would be like . our weather is so changeable .',\n",
              " 'those guys work at the same company and go to the same bars . they do everything together . birds of a feather flock together .',\n",
              " 'what s your new job like ? oh , it s fine . i ve got a very nice secretary and a large pleasant office . um . and a company car . very nice . yes , it is . but i ve got a lot of work too . well , that s life , isn t it ?',\n",
              " 'what a surprise meeting you here , landy . i m here as a tourist . it s a small world , isn t it ? yes , it s a small world . we never know where we ll meet someone we know .',\n",
              " 'so youre traveling around the world , arent you . thats right when did you arrive here ? last night did you have a good journey ? yes , i enjoyed it very much . where have you been on this trip ? let me see . ah , yes , ive been to england , france , germany , italy and now ive been in spain really ? how long will your holiday last ? two weeks all these countries in two weeks ? thats right',\n",
              " 'please do excuse me for a moment . ive got diarrhea . its easy to get loose bowels in summer . it may have something to do with the food i had last night you ve got to be careful on the food you eat . i will . thank you .',\n",
              " 'hi mary , hows it going ? well , last night i had a big argument with ann . terrible . it must be something serious . you two are such close friends . now that i look back at it , it wasnt that big a deal . i shouldnt have lost my temper . really ? what happened ? its just weve been planning to go the beach for a while , and we decided we could both make it this weekend . then out of nowhere she called me up , said her boyfriend had made plans and that she need to cancel the trip . i was so angry when she told me that i said she didnt care about our friendship at all . thats pretty harsh . i know , but i was so upset . i mean , come on ! does she have to do everything her boyfriend says ? you know she probably feels just as bad . well , i think i was being a little selfish myself . i know they dont get to see each other very often . well , in that case i guess maybe you can be more understanding . you shouldnt let a trivial thing like this stand in the way of your friendship . after all you can go to the beach anytime you want . yeah , ill call later to patch things up .',\n",
              " 'i cant bear you anymore . i am sick of your drinking . i am divorcing you . dont do that to me , honey . give me a chance , please . i make a solemn promise never to drink alcohol again . how many chances should i give you ? ive given up on you ! have a heart , honey . you know i am trying hard to quit drinking , dont you ? just give me one more chance , please !',\n",
              " 'finally the class is over . be quick . ben must have been waiting for long . oh , i am so tired . my back is sore and my neck hurts . thats normal . you have been sitting for three hours , with your attention highly concentrated . you are wrong , shirley . i was always absentminded in the class . i meant to concentrate on the class , but i was just so tired . maybe i am old . no . you are just burning yourself out these days . have a good rest and you will feel energetic again . one of my friends took the adult college entrance exam last year . he filled the school column with his name , and his score was relinquished . how could he make such a silly mistake ? he said he hadnt taken any exams for ten years , and couldnt get used to it immediately . he was extremely nervous then . he lost a very good chance to go to college , didnt he ? yeah . the test was fairly easy and almost every testtaker could pass that exam . adult college entrance exam is much easier than college entrance exam . and there are fewer subjects . thats a very good lesson . we must familiarize ourselves with the exam from now on .',\n",
              " 'what did you do over the weekend ? i went a global warming rally . it was fantastic to be around so many people who care about the environment . do you think theres anything we can do to reverse the damage thats been done already ? it might not be possible to fix the problems that weve created for ourselves , but there are lots of things we can do to prevent more damages from happening . like what ? well , we can use public transport instead of taking our cars for a start . what else can we do to protect the environment ? if you do have to drive , you should make sure that your car runs on unleaded petrol . also , your home should use sources of renewable energy . how about recycling ? does that actually help ? yes . you should take your glass , paper , plastic , cardboard , and tin cans to a recycling center . what do you think the biggest worry for our future is ? i think that the issue of greatest concern is having enough sources of clean water for everyone . i had no idea you were such an environmentalist before ! to be honest , in order for the earth to continue to be a habitable place , were all going to have to become more interested in the environment .',\n",
              " 'merry christmas , bill ! merry christmas . steven ! what do you want to do to celebrate christmas ? ill have supper with my girlfriend and go shopping . what about you ? ill go to church first and then go to a christmas party . would you like to come ? id love to . but i am going to meet my girlfriend right now . see you later . see you .',\n",
              " 'so emily , what do you like to do for fun ? i like to go to the movies . what do you do in your free time ? i also like going to the movies . well thats great ! its nice that we have something in common .',\n",
              " 'who broke the glass , peter ? that cat . i was not born yesterday . it must be either you or adam . it s me , mum , i am sorry .',\n",
              " 'can you read what this says ? yes , and you could too if your hair wasnt hanging down in your face . dont dis my hair ! i like it like this . you like it , but its getting to be a handicap for you . hey , thats enough about my hair . i know a great hairdresser not far from here and she is cute too . i dont go to hairdressers because theyre cute . did i mention shes good at cutting hair too ?',\n",
              " 'hello , tony . fancy meeting you here . how are things going with you ? not too bad , thanks . and you ? pretty good ! how are your parents these days ? oh , they are fine . they are enjoying their retirement . oh , good . thats nice to hear . well , i am going to a football match . i need to go . say hi to your family for me . thanks , i will , byebye !',\n",
              " 'where should i sit ? why dont you sit in the back with me ? okay . by the way , whats your last name ? i forgot what it is . its lin . its spelled lin . rin ? my pronunciation is not very good . its lin , lin . i got it . mary lin . lin is a common chinese last name .',\n",
              " 'you re ready , right ? ready for what ? are you ready to transfer tomorrow ? yes . i am ready . you re not nervous ? of course i m nervous . what are you most nervous about ? i won t know anybody at that school . you shouldn t be nervous about that . why not ? meeting new people is a good thing . that s a good way to think about it .',\n",
              " 'what do you think of this one ? eh , so so . and this one ? too flashy ? nah , not too flashy . hug ! and this sweater from my aunt ? isn t it hideous ? i guess . are you even listening ? i m trying to have a conversation with you . and i m trying to watch the game , but you re yapping on about your new clothes ! well i have to decide which gifts to keep and which to exchange for better ones when i go to the boxing day sales this afternoon ! well could you do me the favor of making this quick ? it s the third quarter and you ve been blabbering on since the first ! oh , your precious game . you watch the same game every year , and each year your beloved hometown team loses by at least three goals ! oh no you didn t . you didn t just insult the salsbury seals , did you ? why don t you just . just go and return all of those stupid clothes and not come back until the sales are over ? i might just ! enjoy your stupid game ! and merry christmas ! merry christmas !',\n",
              " 'don t be worried . please sit down and take it easy . how could i feel easy ? i m really pissed . but you should avoid fingerpointing when you haven t got the real facts . ok . i ll try my best to calm down first .',\n",
              " 'hey , mike . youve been surfing the net for quite a while . what on earth are you searching for ? its something relative hackers . i often hear people talking about them , but i dont know much about them . well , roughly speaking , a hacker is a computer buff . you mean a guy using enthusiastic and knowledgeable about the computer ? you can say that . but why are people always having such a negative attitude towards them ? they must have mixed hackers with crackers . what is crackers then ? there is another group of people who loudly call themselves hackers , but they arent . they break into computers and break the phone system . real hackers call these people crackers , and want nothing to do with them . so they are two totally different concepts . well , the real hackers mostly think crackers are lazy , irresponsible and not very bright , and feel that being able to break security does make you a hacker any more than being able to start cars without keys makes you an automotive engineer . unfortunately , many journalists and writers have been fooled into using the word hacker to describe crackers . this irritates real hackers to no end . i see . then the basic different is , hackers build things , crackers break them . you got it . thanks a lot . you are welcome .',\n",
              " 'i dont have my homework today . you usually are good about turning it in ; what happened ? i was really sick . but couldnt you have done it when you felt better ? yes , i probably could . you have already missed one other assignment ; when can i expect the makeups ? next class meeting . that will be soon enough , but make sure you get next weeks assignment in as well , all right ? that would work for me . good . i know that you are capable of being an excellent student .',\n",
              " 'what are you reading about in that science magazine ? there are several interesting articles on recent scientific breakthroughs . i just finished reading one about cloning . i m not sure i like the idea of that . i don t want people copying me or other people . it could be very confusing . according to the article , you have no real need to worry . research nowadays is focussing on cloning parts of a human body to replace damaged or lost parts , not on recreating a whole human . in the future , that could be possible . in this article , scientists say that if you took the genes from someone and tried to create a copy of a person , there s no guarantee that the copy would look or act like the original ! really ? what else have you discovered ? i read about how scientists are using material from plants and animals to create new medicines . for example , an animal be immune to disease that affects human . so , scientists find out why it s immune that s great , because it uses natural materials rather than ones that scientists make themselves . i prefer natural remedies to manmade ones .',\n",
              " 'thanks for helping me up . are you ok ? i didnt mean to put you in danger . im the hazardous one here . i made three people fall over ! that takes talent . . . im so humiliated ! whats that man saying ? everyones laughing ! he said you obviously prefer greek comedies to greek tragedies .',\n",
              " 'how was the party yesterday ? did you enjoy it ? oh , dont talk to me about yesterday ! it was the most awful evening ive ever had . why ! what happened ? well . john had promised to be my date , but he stood me up . i waited for a full hour in the cold wind . so how long did you stay ? i left after the opening dance . i couldnt wait to get out of there .',\n",
              " 'what is the most unexpected thing you experienced in space ? i wasnt quite prepared for the view of the earth as we left . it was just aweinspiring . it emerged from just a slightly curved horizon to a whole earth , where you could look across oceans and continents in a single glance . i wasnt quite prepared for that . its inevitably etched in my memory . when viewing the earth from space , do you feel detached from humanity or more a part of the totality of humankind ? detached . youre literally detached from one planet , captured by another . your only link to reality is the earth out there ; fortunate 1y , it stays in view the whole time . therere a lot of suspicions that the international space station is never going to become reality . is it going to be some future project that never happens ? i believe its certainly for real . it without question has suffered a lot of delays . but theres hardware sitting on the pad right now and its due to go off in december . it is a reality . it has just taken longer to get literally off the ground . there were a lot of talks during the bush administration about a not too distant future mars mission . it seemed to fizzle out . do you think that this shuttle mission will reignite the publics passion for space and get us to mars sooner ? i hope this flight is not just a onetime affair , that it does reignite peoples interest to push on . but only time will tell . you had gone to the moon twice , orbited space around the earth lots of times , and of course you have had the most amazing views that a human being can have . how long do we ordinary beings have to wait to feel the weightlessness ? i just cant wait . if i were the man making the decisions , you could get in line tomorrow . i strongly support ordinary people going into space . unfortunately , i dont think it will be in the near future .',\n",
              " 'where did you go yesterday ? i went to play tennis in the public park . how often do you play tennis ? twice a week . how about you ? i seldom play tennis . i prefer football and basketball . but it is very difficult to gather a team of players together . i usually play with my schoolmates . do you like watching football matches ? yes , i went to the than he sports center for a football match last sunday . oh , i watched it on television . it was an exciting match .',\n",
              " 'where is your native place ? my native place is shanghai , which is a very beautiful cosmopolitan city . so are you a local ? yes , i am a local resident .',\n",
              " 'what re you doing now ? i m watching tv . you re supposed to clean your teeth before you go to bed . i will . and don t ever forget it .',\n",
              " 'how can i help you today , alice ? well , i came to talk to you because i want to apply for a scholarship . oh , good . youre an excellent student . id be very willing to help you with that . thanks . i really appreciate it . in fact , i do need a letter of recommendation for this scholarship . what kind of scholarship is it ? its an undergraduate scholarship offered by the american minority students scholarship association . im eligible for it because im asian american . fine . i know about that scholarship . you have to be a student in your junior year , and you have to have a grade point average of 3 . 7 or higher . im a junior now , and my gpa is 3 . 92 . excellent . so youll have a good chance of getting it . well , i hope so . the competition is probably pretty heavy . and they want a writing sample too . do you have an essay you want to send them ? no , they want a special essay . i must write an essay on a particular question they pose . what is the question ? they give applicants a topic . the topic is , the place of ethnic minorities in a democratic society . my essay must be three pages typed and doublespaced . thats a pretty short essay . yes , but i need to write it by next week . good luck . im sure you will do a good job . i came here today to talk to you because . . . well , i need to ask two favors . sure . what are they ? first , i need a letter of recommendation . id be happy to write one for you . and second . . . well , im not sure if its normal . what is it ? do you want me to read your essay ? yes , if you could . i mean , if you could read it to make sure there are no mistakes . or maybe youd have some suggestions . of course i could read it . thats no problem . but you need to get it to me soon . i will . i want to write the first draft tonight . so i could bring it tomorrow morning . alright . if you can bring it to me tomorrow morning , i can talk with you after class on friday . so ill have some feedback for you before the weekend . that would really help me a lot . im very grateful . dont mention it . im always willing to help good students .',\n",
              " 'did you hear how cold it got last night ? i heard the radio announcer say it was 18 degrees below zero . it was so cold this morning . i could hardly start my car . my car didnt want to start either at first . dont you have a garage ? not in the new apartment . we have to leave the car in the parking lot . how much antifreeze did you put in your new car then ? you must have to keep it well below zero . i do . right now i have it protected up to 30 below zero . does it ever get that cold on here ? not really . it sometimes gets to 20 below . speaking of cold , how about going for a cup of coffee to warm up .',\n",
              " 'what do you think of the new television channel ? arent the programs awful ? i quite agree with you . they are terrible . they are complete waste of time , but my wife disagrees with me . actually , what bothers me is the violence . there are far too many detective and police shows . i couldnt agree with you more . there arent enough educational programs , and even the news shows are not well done . you are absolutely right . they are too brief . they dont tell you anything .',\n",
              " 'whats the matter with you , paul ? im not feeling well . i think im having a cold . looks like it . you need to drink a lot of water and take a good rest . yeah , i will .',\n",
              " 'you look pale today . i didnt wear makeup this morning . you should do sports to keep young . youre right . make up can only disguise my age , but exercise may delay it .',\n",
              " 'steven , have you any friend in london ? yes , my old friend hanson lives there are you close ? yes . hes one of my best friends . our friendship formed at college . why did you ask that ? im going to london on business next week . but i know nothing about it . i get it . you want to find a guide , don t you ? yes , steven . you always know what i want . don t worry . i will call hanson , and ask him to help you . thank you !',\n",
              " 'my word , you do look ill ! im quite out of thoughts recently . you seem to have something on mind . promise me , go to see the doctor right now . im worrying about my exam . a piece of cake . youll be successful .',\n",
              " 'excuse me , you look familiar . did you use to live in new york ? yes . did you use to work at nyu ? yes , i did . oh , did you know hugh young ? he was a music student . hugh young ? didn t he use to wear a funny yellow jacket all the time ? yes . and he used to play the piano with a jazz group at the university . i remember hugh . most people thought he was a little . . . uh . . . peculiar . do you know what he s doing now ? yes , he s a millionaire in houston now . a millionaire ? as a jazz musician ? oh , no . he s an executive for a large computer company . i saw an interview with him on tv yesterday . they were asking his opinion about future uses for computers . well ! i guess people don t find him so peculiar anymore .',\n",
              " 'you look so happy , anna . any good news ? yes . i ve won the first prize in the math contest . really ? congratulations ! thank you , paul . by the way , would you like to have dinner with me tomorrow evening ? tomorrow is my birthday . good , happy birthday to you ! not so soon . it s not my birthday today . well , you ll come , won t you ? sure , i will . thank you for inviting me . my pleasure .',\n",
              " 'hello gina ! weve spoken so many times on the phone buts its so good to finally meet you in person ! hello sir . good to meet you , too . oh , please dont call me sir . just call me jason . ok , jason . so how was the flight ? pretty good . there was a bit of turbulence while we were over the pacific ocean but it wasnt too bad . the worst thing was the guy behind me . he snored all through the night ! really ? but you were in first class ! nobody woke that guy up ? the stewardess said its not company policy to wake people up for any reason . thats terrible ! so you didnt get any sleep ? not much . . . but thats ok . . . im a night owl anyway . so , aside from visiting our factory and offices , are there any other things you want to accomplish while youre in china ? id love to squeeze in a trip to the great wall . thats not a problem . we can have a company car take you there . its only about a two hour drive .',\n",
              " 'what are you going to do after you return from washington ? im going to stay in the city . what will you do all day ? im going to work with my father at the store . in the evening , ill read books . on weekends , ill go to the beach with my family . have you ever worked ? no , but i can learn . what are you going to do this summer ? im going to camp . ive gone to camp for four summers . ive never gone to camp . what do you do there ? we do many things . in the morning , we go swimming and boating . in the afternoon , we play basketball or tennis . we sit around a camp fire at night . we sing or tell stories . that sounds wonderful . it is wonderful . whats john going to do this summer ? i think hes going to the mountains with his parents . well , so long , mary . have fun . you too , peter . give my regards to john . ill see you in september .',\n",
              " 'can you tell the result ? its love all . now the score is in our favor . can you tell which team seems to win ? hard to say . now the score is in our favor . yes . our guest team is really tough . theyre still fighting hard . let s wait and see .',\n",
              " 'maybe youll get another chance at the statue . i dont think so . did you ever go and look at your stamp ? and let them ruin my life ? forget it ! but youve been looking for that stamp for years . its not worth it . besides , i have to save up to pay for some bills . bummer . i guess were both out of luck . yeah . well , ill see you this weekend .',\n",
              " 'kate , what do you like to do tonight ? do you often go to the movies ? of course . i often go to the movies . there s a good movie called summer in beijing . i heard it s a very good movie . let s find out what time it starts . let s look at the newspaper . here it is . it starts at 8 oclock . wonderful . i m so excited .',\n",
              " 'i feel confused by all the diet options out there . i don t know which one actually works . most of them are not so practical . it will be very bad for your health if you skip lunches or supers as the recommended . i think making an exercise plan can be more effective . maybe you re right . it is very expensive to go to a weightloss center . i d better join in a fitness club . you don t need to lose weight , you are not fat . i bought an exercise dress yesterday and i found it was hard to dress it up .',\n",
              " 'i visited the polar aquarium today . is it like a zoo of polar animals ? almost . there are a lot of polar animals sea birds , such as seals , whales and penguins , people dont get much chance of seeing them . it must have been fun seeing those unusual animals and birds . absolutely . to be frank , i learned quite a lot about those animals and polar areas . im thinking of my kids there one of these days . maybe you should let me know about your plan . i want to take my kids there some day . too .',\n",
              " 'how time flies ! may and danny have already grown up . i can still remember our first date . look at that big tree over there . yeah , oh my god ! its still there . we have our first date right on there . do you know that i fell in love with you at the first sight . you were dull at that time . but you agreed to go out with me at last . i cant believe this for its been 20 years since we got married .',\n",
              " 'i can t wait to retire . and then what ? and then i m moving to florida where i can play golf all day , every day ! that sounds boring to me . what do you plan on doing after you retire ? yes , i think i will do something new . i ve always wanted to be a teacher . i admire your energy , ruth . you are young at heart .',\n",
              " 'lets get together this weekend , is that all right ? sounds good , when ? when is it convenient for you ? any time is fine . could you and your wife be ready at nine oclock ? please wait for us even if were a little late . never mind . ill be waiting for you . see you then . ok . bye !',\n",
              " 'i wonder if i can ask you a question . ask me a question ? what do you want to know ? well . . . er . . . it is just . . . just that i . . . just what ? stop beating around the bush . tell me what you want to know . i . . . er . . . i just want to know if you could lend me a few bucks . lend you a few bucks ? no way ! still remember the money you borrowed me last time ? yeah . but i . . .',\n",
              " 'hey , mary , nice to see you again . i heard youre going back home to the u . s . yes . im leaving tomorrow . i came here just because i want to say goodbye to you . youre so thoughtful . wish you a good trip home . and well miss you . ill miss you too , my friends .',\n",
              " 'lovely day , isnt it ? oh , yes . beautiful . you are not english , are you ? no , i am from france .',\n",
              " 'good afternoon , would you mind if i sat here ? of course not . i m jack . what s your name ? laura . do you like this place ? i don t think it s very nice . and my father doesn t like it . but my mother likes it very much . so we often come here . how often ? well , we come here almost every month . who s that ? it s my mother . she s fond of swimming . and the man beside her is my father . do you like swimming ? no , i hate swimming . i prefer playing tennis .',\n",
              " 'what s the area of your country ? it s not very big . it s a little over half a million square kilometers . that sounds quite big ! how many people live there ? there are about 30 million people in my country . most of them live in the north . what s the average income ? that s the really hard to say . i think most people earn about two thousand dollars a month , if you convert the money from our currency into dollars . so your country is fairly rich . i think we are richer than most countries , but not as rich as countries in western europe . our biggest problem at the moment is unemployment , which is roughly 8 . it has doubled over the last four years . unemployment in my country is a fraction of that .',\n",
              " 'look at this headline elvis baby born on spacecraft . where do these tabloids get such crazy stories ? i ve often wondered the same thing . i also wonder who reads them . then i realize that i m standing here reading them myself . it looks as though everyone in line reads them , or at least looks at the headlines . i think we picked the right line . this one seems to be moving more quickly than the others . maybe our checker is faster at scanning the food . i m glad . we have only about twenty things here , and i m in a hurry to get home .',\n",
              " 'the answer is zero ! what a letdown ! i really want to take him over my knee . no hard feelings . after all , he is a child . if you say so !',\n",
              " 'hi . hi , mary , hi , ken i hate to bring this up , but that new stereo , system you got . . . yeah ? you were playing it very late last night . yeah ? it kept me awake . oh , im sorry . it kept me awake a couple of hours . im so sorry , i . . i didnt realize it was that loud . it was that loud , and it was pretty late , and check with mary if you dont believe me . its true . it was a bit loud . im very sorry . i didnt realize it . i promise ill keep it down in the future . oh , its no problem . it s ok . you know , it only happened once . i am glad weve straightened everything out .',\n",
              " 'my mother likes to split hairs . what do you mean by that ? she has keen to buy something which is much cheaper . mothers like that .',\n",
              " 'hey bob . whatchy doing ? im at home painting . i didnt know you paint . what type of painting is it ? i enjoy oil painting . i learned it in one of my extra classes in college . that sounds so interesting . i wish i learned a hobby . hobbies are never too late to learn . they offer a variety of classes at the local community college . you should look into it . i think i will . thanks for the info .',\n",
              " 'what does your friend jim do ? he is a teacher , but he makes a little money on the side by repairing cars in his free time . he can repair cares ? i cannot believe it . believe me , he is the firstclass .',\n",
              " 'hey jane . how are you doing these days ? hi martha . everything is perfect . are you enjoying married life ? it couldnt be better . my husband is so supportive with my work and he helps around the house so much . youre so lucky . i hope to get married to a guy like that . im so happy . even though we are both working , we get to spend a lot of time with each other in the evening and on the weekends . do you guys do anything special ? in the evening , we just sit and talk over dinner . but on the weekend , we try to go out to the beach or hit a nice restaurant , or go to a nice cafe . sound like everything is great .',\n",
              " 'david , why dont you clean your room ? i am not in the mood . why are you feeling depress ? i was told my girlfriend was speaking ill of me . its a real letdown . i dont think she would do such a thing . but she did and it made me disappointed . oh , cheer up ! a girlfriend is not everything . but she means a lot to me . then forgive her mistake . oh , i just cant forget it .',\n",
              " 'my brother joined the army last year . oh , what does he look like ? is he tall ? hes tall and strong . i can tell it from your build .',\n",
              " 'look , forest gump is on at six thirty . really ? it was on in 1994 for the first time . and it is really a classic . yeah , i am very impressed with tom hanks performance in the movie . i am also impressed with the lines in the movie . life is like a box of chocolates , you never know what youre gonna get . thats my favorite . you know , it also won 6 oscar awards in 1995 . unbelievable ! it deserves . that film can give us a lot of inspiration . yes , the forrests experience can encourage the people in trouble . all in all , it will never lose its appeal . gucci , i have an idea . do you want to see this movie together ? sure . now you are talking .',\n",
              " 'i hate this kind of weather ! when i was a kid , there was a weather who said there is no such thing as bad weather . i think he had water on the brain . this is bad . he said there are only all kinds of good weather . okay , pollyanna , whats so good about this weather ? well , for one , we have an excuse to stay home . we get to stay home ? do you know something that i dont ? i know that there is hot chocolate in the kitchen and some new cds just waiting for us .',\n",
              " 'what day is it ? its monday , october 27 . speaking of dates , when are you leaving ? im leaving on november 10th . isnt it a sunday ? no , its a monday . so you are leaving two weeks from now ? right .',\n",
              " 'what are you reading ? oh , it s the latest novel by ray blue . it s a sicfi thriller . i thought he usually wrote horror books . he does . he s good at this genre too . it s a captivating read . we re going to the bookshop . would you like to join us ? yes , i would . i need to buy a textbook for my course and , as you know , i love browsing through the latest paperbacks . me too . i need something to read on the flight to new york . i can never sleep on planes . sarah wants to pick up some children s books for her daughter . i want to look at nelson mandela s autobiography . this is sure to be a worthwhile read .',\n",
              " 'do you know what the bbs is ? sure . tell me then . bbs means bulletin board service . oh , i see , but whats it used for ? a lot of things ! tell me in details . okay . bbs , an online service , offers a wide variety of online games , files , oneonone chat , message areas , private mail , and participate forums . oh , thats great . i want to try later . why not ?',\n",
              " 'any plans tonight ? not really , do you ? well , i am wondering if we took a hangout for a drink or something . you know , i just came back from a really tough interview . i was quite nervous during the interview . i really want to have the job . right now , i am still a little on the edge . i am not sure if i could convince them during the interview . take it easy . it is all over now . how was it going , anyway ? i don t know . i think i did well in the paper exams . i was prepared to answer a lot of questions , but they didnt ask those as i expected . to my surprise , the manager tried to talk about the chinese poesy with me . thats strange . but probably , it is the new interview technique they call it getting to know you more personally . what about your answers ? just did my best .',\n",
              " 'how may i help you ? i need to return these books . what happened to this one ? the cover came off . you re going to need to pay for the damage . how much are you talking ? it s going to be 5 . that s not bad at all . it really isn t . here you go . thank you very much . you re welcome . have a nice day .',\n",
              " 'when it comes to select a fund , you will always read past performance is not an indication of future results , can you believe that ? maybe it is right since everything is possible . you know the market changes quickly these days . but i still have doubted those funds with bad stock performance . for me , his stock record is the very important criteria to decide which to buy . i really want to decrease the risk reach the minimum and achieve the maximum returns . but i still have doubted those funds with bad stock performance . for me , his stock record is the very important criteria to decide which to buy . i really want to decrease the risk reach the minimum and achieve the maximum returns . if you refuse to take risk , you can t have better returns . i will think about it .',\n",
              " 'i dont know why people are just mad about david peckham . is there really anything so fascinating with him ? he appeals to the fans thanks to two things you mean he plays well ? yeah , he often scores by free kicks in crucial games . but a football match is by no means merely a show of taking free kicks . certainly not . what really counts is to play as a team , passing the ball amongst each other , dodging defenders . free kicks are a result of all the teammates collective efforts . however , a few free kicks often make everything different , especially scoring one such goal in the nick of time . in the case , maybe facial charm should be his leading card . after all , the majority of his fans are girls . yes , his face looks are manly , with a straight nose and infinite eyes . as a man of medium height in the west , he keeps a powerful but elegant figure , looking neither lanky nor stout . and he is english ! he makes a model gentleman when he puts on a black suit and speaks with a typical british accent .',\n",
              " 'can you tell which team seems to win ? hard to say . now the score is in our favor . yes . our guest team is really tough . theyre still fighting hard . lets wait and see .',\n",
              " 'may i have a word with you ? certainly . when will you be free ? come by any time . shall i say around ten oclock ? yes , ill be waiting for you in my home by 1000 .',\n",
              " 'office software like windows might be one of the best inventions in this information age . it saves us from so much work and makes the communication even around the world much easier . fully agree . i do enjoy the convenience though i am still a beginner in using excel . the latest office equipment is more typefunctional . it combines fax machine , copy machine and printer in one . it saves a lot of place one machine instead of three . yes , this machine is even smaller than those before . when will we get one of those ? you know our boss always trying to save the last penny . we have to use up the equipment first .',\n",
              " 'congratulations ! mr . stuart ! you won the city marathon . thank you . i am very excited . we are all very proud of you . i am very happy , too . it was a big game and i won . i watched the race with my children . we saw you run to the finish line . we all screamed with excitement . it was really an exciting moment .',\n",
              " 'i really dislike reading academic books . that may be so , but reading them is an important way to expand your knowledge .',\n",
              " 'are you ok , chuck ? you look pale . im fine , katherine . i just stayed up late last night working on my chinese . oh , poor you . you know what ? i found a new way to learn chinese and it works very well . you did ? do tell me . ive spent all these months trying to learn something new about it , but ive made little progress ! sure . im learning chinese through songs . so youre learning chinese songs ? you can say that . i can actually sing some of them now . thats a real achievement . how did you do that ? i start by listening to the song a few times and after several times i am able to follow the singer . it makes sense . it does . ive learned some chinese folk songs this way . they are clearly presented and easy to follow . can join you , katherine ? i do want to have a try . why not ? i downloaded a beautiful song the other day . we can learn it together now . great . do you think we need a chinese dictionary ? yes , just in case we run into me new characters . ok . i will bring it with me .',\n",
              " 'where to , miss ? hi ! crenshaw and hawthorne , at the holiday inn that is on that corner . sure thing . so , where are you flying in from ? from china . really ? you don t look very chinese to me , if you don t mind me saying so . it s fine . i am actually from mexico . i was in china on a business trip , visiting some local companies that manufacture bathroom products . wow sounds interesting ! excuse me if i am being a bit nosy but , how old are you ? don t you know it s rude to ask a lady her age ? don t get me wrong ! it s just that you seem so young and already doing business overseas ! well thank you ! in that case , i am 26 years old , and what about yourself ? i am 40 years old and was born and raised here in the good old u . s of a , although i have some colombian heritage . really ? that s great ! do you speak some spanish ? uh . . . yeah . . of course ! que bien ! sentences poems habeas en espanol !',\n",
              " 'oh , boy , i hate to say this , but i really have to leave now . that s all right . i understand . i m so sorry . that s ok . don t be sorry . we ll talk later .',\n",
              " 'have you thought of moving at all , sarah ? we ve thought about it , but my husband and i can t afford it right now . the only thing we could afford would be living in the slums , which is something i don t want to do . buying a house can be expensive , but there are ways to find cheaper houses . like what ? well , sometimes the city auctions offer houses to the community . you d have to make a quick decision about the offer in a day , but you would definitely save money doing it that way . that s a good idea . do you know anyone who has done that before ? sure , my sisterinlaw and her husband just bought a house that way . they re pretty satisfied with it . is the house pretty rundown . not at all . the woman , who owned it , took good care of it . but when she died , she had no family left and no will , so the government had to sell it for her . was it a very old house ? it was about 75 years old . there were a few repairs that needed doing , but it didn t take a lot of money or time . is it in a good location ? the area can be a bit rough in the evenings , but the neighbors watch out for each other , so it s ok .',\n",
              " 'do mona and jim need a new house ? no , they have a big new fancy house . does jim make a lot of money ? yes , he does . he is a science fiction writer . does jim need to make more money ? afraid so . the more the better . what do they need all that money for ? well , they spend it pretty quick . new clothes , new computers and new cars every year . and they ve got a cook and housekeeper . mona used to be an actress , she likes to spend a lot of money . do they have any children ? no . they want children but no luck yet . what does jim like to do ? jim likes to travel around the world . that s expensive ! so he tries to make a lot of money . what does mona like to do ? oh , she enjoys spending money on fancy parties . mona loves to wear sexy dresses , and she has quite a bit of jewelry . wow . . . she sounds like a high maintenance wife . i guess so . she is also interested in politics . she knows everyone in city government . politics can be an expensive hobby . she is pretty serious about it . her uncle is a mayor . she wants to follow in his footsteps . politics is a hard game to play . she might do well . everyone seems to like her .',\n",
              " 'are you alright , child ? hey , i still know my name . what did the nurse say ? she said i have a fever but nothing major . in that case , you should go home and get plenty of rest . what if this small fever turns into a big fever ? then ill phone our family physician and make an appointment for you .',\n",
              " 'who was the best teacher that you ever had ? that would have to be miss baymler , my fourth grade teacher . what was she like ? she was patient , kind , fun , smart , caring , and yet strict , too . i really learned a lot from her . what kind of things did you learn ? she taught us that you can do anything that you want to do . anything ? do you really believe that we can do anything ? if you really want to do something and you work hard at it , i believe you can do it . you said she was strict . did she have a lot of rules ? she had some rules that helped us to feel comfortable . for example , the students had to treat each other with respect , or they would be disciplined . i see . she sounds like she really cared about her students . yes . she treated us all fairly . she don t have any teacher s pets . really ? doesn t every teacher have a teacher s pet ? well . to be honest , i usually sucked up to teachers because i wanted them to give me good grades . however , miss baymler didn t treat me any differently . she really didn t have any teacher s pets . do you know what she is doing now ? as a matter of fact , i do . after she taught our class , she got married and moved to another city . then , she started writing children s book . have you ever read one of the books ? of course ! both children and adults enjoy her books . why don t you recommend one to me ? ok ! i ll bring one to you next time .',\n",
              " 'mum , this is for you . oh , flowers ! what for , my dear ? happy mothers day to you , mum ! oh , thank you . you are so sweet !',\n",
              " 'did you like the party ? not particularly . i was rather disappointed . why ? what had you expected ? i d expected it to be much more exciting .',\n",
              " 'look , daddy is on again . dont you think he is handsome ? to some extent , he is . and what do you think we move to a better place ? i cant see him clearly from here . the seats in the middle of this stadium are great , but theyre already occupied by somebody else . oh , thank you for pointing that out . by the way , have you been following nba for this season ? of course , tomorrow evening there will be a most exciting game . who plays who ? rockets vs lakers . yao ming , my idol , will appear in front of several hundred million of the worldwide audience . its amazing . and when did he begin to play in the nba ? in 2002 . and since then he has attracted more attention than ever . i cant consider you as a little kid any more . i know he is very tall . oh , you know something . he is 2 . 26 meters tall . but he is also nimble and skillful . i also heard if a player has committed 5 fouls then he must be out of the game . yes , whats worse is he cant take any further part in the game . thats really terrible . oh , god , we forgot to cheer for daddy . never mind . after all he is not so attractive as yao ming , right ? you are always so naughty .',\n",
              " 'pretty ! say beautiful rather . can you imagine any thing nearer perfect beauty than she altogetherface and figure ? i do not know what i could imagine , but i confess that i have seldom seen a face or figure more pleasing to me than hers . such an eye ! the true hazel eyeand so brilliant ! regular features , open countenance , with a complexion , oh ! what a bloom of full health , and such a pretty height and size ; such a firm and upright figure ! there is health , not merely in her bloom , but in her air , her head , her glance . one hears sometimes of a child being the picture of health ; now , she always gives me the idea of being the complete picture of grownup health . she is loveliness itself .',\n",
              " 'is that mr . green ? this is him speaking . i am calling to inform you that were happy to have you with us . welcome aboard , im sure your friend would have given you a lot of information of our school and its motto , ways of teaching , etc . yes . i am very glad to have the chance .',\n",
              " 'im so nervous about this oral test . just calm down . im sure youll do well . i just want to get it over with .',\n",
              " 'i hear you re taking a music class . i didn t know you re interested in it . oh , i m not . i ve never had a music class before . in my opinion , you ll make it . you re having me on again . no , i m serious .',\n",
              " 'what s the date today ? december the fifteenth . the day after tomorrow is little tom s birthday . right . what present should we give him this time ? by the way , how old is he ? thirteen today and tomorrow . fourteen the day after tomorrow . how time flies ! he s a big boy now . and don t forget mary , tom s twin sister . it s her birthday , too . ok . let s invite all their little friends to come and celebrate .',\n",
              " 'peter and mary broke up . are you serious ?',\n",
              " 'i had a wonderful evening . i did , too . come and visit us again , will you ? i will .',\n",
              " 'do you know sally ? sally ? she is a bachelor girl . she is an excellent designer . many of the companys advertisements are her child trains . why is she still single ? she must have a face that would stop a clock . oh , quite the other way round . she is a knockout . she devotes much of her time to her career .',\n",
              " 'do you hear what happened to sally ? no , what ? she had to go to the hospital . why ? she passed out in class . seems she hadnt eaten anything in days . why on earth would she do that ? you mean that she intentionally did not eat any food for days ? thats crazy ! yeah , but thats what she did . i cant believe that there are girls who are willing to do that to their bodies . and all for a certain look . well , its not just the girl s fault . its also societys fault magazines and ads that show thin models all saying , its in to be thin . its hard for them not to listen . true , but there are limits . being thin is one thing ; starving oneself to death is another . no one forces them to do this .',\n",
              " 'have you ever thought about tom s attitude ? i ve cut it up and come to the conclusion that hi is actually sick of jenny s brother . but he likes jenny . she is a big apple in his eye . love me , love my dog . he s a sensible kind man . that s why many people look up to him .',\n",
              " 'have you found another job yet , sally ? no , i havent , but ive seen several interesting advertisements in the paper . what kind of job are you looking for ? either something in the hotel business or something to do with travel . you havent had any experience in either of those fields . i know . but id like to try . look , here are some advertisements that ive cut out .',\n",
              " 'hi . are you new in this class ? yes , i am . i really dont know anyone . my name is steven . whats your name ? my name is bill . how are your lessons going ? very well . and my favorite subject is chinese . i prefer to learn english . in my opinion , english is easier than chinese . i guess english has fewer characters . you are right .',\n",
              " 'robert , this is my friend , mrs . smith . hi , nice to meet you . nice to meet you too . mrs . smith , what do you do for work ? im a doctor . oh . where do you work ? new york university hospital in new york city . what do you do ? im a teacher . what do you teach ? i teach english . where ? at a high school in new jersey . thats nice . how old are you ? im 32 .',\n",
              " 'hah ! for three hours while you threw up . and femi dumped me for that . i really loved her . im so sorry , taylor . go talk to her . im sure shed be happy to see you . she probably wouldnt even recognize me . shes probably married . yijun said femi was talking about you . so get out there , tiger ! was she really ? so youre telling me theres a chance ? cant hurt to try . carpe diem . who can say if well be here tomorrow or not ?',\n",
              " 'oh , ralph , i heard it is very dangerous traveling in space . disasters have happened before . if the spaceship were out of order . . . you should be optimistic about this . things have taken a good turn . you should remember that less than two centuries ago the dangers of train travel seemed similarly terrible . but is it possible that travelers could be hit by meteors ? its once in blue moon . what do you think is the real danger man faced in space ? the main one is radiation . there are two sorts of radiation man must fear in space . the first is radiation from the sun , and this is particularly dangerous when the sun is very active and explosions are occurring on its surface . the second , less harmful , comes from the socalled van allen belts .',\n",
              " 'hi , mark , did you catch the game last night ? no , i was out . was it worth watching ? you didn t hear ? spain won , two to zero . oh , really ? so , spain is through to the next round ? yeah . the final is next week . you have to watch it .',\n",
              " 'get up as early as six oclock only to be jammed at every crossroad and still late for work . what a life ! ive had enough of it . cool down , man . everyone is fed up with the rushhour traffic . but life isnt really all that . you should take the initiative and make some changes first . what should i do then ? i recommend you ride a bike instead of commuting by bus . it may offer you many benefits . first , its good for your health . im afraid its not necessary for me to further elaborate . while lots of people spend time like an hour each morning exercising , a bike ride to work not only builds you up , but also makes full use of time . you might as well sleep out for a longer hour . i know cycling is always a more favorable choice than a bus . after all , its a sport . but do you think it a pleasant experience to take in the dirty , polled air on the road ? well , such things are just unavoidable in a great metropolis like beijing . i think a still more desirable benefit is psychological . bicycling home after work can help release your stress . life in the offices is miserable . you just sit there in a daze , gazing at the monitor and dealing with files and documents . why dont you give a full play to your energy after work ? enjoy the speed on the road . just think , you are flashing past the poles with your own energy . how great !',\n",
              " 'how many people are there in your family ? five . besides my parents and me , there are my brother and sister . that s a big family . how old is your brother ? eighteen . what about your sister ? she s not quite twentyfive . do you miss your family ? yes . do you often go home ? no . but i often send email to them . and make a call to my parents regularly . how often do you call to them ? once a week .',\n",
              " 'im terribly nervous . calm down !',\n",
              " 'whats wrong ? you dont like ancient egypt ? actually , i dont like history . lately , these shows are always about the pyramids . the pyramids are amazing ! millions of gigantic stones . . . each one perfect . . . and nobody knows who built them , right ? its a total mystery ! you sound like the tv ! youre not going to tell me that aliens built the pyramids , are you ?',\n",
              " 'whats the problem , nada ? you look down in the dumps . i dont know . my life is a big mess . everything is so complicated . come on , nothing can be that bad . but promise me , youll keep it a secret . ok , i promise . so whats troubling you so much ? ive fallen in love with my boss . really ? is he married ? bo , of course not . he is still single . then whats your problem ? i try to keep it to myself . but there is a lot of gossip about us . oh , i see . office romance tends to be the subject of gossip . worse still , he is trying to avoid me these days . office romance is very tricky . it gives me a lot of pressure and i feel depressed . cheer up , nada . youll be fine .',\n",
              " 'how may i help you ? i want to return this video . is that all you need ? i also need to check these books out . anything else ? that s everything . i need your library card . i have it . here you go . do you need anything else ? that s everything . your books are due back two weeks from today . thank you . good night .',\n",
              " 'did you happen to bring that book that we were talking about yesterday ? i did . let me go get it for you . here you go . thanks so much . i like the way that the gifts i get increasingly more lavish . i had no idea that there were specific things that should be given on different anniversaries . so what does it say you should give your wife this first anniversary ? it says that traditionally , give something made of paper . i can think of two things made of paper stationery and money .',\n",
              " 'im going to the park to play baseball with the guys . but you promised to play chess with me this afternoon . yeah , but that was before the guys ask me to join the team . so what ? you know how much i want to be on the team , and now there is an opening for me . if i dont go to practise today . they ll get someone else and ill miss my chance . i dont care about baseball . you know i need to practice for the chess championship and you promised to help with me if i washed the dishes for you last sunday , and i did . i know , and i will . when ? after baseball practice . and then , itll be dinner time , then homework , and then your show is on . you are going to break your promise . no , i wont . im going to skip tv tonight and work on your chess game with you if thats ok with you . well , id rather do it the way we set up . but if you promise to give me your best game , its ok with me . no problem , ill play as hard as i can and give you an extra game to say thanks .',\n",
              " 'what stresses you out the most ? probably my parents . how so ? well , during school , they wanted good grades . then after i got a job , they wanted me to get a better job . and finally , they want me to get married . you have to deal with a lot of pressure from your parents . your parents are not like that ? ever since i brought home some bad grades in elementary school , they never expected much . youre lucky . what do you do to deal with the stress ? not much i can do . its always there . i sometimes go out with some friends and drink , but thats only a temporary solution . the stress always returns in the morning . that sucks . you wanna go grab a beer ? sure . sounds great . lets go .',\n",
              " 'tony looks very handsome in the suit . he prefers suits to jackets . judge from his look , hes a very serious person . as a matter of fact , he is .',\n",
              " 'lily thinks that the job takes a back seat to the family after she is married . she must be a good wife . not necessarily . this is only what she says , not what she does . i see .',\n",
              " 'whats the weather like ? i dont know . i just woke up . why dont you look outside ? okay . it looks like rain . why do you say that ? the sky is gray . is it raining right now ? no . how do you know ? the street isnt wet . i have to go shopping today . youd better take an umbrella .',\n",
              " 'hey there , you look a little lost . are you new here ? yeah how d you know ? you can always spot the newbies . i can give you a few pointers if you want . were you trying to use this machine here ? yeah ! i just started my training today and i m not really sure where to begin . it s ok , i know how it is . this machine here will work out your upper body , mainly your triceps and biceps . are you looking to develop strength or muscle tone and definition ? well , i don t want to be ripped like you ! i just want a good physique with weights and carpio . in that case you want to work with less weight . you can start off by working ten to fifteen reps in four sets . five kilo weights should be enough . now it s very important that you stretch before pumping iron or you might pull a muscle . got it ! wow is that the weight you are lifting ? my goodness that s a lot of weight ! it s not that much . just watch . . . i m ok . . .',\n",
              " 'i dont know how john can put up with his son , who fools around without working . hes out of johns hands . nothing he can do about such a black sheep . if i were him , i would give him a good talkingto . i would insist on his stopping fooling around like that .',\n",
              " 'do you like ice skating ? i have never tried it . then youve got to try it . lets go to the skating rink on thursday . sorry , i dont think i can . friday then . how about it ? friday is great . its settled then .',\n",
              " 'gordon , youre ever so late . yes , i am sorry . i missed the bus . but theres a bus every ten minutes , and you are over 1 hour late . well , i missed several buses . how on earth can you miss several buses ? i , ah . . . , i got have late . oh , come on , gordon , its the afternoon now . why were you late really ? well , i . . . i lost my wallet , and i . . . have you got it now ? yes , i found it again . when ? this morning . i mean . . . i am not convinced by your explanation .',\n",
              " 'lets have seafood tonight and then go see the new movie at mall cinema . betsy told me its a beautiful love story and i shouldnt miss it . oh , goodness , please not again . that s what we did last week . no , we didnt . last week we went to see that movie about a mans struggle against mental illness . right , it was a chick flick , just like this one , so whats the difference ? besides , this is the last week for the third movie in destroyer series and i want to see that on a big screen . action movies need to be seen in a theater on a big screen . oh , yeah , and i did promise to see it with you if we went to that movie last week . but you liked that movie , didnt you ? oh , sure , it was great . i had popcorn for dinner and paid the price of a movie ticket to get a twohour nap . it wasnt that bad , and youre the one that insisted on skipping dinner . we went to an excellent restaurant . that place doesnt have a single meat dish . just fish and shellfish and you know i dont like fish that much . and i dont like meat that much . the only meat i eat is chicken . but when i pick the restaurant , we go to a place that has both chicken and fish . i always respect your food preferences . well , i suppose that , to be fair , you should get to pick the movie and we can go to a restaurant that serves meat . now youre talking , we can see that love story next time .',\n",
              " 'hows your new job going ? really well , thanks . how are you finding your new boss ? shes not bad . shes a bit bossy , but im sure ill get used to her . would you rather have her or your old boss back ? shes far better than my old boss . he didnt know how to express his opinion without putting at least one other person down . how about your new coworkers ? they are all pretty easygoing . its a very friendly place to work . do you miss your old coworkers ? of course . i spent so much time at my old workplace that i got to know them all very well . they were like family to me . do people in different departments get along with each other ? sure . since we work together in teams , we have to get along with each other . do you like working in teams with people from different departments ? yes , it helps everyone to understand what were doing from different perspectives . do you like working in teams ? i prefer it to working independently . i think most people do .',\n",
              " 'linda , john and i are going to get married next week . thats wonderful . congratulations . thank you , linda . we would love you to come to our wedding . id love to . what date is it ? its may 1st . what day is that ? its saturday . could you make the time ? yes , sure . what time will the wedding begin ? at nine sharp . very good ! im looking forward to it . please give my best regards to john . and i wish you best luck ! thanks .',\n",
              " 'so do you think you can get to the office alone ? sure , i ll catch the train . if i can t catch the train , i ll get a taxi . do you think the taxi driver will understand you ? if he doesn t understand me , i ll show him the office address on my business card . ok but how will we know if you are going to be late ? i ll call you if i m delayed .',\n",
              " 'you and bob have finished ? yes . are you going to be okay ? yes , im used to being on my own .',\n",
              " 'tony looks very handsome in the suit . he prefers suits to jackets . judge from his look , hes a very serious person . as a matter of fact , he is .',\n",
              " 'you are friend of janet , right ? i am andrew , andrew smith . nice to meet you , andrew . i am noirin , noirin oneil . im sorry , i didnt quite catch that . noirin , noirin , its an irish name .',\n",
              " 'wow ! it s packed . the train station is indeed crowded . i think it s hard for us to get on the train .',\n",
              " 'its getting cold . yes . i bought a scarf yesterday . its really nice and warm . have a look . oh , its made of wool . i like the striped pattern . yes , i adore simple fashions . how does it look on me ? it looks great , but you need something to go with it . its too plain on its own . how about this blue sweater ? thats a good idea . when did you buy it ? is it a name brand ? yes , but i bought it when it was on sale , 50 off the original price . ok , what do you think ? that looks lovely . just one more thingyou need a pair of earrings . ive got a pair of pearl earrings . here it is . perfect ! you have good fashion sense , karen . thanks . we should be ourselves . there are so many fashion victims out there . yes , but with our sense well always look good .',\n",
              " 'susan ? what brings you here today ? well , i ve got some papers due . really ? so what s the news ? not too good yet . better than i was though .',\n",
              " 'hello , mary . hello , brian . here is my friend bob . hello , bob .',\n",
              " 'are you free tonight ? depends .',\n",
              " 'wanna chill out and watch cable ? wow ! besides the cosby show , ive never seen a black sitcom . whats this program ? its a drama called soul food . this channel is betblack entertainment television . it has black shows , news and commercials . this show is like a black friends . bet has black shows that are overlooked by mainstream white tv . thats cool . ive heard la has an allasian channel on cable .',\n",
              " 'my boss wore a real stupid tie to work today . can you guess why ? he isnt a man of good taste for clothes , is he ? he is , but i didnt mean that . his daughter bought him a tie as a fathers day gift , and he was very happy to wear it and show it off to us in the office . it must be hard being a father . no , its great being a father , seeing your children growing up and loving you and admiring you . maybe youll only feel that way on fathers day .',\n",
              " 'so alex , you re off to the olympic stadium then ? yes , i should get there just in time for the women s 400m relay . wow , that should be really exciting , especially with so many famous athletes there . yes , i m also going to watch the triple jump and the high jump . well have a good time . get me some autographs if you can . ok , i ll try my best .',\n",
              " 'where did you go yesterday ? i went to play tennis in the public park . how often do you play tennis ? twice a week . how about you ? i seldom play tennis . i prefer football and basketball . but it is very difficult to gather a team of players together . i usually play with my schoolmates . do you like watching football matches ? yes , i went to the than he sports center for the football match last sunday .',\n",
              " '. . . and now , let s go to kenny williams for today s weather forecast . thank you bill , and good morning salt lake city ! what s the weather looking like today , kenny ? well , it s a bit of a mixed bag in utah today . we ve got heavy cloud cover here in northern utah , and we re calling for scattered showers throughout the day , with a daytime high of fortyfive degrees . now , if we move down to the south of the state , we can see that a cold front is moving in . we can expect clear skies , but it will be quite cold , with temperatures hovering around the thirty degree mark . it s a chilly day folks , so don t forget your coats ! what about tomorrow kenny ? do you have good news for us ? well , it ll be a rainy day for northern utah . we can expect some isolated downpours in the morning . winds will be coming in from the north east , with gusts reaching twentythree miles per hour . salt lake city can expect the rain to turn to sleet in the evening . things are looking a bit better for the south . we ll see cloudy skies with a chance of showers . later in the day , we can expect partlycloudy skies , with a forecast high of thirtyeight degrees . you heard it folks ! it s gonna be a cold one ! that s right bill . we will have more later on today on the six o clock news . that s the weather forecast for this morning .',\n",
              " 'hes been compared to rimbaud , you know . you mean as in sylvester stallone ? no , you idiot . i mean the poet , arthur rimbaud r , i , m , b , a , u , d .',\n",
              " 'i am having a hard time at my job . whats wrong , julia ? my colleagues quickly get promotions , while i always get sidelined . i dont know what to do anymore . dont give up so soon . but i dont know what else i can do . i am willing to work hard . sometimes i make mistakes and the boss is not happy . mistakes are just a lessons to learn from . tell that to my boss . do you know abraham lincoln ? yes . he grew up poor in kentucky and barely had a year of schooling , but he went on to become the president of united states . he was also assassinated because of his views . he is known as americans greatest president . do you know why ? because he fought against slavery and secession at a time in history where others were too afraid to do anything . he succeeded because of his ambition and generous spirit . well , if he can become president , then i can at least get a promotion . thats the spirit . never give up on your dream .',\n",
              " 'well , my particular interest is collecting stamps , especially the rare ones . what about you ? i m afraid that s not my cup of tea . i just find skindiving attracting . so have you ever been to the stamp display of the town ?',\n",
              " 'hello ! oh , hi ! please allow me to introduce myself . my name is tom . pleased to meet you . my name is alice . did you just move in next door ? yes , i did . have you lived here long ? me ? i guess so . ive lived here for about six years now . have you lived in america very long ? no , not really . when i left vietnam , i came to america and i lived with a cousin in dallas for two years . where do you work , alice ? i teach mathematics at a college . what do you do ? i am an accountant at a company . well , tom . its good to meet you . i have to go now . i am teaching a class this evening , and i need to get to the college . its nice meeting you too , alice . see you around ! goodbye , alice .',\n",
              " 'excuse me . i am interested in getting a library card . sure , let me give you an application . you can fill it out right here at the counter . ok , here it is . let me take a look at this for you . may i have your drivers license , please ? heres my license and form . you seem to have filled the form out all right . are you familiar with our rules and fines ? yes , i know what to do . the hours and limitations are printed on the card and this handout . ok . thank you for joining the library ; we look forward to serving you .',\n",
              " 'hey , frank . i heard you got a new job . yeah , judy . i will be working for the post office . it s not a bad job . is it true that you have a heavy work schedule ? that s right . i report to work at 5am everyday , and i only get 45 minutes for lunch . so , why did you apply for such a demanding job ? well , the government offers its employees excellent health insurance benefits . oh , i see . and can your family utilize 5 the health insurance , too ? yeah , that s the best part . all of my children can get free medical care . that s a great employment benefit ! now you know why i wanted to work for the post office !',\n",
              " 'he has come to life in the end . oh , thank god . we all felt frightened by the bad new about him . yes . fortunately , an ambulance passed in the nick of time , and we got him away to hospital . right . unless , who know what will happen . wish him to be healthy soon .',\n",
              " 'harry , do you like the opera ? no , not really . why is that ? it is called real art . well , its very expensive and theyre usually singing in another language . that kind of gets on my nerves . yeah , that makes sense .',\n",
              " 'lisa wins the first prize in the english speech contest of her college . really ? thats really wonderful . im so happy for her . but i always feel disappointed . i have many problems with english learning . honey , cheer up . i feel confused about the grammars . im sure youll do fine if you try your best . and my writing is not good . i feel so frustrated . be confident , and never give up . i know that , mom . but sometimes im just sad . keep your chin up . remember ? nothing is impossible to a willing heart . yes , mom . you are right . nothing is impossible to a willing heart . i will keep going .',\n",
              " 'how did you do on your belts exam ? fantastic ! i got an overall score of eight . thats excellent ! have you received your conditional offers yet ? yes . im just waiting until i officially get admitted to the university with a conditional offer to apply for my visa . do you know where the visa office is ? no . its just near the dong si shi tiao subway stop . thats not too far away . do you think ill get a visa ? have you ever gone abroad before ? yes , ive been to tailband , egypt , and japan . have you ever been denied a visa before ? never . thats good . are you planning on immigrating to another country ? no , i want to come back to china after i graduate . thats exactly what the visa officers want to hear . do you have enough money for tuition and room and board ? ive received a full scholarship , so i wont need any other money to live off while im studying . i think you have a very good chance of getting a visa . i can help you prepare for the visa interview if you want . thats be great . the more prepared i am , the better .',\n",
              " 'hi there , im steve saunders . what s your name ? im patti whitney . isn t this convention great ? yes it is , better than i expected it would be . the presenters have been first rate . is this the first conference youve been to ? no , ive been coming for the last 3 years . each year keeps getting better . where are you from ? im from long island , new york . what about yourself ? im from the other side of the coastlos angeles . wow . i really like california . . . the weather there is much better than the east coast . have you been to california ? just once . quite a few years ago we took the kids to disneyland on our vacation . they had a blast . how many kids do you have ? two , a boy and a girl . they re already grown now . well , california s changed over the last little while . you should come back out sometime .',\n",
              " 'i dislike susan . she is always above herself . don t you know that she was the only one who had received the invitation in the office ? what of it ? sure .',\n",
              " 'does it bother you that your husband goes away on long business trips ? no . the time we have spent apart has been good for us . absence makes the heart grow fonder .',\n",
              " 'what can i do for you ? i m returning these books . let me have them . here are all of them . these books are two weeks late . i didn t have time to return them . you re going to have to pay late fees . how much ? 25 cents a day . 25 cents a day ? that means 25 cents for each late book . that s expensive .',\n",
              " 'i hear youre entering the speech contest , mike . thats right . i thought id give it a shot . well , i wish you good luck !',\n",
              " 'what shall we do after the volleyball match ? how about going to the olympic souvenir store to have a look ? i remember there is one in the gym . thats a good idea . i was thinking of buying some gifts for my family . me , too . what did you have in mind ? i havent decided yet , but i think the olympic mascots are a must . i agree . theyre very lovely , especially huanhuan is that the red one ? that is my favorite , too . do you know how much they are ? the five dolls are sold together as a set , and theyre priced according to the size . the bigger they are the more expensive . oh , i see . if i buy more than a set , can i get any discount ? i dont think so . all the souvenirs of the olympic games are very hot right now . any other ideas ? there are lots of things , such as postcards , key chains , posters and various arts and crafts . it all sounds great . we can go there after the match . i cant wait to see what they have .',\n",
              " 'it is time to butter him up . what do you have to do to grease the palm of him ? i don t know . let me see . you can go and ask your father .',\n",
              " 'cindy , i heard you got into that university . congratulations ! thanks ! im so happy . its like a dream come true .',\n",
              " 'hello ? hi vicky . are you there yet ? yes . i just got off the subway . im almost there . sorry im late . thats no problem . i just wanted to tell you im inside . where are you ? on the second floor . should i come to the second floor or do you want to come to the first floor ? come upstairs . what ? oh , can you hear me ok ? i said , come to the second floor . oh , ok . what are you doing there ? just looking at some books on how to learn english . do you want to get something to eat later ? no , im still full from dinner . what do you want to do ? i dont know for sure . when you get here well talk about it . ok , see you soon . bye .',\n",
              " 'whos that old lady trimming the trees ? shes my grandma . she looks very healthy . how old is she ? 92 .',\n",
              " 'what do you think are the main causes of war today ? i d say the main reason is poverty . countries and their people get frustrated because they have so little . if their neighbors have some resources , they try to steal them by military force . it seems that a lot of wars nowadays are really civil wars . people from different ethnic groups in the same country sometimes fight for power in that country . several of those civil wars have been going on for years and years . it seems they will never end . how do you think they could be ended ? i don t think that there is any easy way . the united nations could send peacekeepers into the country . at least then the warring parties could be forced to negotiate . the thing is to find the real problem form the war and solve that . so , if the cause is poverty , there should be a program to make the country richer . if the problem is resources , share them . it sounds easy when you say it like that . in reality , it s harder to make peace between countries . yes . it is . one way to stop countries fighting is to cut off their financial support . wars are very expensive . the problem is that many poor people might suffer .',\n",
              " 'are you feeling better today , bill ? well , its hard to say . i cough a lot in the evening . youd better give up smoking . its bad for your health . youre right , but you know , its hard to give up an old habit . but you should make up your mind first . you know , i often have to work til late at night . i need something to keep me awake . why dont you go to bed and get up early ? youll have the same time for work . thank you for your advice ! ill try it .',\n",
              " 'well , i must be off now . i have an appointment at six . in that case , i wont keep you any longer . drop in any time . ok . goodbye . see you later .',\n",
              " 'hello , julia , i know a party that will begin at midnight . would you love to go ? id love to , but my mother asks me to go home before 1100 every night . she will worry if i get home late . what a pity ! the party is very interesting . i have no choice . my mother is always very strict with me . don t complain about it . she is concerned about your safety . youre right . mothers love is the greatest love in the world .',\n",
              " 'steven , why are you so depressed ? im feeling very sad . i just read the newspaper . whats the news ? according to the newspaper , the town was razed by an earthquake and more than 10 thousand people died in the earthquake . its horrible . yeah , we have to do something to help the people in the stricken area . yes . how about donating some money ? its a good idea . but where can we donate money ? just find the answer through internet . yes , lets do it now .',\n",
              " 'i don t know how to deal with jack . he is indeed a trouble maker . he has louse up my business several times . you mean lily s boyfriend ? yeah . well , he is a hard case . everyone would feel headache about him .',\n",
              " 'whos that over here ? thats the new teacher . what do you think of the teacher ? shes very nice . what does she teach ? english , of course . is she your teacher ? yes . she teaches our class three times a week . can she speak chinese to her students ? not very much . its a good thing you can speak english !',\n",
              " 'judy , what is everybody talking about ? haven t you heard ? richard was fired by our manager . you re kidding . it can t be true . believe it or not . everybody is talking about it in the company . really ? i m surprised . me too .',\n",
              " 'hi , mike . havent seen you for a while . hows cathy ? we are not seeing each other any more . what happened ? did you break up ? yeah . i got sick and tired of her nagging all the time . oh , i am sorry . maybe you were just emotional at that moment . do you think you guys can get back together ? i dont know . there s plenty of fish out there in the sea ! oh , you are such a dog !',\n",
              " 'theyre very good friends , arent they ? i wouldnt say that . they seem to be on good terms but actually they always speak ill of each other . oh , its unbelievable !',\n",
              " 'i went to jessies birthday party yesterday . it was very good . i didnt know about it . what did you do ? we ate a lot of things . we played games and gave gifts to jessie . we had a lot of fun . you were really lucky . my birthday comes next month . i want to hold a birthday party , too . i hope i can go to your party .',\n",
              " 'my friend finally dumped her boyfriend , and shes sworn shes going to abstain until she finds the right man to marry . after going through an episode like that im not surprised . hows her headspace ? shes doing great , shes getting her confidence back , and her selfesteem , has improved drastically . she s very happy . im proud of you for standing by her . i think youve helped make a big difference in her life . do you have any plans for next sunday evening ? no , why ? my friend , who had the mishap , wants to take us to dinner to show her gratitude for helping her . she doesnt need to do that , i didnt do anything . she feels you gave me the freedom to be able to assist her and she appreciates that . come on , lets indulge her .',\n",
              " 'hey , tom , what to go for a run ? no thanks . i like to run in the morning . i ran a couple of miles when i woke up today . i try to do that , but i can t get up early enough . i couldn t either at first , but you get used to it . it s so hot at lunchtime ; i d rather run in the morning . well , why don t you come tomorrow ? i ll stop by your house on my way out . i could try , but i can t say for sure if i ll get up in time . what time do you want to go ? i ll give you a call around 6 oclock and stop by around 6 thirty . o . k . , maybe if i have someone to go with , i ll be able to get up in time for a jog . great , i ll see you then . see you .',\n",
              " 'hows the weather today ? its cloudy . is it going to rain today ? i doubt it . but i heard it might rain .',\n",
              " 'well , the way you drive , jen . . . i still dont think thats a good idea . i really love this music . its a compilation . i know . its a mix of all the latest songs . and you got them off the net ? no . i recorded these from your cds . well , thanks for asking for my permission . . . now hand it over and let me record ! i knew i shouldnt have shown you my new toy . . .',\n",
              " 'um , which of them is the better typist ? well , mary types faster than jones . but i think jones types more carefully . is there any difference in their short hand ? jones can certainly take down letter more quickly , but mary s short hand is the best in her class . how about languages ? both of them speak excellent french . but i think mary speaks german more fluently than jones does . um . that doesn t really matter . because we have more french visitors than german .',\n",
              " 'my friend george has been to switzerland twice . does he like that country ? yes , he likes the people and the quietness there . would you ask him to tell us more about the country ?',\n",
              " 'hello , ann ! is that you ? yes , it is . hi , tom ! its a real surprise to see you here . its been a long time ! whats new ? nothing much . what about you ? is everything going well ? not bad i guess . i just got back from hawaii . how was it ? i had a good time . you seem to be in a hurry . dont let me hold you up . sorry , ive got a meeting in half an hour . ok , i wont keep you then . great ! its good to see you . goodbye ! yes , stay in touch . bye ! give me your email , would you ? sure ! its txybgmail . com .',\n",
              " 'ok . . . i ll talk to you later . bye carrie , are you ok ? you seem a bit down . i just got off the phone with my boyfriend . he is always getting upset and losing his temper over nothing . it s so hard to talk to him at times . maybe it s just that he is stressed out from work or something . he does have a pretty nerve wracking job you know . yeah but , he is always in a really foul mood . i try to find out what s bothering him or get him to talk about his day but , he always shuts down and brushes me off . men are like that you know . they can feel nervous , anxious or on edge and the only way they can express it is by trying to hide it through aggressiveness . i guess you are right . what do you think i should do ? he wasn t always this grouchy you know . . . talk to him , try to cheer him up when he is down and if that doesn t work , i say get rid of him and get a new one ! you are something else you know that ?',\n",
              " 'hi , my name s karl . my wife and i are moving in next door . hello , karl . i m chuck jones . we re going to be neighbors . i m happy to meet you . it seems everyone in town is so friendly . this is a small town , and we like to be neighborly . we know everyone who lives around here . well , i m from chicago . there few people take the time to get to know their neighbors . so , tell me , karl , why did you come all the way to minnesota to live ? we wanted to live in a more peaceful community and have more space . another reason is , we can afford to buy a home here , but we can t in chicago !',\n",
              " 'look ! it s the start of the olympic games . so what ? you want to watch , don t you ? not really . i couldn t careless about the olympic games . please yourself .',\n",
              " 'the question is easy for everybody . don t you think so ? yeah , its very easy . but its above nicks head why do you say so ? hes always confused by easy questions .',\n",
              " 'i can t believe it ! what s wrong ? that was a great goal . yes , but i bet 200 dollars on the cougars ! looks like you re going to lose out on this game then . i can t believe it ! i thought the cougars were going to win for sure . what were the odds ? 20 to 1 , in favour of the cougars ! too bad .',\n",
              " 'jenny , i was wondering . . . if you . . eh are you busy this friday ? yes , friday i have a class , right after work . oh , what about saturday ? are you free then ? saturday my parents are coming to town . what s up ? what about tonight ? do you have plans tonight ? no , do you want to go and do something ? yes , yes , i want to take you to dinner . oh , that sounds great . how about 6 o clock ?',\n",
              " 'excuse me ? is this where i register ? i d like to sign up for my courses for next semester . yes , of course . i need your student id please . here you are . okay , susan . it says here that you are a business major and you are in your second year . is this information correct ? yes . i do want to take some additional credits this year to get a minor in psychology . sure . that s not a problem . do you have the list of courses you want to taketh semester ? yeah . here s my list . i m not sure if the class schedule will allow me to take all of them though . yeah , that s perfect . what about the subjects for your minor ? oh yeah ! almost forgot ! i need to take fundamental linguistics , consumer psychology and neuroanatomy . wow , you are going to be busy this semester ! okay , here you go . you are registered now . you ll have to make your first tuition payment before classes start .',\n",
              " 'is your city a historical place ? not rally . 200 years ago , it was just a small insignificant village . how did it grow into such a large place ? large deposits of coal were found nearly and so many industries located themselves here . the village quickly grew into a key industrial centre . as the city grew , it must have absorbed many village nearby . yes , it did . the names of those village survive as the names of parts of the city . i see . are there any building more than 200 years old in your city ? oh , yes . several of the buildings from the villages still survive . many of them were inns for travelers and today survive as pubs . there was a castle near one village , so our city has a castle too . really ? so your city does have some old history after all .',\n",
              " 'most of our customers are foreigners . how many foreign languages can you speak , elizabeth ? two . french and spanish . and how well can you speak them ? well , french was my best subject at school . i can read and write it pretty well . and how about your spanish ? well , its not as good as my french . i can speak it reasonably well , but my written spanish isnt very good . i see . well , we have a lot of spanish customers , but you wouldnt need to write any spanish here . in that case , im fit for the position i think .',\n",
              " 'did you watch the oldfashioned wrestling game last night ? yes , of course . and im amazed the those karate and judo boys were so helpless before the wrestlers . you bet . the wrestlers had got sound defences and they simply couldnt make it .',\n",
              " 'do you mind if i get a lift in your car , please ? i don t see any problem , only the car is a bit old . oh you re so kind ! get in .',\n",
              " 'fred , can you tell me how i can open my qq zone ? click your right key of mouse and choose qq zone . well , i have to provide some of my information , right ? yep ! the nick name for your zone , address , gender and so on . some of them are privacy , so you have the right to keep secret here . all information is filled in and now i can design my zone . you can choose one type to make it as your background , and then find a music player and put your favorite songs into it , so your visitors can enjoy the music after entering into your zone . now everything is ok . i can write my blog , right ? certainly . half an hour , janice begins shouting excitedly . whats the matter with you ? look ! david gives his followingcomment on my first blog . he is my first visitor .',\n",
              " 'do you remember tina , my good friend ? yes . she just broke up with her boyfriend . well , that happens . i hope she is all right . but the problem is she and her exboyfriend are working in the same department . it is somehow embarrassing for them to see each other everyday . that is the down side of an office romance . i hope their work is not affected by the emotional stress . the boss must be very annoyed if that will be the case . well , tina says she would be able to handle it and concentrate on her own work , easier set them done . but working harder and concentrating only on the job might well helped to overcome the initial stress of the breakup .',\n",
              " 'hi bill , i saw your grandma yesterday . oh where was that ? i was running around the track at my college and there she was walking around the same track . grannie always tries to stay fit and healthy . she is always making us kids eat the proper foods . well , it pays off for her . how old is she anyway ? she will be 86 next month . that is truly amazing !',\n",
              " 'what time shall i pick you up ? how about 630 ? thatll be fine . see you soon .',\n",
              " 'hi , zhengjun , what make you so happy . you know what , ive just got a new job with a computer company . oh , congratulations !',\n",
              " 'hi , linda . i havent seen you for ages . yes . i miss you very much . so do i . have you graduated from college ? yes . i graduated last year and got a job in a press .',\n",
              " 'has the train come yet ? no , i ve been waiting for ages . it s so unreliable . i ve been late for my meetings all this week . yes , me too . i think i ve lost some important clients recently because of this train ! yes , my customers have started to complain too ! oh look ! here it comes now !',\n",
              " 'ive got some bad news about the bike you lent me . whats that ? i fell on the way to school , and your bike got scratched . im really sorry . dont worry about it . its not new , it already has a few scratches . did you get hurt ? no , thank you . thats the most important thing . its kind of you to say . i feel a little stupid . forget about it . when you lent me the bike , it looked brand new , almost anyway . maybe , but really i have fallen a couple of times and its been hit once or twice as well . i appreciate that , thank you .',\n",
              " 'jenny is going to marry another man next month . yes , i know . but , how can you be so calm . you loved her so much . at least i m the one who rates with her . i m glad we can still be friends .',\n",
              " 'whats your favorite sport ? basketball , im a basketball fan .',\n",
              " 'hello , jane . what do you do in your spare time ? well , nothing special , reading , watching tv , walking , and so on . dont you have any hobbies , like stamp collecting or things like that ? no , i dont have any hobbies . how about you ? i like collecting antiques . its expensive , but its a lot of fun . really ? how many collections do you have ? so far i have more than 500 collections . among those collections , which is the most expensive ? a set of ancient china . it is really invaluable .',\n",
              " 'it seems to me that everything is going digital nowadays . yes . speaking of digital wares , i bought a digital camera last week . cool ! what brand a sony . its only one third the size of my old camera and looks rather smart . what about the quality ? superb ! its a 4 megapixel one and the photos it takes are very vivid and clear .',\n",
              " 'its four oclock already . i hate to leave , but i think i must . can you stay a little longer ? im sorry , but i cant .',\n",
              " 'can i see your parents some time tomorrow ? sorry , they are too busy these days . how about this weekend ? yes , i think so .',\n",
              " 'happy thanksgiving ! you , too . lets have pumpkin pie . its my favorite .',\n",
              " 'are you going anywhere for your vacation ? yes , were making plans for a tour . thatll be lovely . where are you going ? well start out from long island this friday . weve planned a four day drive to salt lake city , where well join my brother and his family on his fortieth birthday . well , youve got to prepare a lot of food and enough sleeping bags then . oh , well spend the nights in hotels and enjoy local food as we pass by . how does it sound , david ? it sounds good . you can do a lot of sightseeing , too . yes , well take our time . and well go to fivelake strict and the wall street . so , youre going to have a really nice vacation . you can say that again .',\n",
              " 'would you like to book a table , sir ? yes , would you arrange it for me the day after tomorrow ? sure , when ? six oclock in the afternoon . for how many guests , please ? six . how much would you like to spend ? we dont care about money . wed like to have some good dishes of local specialties . ok . how many courses are there altogether , please ? eight . could you tell me some of entrees about the dinner ? sure . the main courses are roast beijing duck and fried eel slices . very good .',\n",
              " 'did you watch tv last night , rose ? yeah . i saw a science program . it was quite interesting . what was it about ? mars . scientists say there might be water on it . if so , we may live there someday . i hope so . did you know the us successfully sent two robotic explorers to mars last month ? sure . i heard about this on the tv . on january 3rd , 2004 , explorer spirit landed near the socalled guser crater . and three weeks later , spirits twin explorer , opportunity , landed on meridian planum named by scientists . yes . both have sent back pictures of the planet . and the latter did a better job .',\n",
              " 'how is your job search going , janet ? i found the ideal position . i m working for a plumbing company . are you serious ? you studied mathematics at college for four years , and now you have a job working with your hands ! plumbing work requires mathematics knowledge , and creativity . i love this job . i can see that . but i didn t know you had experience in that line of work . i didn t , but i applied for an apprenticeship , and since i studied math , and i have a good attitude , my application was accepted . congratulations ! you do have the right attitude .',\n",
              " 'we are going to the concert this evening . will you join us ? im very sorry i cant . why not ? ive been snowed under with work since my boss was away on business .',\n",
              " 'well , if it isnt the teachers pet ! stop it . teacher doesnt treat me any different than she does everyone else . you cant prove that by me . i saw the score on your report . hey , i worked hard on that report and i deserve the grade i got . it just happened to be the highest grade in the class . youre just jealous because you didnt do as well as you thought you did . admit it . i worked hard too . but she always gives me a lower grade . if you think that she is not fair with your work then you should talk to her in person instead of stewing over it .',\n",
              " 'you won one million yuan in a lottery . what will you say ? i dont know . im too excited to say a word . i understand . its too good to be true , isnt it ? yes , too good to be true .',\n",
              " 'i was supposed to meet with you at half past one . yes , i see . what did you need to see me about ? theres a problem with my schedule . whats the problem ? two of my classes occur at the same time . well , i can see thats a problem . is it at all possible for you to fix that error ? yes , i can . would you still like to have both of these classes ? i want to keep both of them , if thats possible . well , let me find you one of these classes on a different day . thanks a lot .',\n",
              " 'i went bungee jumping yesterday . that sounds like fun .',\n",
              " 'hello , tom , are you free next sunday ? i think so . why did you ask that ? im going to have my first baby , so i plan to hold a baby shower next sunday . congratulations ! why do people hold parties before the baby is born ? its the tradition . but baby showers as we know them today were not common until after world warri . in any case , i like baby showers , because they allow friends and family to share the joy and excitement of welcoming a new life into the world . so you will come , wont you ? of course . i will prepare a good gift for the new arrival . thank you very much .',\n",
              " 'what are you doing ? what am i doing ? what am i doing ? don t you know what day it is ? mumm . no . it s only the day when the world s biggest sporting event is kicking off . what ? the world cup ! the first match is today ! it s mexico vs . south africa ! it s going to be a really good match ! both teams have a very strong offense and have skilled players . i think that south africa will probably dominate the first half since they are the host country , and all . i have no idea what you re talking about . the only sporting event we watch at home is the super bowl . this is bigger than the super bowl , man ! teams from 32 countries compete against each other every four years and fight to win that trophy . they first start in a group stage with bigger groups , each group having 4 teams . the top 2 teams pass on to an elimination stage before going on to the quarter final sand semifinals . sounds interesting , but soccer doesn t really appeal to me . are you kidding ? over seven hundred million people watched the final match of the world cup ! it s a very exciting and nerve wracking sport ! each nation is cheering on their team , hoping they will become the next champion . so far brazil is the team with the most titles under their belt ; they re really good ! all i know about soccer is that you can t use your hands and that players are always falling down , trying to get a free kick or penalty kick . it seems like a sissy sport to me ! whatever dude , i m going to go watch the opening match .',\n",
              " 'we have absolute proof that you committed the crime . thats absolutely ridiculous !',\n",
              " 'where can i get the information , kate ? ask john . he is sure to know about it . why ? he has a finger in the pie .',\n",
              " 'that was a tough question . how did you get it right ? i just took a shot in the dark .',\n",
              " 'there s a letter here for you . let me see it . what s the letter about ? it s a letter from nyu . tell me what it says ! i didn t get in . you re lying . i m not lying . are you upset ? i had high hopes for nyu . i m sorry you didn t get accepted . hopefully , i ll get accepted to ucla .',\n",
              " 'the final examination will be held at the end of this month . have you made good preparation ? sure . ive reviewed all the lessons i have learned this academic year . are you sure you can do well this year ? i am 100 certain . according to what you did last time , i have my doubts . i am sure i can get a 95 this time .',\n",
              " 'what ? how could you forget to reserve the concert tickets ? im sorry . i forget all about it . how could you ? i reminded you just this morning . its leap my mind . i really feel terrible about it . i have been looking forward to this performance all month . im really sorry i let you down . ill make it up to you somehow .',\n",
              " 'did you hear what happened to mike last night ? no , what ? well , apparently he had too much to drink and got into some kind of trouble . typical , isnt it ? oh , no . what kind of trouble ? well , i dont know the details , but . . .',\n",
              " 'did you hear ? the state is thinking of legalizing gambling in our city ! soon we are gonna have amazing hotels and casinos here which will be good for our business ! are you serious ? gambling is a vice industry built on deception and fed by the intentional exploitation of human weakness for the sole purpose of monetary gain ! it disgusts me . what are you talking about ? how does it exploit people ? well , to begin with , gambling is addictive , ruins marriages , destroys families and bankrupts communities . once you are addicted it is very difficult to stop . people have lost their houses , cars and been left out on the street after becoming addicted . secondly , it exploits because men become addicted to gambling most often because of the action and risk . women gamble to escape , and senior citizens will start gambling for the social interaction . underage gamblers often start gambling on sports with friends and then illegal bookies . geez ! now that i think about it , maybe legalizing gambling isn t such a good idea ! although , i have been to las vegas , and i didn t become addicted or anything like that . you cannot predict who will become addicted to gambling . now excuse me , i have a protest rally to organize !',\n",
              " 'im tired of you always wearing my clothing ! arent you the pot calling the kettle black ? youre wearing my pants right now !',\n",
              " 'i m sure it will be wet when we arrive . yes . i dare say it will be . it will be sunday so i expected everything will be closed . no . i don t think that s possible . some places are sure to be open . but the bank should be closed so we shouldnt to be able to get any money . mmm , you may be right . do you think we ll need our overcoats ? no . we couldn t possibly . why not ? it will be summer . so it will be hot . is that very likely in england ? yes . it could happen .',\n",
              " 'lets do something really nice for our family this christmas . what did you have in mind ? i dont know yet . i just know i want to get out of the mindless gift trap . i know what you mean . i want to give a gift that is really meaningful . or do something that shows we have spent time thinking about them . or what only we are able to give them .',\n",
              " 'uh . . . thats greek to me . that means they have tapered legs . well , mine are baggy . theyre the kind of pants you can lounge around in . mine are , too . so maybe we shouldnt go out after all . yeah . lets just lounge around !',\n",
              " 'thanks . sometimes talking with a friend is a great way to get over something . do you mind if i vent a little bit ? of course not . if youre feeling bad and want to let your emotions out , you can just say whatever you want to me . great , because i am really mad at william . i mean , what kind of an idiot wouldnt be able to appreciate a smart , beautiful woman like me ? anybody who would be friends with that guy has to be really dumb . uh , a . . . you know im friends with william . oh right . . . present company excluded , of course !',\n",
              " 'mary is really a diligent girl . what do you mean ? she learns to speak latin by osmosis within three months . she is really something .',\n",
              " 'hello , this is david . hi david , this is marge . can you meet me after work for a few minutes ? sure ! how about the coffee shop right across the street from my office ? that will work . does five thirty work for you ? that will be fine . what i have to show you will only take a few minutes of your time . is it the plans for my new house ? yes . i just need to double check a few details with you .',\n",
              " 'i feel like going for a drink , its been a long day . great idea ! peter , i could use the drink . how about the new bar across road ? sounds good . the food there is fantastic too . i agree , i had lunch there last week . excellent ! that sounds like a plan .',\n",
              " 'i have an idea for christmas this year . what is it ? lets not exchange any gifts at all . you big scrooge ! hear me out . we can pool the money and give it to a family who could really use it ! but you may have some trouble convincing the kids . actual 1y , it was their idea first . now we know that they realize the real meaning of christmas .',\n",
              " 'do you know anything about dr . millers classes ? yes . are you in his class ? im thinking of taking his class next semester . he really knew his stuff , but he graded hard . would that be ok ? yes , i really need someone who is really good . i didnt find it overwhelming to earn a good grade if you work at it . can you do that ? maybe , but im not sure . man , this guy was so funny when he was teaching . i like that , dont you ? no , that stuff isnt important to me . did you know that he is a fairly new teacher and very current in his field ? i dont care about any of that . we all are looking for different things in an instructor . i hope ive helped you .',\n",
              " 'hey , ben . . . did you catch the game last night ? uh . . . what game ? baltimore defeated texas by 17 points ! um . . . and what sport are we talking about here ? football of course ! oh . . . football . football is cool . i usually try to catch the world cup finals . no , im talking about american football . the world cup is soccer . oh , i understand . i cant say im a big fan . im from china , and football doesnt have a really big following over there . so chinese people prefer soccer or basketball ? yes , i think so . but to be perfectly honest , im not really a sports nut . when i was in high school i played on the school volleyball team . are you a diehard football fan ? oh , certainly . i wouldnt miss a game for the world . my girlfriend says i have an addiction . and actually , if i had to choose between her and my games . . . id probably pick football . it seems americans are very passionate about sports . is this just a part of your culture ? oh , yeah ! i think the love of sports starts when kids are very young . americans come from many different backgrounds so i guess sports are something we can all enjoy together .',\n",
              " 'julia , whats the weather forecast for tomorrow ? it says a storm may come tomorrow . oh ! i hate rainy days ! me , too . im always in low spirits when it rains . are you going out tomorrow ? yes . i have to drive to washington d . c . what bad luck ! yeah ! but you know sometimes the weather forecast is not correct . maybe tomorrow is a clear day . who knows ? yeah , maybe you are right !',\n",
              " 'where would you like to have your dinner ? i dont care as long as its a chinese restaurant . you dont like western food ? i really find chinese dishes more to my taste .',\n",
              " 'thanks for offering to give me a lift . im looking forward to this party , but i didnt want to go alone . dont mention it . its my pleasure . have you been to one of these large , sitdown dinner parties since you got to new haven ? no , this is my first . last week i went to a cookout 5 for new professors at dean barksdales home . i took a taxi because i didnt want to be late . but i was the first one there . ill bet you were a little embarrassed . youre right . the invitation said two to seven . i was there at two oclock , but most people didnt arrive until three or four . they didnt start cooking until five o clock . cookouts often start slowly . a two oclock start means you arrive any time after two . thanks for telling me this . i was late getting back from the mall , but im hurrying . why are you in such a hurry ? they said , dinner at eight , and its only sevenfifteen . i dont want to be the first one there again . dont worry . we wont be the first .',\n",
              " 'that s really a letdown . yeah . he really does let me down . but that should not be the reason for you to lose heart . i m at the end of tether . i run out of ideas .',\n",
              " 'some people are always closing their handsets , so its difficult to inform them . why not send them short messages ? can short messages reach them ? short messages will be kept in the short messages center . once they open the handsets they will receive them , which is better than you cant find them . why havent i thought of this skill ? i use short messages quite a lot . if its not too complicated i will send a short message , which can save much phone charge . i am informed that many people used short messages to pay a new year call , and only on the spring festival it amounted to 1 billion this year , didnt it ? i almost cant live without messages , from which i learn about weather forecasts and stock quotations .',\n",
              " 'hey , sorry to be late . what happened to you last night ? you didn t show up . my mother was ill . i had to look after her . i m so sorry to hear that .',\n",
              " 'hi ! how are you going ? fine , thank you . how are you doing this morning ? not bad . how about you ? havent seen you for a long time . yes . ive been to new york . i got back only yesterday . did you enjoy yourself ? very much . new york is such a nice place . shall i show you some photographs ? thanks , i like looking at photographs . how nice ! oh , im afraid i must be going now . ive got an appointment . have a good day . you too . i hope to see you soon . goodbye . goodbye .',\n",
              " 'my goodness ! what happened ? you have blood on your face . oh , dont worry . i just killed a pigeon . how could you have the heart to kill it ? we only have one ! it spoiled my painting !',\n",
              " 'how annoying ! whats the matter ? every time i try to start this program , the computer freezes . maybe theres something wrong with the program .',\n",
              " 'i heard that james was fired because he got a keep back of 20 thousands dollars from a vender . that s open secret . but mine could be a lie for his job . how did you know that ? a little bird whispered to me . keep that to yourself .',\n",
              " 'who did the stupid thing ? it must be kate . no , i dont think youre right . kate never does things like that . it must be a naughty boy who did it .',\n",
              " 'hello ? hi tina , its joe . hi joe . hows the weather there today ? its really cold . it snowed all day and the schools closed early . whats the temperature ? its 30 degrees now . it was even colder this morning . have you heard what the weather is going to be like tomorrow ? i was watching the news a little earlier . they said its probably going to snow tomorrow . i really dont like the winter . i wish it were summer . me too . hows the weather where you are ? its not too bad , but its pretty cold here too . it was about 45 today and it rained this afternoon . i heard its going to be a little warmer tomorrow .',\n",
              " 'mike promised to help us . mike ? how can you trust him to help us ? why not ? he is too unpredictable . he says anything that pops into his head . and then he forgets it all .',\n",
              " 'hello , ann ! is that you ? yes , it is . hi , tom ! its a real surprise to see you here . its been a long time ! whats new ? nothing much . what about you ? is everything going well ? not bad i guess . i just got back from hawaii . how was it ? i had a good time . you seem to be in a hurry . dont let me hold you up . sorry , ive got a meeting in half an hour . ok , i wont keep you then . great ! its good to see you . goodbye ! yes , stay in touch . bye ! give me your email , would you ? sure ! its txybgmail . com .',\n",
              " 'tom , ive got good news for you . what is it ? havent you heard that your novel has won the nobel prize ? really ? i cant believe it . its like a dream come true . i never expected that i would win the nobel prize ! you did a good job . im extremely proud of you . thanks for the compliment . you certainly deserve it . lets celebrate !',\n",
              " 'tom ! how are you ? we missed you at the party last night . are you ok ? i don t know . i didn t really feel like going out . i guess i m feeling a little homesick . come on . we ve been through this already ! look , i know the adjustment was hard when you first got here , but we agreed that you were gonna try and deal with it . i was . it s just that the holidays are coming up and i won t be able to home because i can t afford the airfare . i m just longing for some of the comforts of home , like my mom s cooking and being around my family . yeah , it can get pretty lonely over the holidays . when i first got here , i d get depressed and nostalgic for anything that reminded me of home . i almost let it get to me , but then i started going out , keeping myself busy and before i knew it , i was used to to it . i see what you mean , but i m still bummed out . ok . how does this sound , let s get you suited up and hit the dance club tonight . i hear that an awesome dj is playing and there will be a lot of pretty single girls there ! you know , i could really go for that . you don t mind being my wingman for tonight ? not at all ! it be fun ! it will be like a boys night out . . . well kinda . . . great ! i must warn you though , whatever happens , don t let me go on a drinking binge . trust me , it s not a pretty picture !',\n",
              " 'there was something wrong with the plane last thursday . which flight ? flight 198 . fortunately , there were few passengers . how about the passengers ? well , all the passengers and crew members landed on their feet finally .',\n",
              " 'there are some things i miss . but i love chinese food . and i think the people in taiwan are really hospitable . besides , i grew up in los angeles , so im used to living in crowded places . why are you going to america ? im going to new york to visit my sister . she is in art school . ive never been to new york before . im kind of scared . why ? well , i know a lot of people have guns there . i think maybe it isnt too safe . dont worry about it . your sister lives there . she probably knows the places in town you shouldnt go . it s true there are some dangerous places in big american cities . but if your sister lives there , she must know the city pretty well already . yes , im not really scared . maybe only a little . dont believe what you see on tv . you will have a good time in new york . what things do you want to see ? i want to see the museums , and i want to shop a lot . the museums are excellent . and the shopping ! well ! im sure youll spend a lot of money there . hmm . i hope not .',\n",
              " 'im thirsty . pull over to that store , ill buy some drinks . im afraid i cant . parking is not allowed here . oh , thats too bad , where can you park around here ? there is a square in front of us . we can park the car there . is a shop there ? im not sure , you know im not familiar with the city , too .',\n",
              " 'do you think i should ask bob to help ? will he come ? no problem . you know him . he s the kind of guy that s always willing to go the extra miles . that s right . but i have bothered him several times . i bet he will come .',\n",
              " 'could you tell me what university you want to go to , john ? pardon ? what university would you enter ? university ? why ? you asked me last year . oh , i forget . sorry . i went to harvard university . did you ? and what course did you take there ? god save me ! is there anything wrong with you ? didnt i tell you ? ive not known . perhaps , ive got a bad memory . i did a b . a . in economics . remember ? terrific ! b . a . , again and againb . a .',\n",
              " 'did you have a good weekend ? well i wanted to go for a picnic but it rained too much . oh i see . so what did you do then ? i washed my car instead . ahh . and how about on sunday ? did you watch the football ? no i didn t . i worked in the morning then i played tennis with my husband .',\n",
              " 'what do you want for your birthday from your parents ? i dont know . maybe a pair of new shoes . why dont you ask them to buy you a pc ? you will soon use it at college . thats a dandy idea . thank you for reminding me .',\n",
              " 'your husband is very helpful , isnt he ? willing to help , maybe , but not as helpful as you think . really ? last night he told the children acliffhangerstory and both of them were scared out of sleep .',\n",
              " 'doesnt she have any friends ? if she has , they must be fairweather friends . such friends are even worse than enemies . shed better keep away from them .',\n",
              " 'let me get last weeks notes . yeah , sure , you didnt come to class that day ? i couldnt come . why not ? i wasnt feeling well . here they are . thanks a lot ; are these all the notes ? oh , no , this is the rest . thank you very much . its no problem at all .',\n",
              " 'i wonder if you agree that money is not happiness . i dont entirely agree with you . then how do you explain so many rich people committing suicide ? well , thats a thing .',\n",
              " 'he has worked five years in that bank . he must be an experienced accountant . you said it . let s ask him to work in our bank . great minds think alike .',\n",
              " 'did you pass the test ? no , i didnt . im sorry to hear that .',\n",
              " 'im really curious . what is it like doing housework all day for a living ? its a little like being a mom , only i get paid for it ! i still think that it is a bitstrange that you like to do that kind of thing . most women would rather hire a maid . thats exactly why my business is doing so well ! how ay clients do you have already ? well , ive been in business for one month now and i have ten clients . wow . too bad i dont have a clue about housework . if you ever need a job , let me know . i can always train you .',\n",
              " 'hey , check out this new game i bought today . wow ! its a trivia game all about the academy awards . i know you love the oscars . this game has some great questions about all types of movies . does it have questions about foreign language films ? theres hardly any american films worth watching . yes . in fact , one of the categories is on foreign language films .',\n",
              " 'hi , mr . james , what s the rush ? the bank closes in 30 minutes and i need to cash a check . i can lend you some money . thanks . but it s necessary for me to buy a tv set . can i help you in anyway ? you can take me to the bank if you want to . sure . let s go .',\n",
              " 'i am so sorry that i must be off now . my girlfriend told me i must arrive at her home in ten minutes or she will break up with me . she can cope with it . don t be such a wimp !',\n",
              " 'i m sure that the boy will become nobody when he grows up . be careful of what you say , or you ll have to eat humble pie . eat humble pie ? impossible , i ve never been wrong in judging boys like him .',\n",
              " 'ive got a complaint about the noise next door . yes , its most irritating . some people arent very considerate . were going to do something about it . yes , i think so . we cant put up with it any more . well play the cd loud , is that all right ? i dont think so . what should we do ? why dont we call them ? good idea .',\n",
              " 'jim , i heard you ve bought a new computer . yes . look , it is on my desk . your office looks different with a computer . by the way , is it difficult to use a computer ? not at all . it s a piece of cake . a piece of cake ? yes . it s easy and convenient to use a computer . but it takes a long time to really master it .',\n",
              " 'when i was at school , i was quite good at track and field events . i was on the school team for the long jump , 100 and 200 meter sprints and the javelin . really ? i was quite good at the hurdles and the discus . i wish that i were good at the discus , but i could rarely throw it in the right direction ! i was awful . with the hurdles , i could never jump over them ! i thought you were good at the high jump ! no , i was good at the long jump . i liked the sprints best . did you ever win any competitions ? i was regional champion for the 100 and 200 meters . i usually did well in the dong jump competitions , but i couldn t compete with kids from other schools in the javelin . how about you ? i came second and third a few times in the regional championships , but i never won . did you ever take part in the national championship for the sprinting events ? yes , i did , but i didn t do very well . i made the final in both events , but came last . at least i made the final . i was very pleased with that .',\n",
              " 'may i have an appointment with you tonight ? very sorry , i am occupied tonight . what about tomorrow night ? ok . where and when ? 700 in my staying hotel . ok , i am going to the hotel to pick you up . see you tomorrow night .',\n",
              " 'do you think people still have faith in the government ? i don t think so . why is that ? the government will never fulfill their promise . so it is no wonder people cannot keep faith with it .',\n",
              " 'how do you feel about teaching my friend how to read ? how old is your friend and why doesnt he know how to read ? hes 78 and hes a new emigrant from south america and hes never been to school . does he even know how to speak english ? no . but i thought that you could start with reading and then go from there . that was very thoughtful of you to volunteer me . come on . youre great at teaching and i know you will love him . hes adorable ! oh , all right . have him come over here for dinner . but you get to make dinner !',\n",
              " 'ive just had an argument with bob . really , who started the argument ? he did and its his entire fault . did you know it takes two to tango ?',\n",
              " 'hi , stephanie . i hear you have a new job . yes , im teaching math at lincoln high school . so how do you like it ? well , the salary is a little low , but the students are nice . how are things with you ? not bad . you know im an air traffic controller now . now thats an exciting job ! ! ! yes , but its very stressful .',\n",
              " 'tom and helen got married at last . how did you know that ? i heart tom s father didn t agree with that . i was invited to attend their wedding . it s great . although his father didn t agree with that , tom went through with it . how moving love is .',\n",
              " 'im better now . want to play again ? ill let you break the balls this time . lets get all the balls out of the pockets . ok . how much do you want to bet on this game ? you are crazy . gambling is against my principles .',\n",
              " 'give me a call tomorrow . okay .',\n",
              " 'i really need a new pair of trousers . do you ? yes , i do . this one is very old now . they look all right to me . they re not all right . they re uncomfortable and they look terrible . all right . all right .',\n",
              " 'would you mind if i ask you whether you are married or not ? to be frank , i was married once , and now im single . do you mean you got a divorce ? yes , my first marriage was a failure .',\n",
              " 'what did you do over the weekend ? i went a global warming rally in london . it was fantastic to be around so many people who care about the environment . do you think theres anything we can do to reverse the damage thats been done already ? it might not be possible to fix the problems that weve created for ourselves , but there are lots of things we can do to prevent more damages from happening . like what ? well , we can use public transport instead of taking our cars for a start . what else can we do to protect the environment ? if you do have to drive , you should make sure that your car runs on unleaded petrol . also , your home should use sources of renewable energy . how about recycling ? does that actually help ? yes . you should take your glass , paper , plastic , cardboard , and tin cans to a recycling center . what do you think is the biggest worry for our future ? i think that the issue of greatest concern is having enough sources of clean water for everyone . i had no idea you were such as environmentalist before ! to be honest , in order for the earth to continue to be a habitable place , were all going to have to become more interested in the environment .',\n",
              " 'what a bother having to climb storeys home every day . but its also a sort of exercise and its good to your health . i dont care ! youre complaining again .',\n",
              " 'what do people usually do on saint valentines day ? on that day , boys are supposed to give roses to their sweethearts . what will the girls do ? they give chocolate in return .',\n",
              " 'excuse me , are you dr . smith ? yes i am . and you . . . im david , joannas husband . she has to be at work late today . so she asked me to pick you up here . so nice to meet you , david . call me bill . its very nice of you to come here . my pleasure .',\n",
              " 'hey , ann . you dont have a pen , do you ? sure , here you go . thanks . i dont suppose you have some paper , too . of course . there you are . thanks so much . i owe you one .',\n",
              " 'please excuse me , but i really have to be going . yes , of course . it was nice to see you . it was nice to see you , too . and please give my regards to mrs . robbins .',\n",
              " 'hey mark . what are you doing ? just watching some tv . anything interesting on ? not really . just watching the sports highlight on espn . so i take it youre pretty bored too . just killing time until i find something to do . what are you going to do ? its saturday and we are sitting at home doing nothing . whats wrong with us ? you wanna shoot some hoops ? i already tried to call up some of the guys , but they are all busy . wheres your girlfriend ? i thought you were going out with her today . shes out shopping with her friends . lets go to starbucks and think of something to do then . aright . do you have any cigarettes ? i only have a couple left . why dont you pick some up on the way . ok . see you there in about 30 minutes . aright . see you there .',\n",
              " 'bobs sister will go to america . why tell me ? she has nothing to do with me ! i thought you wanted to know more about her . no , i couldnt care less !',\n",
              " 'hey , tom , did you enjoy your lunch ? oh , dont mention it . it was terrible . what the matter ? the food station was as crowded as usual . i waited for 20 minutes for my sandwich , and when i finally got it the chicken was underdone . i see . you simply cant blame the server for this . yes , i know . fast food is so popular in this district . thats true . anyway , how was your such , catherine ? it was good . i brough lunch from home today . you did ? i thought you must feel right at home here as we get as many fast food restaurants as you do in america . well , i personally dont like then because i dont believe they are healthy . i guess youre right . more often than not , people go there only for convenience . the foods may taste good , but generally speaking , they are high in calories , salt and fat . yes . i am wondering that you must believe fast food is your lifestyle , dont you ? you bet . almost all top brands such as mcdonalds and kfc are from america . well , actually twothirds of americans may avoid these places . seriously ? yeah , its hard to believe but true .',\n",
              " 'whats your favorite tv program ? i like variety shows . i also like variety shows , but sometimes the host lacks a sense of humor . i prefer a variety show without a host .',\n",
              " 'whats up ? you look low . its my girlfriend . i guess shes playing the army game . how come ? i saw her dating with her exboyfriend again . i understand that . but i think maybe its not a date . you are taking the matter too much to heart . maybe . but it still gets on my nerves .',\n",
              " 'did you hear about car accident on spring road yesterday ? yes , i did . i heard that they took both drivers to hospital . one needed surgery . yes . i heard he had a few broken bones too , but that the doctors have set the fractures without any problems . the second driver was luckier . he had a concussion and needed some stitches for his head wound . yes . he was released from hospital yesterday evening . the other man could be there for weeks . i understand that he s connected to a heart monitor and breathing apparatus . his condition can t be very good . the hospital announced this morning that his condition is poor but stable . what does that mean ? it means he s really badly injured , but he will almost certainly survive . his family will be pleased to hear that . they must have been so worried .',\n",
              " 'happy new year , bill . happy new year , steven . do you have any plans for the new year holiday ? my whole family are going to hainan for visiting . what about you ? how happy you are ! i have to stay at home to prepare my final exam .',\n",
              " 'are you sure lucy has it bad for you ? if she does , she will certainly bend over backwards for you . but if she doesnt , it would be a job to change her . i dont know whether she has it bad for me , but she enjoys being with me . and do you really love her ? i think i do . i dont think i can be happier with another girl .',\n",
              " 'a friend of mine is now in the big house . he was caught redhanded for selling cocaine . that is a deadly risky business . he should have it coming on him . he must be regretting about having done the business . i bet he is . he domed his own life .',\n",
              " 'i met mark yesterday . he looked blue . he s been on the gravy train these years , hasn t he ? it belongs to the past . he lost his job the other day , and he s up a tree now . it seems that nobody can always expect things to pan out well each time .',\n",
              " 'look , the aliens are sending a message to mulder . this rocks ! whoops . thats my pager . i had to get it for work . you have a pager ? ! thats a little hightech for you , stu . are you sure you know how to use it ? well , i know how to turn it off ! no , you dont ! its still beeping ! come on , hand it over and ill turn it off for you .',\n",
              " 'i want to meet you . are you free this evening ? well , actually , im not free today . do you have anything urgent ? no , i just want to meet you . how about tomorrow instead . hmm , thats all right . shall we meet at the bar near the beach ? all right . see you then .',\n",
              " 'do you have any tissue , eve ? ive used all mine . here . are you all right ? thanks . i am all right . its just my nose . it must be an allergy . do you have any aspirin ? i have a terrible headache . i dont have an aspirin . perhaps you should go to a doctor . no , no . i am okay . its the weather . it was warm and sunny this morning and now its chilly and raining . really , john . i still think you should go to a doctor . youve been sneezing ever since you entered the office this morning . why dont you take this afternoon off ? if you dont want to see a doctor , at least you can go home and have a good rest . i cant . i am already behind the schedule . besides , you know mr . white . he would think that i was putting him on . you didnt do anything but sneeze this morning , and you cant do anything this afternoon like this . gee ! youve got a fever . do i ? oh , no . listen to me . you go home now . i will call my doctor and have him go over . ok ? what about mr . white ? ill handle him . now go home . ill call you after work . thanks a lot , eve . goodbye .',\n",
              " 'how about a movie on sunday , mum ? well , im afraid your fathers not interested in modern films . we could find a classical one . that sounds fine .',\n",
              " 'you are in love with mary , right ? you are pulling my legs ! i am not blind . anyone can see that with half an eye .',\n",
              " 'im going on a cruise this summer . no kidding ? my brother won a free trip and hes taking me . you cant beat that .',\n",
              " 'where do you spend the weekend ? weve a country house . thats nice . join us , will you ? thatd be great ! thank you .',\n",
              " 'hows your work ? good , thanks . how about you ? not bad . but we have lost a few of staff lately . why ? because of the low salaries . but your company is huge . cant they afford to pay the staff decent wages ? i dont know why . why dont you give them a suggestion ? may be i can have a try . but im on vacation now .',\n",
              " 'good morning , linda . how have you been ? pretty bad . i ve had a bad cold for three days and still can t get rid of it . i m sorry to hear that . is there anything else i can do ? no , thanks . well , i hope you ll feel better soon . thank you for your concern .',\n",
              " 'are you going to watch the indy five hundred on tv this weekend ? im not really into racecar driving . you were when we were in high school . that , and baseball . yeah , well , times change . look at youyoure a father now . you cant say that you havent changed . true , but i still have to watch my baseball . the seasons in full swing now . i mean , i know spring trainings over , but im just not into all that . hello ? is the real taylor in there ?',\n",
              " 'how do you feel ? im nervous as can be .',\n",
              " 'i cant believe it ! i lost . it looks like you have to buy tickets for us , jason . and were not going to see an action movie ! thats not fair , you got all the easy questions . i guess thats just the luck of the draw . i want a rematch . lets play again . sorry , not tonight !',\n",
              " 'do you need a hand ? no , i can handle it . thanks anyway . are you sure you dont need any help ? well , maybe just a little . i cant seem to make it fit . i swear , the overhead compartments on these planes just keep getting smaller and smaller ! thats so true . thanks for your help . are you in the aisle seat in this row ? yes . what about you ? im in the middle seat . oh , i guess ill let you through then . thanks . sorry for making you get out of your seat again . thats alright . i notice you have a few newspapers there . would you mind lending me one ? no , not at all . which one would you likethe new york times or the guardian ? i prefer the british paper , but ill read whatever one you arent going to read right away . i was just going to do a little sudoku while we wait for the plane to take off , so the guardian is all yours . thanks a lot . thats really nice of you . would you like a piece of gum ? that would be great . thanks .',\n",
              " 'are you listening to me , dan ? im with you , jane . what did i just say ? well , uh . . . i didnt catch the last part . just what i thought !',\n",
              " 'man , i m freaking out ! you gotta help me ! whoa , whoa , take it easy , relax . geez , you re sweating like a pig ! what s going on ? i can t go through with this ! i just can t ! i m not ready for marriage ! what was i thinking ? i m only thirty five years old ! i ve got my entire life ahead of me , adventures waiting ! i can t settle down yet ! what are you talking about ? it wasn t more than a month ago that you were rambling on about how you are tired of living the life of a bachelor and how you envy your friends that have a family ! i know . i know ! let s think this through . first of all , you cannot leave amy at the altar . not only will she be humiliated and kill you , but she is the woman that you love and the woman of your dreams ! why would you want to end that or jeopardize it like this ? second of all , you are just getting cold feet . you know deep down inside that you want to marry her , so cut the crap and do it ! you re right . i m being crazy ! ok , i m ready , let s do this ! great ! phew ! that was a close one ! you had me going there for a minute i thought i was gonna have to slap some sense into you .',\n",
              " 'hi , why do you look so depressed today , mike ? i had a terrible quarrel with my neighbor yesterday . how come ? it is a long story . basically , she thought i had laughed at her while i didnt . i know everyone suffers when he is misunderstood . but why not take it easy ? yeah . its so nice of you to comfort me .',\n",
              " 'whos that over here ? thats the new teacher . what do you think of the teacher ? shes very nice . what does she teach ? english , of course . is she your teacher ? yes . she teaches our class three times a week . can she speak chinese to her students ? not very much . its a good thing you can speak english !',\n",
              " 'the teacher just canceled the test . are you kidding ?',\n",
              " 'hello ? hi steve . this is mike . what are you doing ? oh , hi . i was just watching tv . theres nothing to watch right now . i know . i was watching a rerun . i have nothing to do and i was bored . me too . lets get together and do something . id like to , but i have to meet my parents in an hour for dinner . how about tomorrow ? yeah . lets plan something tomorrow . did you hear the weather forecast for tomorrow ? i think it is going to be the same as today . clear and sunny . thats great . we can do something outdoors then . are there any special events going on tomorrow ? yeah . i think theres a live outdoor concert by the river tomorrow . oh yeah . i heard about that too . lets go check it out . do you know what time it starts ? it starts at one pm . lets meet for lunch at eleven thirty and afterwards , we can head over there . perfect . ill see you in front of the apartment at eleven thirty .',\n",
              " 'would you go to the bookstore with me ? it sounds a good idea . let s go . do you know jeffery has published his second detective novel ? yes . i heard about that . and i know you want to buy it , but i m not interested in detective novels . so what are you interested in ? magazines about fashions , such as cosmo polian . i know that magazine . it s very popular . yes . i can lend you some . thank you . but i m not interested .',\n",
              " 'when can we expect you for dinner ? can you come tonight ? not tonight . i promised to go to a concert with my sister . well . . . how about friday then ? that sounds fine . good . shall we say seven oclock ? ill be there . youre still a fabulous cook , arent you ? thatll be for you to decide . ive got a new dish that i want to try out on you . im ready . ill look forward to it all friday !',\n",
              " 'i don t understand why you always look so happy , so energetic . it seems like you ve got good news everyday . really ? do i look happy all the time ? all i know is you look quite differently from other teachers . oh , do you know why ? actually , it s easy . because i always exercise . my exercise , i think , is very hard . i often feel very good after conquering these difficulties . i feel alive ! oh , i know . i saw you doing pullups one time on the campus 5 and some students trying to imitate you . yeah , they are doing it for fun . seldom would people like my exercise . it s difficult and boring . it s true . many students do the exercise when they have to . we have p . e . once a week . but i think chinese students need to exercise more . besides exercise will help them learn new things better . don t students want to have a good memory ? of course . i didn t know that . i only know exercise makes bodies stronger . i should take some exercise then . do you have any suggestions ? well , do what you like to do . it can be anything . jogging , doing aerobics , going bicycling , and playing pingpong . absolutely anything . doing three or more workouts a week is good for you . but remember to do some stretches first . oh , i know . thank you .',\n",
              " 'which kind of sport do you like to watch ? basketball , football , table tennis . i will watch them on tv . so you must like nba game . yeah , it is my favorite . many chinese people including women and children would like to concern the game . i think they want to see the performance of coming and yijianlian , the chinese players in nba . what kind of sport do you like to participate in ? i am good at tennis and skiing . what about you ? i prefer the indoor sports , such as bowling , badminton and squash . moderate exercise is really important for health . life lies in movement . how about playing tennis with me ? good idea . i will take the racket .',\n",
              " 'good morning , jerry . how s everything ? fine , just fine . thanks . doing anything for lunch ? well , as a matter of fact , ive got a lunch date with bob thomas .',\n",
              " 'excuse me . can you tell me how to get started using these machines ? of course . are you a new member here ? yes . welcome . my name is johnson . nice to meet you . do you have any experience using weights ? no , i dont . so i need some help . well , first it is important to go through a good stretch . you must warm up properly so that you dont hurt yourself on the machines . yes , i know that . derek just led me through the warm up in the aerobics room . so im ready , i think . i can start using the machines . alright . great . then we must get a card for you . what do you meana membership card ? i already have one . no . not that . i mean a training card . the card allows you to keep track of how much weight you use on each machine . here , let me show you . im ready . now , you can see that on this card there are all the machines listed . so , when you go through the series of twelve machines , you enter in the number of repetitions you do . and you also enter in the weight at which you set the machine . i see . so this card helps me to keep track of my progress . yes . and it also reminds you what is a suitable weight for each machine . today , i will go through the machines with you one by one . i will show you how to use them . and we will determine what is a good starting weight for you . alright . great . so you write your name and member number at the top of the card . and then , after you exercise each time , you file the card here . great . why dont we start on the machines ? are you alright ? can you do more ? im sorry . i know there are still seven machines . but im exhausted . thats okay . dont worry . it s important not to push yourself . especially not at the beginning . what can i do though ? i dont know the proper settings for the rest of the machines . we can just go through them next time . its no problem . really . the most important thing is to know your limits . so if you feel burned out now , it is good to stop . because if you strain a muscle or hurt your back , then you wont be able to exercise for a couple weeks . right ? yes . i suppose its best to stop .',\n",
              " 'dont be afraid . give it a try . okay .',\n",
              " 'what are you doing ? im just trying to complete todays crossword puzzle . whenever i get the time , i like to do the crossword puzzles in the paper . you really like brains that make you think , dont you ? i guess you could say that . what kind of games do you like ? i guess the games i like the most are the ones that im good at ! doesnt everyone ? which games are those ? well , i like to play darts . whenever i go to a bar , i usually play for a few hours . did you play a lot of games when you were little ? my parents used to love to play checkers and dominoes . we used to have family tournaments every weekend . do you still like playing those games ? not at all . i never really did , to be honest . what about you ? did your family used to play games together ? everyone in my family really enjoys playing card games . some of my friends play cards on the internet . have you ever tried that ? no , i prefer to play with people i know . how about mahjong ? its a popular game with some people , but ive never played it . i thought everyone in your country were experts at mahjong ! i hate to disappoint you , but unlike what most people think , we arent all exactly the same !',\n",
              " 'i didnt like my brothers batting around without doing anything useful . maybe he is trying to find a job . when he finds one , everything will be settled . i hope so .',\n",
              " 'they got a divorce at last . its inevitable . their love wasbuilt on the sand , and this is why their marriage has landed on the rocks . you said it . love but on the sand will soon be on the rocks . that give us a good lesson .',\n",
              " 'do you like traveling , kathy ? i like traveling for pleasure to get places for vacation for instance . but i don t like traveling to work , waiting for buses , or . . . or getting stuck in traffic jams when you re driving . exactly .',\n",
              " 'can you believe that susan got married ? really ? i remember she said if she would remain single . is the man very rich ? no . that s what is surprising me . you means she didn t marry a rich man . he s a postman . i thought she would marry a fortune .',\n",
              " 'what sort of things do you grow in your garden ? i grow a variety of things , so that something is in bloom all year round . when is your garden at its best ? it looks best in spring , when the plum and cherry blossoms are out .',\n",
              " 'good afternoon ! good afternoon ! sit down , please . how are you ? im very well , thank you . how are you ? very well too , thank you very much . isn t it a lovely day ? yes , its beautiful , but its also very hot . yes . whats the weather like in your country ? mm . . . its quite warm now . where do you live ? in london . where do you live ? here . near this school .',\n",
              " 'oh , no ! now ill be late . can i give you a hand ? yes , id appreciate it if you could drive me downtown . sure thing . ive got time .',\n",
              " 'what a great weekend that was ! my feelings exactly . i really enjoy the beach in the summer . i couldnt agree with you more . we should come here more often . you are absolutely right . id like to come back next weekend . thats exactly the way i feel .',\n",
              " 'whats this , i wonder ? im not sure . let me have a look . . . it could be a coffee grinder . a coffee grinder ? yes , it must be used for grinding coffee beans . oh , that would be very useful .',\n",
              " 'weve got a new manager in our department . oh ? you hoped to get that job , didnt you ? yes , i did . im sorry . thats too bad . who is it ? who got the job , i mean ? someone called drexler . carl drexler . hes been with the company onlytwo years . ive been here longer . and i know more about the job , too hmm . why do you think they gave it to him and not to you ? because im the wrong sex , of course ! you mean you didnt get the job because youre a woman ? yes , that was probably it ! it isnt fair . what sort of clothes does he wear ? a dark suit . white shirt . a tie . why ? perhaps that had something to do with it . you mean you think i didnt get the job because i come to work in jeansand a sweater ? its possible , isnt it ? do you really think i should wear different clothes ? well . . . perhaps you should think about it . why should i wear a skirt ? or a dress ? im not saying you should . im saying you should think about it . thats all ! why should i do that ? im good at my job ! thats the only important thing ! hmm . perhaps it should be the only important thing . but it isnt . not in this company .',\n",
              " 'its a sunny day , isnt it ? yes , it is . im jennifer . nice to meet you . my name is david . nice to meet you , too . are you american ? no , im a britisher . where do you come from ? i come from america . are you a freshman ? yes . what about you ? me , too . great . maybe we can study and play games together . i think we can be good friends . yeah . anytime .',\n",
              " 'you keep bowling spares but no strike . i dont know why , but i think theres something wrong with my hands . i couldnt seem to be able to control it on the first ball . i dont think it was the problem with your hands , you did several excellent spares . you have no problem with your hands . then why couldnt i get strike on the first ball ? the problem is you are too nervous . you want to have a strike so much , so you deliver the ball too hard . and when it comes to the i second roll , theres no pressure . thats why you could bowl all those spares . really ? i will try again .',\n",
              " 'nice to see you , patrick . bob ! i hear your team won the match . yeah . all of us tried our best . congratulations ! thanks .',\n",
              " 'are you free on the thirteenth in the afternoon ? no im afraid not . im meeting ruth then . how about the fourteenth in the morning ? im sorry . im attending a meeting at the hilton then . what about the next day ? no . im busy then too . im meeting dorothy heath at north bridge road . are you free on thursday afternoon ? yes , i think i am . lets meet for lunch at mouth restaurant . good idea ! is two oclock okay ? thats fine . see you there !',\n",
              " 'did you enjoy the movie ? oh , its really a drag . sorry to hear that . i think its even better than on the golden pond . hell with it ! nobody will give it an academy award !',\n",
              " 'hi jackie . you dont look too well . whats going on ? its nothing . im just a little stressed out . why ? whats stressing you out ? school . since i was working part time , i had a difficult time keeping up with class . now that we have exams coming up , im totally freaking out . the best thing to do is study as much as you can . im sure youll do alright . i hope so . i guess i wont be sleeping for the next 3 days . thats what itll take . i have to study for an exam too . why dont we study together . we can encourage each other . that will be great .',\n",
              " 'the new webpage design is much more effective than before . i feel confident it will rope in a lot more business because of its userfriendly format . why do you think the new page is so much better than the old page ? i thought the old page wasnt half bad . . . the old page was okay , alright , but there wasnt a big influence in our sales volume , because the site wasnt developed with an eye towards the marketing aspect . now its different . we got our marketing department team in on the action , and the results are smashing . . . what changes were made from the old page to the new page ? first , the visitors to the site are encouraged to give their contact information . they can sign up for a free monthly drawing . once weve got their info , it goes into a database for future marketing mailers and advertising targeting . also , there are clear links to descriptions of our products and services , so as to give confidence to new customers . we also added a specific area for online customer service . . . so far weve gotten a ton of positive feedback . . . great !',\n",
              " 'did you know that drinking beer helps you sing better ? are you sure ? how do you know ? well , usually people think im a terrible singer , but after we all have a few beers , they say i sound a lot better ! well , i heard that if you drink enough beer , you can speak foreign languages better . . .',\n",
              " 'pardon me . could you please pass me the tissue ? sure , here you are . thanks , i didnt expect the dish to be so spicy . are you ok ? yeah , i think the food is alright , its not too spicy though its a little salty for me . but you are chinese , you should have known better . well , not every chinese can handle spicy food in the way people from sichuan and guizhou provinces can . back where i come from , people dont eat a lot of papers and chilies . oh , i see how this food can be really hard for you . i can sympathize with that . i stayed in sichuan for a year . the food was difficult at the beginning . every dish was so spicy . after a while though , i got used to the taste , and now i wont consider anything a real dish if it isnt spicy . yeah , you can increase you tolerance for spicy food , but so far , i havent had the need or the opportunity . every time i try spicy food , it is a total disaster for my nose and eyes . i completely understand . i didnt intend on liking spicy food at first either , but when you have no other choices , youve got to adapt . yeah , i guess thats a typical example of when in rome , do as the romans do . exactly .',\n",
              " 'tom , christmas day is coming . merry christmas to you . thank you . and a merry christmas to you !',\n",
              " 'could you lend your bike to me for several days ? how long would you like to keep it ? till the end of the week . yes , thatd be all right .',\n",
              " 'dont you feel a little strange taking the place of your old boss after he was demoted ? yes , at first i felt very awkward . after bill was demoted and then resigned , it was kind of like somebody died ! i mean the atmosphere in the office was like a funeral parlor or something . and then i was afraid people would look at me as a traitor for filling in his spot when the management asked me to . . . did they mutiny ? thankful , no . i guess everyone understands the opportunity i had to step into a leadership role is so great for my career . im really moving up the ladder now that im considered a supervisor . after a couple weeks , it was like nothing happened . it is a really good chance for you to get more exposure at work . supervisors get to take the credit for all the hard work of the people under them . yeah , and they also take the blame , thats what happened to my old boss . . .',\n",
              " 'how about a game of tennis ? okay . loser has to take out the trash for a month . its a deal . see you in the court .',\n",
              " 'are you feeling better today , bill ? well , its hard to say . i cough a lot in the evening . youd better give up smoking . its bad for your health . youre right , but you know , its hard to give up an old habit . but you should make up your mind first . you know , i often have to work till late at night . i need something to keep me awake . why dont you go to bed and get up early ? youll have the same time for work . thank you for your advice ! ill try it .',\n",
              " 'hi , john , how was your vacation ? awesome , we went to australia and new zealand . that must have been wonderful . do anything interesting ? well , we went bungee jumping when we were in australia . wow ! isn t that dangerous ? a little , but the rush was worth it . tell me about it . we jumped off a bridge and fell 500 feet before the bungee cord caught us . 500 feet ! i would never be able to do that . yeah , it was scary , but exhilarating .',\n",
              " 'what did her boss say to you ? he asked me to beef up in the work . yeah . you look so unhappy recently . what s the matter . nothing , thanks . i am just not in the mood these days .',\n",
              " 'hi , tina , its joe . hi , joe . whats the weather like there today ? its really cold . it snowed all day and the school closed early . whats the temperature ? its 20 degrees below zero now . it was even colder this morning . have you heard what the weather is going to be like tomorrow ? i was watching the news a little earlier . they said its probably going to snow tomorrow . i really dont like the winter . i wish it were summer . me too . hows the weather where you are ? its not too bad , but its pretty cold here too . i heard its going to be a little warmer tomorrow .',\n",
              " 'mom , i just finished my paper . can you proofread it before i hand it in ? sure , let s take a look . sweetie , this is terrific . your ideas are so original . thanks . i can tell you worked hard on it . i really did ! i started thinking about what i wanted to say three weeks ago . well , it was definitely worth all the time . let s just hope my teacher agrees .',\n",
              " 'how about doing shopping this weekend ? whatre you going to buy ? sportshoes . will you go with me ? ok .',\n",
              " 'merry christmas ! huh ? i said merry christmas ! dont you know that christmas is almost here ? it is ? oh , thats nice . huh ? didnt you know ? arent you excited ? actually , id forgotten about it . forgotten about it ? how could you ? because im not christian , im jewish . oh , im sorry . i didnt know . its all right . there are so many christians in america that everybody takes it for granted that im christian . i guess so . so what do you do around this time of year ? well , ill celebrate hanukah soon , but thats not as important to us as christmas is to you . mainly ill just enjoy the holiday break . well , would you be horribly offended if i invited you to a christmas party at my house ? not at all . a party is a party . ill be happy to come .',\n",
              " 'its all over . im bankrupt . dont worry . everything will be fine .',\n",
              " 'bill , happy halloween ! happy halloween ! what creature are you going to dress up as ? i will dress up as a vampire with big fangs . may i have a look at your costume ? sure . wait a moment . several minutes later here you are . i like your black clothes and your fangs are cool . i will bite many beautiful girls on the neck tonight . maybe i will suck their blood . haha . wish you good luck .',\n",
              " 'i think that s settled . im tired of your cutanddried opinions . who do you think you are ! how dare you speak to me like this . why not ?',\n",
              " 'hey , karen . look like you got some sun this weekend . yeah ? i guess so . i spent the weekend at beach . that s great . where did you stay ? some friends of my parents live out there , and they invited me there . so , what did you do out there ? i mean besides bask in the sun , obviously . i jogged up and down the beach and played volleyball . you know i never realized how hard it is to run on sand . i couldn t get through a whole game before i had to sit down . not to mention cooler . did you go swimming ? i wanted to , but the water is too cold , and i just wetted in up to my knees . it all sounds so relaxing . i wish i could get away to the beach like that . it looks like you could use it . don t tell me you spent the weekend in the library again .',\n",
              " 'ok class , so today we are going to continue with our anatomy class , today we will review everything we have learned . can anyone tell me what the first major organ is ? the brain ! thats right , the brain ! it serves as a control center for the body , handling the processes of the central nervous system as well as cognition . then what major organ is in our chest ? the heart ! very good ! it pumps blood throughout the body , using the circulatory system such as blood vessels and veins . now lets not forget that our lungs provide oxygen to our heart and body to keep us alive ! now what about the organs that help us digest food ? the stomach and intestines ! very good ! lets not forget that the stomach is the one that breaks down our food and our intestines process that food and then expel the waste . are we forgetting anything ? yeah ! our kidneys , liver and bladder ! oh yes , you are right . very important organs indeed . so what do these organs do , teacher ? well , mumm , they . . . time for a break ! we can talk about it when you get back .',\n",
              " 'its not good for business recently . not good for business ? i dont see eye to eye with you . the new policy offers new opportunities . too risky anyway . it s necessary to look before you leap .',\n",
              " 'do you know how to play go ? its easy . all you have to do is to use your pieces to surround the opponents pieces and then take over all of his territory . but i heard it is very difficult to play . its easier said than done . when you actually play , it can be very frustrating .',\n",
              " 'linda ? is that you ? i havent seen you in ages ! hi george ! its good to see you ! what have you been up to ? i just opened up my own business not long ago . good for you ! what are you doing ? im a professional party planner here in the city . i do catering and all that . i knew some day i would be able to profit from your love of fun ! well , i dont know about the profit part yet . but i am really having fun !',\n",
              " 'so , what s new in the kitchen ? that refrigerator is new , isn t it ? yes . i needed a large one . before , i had a separate refrigerator and freezer , but this has both combined into one . that s usual nowadays . you ve added a few shelves too . yes . you know i ve been cooking more kind of food recently and i needed some extra space for spices and ingredients . did you buy new cupboards too ? no , i didn t . i gave them a really good clean , so they just look new . the worktop was in poor condition , so i had a new one added . i see that you have bought several new pots and pans and utensils . yes , i have . i need them to help me with these new dished i m trying to make . i need a little more practice before i invite guests over . looking at the spice rack , i d say you ve been learning how to make asian food . yes . i ve always likes indian and thai food , so i ve been trying to make dishes from those countries . i m pretty good at making curries now , but i still need practice at making thai food . both kinds of food are becoming popular . nowadays , it s very easy to pick up the ingredients at the supermarket . i hope you can stay for dinner . i need a guinea pig !',\n",
              " 'how do you like skiing , pat ? i love it . all my life i wanted to learn to ski . finally i took lessons last year . i suppose skiing is easy for you . no , quite the opposite . i thought id never stop falling down . then all of a sudden i started skiing much better . i see . do you ski often ? every chance i get . on weekends i ski all day long . sometimes i even ski at night . that sounds great . oh , yes . the ski slopes are well lit . its really nice to ski at night . why dont you learn to ski ? not on your life ! i know id break my leg dont be so frightened . its just a skill .',\n",
              " 'hi , dave . this is zina . zina ? zina the snake ? i got your email a couple of months back . yeah ? which one was that ? the one that said , youre a creep . from me you wont hear another peep . i hope you wreck your jeep . right . that one . did it work ?',\n",
              " 'hello , my name is bill martin and we have a reservation for party tonight . yes , what can i do for you ? i need to cancel that . we have had a last minute change of plans . i see . would you like me to reschedule you for another night ? ok , we will let you know as early as possible . by the way , will we be able to get a refund on this cancellation ? certainly . thank you very much . thats all right . i hope we can help you at some other time . goodbye . goodbye .',\n",
              " 'can i use your laptop for a while ? sure , go ahead . oh , isnt your computer wifi capable ? yes , it is . you want go online ? there are no wifi hotspots around . oh my , no internet access is killing me . cant you wait till you get home ? then you can surf the internet using the broadband , wireless connection or whatever you like . no , im not feeling myself . i just want to check my emails , visit my favorite websites and chat with my friends . now i see , you must be suffering from discomgoogolation . what does that mean ? theres nothing wrong with me . well , the term discomgoogolation comes from discombobulate and google . because floods of information are just a mouse click away , net users are very likely to become addicted to the web . thats alright . i just cant bear losing track of all the latest information . it almost drives me crazy . then , youre probably addicted .',\n",
              " 'sally , i m tired of this western food . i really miss my mother s sichuan cooking . i m sure you do miss that type of cooking . but can t you try to get used to western food ? i have tried . but americans like butter , bread , sugar , and cream too much . i suppose you re right , lee . maybe that s why so many westerners are overweight . it s interesting that americans work very hard at their jobs , do not take naps during the day , and yet they can be so heavy . you see , because we are often busy working , we eat too much fast food , and that food is very fattening .',\n",
              " 'tell me something about your valentines day . ok , on that day , boys usually give roses to the sweet hearts and girls give them chocolate to return . so romantic . young people must have lot of fun . yeah , that is the holiday is hot , isnt it ?',\n",
              " 'what will happen to the children if you break up ? thats a relief for me and a misery for the children . why dont you make up with john . its too late .',\n",
              " 'have you ever been to japan ? im going in the fall . yeah , ive been there twice . really ? tell me about it . whats it like ? oh , its fantastic . where did you go ? on my first trip i went to tokyo , and on my second trip i visited kyoto . what did you think of tokyo ? very big and exciting , but very crowded , too . yeah . ive seen pictures of the crowds ! and the restaurant are excellent . . . but theyre kind of expensive . and how about kyoto ? kyoto is lovely . its full of beautiful old temples and gardens . it s a very historic city . how was the weather ? i was in tokyo in august , and it was really hot and humid . i went to kyoto in october . it was hot and sunny , but there was no humidity . sounds perfect . i cant wait !',\n",
              " 'where do you live now ? i live in haitian district where there are lot of universities . which street do you live on ? i live at no . 50 xingu street .',\n",
              " 'who did the stupid thing ? maybe it was dick . i dont think so . dick has been on the ball and never does things like that . then it must be a naughty boy who did it .',\n",
              " 'can i help you ? yes . id like to borrow these books . just a second . ill see if i can find them for you . thanks . here you are . you must return them within a month . what happens if im not finished with them in a month ? you can come in and renew them unless someone else has reserved them . ok . thank you very much for your trouble . no trouble at all . so long .',\n",
              " 'hi sam , would you like to come for a curry with us next friday ? sure , i love curry . who else is coming ? jane , susan , pete and two colleagues of mine from work . i have no plans for friday , so curry would be great . which restaurant do you have in mind ? susan suggested the one on main street . she says it is very good . which one is that ? you know , the one just on the corner with oxford street . there is a large pharmacy next door . oh yes , i know which one you mean . i have never been there , but i looked at their menu once and it did look good . okay then . i think we will all meet outside ? what time ? at 8 oclock . i will make the reservation . thats good . see you on friday .',\n",
              " 'did you have a parttime job when you were still in school ? no , i was way too busy studying all the time . how about you ? yeah , i worked about twenty hours a week in a pizza restaurant . what was that like ? it was always very busy there . what did you do ? i stood behind the register and took pizza orders . did you get any perks on the job ? yeah , i got to eat as much pizza as i could for free .',\n",
              " 'did you like the play ? not really . its a dull one , and the production isnt satisfactory , either . youre absolutely right . the acting could be better . to be fair , though , both the costumes and scenery are marvelous .',\n",
              " 'i need some books on hardware . theres many books here . what about these ? great ! theyre the very books i want . may i borrow two books ? sure . but you can only keep them for a week . i see . thank you .',\n",
              " 'i don t know why i married him . what is the matter ? he never see eye to eye with me . that is to say , love is blind .',\n",
              " 'why is the long face ? im getting sick of work man . i cant take the political bull in the company any more . did you just get your review or something ? yeah , but thats not why i am upset . i just found out another guy got a promotion . he doesnt know how to do anything . he sits there and kisses the managers butt all day long . that sucks . im just pissed that management cant see behind his smooth talking lies . look on the bright side . at least you have a job . yeah . i shouldnt stress about this anymore . its not like i can do anything about it . exactly . instead , we should have some drinks tonight . how about a cold bottle of beer . now youre talking .',\n",
              " 'youre so witty . . . so why is the face tilted to the right ? this watch is supposed to be worn on your left hand . so its not as convenient for lefthanded people ? its better for righthanded people like me . see , i dont even have to move my arm to see the time . im lefthanded . you bought that watch so that i wont borrow it . . . bingo !',\n",
              " 'is there any ticket left for tonights concert ? i am sorry , sir . all the tickets have been sold out . what a shame . will there be the same performance tomorrow evening ? sorry , sir . the only tickets of the same performance available are on 21st . thats fine . i want 2 tickets .',\n",
              " 'does tom drink a lot ? yes , he does . he of ten has had one to many . but i advised him not to drink too much , he just boasted that he had hollow legs and nobody had ever drunk him under the table . thats a problem . he has sort of dutch courage and that will egg him on in doing anything .',\n",
              " 'do you offer a course in business management ? yes , we do . how many nights a week is it ? its 3 nights a week , monday , tuesday and thursday . and how long does the course last ? it lasts for 9 months . when does it start ? the next beginning class starts on october 25th . what time is the class ? from 7 to 9 oclock . how much does it cost ? it costs 125 dollars a month . yes , thats all right . i want to enroll in the course . thank you , please fill out this form for us . do you want me to fill it out now ? yes , please . we need a record of you education and your work experiences .',\n",
              " 'how many passengers are there aboard the ship ? seventysix , i think .',\n",
              " 'what s your schedule like this year ? pretty busy . i have to pick up a lot of credits this year . what s your major ? i m majoring in french literature . oh , don t you have to take that class on 18th century poetry ? it s really difficult . i hear the students in that class have to write a paper 100 pages long . that s right . we got the assignment last week . when is it due ? next monday ! remind me never to sign up for that course !',\n",
              " 'okay , next question . if eric asked you out on a date , what would you say ? duh ! i would say yes ! eric is the most popular kid in school ! okay , my turn . what would you do if you won the lottery ? let s see . . . if i won the lottery , i would buy two tickets for a trip around the world . if you buy me a ticket i will go with you for sure ! my dad will freak out if i even mention a trip like that ! alright this is a good one . what would your mom say if you told her you are going to get married ? if i told her that , she would faint and have me committed !',\n",
              " 'something wrong ? yes . my car is having problems . whats wrong ? it wont start . do you want me to take a look ? no , thank you . i think i can handle it . well , if you change your mind , let me know . i will . thanks . thats sweet of you . no problem . i might need some tools though . do you know where i can get some ? sure . i have all kinds of tools . just ask . i ll be happy to get them for you . thanks . that would be very helpful . anything for you . seriously , i don t mind helping . ok . if you really insist , i could always use the company .',\n",
              " 'ive been standing here since half past seven . where on earth have you been ? im terribly sorry im late . i just couldnt help it . its really very easy saying youre sorry . look , just give me a chance . i can explain it .',\n",
              " 'dalian is a beautiful city . do you agree ? i suppose i do . the climate here is pleasant . they use said it this city is really comfortable to living . it sure is no other city can match it . its heaven . well , if you live in other as long enough you love them just as much . maybe . thats for sure .',\n",
              " 'do you know that mary an ben have already separated ? yeah , i know . i didn t know it until yesterday . i put my foot into it , and was even stupid enough to ask when they would get married .',\n",
              " 'alice , your father is amazing . he s 90 years old and he lives alone in that big house . i know . he doesn t like to ask anyone for help . my dad insists on paying his own bills and taking care of himself ! that sounds like my grandmother . she was always stubbornly independent . it seems that folks like my father and your grandmother are determined to be on their own . they see their independence as a kind of character strength . sometimes they are too independent .',\n",
              " 'how are you making out ? im doing fine . don t mind me . it s a wonderful birthday party . everyone is enjoying himself . i hope so . thank you again for your delightful gift . dont mention it .',\n",
              " 'happy birthday , mary ! thank you . here is a gift for you . i hope you like it . what a lovely dog ! how did you know i love this ? i had my own ways of finding out . its a secret . you look so beautiful today . your new shirt goes well with your skirt . maybe you dont believe it , but it was made by my grandmother . really ? it looks so nice . thank you . please have a cup of tea . all right . how about some fish ? no , thanks . ive had enough . now , mary , before you blow out the birthday candles , you have to make a wish . after that , you may cut the cake . ok , let me make a wish . . . do you want a big piece of cake ? no , just a small one . next lets sing happy birthday to mary . it is very kind of you . im so moved by you .',\n",
              " 'how did you meet your girlfriend ? i met amanda through a friend . thats great . did you start dating right after you met , or did you become friends first ? we started dating right away .',\n",
              " 'is there anything available for tonight ? there are some seats in the rear mezzanine . isnt there anything else available ? no , the show is almost sold out .',\n",
              " 'i havent seen your father in like 5 years . how is he doing ? hes not doing too well . why ? whats wrong ? about a year ago , he started feeling weak all the time . is it due to old age or is he sick . maybe a little of both . the doctors cant point out anything specifically . i think it is because he didnt take care of himself during his youth . that makes sense . its important to take care of your health early in life . thats what my father tells me almost everyday . well , i hope he starts feeling better . say hi to him for me . thanks . ill let him know .',\n",
              " 'wedding rings ! oh , no . . . arent they cool ? i like the settings . jen , is there someone youre not telling me about ? no . i just like looking at wedding rings , ok ? women are such dreamers . these are specially designed for the year 2000 !',\n",
              " 'hurry up , get in . i m in , let s go ! ok , make a left here . . . no wait , i meant make a right . come on , speed up ! geez ! what s the rush ? don t worry about it , just drive . oh , no , the light is about to change . . . step on it ! are you nuts ! i m not going to run a red light ! whatever . just turn right here . . . . the freeway will be packed at this hour . . . . let s take a side street . go on ! get out of our way ! move , move ! what s your problem ! geez . having a fit is not going to help ! here , i know a short cut . . . just go down here , and we ll cut though ashburn heights . let s go , let s go ! watch out for that lady ! i m going as fast as i can ! yes ! we made it . 558 , just before the library closes . you re such a geek !',\n",
              " 'ive heard so much about japan . is it a beautiful country ? not everyone thinks japan is beautiful , but to me its beauty is breathtaking . you feel the same way about france , dont you ? yes , i do feel the same way about france . the swift rivers , the fertile valleys , the large citiesits scenery is beautiful . will you describe the geography of japan ? well , its made up of four large islands and many smaller islands located off the coast of the asian main lands . france isnt an island , is it ? oh , no , france isnt an island . it is located in the western part of the european continent . but france does have many fine harbors and port cities on its southern and western coasts . does japan have good harbors ? good harbors ! yokohama is one of the most famous port cities in the world , and japan is the largest shipbuilding nation in the world . also , there are long mountain ranges in the southern is hands . france isnt very mountainous , is it ? no , france isnt very mountainous . but it does contain the pyrenees , a large mountain range with high peaks and deep canyons . what kind of climate does japan have ? the japanese climate is warm and moist in the south , mild in the central part and cold in the north . except for hokkaido , we dont get much snowfall at all . france has a mild climate , doesnt it ? yes , the climate of france rarely has severe winters . in southern france , one can live in comfort the whole year . is japan good for farming ? yes , japan is good for farming . rice is the main crop , but japan is also an industrial center . fishing is very important , too . rice isnt grown in france , is it ? no , rice isnt grown in france . but farming , fishing and industry are also very important in france . id like to go to japan some day . would you like to visit france ? yes . id like to visit france . id like to travel all over the world . as you describe it , france seems to be very much like japan . i would like to see it for myself .',\n",
              " 'i dont know why mark often comes to me and asks me for advice . i smell some rat in it . he is sly . he is actually angling for compliments . but he may have got the crush on you . nonsense ! theres no indication that hes in love with me . keep your fingers crossed . he may pop the question one of these days .',\n",
              " 'hi , why do you look so depressed today , mike ? i had a terrible quarrel with my neighbor yesterday . how come ? it is a long story . basically , she thought i had laughed at her while i didnt . i know everyone suffers when he is misunderstood . but why not take it easy ? yeah . its so nice of you to comfort me .',\n",
              " 'maybe wed better go now . its still early . gosh , its already 10 . stay here if you like . since were late , lets go to see a film . ok . hurry up .',\n",
              " 'my uncle passed away last night . my condolences .',\n",
              " 'diana , in your opinion , which is more important , iq or eq ? why are you asking me the strange question , jerry ? i watched the movie forrest gump last night . and the question just lined in my mind . well . i think iq matters more . but it wont work without eq . why ? you seem pretty sure about it . because an intellectual mind can only be a beneficial thing in life . but iq is decided at birth . one cant expect to make a lot of improvement in it . thats why peoples achievement varies greatly . that s true , but what if one comes across some difficulties . he must rely on his eq to deal with them . yes , jerry , can you share your understanding of eq ? i think it is independent of iq and plays a prominent role in deciding the way we live our lives . quite right . have you noticed that a high iq is not a must for ones success ? just as forrest ? yes , his iq is high enough for him to embrace the success as long as he can manage his eq . i got it .',\n",
              " 'come on ! its time to go ! wait a minute ! just hold your horses ! whats your hurry , anyway ? well , ive got to stop and get gas in the car , first . that wont take long . well , it wont if there no line at the pump . well , im not quite ready . ill give you five more minutes , then im going on without you ! you wouldnt do a thing like that ! oh , yes , i would !',\n",
              " 'hows business ? so so .',\n",
              " 'wow , that terrible movie is finally over . next time i m picking the film , because i don t want to end up seeing a chick flick . well you should have picked , in the end you always complain about everything . not everything , just this film . even the title is ridiculous . and it s so long , those are the two and a half most wasted hours of my life , so much so that i m thinking about asking them to give me my money back . i m thinking of taking you back home . i thought we could have a nice evening , but you re always so negative . i m only complaining about a movie that i could have rented or bought and then thrown in the garbage . you see , that s what i m talking about , i can t stand your sarcastic jokes anymore next time , go with your gay friend who is more in touch with his feelings . well he s more of a man than you are ; at least he appreciates love stories . love stories ? more like onenightstands . don t criticize mario or else i ll start on those fat , drunk friends of yours ; they re no saints . my friends ? fat ? what about those whales you call friends ? you re unbearable ; you can walk home , i m leaving .',\n",
              " 'which language do you speak ? well , i studied french at school , but i ve forgotten most of it . i learnt some russian while i was studying there and now i study spanish in evening classes . do you speak japanese at home with your parents ? yes , i do . i m learning chinese now on the internet . how do you find studying a language on the internet ? it s not easy , particularly with listening and speaking , because sometimes the connection isn t too good . i bet you find the character difficult to write ! actually , many of the characters are the same or very similar in both chinese and japanese , so they re easy for me . so , you can read and write much better than you speak and understand other speakers , right ? yes . how are the spanish classes going ? in a way , it s similar to your experience of learning chinese . some spanish words are very similar to english ones . but i need to practise listening to native speakers and saying the words myself .',\n",
              " 'why didnt you tell me you had a girlfriend ? sorry , i thought you knew . but you should tell me you were in love with her . didnt i ? you know you didnt . well , i am telling you now . yes , but you might have told me before . i didnt think you would be interested . you cant be serious . how dare you not tell me you are going to marry her ? sorry , i didnt think it mattered . oh , you men ! you are all the same .',\n",
              " 'so , did you go out with richard ? yeah . we went to a movie last saturday . we saw police partners ii . did you like it ? richard did , but i didnt . of course , i told him i liked it . yeah . so did you do anything else ? well , we went to a dance club . did you have fun there ? yeah , we had a great time . and were going to go there again next week !',\n",
              " 'would you like to go to work or continue your studies after graduation ? i think i will continue my studies . now its not easy for a graduate with bachelors degree to get a job since there are so many graduates with masters or doctors degree . we are likely to lose in competing with them in the job market . so you will continue to study for a masters degree ? well , i think so . but i am thinking of going aboard to get a masters and doctors degree . if can get a ph . d . abroad , it will be much easy for me to get a job at home . how can you finance your education abroad ? it is very expensive to study abroad . i think i will try to get the scholarship since i really dont have so much money to study abroad . actually now i am preparing for the tefl and gre exams . if i can get high marks in the two exams and if i am lucky enough , i may get a scholarship . it could be pretty tough studying abroad . being so far away from home . . .',\n",
              " 'its hard to get tickets for the movie . did you get any ? yeah , two at the tenth rows . how much is the ticket ? 3 . 5 dollars each .',\n",
              " 'what a great weekend that was ! my feelings exactly . i really enjoy the beach in the summer . i couldnt agree with you more . we should come here more often . you are absolutely right . id like to come back next weekend .',\n",
              " 'i think andys party will be fun . yeah , i think so . oh , by the way , i need to ask you something . whats that ? could i get back the sweater you borrowed ? sure . oh , that reminds me . could i borrow your black leather boots ? my boots ? er . . . sure , ok .',\n",
              " 'hi , mr . smith . are you enjoying the cookout ? you dont look too happy . i spent the morning at the cemetery . i put flowers on the graves of my old war buddies . is that what people usually do on memorial day ? they should . this holiday is about remembering our war dead . but people these days think its just a holiday for summer sales and cookouts ! im sorry to hear that . thank you for telling me a little more about it .',\n",
              " 'i went to super juniors concert last night . it was fantastic . really ? their songs are very popular all round asia now . i am also a big fan of theirs . yes , their new album just came out last week . it is number one on the billboard . i really love their dancing . they are all excellent dancers . the lyrics of the new song are beautiful , too . can you sing ? sure . i think you can hear the song everywhere you go now . lets go buy their new album . want to come with me ? why not ?',\n",
              " 'i am a little nervous about my presentation on friday . if you would like me to , i could help you with that . wouldnt that take you away from your project ? i have plenty of time to do this . i promise you it wont be a problem for me . is there a good time for you to help me ? if we work on this tomorrow night , you could easily be ready by friday . how about meeting in my office ? that would work out well . bring any concerns that you might have . sounds like youll be able to help me a lot . dont worry . everything will go well . i promise !',\n",
              " 'if you can choose , will you marry a foreigner or a chinese ? why ? did tom pop the question ? not yet . but i wonder if i can get my parents consent . let me guess , your parents want you to marry a chinese man , right ? you are right . it is giving me a real headache . i feel like i m between a rock and a hard place . i used to have the same problem when i was with my ex . oh , how did you deal with it ? i just let it go and continued dating with my korean boyfriend . but finally we broke up . oh , it s a pity . what was the matter ? simple . we had personality clashes and there were too many cultural differences . like what ? he hoped to live in the korean way and asked me to give up working and stay at home to take care of the family . oh , i see . in their culture women should put family first . yes , he said it would be better for me and for the whole family . but i simply can not quit working . so thats why it s hard to have a happy marriage with a foreigner . not really . there are many successful mixed marriage around us .',\n",
              " 'where is tom ? he is in the bedroom and fallen asleep . what ? it s only 9p . m . now . why today he went to bed so early ? he ran four miles and came back dead beat . oh , i see .',\n",
              " 'hi , ann . hi . you look excited . whats happening ? i just heard that our school will hold a singing contest in 5 days . and youre planning to enter ? of course . this is a great chance for me to show off my beautiful voice . is there a prize ? i heard that the winner gets a panda radio . do you think you have a chance ? a chance ? not just a chance , im a hundred percent certain . everyone says my voice is beautiful . but you havent practised all that much . i still have 5 days to practise . its in the bag ! dont be too sure . youre still going to need some help . yeah , maybe .',\n",
              " 'ive got to go to bed . have to work tomorrow . ok . good night , then . have a good sleep . good night . see you tomorrow .',\n",
              " 'i wonder if it is possible that we organize a dinner party for all the colleagues in our departments . they are working very hard these days . maybe it is time for everybody to relax a little . that is a good idea , i love it . what time do you think is convenient ? well , what about this thursday evening after we finish the weekly meeting ? ok , i will inform everybody when they come back from lunch . it has been a long time since we had the department dinner last time . i am sure they don t want to miss it . i hope so . let me know how many will come . then i will book the restaurant .',\n",
              " 'what day is today ? today is thursday . whats the date today ? today is may first , 2003 . oh , todays international labour day . is it our working day ? well , i dont think so .',\n",
              " 'can you take part in our picnic this saturday ? that would be fine . where are you going ? we plan to go to a forest in the suburb . there is a beautiful river there . we can do some fishing . great . and dont forget your fishing tackle . ok . i like fishing very much .',\n",
              " 'daniel , what are you doing here ? arent you supposed to be at school now ? the same question to you . well , we shall make it a secret between us . deal , where is gucci ? she is the cheerleader . they are required to put on a performance . look ! here they come . oh , look at her . she looks like one is the basketball babies in nba . i want to be like her . get real . dont be so pathetic . hey , young man ! im your sis . dont talk to me like that . oh , man , look at her , go ! she is amazing ! she should be my sis . boy , youve got such a crush on her , havent you ? yes , i want to be her boyfriend . just like in the movie . are you out of your mind ? she told me she liked my new haircut . she thought it was cool . go ahead , have a try and be a joke .',\n",
              " 'you know john ? which john ? mr . turnbow s son ? yes . i ve read news about him in today s paper . and he s bright and intelligent . i m sure he can pass the university entrance exam . i wish he could too . how s your boy , jack ? he s a bit tired , you know . it often takes him a couple of hours to brush up . poor boys ! they work harder at school nowadays , don t they ? good luck to them .',\n",
              " 'you have made a poor meal . let me get you some more fish . no , thanks . i have had enough . what about some drink ? please bring me a cup of coffee .',\n",
              " 'good morning . i want to apply for a library card . give me 10 yuan , your id card and a photo of you please . but i hear that the card is free . yes , it is . but you must pay a deposit for the card . there will be a refund when i return the card , right ? yes , if the card is well kept and has no dirt and scratches . ok , here you are .',\n",
              " 'i am very proud of john . me too . no one has expected he can really get somewhere with his business . but he has suffered a lot .',\n",
              " 'what do you think of the plan for the new airport near here ? perhaps they should give it a second thought . the residents are getting up in arms about it . i think they will .',\n",
              " 'what do you think of that situation comedies showed every weekend ? to tell you the truth , i dont think much of them . youre becoming a real television watcher . a lot of people feel the same way .',\n",
              " 'may i invite you for a dance ? with pleasure . you dance well . do you breakdance ? me , what brought that on ? theres a story about breakdancing in the paper . what does it say ? according to the story , its some sort of modern dance style . like disco ? well , breakdancing is more a physical exercise than a dance . and disco a kind of nightclub . right , a disco is a place where people dance according to nonstop recorded music . . . so . . . disco is what the music is called and a disco is a place where people go to dance to it . and breakdancing is a different sort of thing altogether . you are witty .',\n",
              " 'could we borrow the company van for a fundraiser this weekend ? that would be a possibility . where is this fundraiser taking place ? it is in the hotel ballroom down the street . do you need it for the whole weekend ? we will need it for both days . we will need to know who will be driving the van . the van will be driven by mary and me . it needs to be back on sunday night . can you arrange for that ? oh yeah , no problem . would you mind if we borrowed a few of the chairs from the lunchroom . just keep track of everything and get it all back where you took it from by sunday evening .',\n",
              " 'guess who i saw yesterday ? i dont know . who ? avril lavigen ! the canadian rock singer ? but i heard you had a parttime job yesterday . how did you see her ? yeah , i worked as temporary staff in her concert . look , her poster , a cd . . . so youre a big fan , eh ? not really . but i like some of her songs . shes actually very talented . shes a song writer and fashion and fashion designer , too . and she was in a movie once again , right ? yes , though i dont think her acting skills are that great . what was your impression of her when you saw her in person ? she looked sweeter than her pictures . did you take a photo with her ? no , there were too many people . when she got out of the car , her fans were all screaming , trying to give her flowers and ger her autographs . crazy !',\n",
              " 'can you lend me fifty bucks ? what ? again ? why do you keep running out of money ? i guess i dont earn enough . no , i think its how you budget your life , thats the problem . thats my business , not yours . true enough , until the time comes that you need to take my money . i dont know where youre wasting your money but i think you need to take a look at whats really important . so how do you survive from pay day to pay day ? i dont just survive . i put money away as well . i know when i get paid where most of the cash will go , and i stick to my plan . if i follow a budget i dont have any nasty surprises . im not disciplined enough i guess . in a few months im planning to invest my money into some foreign companies . i think you need to reevaluate your spending habits .',\n",
              " 'how do you think the transport system in our city could be improved ? i think that the public transport system could be made simpler . i never know where the bus routes actually go . the routes seem to twist and turn rather than going roughly in a straight line . i think we just need to build more roads . then there would be more space for cars to drive and we d have fewer traffic jams . if we built more roads , people would just fill them with cars again . i think we should discourage people from using their cars . how would you do that ? i think we should do a few things at once . improving public transport would encourage people to use that . if we also charge people to use their cars in the city centre , they won t use their cars as much . i don t know . i think it s unfair to make drivers pay more money . they already pay a lot of taxpetrol tax , for example . i think that they should pay more tax . look at the damage they cause to the environment and people s health by discharging all those exhaust fumes . the air would certainly be cleaner if there were fewer cars being used in the city . the problem is that people will see it as reducing their freedom . it well be unpopular . that s a good point . car owners will probably be against it , but people who use public transport will be in favor of it .',\n",
              " 'what day is today ? today is december twentythird , two thousand and two . oh , the day after tomorrow is christmas . merry christmas to you .',\n",
              " 'you re new here , right ? yes , i am . will this be your first year ? no , i transferred here . what school did you come from ? i transferred from pcc . why d you transfer here ? i wanted to attend this school originally , but my grades out of high school weren t good enough . is pcc a good school ? pcc is great ! i hope you enjoy it here . thank you very much .',\n",
              " 'the bridegroom looks a bit nervous . on this occasion , most people do . oh , they are playing the wedding march . here they come . she is a beautiful bride . i am so happy for them . are you crying ? yes , i always cry at weddings . harris and anne are perfect for each other . yes , they are . you and tom also make a great couple . in fact , we are beginning to make preparations . for the wedding ? no , no , for the engagement . try to catch this bouquet then .',\n",
              " 'jessica is going back to holland next week . ive been thinking a lot about what to give her as a parting gift , but i still have no clue . is that the girl you spent almost every weekend with ? yeah , thats her . we had a lot of wonderful times together . she is really a special friend , and i want to get her something meaningful . i am not good at picking gifts . maybe you can ask if theres anything she needs to make it easier ? i dont think so . that way it would lose all the charm . i want it to be a surprise . i want to show her that i care about her and i hope our friendship will last . yeah , thats nice . hmm , i think ive got an idea . maybe i can get her an evergreen plant to take back home . a plant ? thats creative . im sure ever time she waters it shell think of you . but there is a problem . do you think itll be able to go through the customs ? i hope so . ill make sure to get a small one so she can put it into her suitcase . i hope it wont cause her trouble at the border . i dont know . i think the idea of a plant going across borders with a friend is really exciting but maybe seeds would be safer . you dont want to get her in trouble .',\n",
              " 'have you got your invitation yet ? my invitation ? no , i havent . my invitation to what ? the house warming party . whose house warming party is it ? tom and bill smith . they are both working now you know ? and theyve bought a new house . oh , they have ? i didnt know . i havent seen tom lately . its out in the suburbs . have you seen the house ? yes , i have . i went out with them last weekend . is it nice ? yes , it is . there are three bedrooms , a living room , a dining room , and a big kitchen . theres also a garden . well , that does sound nice . have they moved in yet ? they are moving today . toms taken the day off . hes rented a truck , and they should have all their furniture in the house tonight . when are they going to have the party ? next saturday night . you should get your invitation today or tomorrow . wow , that would be something to look forward to .',\n",
              " 'have you ever been to xi an ? yes , i ve been there several times on business trips . but i have never really seen the terracotta warriors as it is outside the city . i ve heard many people saying that it is a place worth touring . i really want to see the old walls and terracotta warriors one day . of course i won t miss the local food either . you know , the sites interests a food in scenery , food is a key factor when visiting a place . i agree . as long as the food is not too bizarre once i saw some people eating insects . that is frightening . sure it is . is it convenient to get there by plane ? well , the airport is quite far from the downtown area , but it is still more convenient than taking the train .',\n",
              " 'tomorrow is sunday . lets go out and get some fresh air . i know there is a beautiful farm in the countryside near taipei . are you interested in going there ? why not ? i love animals and i love nature . you can see many cows and horses there . lf you are brave enough , you can try horseback riding . it is fun . sounds very interesting . i cant wait to go there . wow ! it is huge and you can do many activities here . that is true . some people go camping , some people pick fresh fruit , some people go boating and some people go grass skiing . i never knew there were so many fun things to do on a farm . well , now you know . lets go to the lake over there . some people are fishing over there . i havent had a chance to fish in a lake , i really want to try . i think we need to buy some baits and borrow some fish poles first . yes . we can get what we need at the stands right by the lake . who do you think will catch a big fish first ? of course . i will . wait and see . i want to try horseback riding after fishing . it looks very exciting and fun . it is . however , you will suffer from muscle pain for many days you are a firsttime rider . no problem . it is always worth trying something new once in your life time .',\n",
              " 'how are you doing ? im ok . i wish i could say the same for my friend . what happened to him ? he was arrested by the police for drinking and driving . was it his first offence ? unfortunately not . he was charged with a dui when he was in university . what happened to him then ? not much ; it was a minor offence back then . he got away with a fine of 500 . did they take his license away ? no , they were really easy on him . the problem is that that was a long time ago . they are much tougher on crime now . what do you think will happen to him ? well , hell definitely lose his license , pay a fine , and maybe even spend some time in jail . that doesnt sound too promising . does he have a defence lawyer ? not yet . if we cant find a lawyer for him , then the state will appoint him with one . my sister is a lawyer . i can ask her if she can help him . thatd be great ! i know hed appreciate your help .',\n",
              " 'well , sir , we are asking all our guests to wear a jacket and a tie in our restaurant . is that so ? i didnt know it . can i possible borrow a jacket and a tie ? im sorry you cant borrow a jacket and a tie . then we return to the hotel and come back . will you change the appointment ? certainly . what time will you come back ? at seven , please . how many in your party ? a party of three . all right . we are waiting for you at seven .',\n",
              " 'you know ernie , it seems we both like the same artists . yes , we do . i think we have the same musical tastes . but if were going to start a band , we have to be able to sing and dance . can you do that ? im not a very good singer , but im a really great dancer ! i love hip hop dancing . great ! ill sing , and you can dance in our band .',\n",
              " 'i wish i had access to the public library . its easy ! just go and get a card .',\n",
              " 'are you ready ? not yet .',\n",
              " 'is this your brotherinlaw ? yes , he married my sister ten years ago . from his looks , id say hes a man of character . yes , my sister loves his personality .',\n",
              " 'you seem to very busy these days . what are you doing ? i am swapped with work after 10 day holiday . where did you spend your holiday ? i went to paris .',\n",
              " 'our team just scored a goal . thats more like it . tell me about it . they might actually win the game .',\n",
              " 'want to meet for lunch this saturday ? sorry , i can t . i m busy . what are you doing ? i always do volunteer work on the first saturday of every month . what kind of volunteer work ? i help out at the children s hospital . i help plan activities . oh , yeah ? yeah . it s exciting . this month we re doing crossword puzzles .',\n",
              " 'tom , is jenny crying ? can you take he away from me ? i m just coming for that . she kept on bothering me . she s your sister . what she asked was only duck soup for you . why can t you be good to her ? but i am her brother , not her servant .',\n",
              " 'you re making my blood boil . calm down . madam . im about to explode ! you ve made a mess of this matter . i am very sorry to hear that you ve been having so many problems . sorry isn t good enough ! what can you do to help me ? i understand why you re angry , mrs . wilson , and believe me , we are doing everything in our power to work this out . well , obviously , what you re doing is not good enough ! if you could just give us a few more days , we should be able to get this straightened out .',\n",
              " 'can you tell me something about financial aid ? what exactly ? how to apply for it ? in your first letter , that is , when you apply for admission , you should also tell them you need their financial aid . then . . . if the aid is available , they will give you two or more application forms , one is for admission , the others are for the aid . what if not ? they will tell you the aid is impossible .',\n",
              " 'how was mei s party on saturday ? oh i didn t go . i stayed at home with my family . oh really ? what did you do ? we watched lots of television and films . i see . anything else ? yes , we ate a delicious meal and drank some very good wine . well , it sounds like you really enjoyed yourself .',\n",
              " 'whats the temperature today ? its about 5 degrees centigrade . whats the weather forecast for tomorrow ? the weatherman says its going to snow tomorrow . are you used to the climate here ? i think ill soon get used to it . what is the average temperature of beijing ? lts about 180c , but in winter the temperature may fall to 1015 degrees below zero . and we have a long winter . which season do you like best ? i prefer spring when little by little everything becomes green and the weather is almost always nice .',\n",
              " 'i simply couldn t help giving him the fisheye when i knew all that . but ben is not a bad man . i know him from a to z . however , he disappointed us very much this time . i can understand that . but . . .',\n",
              " 'kelly , the guys and i think you should run for senior class president . me ? why me ? why not you ? we talked to our older brothers and sisters last night and got the scoop on what that job is all about . and you think i fit the qualifications ? yes . did you know that the senior class president works for the class for life ? the job doesnt stop when we graduate . really ? what is there to do after we graduate ? every class reunion is organized by the president and council and anything our class does for the school in later years is headed by the president . im honored that you think i would be qualified . but i would really have to think about this first .',\n",
              " 'wow ! you look like a drowned rat ! didnt you know there is a thunderstorm today ? i knew there would be a shower , but i didnt realize it would rain cats and dogs today . well . youd better take a hot shower right now , or you will catch a cold . i know . i dont want to get sick , especially during finals week .',\n",
              " 'why are those people crying ? they must have just come back from tomb sweeping because today is tomb sweeping day . tomb sweeping day ? what is it ? tomb sweeping day is a traditional festival in china , on which many chinese mourn the dead . what do they do ? people go to the cemetery to pay their respects to the dead .',\n",
              " 'er . . . alison ? ohm , hello , marcia . i was . . . i just wanted to congratulate you ! i mean , it was a good race and you deserve to win . well . . . thanks , marcia . it s very nice of you to say so . i mean . . . it was that final sprint ! you were great ! really ! do you really think so ? i mean , was i ? er . . . you . . . must be disappointed .',\n",
              " 'why arent you at work ? i called in sick .',\n",
              " 'how is the college search going ? its a huge headache . i have no idea what i want to do . but dont you want to study music ? shouldnt it be easy ? it should be , but there are too many options . my grades are good enough that i have a lot of choices , but after that . . . i know . you have to decide if you want to attend a school in a city or in the country , a big school or a small school , a public or private school . . . yup , you understand . and my parents are trying to pressure me into going to a catholic college . they both attended one and think that it combines a good education with good discipline . and the tuition 3 is usually pretty low . i see . well , dont forget to talk to the college counselor at the school . he usually gives good advice and can help point you in the right direction . he gave me some information , and next week im going to take a look at some of the colleges he recommended . thanks for the information . and good luck in your college search .',\n",
              " 'i m trying to decide what school to apply for . are you thinking about a public school or a private one ? i m not sure . what s the difference between them ? public schools are usually state funded , whereas private schools usually get their funding elsewhere . which is better ? one isn t necessarily better than the other . it depends a lot on the school administration and the teachers . i hear you have to wear uniforms at private schools . yeah , sometimes .',\n",
              " 'excuse me , professor . i am going to miss next weeks class . is this something that you could schedule for another time ? no , i have to do this ; its important ! have you arranged for someone to take notes for you ? ive made arrangements with a friend to help me . you know that i only allow one absence per semester , dont you ? yes , i know . write down your name and the date on a piece of paper and give it to me . ok , i can do that . well , have a good day off from class .',\n",
              " 'it seems so strange to be here , burying you , but its not you . ashes to ashes and dust to dust . . . this has been the worst and best day of my life , taylor . they kept you in the hospital , and . . . ill tell you all about it another day . but youre ok ? it was nothing serious , was it ? you ladies look very elegant in black . but i dont want you to wear black in my honor for a long time yet to come . . .',\n",
              " 'the air quality in this city is horrendous . the pollution levels are so high that we are not supposed to go outside with a face mask again ! exhaust fumes from vehicles cause a great deal of damage to the environment . on top of that , there are a few large chemical factories in the suburbs , which are contributing to the high pollution levels in the water and the air in this city . as much as i love this city , i think im going to find a greener city to live in . living in a polluted city like this just cant be good for my health . i know what you mean . however , there are so few places left that have not been affected by global warming . if its not the pollution , then its the natural disasters , deforestation , or the greenhouse effect . what is the greenhouse effect exactly ? its the gradual rise in the earths temperature . i see , so its similar to global warming ? theyre related to one another , yes . i heard that some people in england are pleased with the fact that the climate is becoming warmer because its making their towns a more pleasant place to live . people joke about the benefits of the increase in temperature , but its not all good news . theyve been experiencing a lot of deadly storms there as well . people always seem to make jokes as a way to deal with unfortunate situations . i think if everyone pitches in , the world will be a better place .',\n",
              " 'what would you like to do tonight ? im not sure . what about going to a movie ? ok , lets go to the cinema to see whats on .',\n",
              " 'mary , be calm . it is impossible . you cheated on me . no , listen to me . i always regard you as my best friend . i admire you , and of course youve helped me so much . i should thank you . shut up ! no , listen to me . perhaps its my fault that i treat everybody so well . maybe in other peoples eyes , i want you to be my girlfriend . but . . . but . . . but you have had lily already ? you should have told me about her , but you didnt . ok . . . ok . . . anyway . i will treat you as my best friend . i hope you can do the same . leave me ! go away !',\n",
              " 'would you mind doing something for me ? i would if i could . would you please explain the meaning of the word ? yes , with pleasure .',\n",
              " 'our maths teacher is rather humorous . on the contrary , i think hes very serious . no , not at all . his examples are really interesting . so theyre easy to remember . yeah , how about your maths teacher ? hes an old antique , very serious . bad luck , anne . hey ! how about your history teacher ? shes another antique . im sorry to hear that .',\n",
              " 'hey , if youre not busy this weekend , would you like to go see a movie ? sounds good . what should we see ? how about that european movie ? you mean the one starring john travolta ? yeah , thats the one ive heard the special effects and the plot are outstanding . sounds like an interesting film . lets meet at five oclock on saturday . okay , see you then .',\n",
              " 'could you do me a favor ? what is it ? could you possibly give me a lift home ? all right . are you sure ? i dont want to inconvenience you . no problem . id be happy to . thanks . i really appreciate it . thanks so much .',\n",
              " 'i have an appointment for half past one . what can i help you with ? well , i have a problem with my class schedule . what is it ? it seems that ive been given two classes scheduled at the same time . i can understand the problem with that . is there any way that you can fix my schedule ? no problem , do you want those classes still ? yes , i do . let me see if i can find one of these classes on another day . thank you very much .',\n",
              " 'its said that the government will clamp down on the new policy . are you sure of that ? i am not certain about that . they may have some difficulty in doing it .',\n",
              " 'did you hear that mary s marriage is on the rocks ? so i hear . yesterday i met mary , and she told me her husband often made pass at his secretary . after all the crises they have survived together , her husband should do such things . she must feel that she s been stabbed in the back .',\n",
              " 'are there any interesting articles in today s newspapers ? the headlines are all about the presidential election in the united states . few other stories made the front pages . is there anything of interest to us in the business sections ? there s an interesting feature article in the chronicle about doing business in china and the daily news has printed a report about the special economic zone near pairs . we have a subsidiary company l are the reports favorable ? generally , the reporters take positive lines . they do point out a few problems that we need to be aware of , but there s nothing worrying in the reports . in the classifieds , one of our competitors is a that s interesting . they must be thinking of moving into that market . are there any interesting editorials ? not really . they all seem to focus on the election . there have been several letters printed in the chronicle regarding that controversial article on drugs that they printed last week . i m not surprised . that article certainly added fuel to the debate . ok . thanks . can you leave two articles and the advertisements with me ? i d like to read them . sure . there you are .',\n",
              " 'can you imagine a boat letting in the river ? that would be terrible . sure thing . i have an experience like that . oh , how were you saved finally ? i was in such a panic at that time . fortunately another boat came along and i was saved from drowning .',\n",
              " 'i am looking for some information about home stay . well , i have been in a host home before . during my first year in the us , i stayed with a family . they are nice . how did you pay them ? well , that depends . if you stay for a long time . they will offer a discount .',\n",
              " 'he followed me all the way home ! thats about five blocks . and around corners too . so he was definitely following you . yes , he was . im not imagining it . finally , just when i got home , i turned around and looked at him . he was just standing there . he didnt smile . he just stood there . it was so obvious . what should i do ? im so scared . can i call the police ? actually , i dont think you can call the police . not yet at least . he hasnt done anything . and probably the police will just ignore it . but if anything happens again , then maybe you should call . why cant i call the police now ? he was definitely following me ! of course you can call the police if you want . thats not what i mean . im just saying that they probably wont do anything . i suppose . what can they do ? i dont even know who he is . listen , carol . dont let this bother you too much . probably its nothing . just keep your eyes open when you go out . if you see him a third time , and if he follows you again , then i think we should go to the police . but for now , just try not to worry . alright . and i wont go to that cafe for awhile .',\n",
              " 'whats your favorite book ? its gone with the wind . why do you like it best ? i enjoy the various characters and the plot . well . i like the thorn birds best . is it very interesting ? sure . i like the writers language , too . if i have a chance , ill enjoy the book . would you like to go to the bookshop with me ? thats a good idea . lets go !',\n",
              " 'may i help you ? i would like to check out these books . may i see your library card , please ? yes . here you go . apparently , you have unpaid late fees . i do ? you owe some money . exactly how much do i owe ? you owe 24 . 50 . i won t be able to pay that right now . until you pay it , you can t check out books . i will pay it . don t worry .',\n",
              " 'how did you choose courses when you were abroad ? thats a very good question . choosing proper courses and effectively planning a college schedule is very important to the progress toward your educational goal . in order to do these wisely and effectively , you should consult with a program adviser or academic counselor . wait a minute . there are some new terms for me . i can hardly follow you . ok , i will go into more detail . a program adviser or an academic counselor is usually an experienced professor who is responsible for all the necessary academic counseling through graduation . you can discuss with him the program selection , changing or adding a program , the requirements for graduation , and other problems related to your study . you will choose some courses , and then discuss with the adviser whether your choice can meet the requirements for graduation . everything is so new to me . i think ill have to experience a very difficult period when i get there . sure , very difficult . i am very grateful for your advice . its my pleasure to talk with you .',\n",
              " 'so it is hard to be a black student on campus ? yes , in many ways it is . there are many stereotypes i have to deal with in my daily life . stereotypes ? like what ? well , like since im black , i must like rap music , come from the inner city , or play basketball well . i do know you like rap music , but the other two are definitely false . i ve seen you play basketball . hey ! but thats not the only problem . theres also the affirmative action stigma . you mean that people look down upon you because they think youre in school because of a quota ? thats not true at all , youre really a smart guy . i know that , but some people dont think like that . and i get problems from teachers as well . teachers ? i didnt think that they would be racist at all . racist ? not exactly . its how they look at me and ask for my opinion on a topic , as if i can speak for all black people and give them the black opinion on a subject . suddenly i become the representative of the black race , as if we all had the same opinion . i see . it looks like there are still a lot of issues we need to work on in the us .',\n",
              " 'could you help me ? what do you need ? i cant seem to find my class . what building is it in ? its in the c building . oh , i know exactly where that is . do you think you can tell me where it is ? sure , what room number is it ? its room number 261 . i have a class around there right now . could you show me where it is ? no problem , come on .',\n",
              " 'john , have you ever watched beijing opera ? yes , i watched once . what do you think of it ? well , honestly speaking , i went to watch it out of curiosity . id say its really a special art form . i couldnt agree more . actually , im a beijing opera fan . really ? good for you .',\n",
              " 'let s play a game ! ok ! how about scrabble ? no , no , a friend of mine taught me this really fun game . i m going to describe someone s face , and you guess who it is ! ok ! let s see . he has a roman nose , bushy eyebrows and dimples ! our cousin pete ! my turn ! she has a pointy nose , sunken eyes and a mole on her chin ! aunt rose ! that mole is so huge ! ok , my turn . he has a crooked nose and full lips . he has quite a few freckles and an oval face . oh , he is also bald ! your future husband ! not funny .',\n",
              " 'hi julie , how are things going ? everything is great , tad . how are you ? im doing really well . tad , im pretty hungry right now . want to walk over and check out the food table ? julie , do you know who that woman is over there by the window ? that is mary . i heard that shes just moved in with lee . i thought that he was with malia . oh , that relationship is history . malia hooked up with a guy she met on holiday . i bet that lee wasnt too happy with that ! actually , he was ok with it . they hadnt been getting along too well .',\n",
              " 'you can take this car into consideration . it works well and its price is reasonable . i was not born yesterday .',\n",
              " 'so , emily , how was your day ? i dont think you really want to hear about it . it cant have been that bad . go on and tell me about it . to be honest , it was horrible ! my manager is such a pain in the neck ! why ? what happened ? well , he made quite a few mistakes on the monthly report and when his supervisor found them , my manager blamed them on me ! thats not very fair . what did you do ? there wasnt really anything that i could do . theres always been a lot of bad blood between my manager and myself . if i had said anything , he would have fired for me for sure . does he treat everyone in your department like this ? he treats everyone pretty poorly , but the way he treats me really takes the cake ! do you have any idea why he treats you worse than the others ? i really have no idea . all i know is that the thought of him really curls my hair ! is there anyone else you can talk to about it at you company ? not really . im hoping to live with it for a while until i get a promotion . thats very sensible . it sounds like you have a good head on you shoulders . i try to be sensible about it , but its not very easy . sometimes you just have to grin and bear it . thats so true . when you have a taste for success , you cant let dishonest people like your manager get in the way .',\n",
              " 'can you speak english ? yes i can . i speak it very well . where did you learn it ? i lived in england when i was a child . what else can you speak ? well , i know a little italian .',\n",
              " 'hi , maggy , did you hear about david ? about david , no , i didn t hear anything . you know , about david and new boss . sorry , i don t quite follow you . well , i hear david have been fired . oh , that is a shame . he is really hard working .',\n",
              " 'how would you describe your relationship with our boss ? we have a fairly good working relationship , but there was also a rough spot . what do you think his strengths are ? well , he has an amazing ability to analyze information and he is very good at making the right decision in tough situations .',\n",
              " 'which school is your children in ? she is now in a private school . oh , it costs too much . its more expensive than the public school . its idea of my husband . he is always banging the drum for better schools . but the private school amount to better schools .',\n",
              " 'i am very interested in a new apartment near the taxing plaza , but the price is very high , i really cant afford it . how much is it for each square meter ? how large is the apartment ? its 7500 yuan per square meter , and i really like the one with three bedrooms and a large living room . its total area is about 80 square meters . that surely will cost you a lot of money . are you going to make a full payment ? do you think i am rich enough to make it ? i am thinking about buying the apartment by installments . the real estate agency says if i pay a 25 down payment , i can move in at once . if sounds so tempting . why not go applying for a loan from the bank ? they charge very low interest , so you can choose whether to pay up the balance in 10 or 20 years .',\n",
              " 'i really like the record you lent me the other day . im glad you like it . and thank you very much for letting me keep it so long . not at all . im most grateful . everyone in our class enjoyed it . im glad . would you mind my keeping it for another week ?',\n",
              " 'wed like to have a look around your house ? yes , of course , please follow me . thank you . this is our courtyard . its so spacious , about 40 square metres , right ? yes , about 46 square metres . are these corn ears hanging on the tree branch ? yes . very beautiful and very interesting . but why do you hang them in the tree ? they dont have enough time to peel it after they harvested them , so they hung them in the tree . then in winter , they can peel corn ears in their leisure time . very good idea . sometimes such pictures can show the houses richness .',\n",
              " 'so , where are you going to spend your winter vacation ? oh , i m going to meet my girlfriend in thailand . you have a girlfriend in thailand ? interesting . how come i have never heard of that ? actually it will be my first time to meet her . you mean you haven t seen her before ? then , how could she be your girlfriend ? maybe you don t even know her . that s true . but we have known each other over the internet for a few months now . actually we are on an intimate level . we even plan to be engaged next month . congratulations ! it s good to follow your heart . but i just didn t expect to be so fast . the internet is making interaction much faster . people are getting to know each other much more quickly this way . probably you re right .',\n",
              " 'hi ! susan ! i havent seen you for ages ! ive been really busy . how is everything ? oh , fine . hey , why dont we grab a bite to eat and do some catching up ? yeah , why not ? ive got a little free time on my hands . where do you want to eat ?',\n",
              " 'oh , george , what a beautiful day it is today ! the sun is hot and there are just a few clouds scattered here and there ! what a perfect day to be at the beach ! the kids are going to have so much fun ! and we ll be able to relax in the sun while they re playing . it does seem like the perfect day ! i m glad we chose to get out of the city and enjoy the nice weather ! this looks like the perfect spot ! ok kids , put on your sunscreen while your mom and i set up camp . here , mary , help me lay down these beach towels . there we go . can you help me with the umbrella ? perfect . ok kids , here sa beach ball and a frisbee , a pail and a shovel . i want to see an impressive sandcastle by the time we leave . don t stray too far . wait ! leave your sandals here or put on your wet shoes . and stay in the shallow area . i don t want to see you go any farther than that sandbar ! it s too deep out there and we didn t bring your floatier . you re back already ? the water was too cold , huh ? i ll tell you a secret . do you see that small pool of water over there ? it ll be warmer in there . go see if you can find some seashells or catch some minnows . what is that ? a jellyfish ? jeremy , put that down right now ! it could sting you ! ah ! not on me ! ow !',\n",
              " 'hello hi angela , its dan . hi b . how are you ? good . i called you yesterday . did you get my message ? yes , i was taking a shower when you called . i saw that you called and i tried to call you back , but i think your phone was off . no problem . i wanted to remind you that my friend is getting married next week . youre still coming to the wedding with me , right ? oh , is that next week ? yes . did you forget ? no , of course not . i already bought them a present . thats good . i want to invite megan also . next time you see her , can you tell her for me . sure . does she know your friend ? yes , i think they might have gone to the same college or something like that . im not exactly sure how they know each other . are we all going to drive together ? yes . ill pick you up first , and then well go get megan .',\n",
              " 'hey , look at the offer i got in my email . it says that i can get rich quickly while working at home ! do you also believe in santa claus and the tooth fairy ? what do you mean ? i mean that youre gullible . you shouldnt believe everything you read , especially on the internet . but it seems like a good idea . all i have to do is first send some money to the person who sent me the letter . after that hell tell me how to earn much more money . sounds like a pyramid scheme . have you heard of those before ? pyramid scheme ? what is that ? its a scam 7 thats based on a hierarchy , like a pyramid . the person at the top asks the people below him for money , and then tells them to go and ask other people for money while sending some of it back to him . sounds good to me . the guy at the top gets money and so do the people below him . not exactly . the scam keeps on going , with the people at the bottom paying more and more money until they reach the very bottom . what happens then ? nothing . the people at the bottom give their money to the people above them , and they get nothing . they end up losing . thats why its a scam . i see . i guess i should be more careful about what i read , especially on the internet where you have no idea who anybody is .',\n",
              " 'weve been cramming for tomorrows history exam since early this morning . what do you say we take a break and listen to some music , okay ? now that you mention it , im getting a little bumedout from studying nonstop , too . listening to some music for a while would suit me just fine . while youre picking out a record to play , ill grab a couple of beers out of the refrigerator . you sure have a lot of discs here . yeah , ive got everything from rock n roll to the latest new wave stuff . to tell you the truth , im strictly into classical music . you dont happen to have any bach or mozart , do you ? sorry , my taste in music doesnt go back any further than the 1960 s . music written before then is just history to me . well , speaking of history , lets get back to the books . we ve got an exam tomorrow , remember ?',\n",
              " 'when can we expect you and your daughter for dinner ? next saturday ? next saturday ? i m sorry . i ve promised to go to a chinese opera with my daughter . how about sunday then ? yes , sunday sounds fine . what time ? does 6 , 30 suit you ? it suits us fine . we ll see you then . thanks , goodbye .',\n",
              " 'i was thinking of holding the company retreat in the mountains . i agree , i think that that would be perfect ! i was thinking it could take place sometime in january . that might be a little too cold for some people . yes , you are right . what about april ? april has good weather that isnt too cold or too hot . yes , that would work out better . you know , maybe we could take a survey to see how that works for everyone . good idea ! well have to get right on it . fine ! well , ill get right on it now !',\n",
              " 'how may i help you ? i need to check these books out . do you have your library card ? here it is . it appears that you have late fees . really ? yes , really . how much do i owe ? you owe 24 . 50 in late fees . i don t have that much today . i m sorry , but until you pay it , you won t be able to check out any more books . i ll pay it as soon as possible .',\n",
              " 'merry christmas ! huh ? i said merry christmas ! don t you know that christmas is almost here ? it is ? oh , that s nice . huh ? didn t you know ? aren t you excited ? actually , i d forgotten about it . forgotten about it ? how could you ? because i m not christian , i m jewish . oh , i m sorry . i didn t know . it s all right . there are so many christians in america that everybody takes it for granted that i m christian . i guess so . so what do you do around this time of year ? well , i ll celebrate hanukah soon , but that s not as important to us as christmas is to you . mainly i ll just enjoy the holiday break . well , would you be horribly offended if i invited you to a christmas party at my house ? not at all . a party is a party . i ll be happy to come .',\n",
              " 'do you want to go shopping with me ? thats a good idea . what time is good for you ? how about saturday morning ? sounds good .',\n",
              " 'welcome , young man . no offence , but i havent seen you here before . of course , this is my first time here . my mom has a membership here . here is the card . okay then . you are the younger customer here ever . its not so wise that you do not explore the childrens market . its the marketings fault , i suppose . what do you want to do ? well , i want to become just like bruce lee . what should i do ? thats a long way to go , im afraid . first of all , you gotta grow up . i am still young . and im growing every minute . sure . then what about trying the treadmill or the skipping rope . i love running . anything else ? please change your clothes first ! im perfect with my clothes . and i do not have anything else with me . sorry , but no jeans here . oh , thats the only place where jeans are not popular . id better just go home .',\n",
              " 'i hear that the students union is going to take new members . really ? can i join it ? of course you can if you like it . how can i join it ? there will be an information session about the students union this tuesday . you can apply for it then . ok , thank you .',\n",
              " 'is that girl your girlfriend ? no , its not . she doesnt look like our classmate . dont mistake her as somebody . she s my older sister . really , shes so pretty .',\n",
              " 'what do you do in summer ? i love going out into the countryside for walks or bike ride . i love being out in the fresh summer air . how about you ? i don t often go for walks , but i either play sports outsideyou know , tennis or badmintonor just sit in the sunshine and read a good book . what do you do in winter ? well , i play sports indoors quite often . if i m feeling lazy , i just watch a film at home . i prefer summer to winter . i think most people do . i like wearing nice , colorful clothes in summer , you know , a nice dress or skirt . it s too cold for those kinds of clothes in winter . yes . i like wearing shorts in summer . my legs would freeze ! do you think we ll have a nice summer this year ? thanks to global warming , it could be hotter than ever !',\n",
              " 'happy new year ! thank you . same to you . have you got any plans ? ive been invited over to a friend s , and you ? my roommate s having a party .',\n",
              " 'do you offer a course in business management ? yes , we do . how many nights a week is it ? its 3 nights a week , monday , tuesday and thursday . and how long does the course last ? it lasts for 9 months . when does it start ? the next beginning class starts on october 25th . what time is the class ? from 7 to 9 oclock . how much does it cost ? it costs 125 dollars a month . yes , thats all right . i want to enroll in the course . thank you , please fill out this form for us . do you want me to fill it out now ? yes , please . we need a record of you education and your work experiences .',\n",
              " 'which social problem do you think the government needs to concentrate on most ? i think housing is a big problem . there are thousands of homeless people on the streets . how would you solve the problem ? i have a good idea to solve it . the government could provide some money for homeless people to build their own homes . it would probably be very expensive . i think the government can afford it . besides , there are many advantages . homeless people would find it easier to get jobs if they had an address . they would learn some useful skill for finding jobs i it s not a bad idea . i think education is the biggest problem at the moment . schools don t seem to have enough money to educate kids properly . if we are to invest more money to education , we will need to raise taxes . that wouldn t be popular with voters . most voters what everything both ways . they want the government to pay for lots of things , but without increasing taxes . the government should show that it is using money efficiently . sometimes you hear about how the government has wasted money on a project . yes . the government has limited funds and must show that it is using the money responsibly',\n",
              " 'do you keep any pets , such as cats , dogs ? no , im scared of cats . oh , but why ? i feel theyre dirty .',\n",
              " 'would you like to see our new shirts ? sorry , but i m not really that interested in those things . well , they are very nice you know . really ? and not expensive either . oh , i dont care about that . everybody is buying them . are they ? yes , they are very fashionable , you see . i am afraid i am not interested in fashion . i see . but thank you very much all the same . sorry i couldnt help you .',\n",
              " 'come in , come in ! hi , gary , what happened ? i was waiting for you at the theater . why didn t you meet me there ? i thought we were supposed to meet here . don t you know our movie starts at seven ? and we were going to meet at the theater at five to seven . then it doesn t make sense to meet at the apartment . i m sorry . we must have misunderstood each other . why don t you try to be clearer about your intentions ? you re right . i am sorry . let s go and watch the movie . it s okay . i don t want to go now . we ve already missed ten minutes of the movie . i don t want to see a movie without watching the beginning .',\n",
              " 'how was school today , dominic ? i hate school ! why ? what happened ? i messed up my midterm exam so badly today ! its just one exam . can you retake the exam ? yes , but its so humiliating ! i dont want my friends to know i failed ! why didnt you do a good job ? i dont know . i sat down in my seat , looked at my paper , and then my mind just went totally blank . do you think you studied enough for the exam ? no . . . what did you do last night ? i watched tv . did you study at all last night for your exam ? no , not really . i am sure if you had studied , you would have done well . when can you retake your exam ? tomorrow . alright . get out your books and ill help you prepare .',\n",
              " 'i havent met the smiths for a long time . they have moved to chicago . why ? mr . smith has changed his job .',\n",
              " 'did you hear about joe ? she hasnt eaten for days . why ? whats eating her ? love sick . you know who shes in love with ? i dont have the slightest idea . someone youre living with . what ? not my dad , i hope ! ? come on , mary , its your brother , jack . no kidding ! jack is such a log ! hes never dated a girl . the problem with joe is that shes too shy to tell him . and the problem with jack is that he seems to have no interest in girls . hes putting his heart into his stamp collection . well , if you want to help your friend , you should do something about it .',\n",
              " 'oh , they all went out ! did you make a wish ? yes , but i doubt if i get it . ive never got it . better luck this time !',\n",
              " 'how do you like the food sold in this sidewalk snack booth ? at least , it is better than my boxed lunch at work . im so fed up with the bland food . thank you for having lunch with me ! any time . but i dont mind eating boxed lunch . the food sanitation is really good too . its hard to believe that you like it . you are so easy to be satisfied . hey , its not that bad . the food is nutritious and its really convenient . i dont want to spend too much time on eating stuff . eating is important . you are what you eat . its not only a daily routine . well , will you just go back to work after lunch ? no . im going to pay the bill for the companys lunch . but you didnt eat anything today . well , the bill is paid by month . thats probably the only thing that i like about a takeout restaurant . all right . im going to the mcdonalds . for what ? i thought you didnt like western food . no , i never did . its for my son . he loves it , and i made an agreement with him that he can eat it once a week . thats really smart . my son daniel is the same with your son . i just dont get it , why all the kids prefer western food to traditional food . me , either . but , its for sure that the children market is a really big one . thats for sure . its always hard for the parents to say no to their children .',\n",
              " 'what can i do for you today ? i need to return a book . can i do anything else for you ? i want to check these books out . is that all ? that s all . may i see your library card , please ? it s right here . will that be all for today ? yes . that s it . these are due back in two weeks . all right . have a good night .',\n",
              " 'which sports are popular in your country ? most people like football . more boys like football than girls . a few girls play it really well . some people like playing basketball . do many people like tennis ? more and more people like it now . fewer people play table tennis than before . many people like swimming , because it is fun and keeps you fit . in my country , many people enjoy golf , but it is too expensive for some people . a few people like extreme sports , but i think the vast majority of people are afraid to try them . extreme sports are only for a small minority of people . several people from my university enjoy them , but most of us just watch . no one i know plays golf . i know loads of people who play it regularly . there are plenty of golf courses around the country . in the past , only a tiny number of people played . a great deal of people follow rugby in my country . there are plenty of rugby fans in my country too .',\n",
              " 'thank you for letting me borrow your portable cd player . oh , youre welcome .',\n",
              " 'you seem to be in the seventh heaven . whats put you on ? sarah and i could see eye to eye with each other . did she give up her decision to marry dick ? no , i encourage her to go her own way , but shes now having a change of heart .',\n",
              " 'ive come to say goodbye . when do you leave ? im catching the eleven oclock train . take care of yourself and dont forget to keep in touch . goodbye . hope to see you again next year .',\n",
              " 'the weather is terrible . yes . it was sunny and warm yesterday but the wind is really blowing hard now . im wearing my heavy jacket . im going to put on more clothes , too . will it snow today ? i dont know . do you like snowing ? yes , when it snows , every where is white . its very beautiful . you can read the newspaper . maybe it will tell you whether it will snow or not . good idea .',\n",
              " 'this city is far too polluted . we should do something about it . i agree . we need to recycle our trash and use public transportation more often .',\n",
              " 'i am looking for a comfortable convenient way to see the country . have you heard of motor coaching ? its one of the fastestgrowing segments for the travel industry . no , ive not heard of it . tell me about it . its almost like going on an ocean cruise except that you go by land . everything is planned for you from the moment you step on board a luxury coach . is it just a bus ? oh . no . the motor coach is airconditioned , there is a galley for food preparation , movies or music are available for your entertainment and attendants are there to take care of your every need . wow ! that sounds like pure luxury .',\n",
              " 'whos your favorite film star ? tom hanks is always my favorite film star . what films feature him ? many !',\n",
              " 'my chinese friends told me that the spring festival is coming soon . can you tell me something about it ? certainly . it s actually the chinese new year and is regarded by the chinese as the most important holiday of the year . what happens on the holiday ? family members usually get together on the eve of the new year and have a special dinner to celebrate . relatives and friends often visit each other during the holiday to wish each other a happy new year . do people cook a lot of special dishes for the holiday ? yes , just like christmas in western countries , it is a time for eating lots of special food .',\n",
              " 'rachel has decided to quit smoking . really ? why ? you never guess she is going to have a baby . oh , its unbelievable . she is such a chain smoker . yes , yes . she said she is going to stop drinking coffee too and quit all the unhealthy habits just for the baby . oh , she is going to be a great mother .',\n",
              " 'do you know who s just got married ? old mcdonald . never ! he s over 80 , isn t he ? he s nearly 90 . good gracious ! are you sure ? i am . what s more , his wife is 84 . is she really ? yes , she is . and guess what , he is her sixth husband . really ? quite a woman , isn t she ?',\n",
              " 'its almost midnight ! we are about to start a brand new year ! i know its so exciting ! a new year is always like a clean slate . fresh start to accomplish any dreams , objectives and goals . do you have a new years resolution ? i was thinking about it , but im never able to keep my new years resolution . last year for example i joined a gym and only went twice . yeah i know what you mean . thats why this year i am keeping things more simple . maybe like getting together with friends i havent seen in a long time , or doing some volunteering work . that seems reasonable . we should get together and watch the ball drop in times square . sure , as long as you dont try to kiss me at midnight ! well , we cant break tradition ! its bad luck !',\n",
              " 'excuse me , are you sara wilson ? yes , i am . you must be tom . nice to meet you . nice to meet you too . let me help you with your bags . be careful , tom . those are pretty heavy . wow , youre not kidding . hold on a second . hello , could you give us a hand , please ?',\n",
              " 'are you working or are you a student ? im a student . which school are you studying at ? tsinghua university .',\n",
              " 'im really tired of my job in the bank . im thinking about changing it . have you any definite idea ? not yet , whats your opinion ? i think youd better try an active job .',\n",
              " 'mike ! whats going on , man ! long time no see ! hey , pat ! yeah , i haven t seen you in ages ! how is going ? things doing great ! it s funny running into you like this . smell well , just last week i ran into matt as well . yeah ? how s he doing ? he s doing well . we went out for a couple of beers and the funniest thing happened . oh yeah ? well , we were talking and catching up on what we ve been doing , talking about work and family , when all of a sudden , matt saw a mouse run under his chair and he completely lost it ! he started freaking out , and screaming . . . ha ha , really ? yeah , and the funniest thing was , that he jumped on to his chair and started shrieking like a girl . you had to be there ! everyone was staring and laughing . . . it was hilarious !',\n",
              " 'hey , jack , wheres your car ? i got rid of that clunker . this is my new one . is that right ? it sure beats the old one ? jump in , ill give you a ride . ok . boy , this looks expensive . yeah , it costed a bundle alright . wow , thiss sinking a hole . yeah , this sucker is the fastest thing ive ever owned . i believe it . hoo , this car corners like its on rails . we are on the high way . im the . wow , this car can really burn rubber . its a great feeling . you made a perfect choice , jack . thanks , daisy .',\n",
              " 'whats your email address ? its bulldog 123 . bulldog 123 . are you sure thats all ? yes . no . thats incomplete . what do you mean ? whats your mailing address ? 456 cherry drive , pasadena , ca 91170 . thats correct . so whats the problem ? bulldog 123 is just the street . you have to give me the city , state , and zip code . oh , i get it . my email address is bluedog123yahoo . com .',\n",
              " 'im here for my appointment . what can i do for you today ? i have an issue with my schedule . tell me the problem . i have two classes on here that are at the same time . oh , i see . can you change that for me ? do you still want both classes ? yes , i would like to keep both classes . ill try to change one to a different day . i would greatly appreciate that .',\n",
              " 'i d love to have my own farm . it would be very hard work . are you sure ? i wouldn t mind getting up early morning and the physical work would make me fit and healthy . running a farm would be totally different to you current job . that s one reason i d like to try it . i d really like to get away from working 9 to 5 in an office . you d need a lot of training before becoming a farmer . it s not something you can just walk into . my uncle owns a farm and i ve spent some time working with him . i love being in the countryside with farm animals and green fields . well , i d certainly come and visit you . it would be great to take a working holiday on a farm . i d love to get away from hustle and bustle of the city for a while .',\n",
              " 'we still have one more day to go before we return home . what will we see tomorrow ? no idea . weve enjoyed both the natural scenery and the city sights . what else is there to see ? what about a factory tour ? you mean visit a factory ? yes . i heard theres a lager motor company nearby which open to the public every weekend . we can go to see how a car is manufactured and learn more about the automobile industry . good idea ! ive always been interested in that . how much is the entrance fee ? im not sure , but as far as i know , most factory tours are free . they are sponsored by the company providing the tour . really ? what do the companies do that for ? i believe most of them think of it as good public relations . they can promote their product and make their company betterknown . oh , i see . so factory tours are good for companies as well as visitors . exactly . do we need an appointment beforehand ? ill call the tourist information centre to check .',\n",
              " 'look , herere two coins named kai yuan tong bao the sort of coin made in memory of the founding of a new dynasty . these two coins were made in different periods of the tang dynasty . how can you tell the difference ? from what i see , they look almost the same . the one made in the early tang period is bigger and has more characters on it , while the one with smaller and elegant characters was made in late tang period . look carefully , and tell me if you see the difference now . yes , they are different ! but its too professional . what i need is just being able to tell the real from the fake . do you know any method we can use to tell a fake ancient coin ? various methods were used in history to produce fake coins . we usually send the coin to an authorized unit to have it tested by experts with special machines . we can judge it with naked eyes . i see . by the way , china was more than once ruled by foreign tribes in history . did they issue their own coins in china ? certainly , they did . liao coins and song coins , for example , coexisted in circulation during the southern song and yuan period some 800 1000 years ago . the liao coins look plain and bold in style , just like the characteristics of the mongolian tribe . let me look for one and show you . if you happen to find one , please bargain with the owner for it . id like to have one . its interesting to see the integration of the han and mongolian cultures on this small piece of metal .',\n",
              " 'there will be another sandstorm here tomorrow . its the fourth one this year . isnt it horrible . yes . we should plant more trees and grass to stop the sand from spreading . it may take many years for the trees to grow . i hope people will stop cutting down trees . but we need the wood . but we cant destroy our forests to get the wood .',\n",
              " 'what are you guys doing ? just having a chat .',\n",
              " 'what s wrong with you , mr . polly ? what s wrong ? i want a break from this horrible job . then , buy a bottle of soft drink . would you like to buy a bottle for me in the shop ? it s a problem , because my boss is in that shop now . ok , i will go there myself . sorry , mr . polly . it doesn t matter . oh , god , i have only four dollars in my wallet . is that possible for me to buy one ? have a try .',\n",
              " 'im bored and got nothing to do tonight . how about coming with me to meet my american friends ? hey , that sounds great . okay , ill pick you up at eight oclock .',\n",
              " 'what s the first thing you do when you go to the bathroom in the morning ? i look at myself in the mirror . sometimes , it s not a pleasant sight , especially if i have been out late the late before . do you usually shower or take a bath ? i usually don t have time for a bath in the mornings , so i just take a shower . sometimes i need a cold shower to wake me up and sometimes i need a hot one , especially if it s winter and i need to warm up . do you shave every morning ? i shave every workday , but i only shave at weekends if i m going out somewhere . if i m staying at home , i don t shave . do you brush your teeth twice a day as dentists recommend ? yes . i brush my teeth in the morning , just before i go to work . it s actually the last thing i do before leaving . then i brush again before bed . your dentist must be proud of you !',\n",
              " 'miss wang , would you mind my asking you a personal question ? no , not at all . go ahead . are you married ? yes . is that so important ? frankly yes . we like to employ married people . by the way , do you have any children ? yes , i have a threeyearold son .',\n",
              " 'im not satisfied with it . why not ? whats wrong with it ? sometimes it goes fast . and sometimes it goes slow . and the alarm doesntwork , either . would you like another one ? no . can i have my money back ? hmm . . . have you got a receipt ? a receipt ? yes . i must see your receipt . you cant have your money back without receipt . oh , im not certain , but i think ive lost it .',\n",
              " 'morning , tom . hi , mary . you seem to be in a hurry . yes . i ve got a meeting in a minute . okay . i won t hold you up then . right . i ll see you later . see you later .',\n",
              " 'would you mind if i ask you whether you are married or not ? to be frank , i was married once , and now im single . do you mean you got a divorce ? yes , my first marriage was a failure .',\n",
              " 'let me clear away the broken glass . no , i can manage it myself . just sit down , please . its very careless of me to have broken your glass . never mind .',\n",
              " 'have you followed the value of dollar lately ? how could i help but follow it ? the fluctuation of dollar is killing my company ! the exchange rates are eating into our profits , and we cant do anything about it . its really frustrating , isnt it ? i have the same problem . i would feel a lot better if the currency was a little more stable . with the way the dollar plummeting lately , my securities have gone up in smoke . every day i have less money ! i havent spent anything , it is just melting away because of the shifts in exchange rate . what we really should be making investment in is the euro . ive followed the euros progress over the last quarter , i think its about time to buy in . what about the yen ? are you kidding ? the yen is in worse shape than the dollar !',\n",
              " 'what a lovely day . the sun is shinning and the sky is so blue . its a perfect day to go to the beach and get a beautiful tan . great idea . unlike you , i just want to enjoy watching the sea and playing with the sand . i do not want to get a tan because i look good in pale skin . come on . getting a tan symbolizes health and wealth in western countries . while the pale color symbolizes beauty and elegance in most asia countries . that is a really interesting fact . i will bring a big hat and apply a lot of sunscreen before setting off the beach . just do whatever you feel like doing . at the beach my bag is so heavy . lets put the stuff under the tree . good idea . it is always cooler in a shade . i cant wait to play in the water . my feet are burning when i stand on the sand .',\n",
              " 'what time is it , tom ? just a minute . it s ten to nine by my watch . is it ? i have no idea if i m so late . i must be off now . what s the hurry ? i must catch the ninethirty train . it s plenty of time yet . the railway station is very close . it won t take your twenty minutes to get there .',\n",
              " 'did you bring some lunch with you ? yes , i packed it myself . wow , that looks beautiful . its my healthconscious lunch , good for my health and beauty . i might try it myself .',\n",
              " 'can you name some festivals of religious nature ? yes , such as christmas and easter . what about historic festivals ? thanksgiving day , independence day .',\n",
              " 'i wonder how sarah and mat are . dont you know theyve already broken up ? im not surprised . shes a plain jane . and hes so handsome .',\n",
              " 'wheres bob ? it seems like hes not coming . can you give him a call on his mobile ? sure .',\n",
              " 'excuse me ; is this seat taken ? no . its all yours . thank you very much . my name is ashlan . its nice to meet you . carson . its nice to mee you , too . the weather is so warm for december , dont you think ? it is unusually warm . i blame it on global warming . global warming is wreaking havoc everywhere . so sure . are you from around here ? no . im new here . i just moved here a few months ago . where are you from ? im from china . what about you ? i am from texas . i was in china once , but it was a long time ago . did you enjoy it ? i did . i especially liked the food . what do you think about the food here ? its very different from chinese food , but i am getting used to it . is that the da vinci code that youve got there ? yes , have you read it ? no , but i saw the movie . what do you think about it ? well , to be honest , ive only gotten though 10 pages of it . so far , though , its interesting . well , this is my stop . it was nice talking with you . likewise . bye !',\n",
              " 'would you like a cup of coffee ? yes . that would be good . oh , no . whats the matter ? this machine is out of order . you shouldnt have used the machine . did you lose your money ? i sure did . you ought to complain . these machine are always out of order .',\n",
              " 'hello , mary . nice day , isnt it ? yes , what a wonderful day ! the sky has cleared up in the end . i do feel like an outdoor exercise . after all , we havent had such a beautiful day for a long time . how about taking a walk in the park ? ok . its delightful to have a walk in the park with the air so fresh . after they entering the park great , its so quiet here . we have the park to ourselves , only you and me . are you kidding ? dont you see many people over there ? just on your right . oh , i see them . beautiful weather should be shared by all the people . ah , you changed so fast .',\n",
              " 'how was the party last night ? did you enjoy it ? oh , don t talk to me about last night ! it was the most awful evening i ve ever had . why ? what happened ? well . mary had promised to be my date , but she stood me up . i waited for her for a full hour in the cold wind . what about the party ? it was boring . the music was too slow and the food was lousy and , above all , i was really sick of the same old crowd all the time . so how long did you stay ? i left after the opening dance . i couldn t wait to get out of there .',\n",
              " 'do you think my briefcase is big enough to put in all these stuff ? let me see . laptop , flash disk , a ballpoint pen , a pencil , a notebook , a pair of glasses , cell phone , charger , moisture , notion , . . . oh , that is too much . you are not going to a business trip . i guess i need all of them . actually , the company will provide you with all of these supplies . so , you can leave this very thick notebook at home . i know . but it is my lucky charm . i carry it all the time . suit yourself . don t forget to set the alarm clock .',\n",
              " 'why do all girls appear feminine after sophomore year ? because they are fullgrown . look at their curvy figures . i feel they all talk and behave in a different way . they suddenly become shy when they speak to boys . some even do makeup slightly . are you aware that previous small potato ma xiaoxiao becomes a piece of cheese cake recently ? she is certainly not my kind of girl . stop preaching your dream love marilyn monroe to me . i know those sexy women are your tastes . you are so platonic . those naive girls will eventually grow into real women . they cant resist love , and men cannot resist their attraction either . i appreciate the saying love consists in this , that two solitude protect , border and salute each other .',\n",
              " 'this one looks great ! i love the seashore . so do i . the sun . . . the sand . . . the ocean ! and listen to this ! what do you think of sailing , swimming , windsurfing , and fishing ? oh , tom ! they sound fantastic . i really like all those things . yeah . . . me , too . well , except fishing . to be honest , i hate fishing , but i love all the others . hey ! look at this ! we can stay in a big hotel or we can stay in a little cabin by the beach . you know . i really dont those big hotels . neither do i . lets stay in a cabin . it ll be much nicer right beside the ocean .',\n",
              " 'may , look , whats that in the cage ? dont you know that ? its panda . of course i know . i just cant see it very well . ok , then put on your glasses , and do you know what does the panda eat ? of course , bamboo ! thats right . i also know they are given to other countries as gifts for friendship . you sound quite knowledgeable . not really , panda is my favorite animal . actually , it likes milk too . any way , in a word , panda is our friend . do you know other famous animals in the world ? yeah , let me think , the kangaroo and koala bear from australia are very famous . thats right . ok , lets move on .',\n",
              " 'you look fresh recently . how do you make it ? i attend an aerobic class three times a week . arent you tired ? no , i feel young , fresh and energetic .',\n",
              " 'john , did you have a dream when you was a little boy ? of course i did . i dreamed to be a pilot when i grow up . but unfortunately , i didn t realize it . i had the same experience with you . when i was a little boy i dreamed to be a great scientist . but now you see , im just a common office clerk . okay , forget about that . s , do you have some practical dreams at present ? i do . and now im working hard to learn english , and i want to be an interpreter some day . youre promising . just follow your dream and never give up . thanks , i will .',\n",
              " 'hi joe . youve met my new assistant , right ? emm . . . yes . but i wasnt too impressed . i found her a little stuck up . you are kidding , but shes so helpful . tom . . . you are her boss , you down . of course , shes helpful to you . come on . shes like that with everyone . i dont think so actually . she never even says hello to me .',\n",
              " 'eric , how long will you be in china ? i dont know . well , my contract here is for one year , and i dont know what i should do after that . maybe going around for a while . well , have you ever thought about learning some chinese ? actually , i am learning that now . but its too hard for me . you know the four tones and the stuff . it really freaks me out . dont worry . all things are difficult before they are easy . you hit the nail right on the head . well , are you invested in some languageexchange program ? what is it ? its where i teach you chinese , and in exchange you teach me english . awesome . ive been giving this a lot of thought . when can we do this ? how about this sunday ? ok , cool . good . ill give you a call tonight . no problem . bye .',\n",
              " ...]"
            ]
          },
          "metadata": {},
          "execution_count": 142
        }
      ]
    },
    {
      "cell_type": "markdown",
      "source": [
        "#### Validación"
      ],
      "metadata": {
        "id": "PFauDk1tf_cN"
      },
      "id": "PFauDk1tf_cN"
    },
    {
      "cell_type": "code",
      "source": [
        "texto_norm_val = [normalize_text(a) for a in validation['dialog']]"
      ],
      "metadata": {
        "id": "I-jj-DNXgEgk"
      },
      "id": "I-jj-DNXgEgk",
      "execution_count": null,
      "outputs": []
    },
    {
      "cell_type": "code",
      "source": [
        "texto_norm_val[0]"
      ],
      "metadata": {
        "colab": {
          "base_uri": "https://localhost:8080/",
          "height": 53
        },
        "id": "jQ5B5FRTgSJ9",
        "outputId": "fceea556-90c8-4194-8889-3aba06da2b81"
      },
      "id": "jQ5B5FRTgSJ9",
      "execution_count": null,
      "outputs": [
        {
          "output_type": "execute_result",
          "data": {
            "text/plain": [
              "'good morning , sir . is there a bank near here ? there is one . 5 blocks away from here ? well , thats too far . can you change some money for me ? surely , of course . what kind of currency have you got ? rib . how much would you like to change ? 1000 yuan . here you are .'"
            ],
            "application/vnd.google.colaboratory.intrinsic+json": {
              "type": "string"
            }
          },
          "metadata": {},
          "execution_count": 144
        }
      ]
    },
    {
      "cell_type": "markdown",
      "source": [
        "#### Test"
      ],
      "metadata": {
        "id": "0Tzz2ZrEgV2C"
      },
      "id": "0Tzz2ZrEgV2C"
    },
    {
      "cell_type": "code",
      "source": [
        "texto_norm_test = [normalize_text(a) for a in test['dialog']]"
      ],
      "metadata": {
        "id": "nK0O_5FpgVGr"
      },
      "id": "nK0O_5FpgVGr",
      "execution_count": null,
      "outputs": []
    },
    {
      "cell_type": "code",
      "source": [
        "texto_norm_test[0]"
      ],
      "metadata": {
        "colab": {
          "base_uri": "https://localhost:8080/",
          "height": 70
        },
        "id": "s8rQsHT2gdi4",
        "outputId": "b47c0353-64be-4e3c-f38f-77ebdb2475f5"
      },
      "id": "s8rQsHT2gdi4",
      "execution_count": null,
      "outputs": [
        {
          "output_type": "execute_result",
          "data": {
            "text/plain": [
              "'hey man , you wanna buy some weed ? some what ? weed ! you know ? pot , ganja , mary jane some chronic ! oh , umm , no thanks . i also have blow if you prefer to do a few lines . no , i am ok , really . come on man ! i even got dope and acid ! try some ! do you really have all of these drugs ? where do you get them from ? i got my connections ! just tell me what you want and i ll even give you one ounce for free . sounds good ! let s see , i want . yeah ? i want you to put your hands behind your head ! you are under arrest !'"
            ],
            "application/vnd.google.colaboratory.intrinsic+json": {
              "type": "string"
            }
          },
          "metadata": {},
          "execution_count": 146
        }
      ]
    },
    {
      "cell_type": "markdown",
      "source": [
        "### Agrupar en pares"
      ],
      "metadata": {
        "id": "jioRAEQXgab2"
      },
      "id": "jioRAEQXgab2"
    },
    {
      "cell_type": "code",
      "source": [
        "def dialog_to_pairs(dialogs):\n",
        "    inputs = []\n",
        "    targets = []\n",
        "    for dialog in dialogs:\n",
        "        turns = [t.strip() for t in dialog.split('\\n') if t.strip()]\n",
        "        for i in range(len(turns) - 1):\n",
        "            inputs.append(turns[i])\n",
        "            targets.append(turns[i + 1])\n",
        "    return inputs, targets\n",
        "\n",
        "# Usa la columna original, no la normalizada\n",
        "train_inputs_text, train_targets_text = dialog_to_pairs(train['dialog'])\n",
        "val_inputs_text, val_targets_text = dialog_to_pairs(validation['dialog'])\n",
        "test_inputs_text, test_targets_text = dialog_to_pairs(test['dialog'])\n",
        "\n",
        "# Normaliza después de separar en pares\n",
        "train_inputs_text = [normalize_text(t) for t in train_inputs_text]\n",
        "train_targets_text = [normalize_text(t) for t in train_targets_text]\n",
        "val_inputs_text = [normalize_text(t) for t in val_inputs_text]\n",
        "val_targets_text = [normalize_text(t) for t in val_targets_text]\n",
        "test_inputs_text = [normalize_text(t) for t in test_inputs_text]\n",
        "test_targets_text = [normalize_text(t) for t in test_targets_text]\n",
        "\n",
        "print(len(train_inputs_text), len(train_targets_text))\n",
        "print(train_inputs_text[:3])\n",
        "print(train_targets_text[:3])"
      ],
      "metadata": {
        "colab": {
          "base_uri": "https://localhost:8080/"
        },
        "id": "QSqVDGGrRpB7",
        "outputId": "894ccd9a-d617-47da-bb76-63a6c29a77d4"
      },
      "id": "QSqVDGGrRpB7",
      "execution_count": null,
      "outputs": [
        {
          "output_type": "stream",
          "name": "stdout",
          "text": [
            "64998 64998\n",
            "['say , jim , how about going for a few beers after dinner ?', 'you know that is tempting but is really not good for our fitness .', 'what do you mean ? it will help us to relax .']\n",
            "['you know that is tempting but is really not good for our fitness .', 'what do you mean ? it will help us to relax .', 'do you really think so ? i dont . it will just make us fat and act silly . remember last time ?']\n"
          ]
        }
      ]
    },
    {
      "cell_type": "markdown",
      "source": [
        "### Tokenización"
      ],
      "metadata": {
        "id": "6Dz7vldAgrvW"
      },
      "id": "6Dz7vldAgrvW"
    },
    {
      "cell_type": "code",
      "source": [
        "vectorizer = TextVectorization(\n",
        "    max_tokens=8000,\n",
        "    output_sequence_length=128,\n",
        "    standardize=None  # Ya hicimos la normalización\n",
        ")"
      ],
      "metadata": {
        "id": "HMu4uue5ibqH"
      },
      "id": "HMu4uue5ibqH",
      "execution_count": null,
      "outputs": []
    },
    {
      "cell_type": "code",
      "source": [
        "vectorizer.adapt(train_inputs_text + train_targets_text)"
      ],
      "metadata": {
        "id": "idZGd2CC1Tit"
      },
      "id": "idZGd2CC1Tit",
      "execution_count": null,
      "outputs": []
    },
    {
      "cell_type": "code",
      "source": [
        "print(len(train_inputs_text), len(train_targets_text))\n",
        "print(train_inputs_text[:3])\n",
        "print(train_targets_text[:3])"
      ],
      "metadata": {
        "colab": {
          "base_uri": "https://localhost:8080/"
        },
        "id": "CThDbpJ0TRaY",
        "outputId": "96292491-f1c6-4f75-bcdc-8ae96a82a4ce"
      },
      "id": "CThDbpJ0TRaY",
      "execution_count": null,
      "outputs": [
        {
          "output_type": "stream",
          "name": "stdout",
          "text": [
            "64998 64998\n",
            "['say , jim , how about going for a few beers after dinner ?', 'you know that is tempting but is really not good for our fitness .', 'what do you mean ? it will help us to relax .']\n",
            "['you know that is tempting but is really not good for our fitness .', 'what do you mean ? it will help us to relax .', 'do you really think so ? i dont . it will just make us fat and act silly . remember last time ?']\n"
          ]
        }
      ]
    },
    {
      "cell_type": "code",
      "source": [
        "train_inputs = vectorizer(train_inputs_text).numpy()\n",
        "train_targets = vectorizer(train_targets_text).numpy()\n",
        "val_inputs = vectorizer(val_inputs_text).numpy()\n",
        "val_targets = vectorizer(val_targets_text).numpy()"
      ],
      "metadata": {
        "id": "fXuHmheHScaE"
      },
      "id": "fXuHmheHScaE",
      "execution_count": null,
      "outputs": []
    },
    {
      "cell_type": "code",
      "source": [
        "test_inputs = vectorizer(test_inputs_text).numpy()\n",
        "test_targets = vectorizer(test_targets_text).numpy()"
      ],
      "metadata": {
        "id": "c92aompOelnq"
      },
      "id": "c92aompOelnq",
      "execution_count": null,
      "outputs": []
    },
    {
      "cell_type": "code",
      "source": [
        "# 5. Ejemplo de tokenización\n",
        "ejemplo = \"habia una vez un señor llamado pedro y se fue corriendo\"\n",
        "encoded = vectorizer([ejemplo])\n",
        "print(f\"Texto original: {ejemplo}\")\n",
        "print(f\"IDs tokenizados: {encoded.numpy()}\")"
      ],
      "metadata": {
        "colab": {
          "base_uri": "https://localhost:8080/"
        },
        "id": "QyTfgFV81Wo4",
        "outputId": "d6e3f607-f4b1-4c17-9949-93ecaf0142cf"
      },
      "id": "QyTfgFV81Wo4",
      "execution_count": null,
      "outputs": [
        {
          "output_type": "stream",
          "name": "stdout",
          "text": [
            "Texto original: habia una vez un señor llamado pedro y se fue corriendo\n",
            "IDs tokenizados: [[   1    1    1    1    1    1    1 6035    1    1    1    0    0    0\n",
            "     0    0    0    0    0    0    0    0    0    0    0    0    0    0\n",
            "     0    0    0    0    0    0    0    0    0    0    0    0    0    0\n",
            "     0    0    0    0    0    0    0    0    0    0    0    0    0    0\n",
            "     0    0    0    0    0    0    0    0    0    0    0    0    0    0\n",
            "     0    0    0    0    0    0    0    0    0    0    0    0    0    0\n",
            "     0    0    0    0    0    0    0    0    0    0    0    0    0    0\n",
            "     0    0    0    0    0    0    0    0    0    0    0    0    0    0\n",
            "     0    0    0    0    0    0    0    0    0    0    0    0    0    0\n",
            "     0    0]]\n"
          ]
        }
      ]
    },
    {
      "cell_type": "markdown",
      "source": [
        "### Attention masks"
      ],
      "metadata": {
        "id": "RsQ3Zs1MuKDq"
      },
      "id": "RsQ3Zs1MuKDq"
    },
    {
      "cell_type": "code",
      "source": [
        "##### EN ESTE PASO DA ERROR POR SUPERAR LA MEMORIA DE LA GPU #####\n",
        "\n",
        "# def create_padding_mask(inputs):\n",
        "#     return tf.cast(inputs != 0, tf.float32)  # 0 es el ID del padding en TextVectorization\n",
        "\n",
        "# def create_look_ahead_mask(seq_len):\n",
        "#     return 1 - tf.linalg.band_part(tf.ones((seq_len, seq_len)), -1, 0)\n",
        "\n",
        "# # Padding masks\n",
        "# train_padding_mask = create_padding_mask(train_inputs)\n",
        "# val_padding_mask = create_padding_mask(val_inputs)\n",
        "\n",
        "# # Look-ahead (estático si tienes secuencia fija)\n",
        "# seq_len = train_inputs.shape[1]\n",
        "# look_ahead_mask = create_look_ahead_mask(seq_len)\n",
        "# look_ahead_mask = tf.expand_dims(look_ahead_mask, axis=0)  # shape (1, L, L)\n",
        "# look_ahead_mask = tf.repeat(look_ahead_mask, repeats=train_inputs.shape[0], axis=0)"
      ],
      "metadata": {
        "id": "k6HIQwjpuJoj"
      },
      "id": "k6HIQwjpuJoj",
      "execution_count": null,
      "outputs": []
    },
    {
      "cell_type": "markdown",
      "source": [
        "### Padding"
      ],
      "metadata": {
        "id": "ezwL3u6edw5Y"
      },
      "id": "ezwL3u6edw5Y"
    },
    {
      "cell_type": "code",
      "source": [
        "padded_train_inputs = pad_sequences(train_inputs, padding='post', maxlen=128)\n",
        "padded_train_targets = pad_sequences(train_targets, padding='post', maxlen=128)\n",
        "padded_val_inputs = pad_sequences(val_inputs, padding='post', maxlen=128)\n",
        "padded_val_targets = pad_sequences(val_targets, padding='post', maxlen=128)"
      ],
      "metadata": {
        "id": "chkpugoNds2d"
      },
      "id": "chkpugoNds2d",
      "execution_count": null,
      "outputs": []
    },
    {
      "cell_type": "code",
      "source": [],
      "metadata": {
        "id": "reV_AX4Txivm"
      },
      "id": "reV_AX4Txivm",
      "execution_count": null,
      "outputs": []
    },
    {
      "cell_type": "markdown",
      "id": "5f66d32a",
      "metadata": {
        "id": "5f66d32a"
      },
      "source": [
        "## 2. Implementación del Modelo Transformer"
      ]
    },
    {
      "cell_type": "code",
      "source": [
        "# def positional_encoding(seq_len, d_model):\n",
        "#     pos = np.arange(seq_len)[:, np.newaxis]\n",
        "#     i = np.arange(d_model)[np.newaxis, :]\n",
        "#     angle_rates = 1 / np.power(10000, (2 * (i//2)) / np.float32(d_model))\n",
        "#     angle_rads = pos * angle_rates\n",
        "\n",
        "#     # aplicar sin en indices pares, cos en impares\n",
        "#     pos_encoding = np.zeros(angle_rads.shape)\n",
        "#     pos_encoding[:, 0::2] = np.sin(angle_rads[:, 0::2])\n",
        "#     pos_encoding[:, 1::2] = np.cos(angle_rads[:, 1::2])\n",
        "\n",
        "#     pos_encoding = pos_encoding[np.newaxis, ...]\n",
        "#     return tf.cast(pos_encoding, dtype=tf.float32)"
      ],
      "metadata": {
        "id": "aDWXCm3HoBJt"
      },
      "id": "aDWXCm3HoBJt",
      "execution_count": null,
      "outputs": []
    },
    {
      "cell_type": "markdown",
      "source": [
        "### Encoder"
      ],
      "metadata": {
        "id": "n8Szfp8sEWf6"
      },
      "id": "n8Szfp8sEWf6"
    },
    {
      "cell_type": "code",
      "source": [
        "def transformer_encoder(embed_dim, num_heads, ff_dim):\n",
        "    inputs = tf.keras.Input(shape=(None, embed_dim))\n",
        "    attention = tf.keras.layers.MultiHeadAttention(num_heads=num_heads, key_dim=embed_dim)(inputs, inputs)\n",
        "    attention = tf.keras.layers.Dropout(0.4)(attention)\n",
        "    attention = tf.keras.layers.LayerNormalization(epsilon=1e-6)(attention + inputs)\n",
        "    ffn = tf.keras.layers.Dense(ff_dim, activation='relu')(attention)\n",
        "    ffn = tf.keras.layers.Dense(embed_dim)(ffn)\n",
        "    outputs = tf.keras.layers.LayerNormalization(epsilon=1e-6)(ffn + attention)\n",
        "    return tf.keras.Model(inputs=inputs, outputs=outputs)\n"
      ],
      "metadata": {
        "id": "_dY8_1zyZzFm"
      },
      "id": "_dY8_1zyZzFm",
      "execution_count": null,
      "outputs": []
    },
    {
      "cell_type": "markdown",
      "source": [
        "### Decoder"
      ],
      "metadata": {
        "id": "tFQQl6vnEZ56"
      },
      "id": "tFQQl6vnEZ56"
    },
    {
      "cell_type": "code",
      "source": [
        "def transformer_decoder(embed_dim, num_heads, ff_dim, dropout=0.1):\n",
        "    target_seq = tf.keras.Input(shape=(None, embed_dim), name=\"target_seq\")\n",
        "    enc_output = tf.keras.Input(shape=(None, embed_dim), name=\"enc_output\")\n",
        "    attn1 = tf.keras.layers.MultiHeadAttention(num_heads=num_heads, key_dim=embed_dim)(\n",
        "        target_seq, target_seq, use_causal_mask=True)\n",
        "    attn1 = tf.keras.layers.Dropout(dropout)(attn1)\n",
        "    out1 = tf.keras.layers.LayerNormalization(epsilon=1e-6)(attn1 + target_seq)\n",
        "    attn2 = tf.keras.layers.MultiHeadAttention(num_heads=num_heads, key_dim=embed_dim)(\n",
        "        out1, enc_output)\n",
        "    attn2 = tf.keras.layers.Dropout(dropout)(attn2)\n",
        "    out2 = tf.keras.layers.LayerNormalization(epsilon=1e-6)(attn2 + out1)\n",
        "    ff = tf.keras.layers.Dense(ff_dim, activation='relu')(out2)\n",
        "    ff = tf.keras.layers.Dense(embed_dim)(ff)\n",
        "    out3 = tf.keras.layers.LayerNormalization(epsilon=1e-6)(ff + out2)\n",
        "    return tf.keras.Model(inputs=[target_seq, enc_output], outputs=out3)"
      ],
      "metadata": {
        "id": "qhhSjZ5VEUQk"
      },
      "id": "qhhSjZ5VEUQk",
      "execution_count": null,
      "outputs": []
    },
    {
      "cell_type": "code",
      "source": [
        "def create_decoder_io(sequences, bos_token_id=1, seq_len=128):\n",
        "    decoder_inputs = []\n",
        "    decoder_targets = []\n",
        "    for seq in sequences:\n",
        "        seq = list(seq)\n",
        "        # recorta o rellena a seq_len-1\n",
        "        seq = seq[:seq_len-1] + [0]*(seq_len-1-len(seq))\n",
        "        dec_in = [bos_token_id] + seq  # [BOS] + seq[:-1]\n",
        "        dec_in = dec_in[:seq_len]\n",
        "        dec_tgt = seq + [0]            # seq + [PAD]\n",
        "        dec_tgt = dec_tgt[:seq_len]\n",
        "        decoder_inputs.append(dec_in)\n",
        "        decoder_targets.append(dec_tgt)\n",
        "    return np.array(decoder_inputs), np.array(decoder_targets)"
      ],
      "metadata": {
        "id": "j4dq3oCmIwUh"
      },
      "id": "j4dq3oCmIwUh",
      "execution_count": null,
      "outputs": []
    },
    {
      "cell_type": "code",
      "source": [
        "# Parámetros\n",
        "vocab_size = 8000\n",
        "embed_dim = 128\n",
        "num_heads = 8\n",
        "ff_dim = 512\n",
        "sequence_length = 128\n",
        "\n",
        "# Embedding compartido\n",
        "embedding_layer = tf.keras.layers.Embedding(input_dim=vocab_size, output_dim=embed_dim, mask_zero=True)\n",
        "\n",
        "# Inputs\n",
        "encoder_inputs = tf.keras.Input(shape=(sequence_length,), name=\"encoder_inputs\")\n",
        "decoder_inputs = tf.keras.Input(shape=(sequence_length,), name=\"decoder_inputs\")\n",
        "\n",
        "# Embedding\n",
        "enc_emb = embedding_layer(encoder_inputs)\n",
        "dec_emb = embedding_layer(decoder_inputs)\n",
        "\n",
        "# Encoder y Decoder\n",
        "encoder = transformer_encoder(embed_dim, num_heads, ff_dim)\n",
        "decoder = transformer_decoder(embed_dim, num_heads, ff_dim)\n",
        "\n",
        "enc_out = encoder(enc_emb)\n",
        "dec_out = decoder([dec_emb, enc_out])\n",
        "\n",
        "# Output final\n",
        "outputs = tf.keras.layers.Dense(vocab_size)(dec_out)"
      ],
      "metadata": {
        "colab": {
          "base_uri": "https://localhost:8080/"
        },
        "id": "7vYLyb2LIE4Q",
        "outputId": "d9189754-c34f-4463-d349-f81f56ee9f81"
      },
      "id": "7vYLyb2LIE4Q",
      "execution_count": null,
      "outputs": [
        {
          "output_type": "stream",
          "name": "stderr",
          "text": [
            "/usr/local/lib/python3.11/dist-packages/keras/src/layers/layer.py:938: UserWarning: Layer 'functional_9' (of type Functional) was passed an input with a mask attached to it. However, this layer does not support masking and will therefore destroy the mask information. Downstream layers will not see the mask.\n",
            "  warnings.warn(\n",
            "/usr/local/lib/python3.11/dist-packages/keras/src/layers/layer.py:938: UserWarning: Layer 'functional_10' (of type Functional) was passed an input with a mask attached to it. However, this layer does not support masking and will therefore destroy the mask information. Downstream layers will not see the mask.\n",
            "  warnings.warn(\n"
          ]
        }
      ]
    },
    {
      "cell_type": "code",
      "source": [
        "# Modelo completo\n",
        "model = tf.keras.Model(inputs=[encoder_inputs, decoder_inputs], outputs=outputs)\n",
        "model.compile(\n",
        "    optimizer='adam',\n",
        "    loss=tf.keras.losses.SparseCategoricalCrossentropy(from_logits=True),\n",
        "    metrics=['accuracy']\n",
        ")"
      ],
      "metadata": {
        "id": "M9cBQKsWIJho"
      },
      "id": "M9cBQKsWIJho",
      "execution_count": null,
      "outputs": []
    },
    {
      "cell_type": "code",
      "source": [
        "decoder_inputs_train, decoder_targets_train = create_decoder_io(train_targets, seq_len=128)\n",
        "decoder_inputs_val, decoder_targets_val = create_decoder_io(val_targets, seq_len=128)"
      ],
      "metadata": {
        "id": "csq6p1s5IRug"
      },
      "id": "csq6p1s5IRug",
      "execution_count": null,
      "outputs": []
    },
    {
      "cell_type": "code",
      "source": [
        "batch_size = 32\n",
        "\n",
        "train_dataset = tf.data.Dataset.from_tensor_slices((\n",
        "    {\n",
        "        'encoder_inputs': train_inputs,\n",
        "        'decoder_inputs': decoder_inputs_train\n",
        "    },\n",
        "    decoder_targets_train\n",
        ")).shuffle(1000).batch(batch_size).prefetch(tf.data.AUTOTUNE)\n",
        "\n",
        "val_dataset = tf.data.Dataset.from_tensor_slices((\n",
        "    {\n",
        "        'encoder_inputs': val_inputs,\n",
        "        'decoder_inputs': decoder_inputs_val\n",
        "    },\n",
        "    decoder_targets_val\n",
        ")).batch(batch_size).prefetch(tf.data.AUTOTUNE)"
      ],
      "metadata": {
        "id": "v97djddtI4Sc"
      },
      "id": "v97djddtI4Sc",
      "execution_count": null,
      "outputs": []
    },
    {
      "cell_type": "markdown",
      "id": "31c5e26e",
      "metadata": {
        "id": "31c5e26e"
      },
      "source": [
        "## 3. Entrenamiento del Modelo"
      ]
    },
    {
      "cell_type": "code",
      "source": [
        "early_stop = EarlyStopping(monitor='val_loss', patience=3, restore_best_weights=True)"
      ],
      "metadata": {
        "id": "C0x2kGky0t-t"
      },
      "id": "C0x2kGky0t-t",
      "execution_count": null,
      "outputs": []
    },
    {
      "cell_type": "code",
      "source": [
        "model.fit(train_dataset, validation_data=val_dataset, epochs=10)"
      ],
      "metadata": {
        "colab": {
          "base_uri": "https://localhost:8080/"
        },
        "id": "8GJreJx2I7D_",
        "outputId": "2cdeccac-8d4d-4a2a-abf4-c6bf55d14859"
      },
      "id": "8GJreJx2I7D_",
      "execution_count": null,
      "outputs": [
        {
          "output_type": "stream",
          "name": "stdout",
          "text": [
            "Epoch 1/10\n",
            "\u001b[1m2032/2032\u001b[0m \u001b[32m━━━━━━━━━━━━━━━━━━━━\u001b[0m\u001b[37m\u001b[0m \u001b[1m117s\u001b[0m 51ms/step - accuracy: 0.8912 - loss: 0.9880 - val_accuracy: 0.9060 - val_loss: 0.5176\n",
            "Epoch 2/10\n",
            "\u001b[1m2032/2032\u001b[0m \u001b[32m━━━━━━━━━━━━━━━━━━━━\u001b[0m\u001b[37m\u001b[0m \u001b[1m93s\u001b[0m 46ms/step - accuracy: 0.9031 - loss: 0.5321 - val_accuracy: 0.9081 - val_loss: 0.4926\n",
            "Epoch 3/10\n",
            "\u001b[1m2032/2032\u001b[0m \u001b[32m━━━━━━━━━━━━━━━━━━━━\u001b[0m\u001b[37m\u001b[0m \u001b[1m93s\u001b[0m 46ms/step - accuracy: 0.9055 - loss: 0.4966 - val_accuracy: 0.9092 - val_loss: 0.4815\n",
            "Epoch 4/10\n",
            "\u001b[1m2032/2032\u001b[0m \u001b[32m━━━━━━━━━━━━━━━━━━━━\u001b[0m\u001b[37m\u001b[0m \u001b[1m95s\u001b[0m 47ms/step - accuracy: 0.9073 - loss: 0.4714 - val_accuracy: 0.9096 - val_loss: 0.4770\n",
            "Epoch 5/10\n",
            "\u001b[1m2032/2032\u001b[0m \u001b[32m━━━━━━━━━━━━━━━━━━━━\u001b[0m\u001b[37m\u001b[0m \u001b[1m96s\u001b[0m 47ms/step - accuracy: 0.9092 - loss: 0.4508 - val_accuracy: 0.9100 - val_loss: 0.4756\n",
            "Epoch 6/10\n",
            "\u001b[1m2032/2032\u001b[0m \u001b[32m━━━━━━━━━━━━━━━━━━━━\u001b[0m\u001b[37m\u001b[0m \u001b[1m143s\u001b[0m 48ms/step - accuracy: 0.9109 - loss: 0.4342 - val_accuracy: 0.9103 - val_loss: 0.4766\n",
            "Epoch 7/10\n",
            "\u001b[1m2032/2032\u001b[0m \u001b[32m━━━━━━━━━━━━━━━━━━━━\u001b[0m\u001b[37m\u001b[0m \u001b[1m94s\u001b[0m 46ms/step - accuracy: 0.9125 - loss: 0.4200 - val_accuracy: 0.9106 - val_loss: 0.4774\n",
            "Epoch 8/10\n",
            "\u001b[1m2032/2032\u001b[0m \u001b[32m━━━━━━━━━━━━━━━━━━━━\u001b[0m\u001b[37m\u001b[0m \u001b[1m96s\u001b[0m 47ms/step - accuracy: 0.9140 - loss: 0.4080 - val_accuracy: 0.9109 - val_loss: 0.4800\n",
            "Epoch 9/10\n",
            "\u001b[1m2032/2032\u001b[0m \u001b[32m━━━━━━━━━━━━━━━━━━━━\u001b[0m\u001b[37m\u001b[0m \u001b[1m93s\u001b[0m 46ms/step - accuracy: 0.9153 - loss: 0.3980 - val_accuracy: 0.9109 - val_loss: 0.4835\n",
            "Epoch 10/10\n",
            "\u001b[1m2032/2032\u001b[0m \u001b[32m━━━━━━━━━━━━━━━━━━━━\u001b[0m\u001b[37m\u001b[0m \u001b[1m96s\u001b[0m 47ms/step - accuracy: 0.9165 - loss: 0.3883 - val_accuracy: 0.9112 - val_loss: 0.4861\n"
          ]
        },
        {
          "output_type": "execute_result",
          "data": {
            "text/plain": [
              "<keras.src.callbacks.history.History at 0x781cb1b24cd0>"
            ]
          },
          "metadata": {},
          "execution_count": 164
        }
      ]
    },
    {
      "cell_type": "code",
      "source": [
        "def decode_sequence(input_text, model, vectorizer, max_len_target=82, bos_token=1, eos_token=2, seq_len=128):\n",
        "    # Tokeniza la pregunta\n",
        "    input_ids = vectorizer([input_text]).numpy()[0]\n",
        "    encoder_input = tf.expand_dims(input_ids, 0)  # (1, seq_len)\n",
        "    decoder_input = [bos_token]\n",
        "    for _ in range(max_len_target):\n",
        "        # Pad decoder_input a longitud seq_len\n",
        "        dec_input_padded = decoder_input + [0] * (seq_len - len(decoder_input))\n",
        "        dec_input_tensor = tf.expand_dims(dec_input_padded, 0)  # (1, seq_len)\n",
        "        predictions = model([encoder_input, dec_input_tensor])\n",
        "        predicted_id = tf.argmax(predictions[0, len(decoder_input)-1]).numpy()\n",
        "        if predicted_id == eos_token or len(decoder_input) >= seq_len:\n",
        "            break\n",
        "        decoder_input.append(predicted_id)\n",
        "    # Decodifica tokens a texto\n",
        "    vocab = vectorizer.get_vocabulary()\n",
        "    respuesta = \" \".join([vocab[tok] for tok in decoder_input[1:] if tok < len(vocab) and tok != 0])\n",
        "    return respuesta"
      ],
      "metadata": {
        "id": "fAPnZ77nMeMq"
      },
      "id": "fAPnZ77nMeMq",
      "execution_count": null,
      "outputs": []
    },
    {
      "cell_type": "code",
      "source": [
        "response = decode_sequence(\"how are you?\", model, vectorizer, max_len_target=82, seq_len=128)\n",
        "print(\"Respuesta del modelo:\", response)"
      ],
      "metadata": {
        "id": "5_-u6J97KXX5",
        "colab": {
          "base_uri": "https://localhost:8080/"
        },
        "outputId": "20809385-df8e-441b-b480-c7af838b6f0a"
      },
      "id": "5_-u6J97KXX5",
      "execution_count": null,
      "outputs": [
        {
          "output_type": "stream",
          "name": "stdout",
          "text": [
            "Respuesta del modelo: well , i think its a bit chilly for the days , but i have got it\n"
          ]
        }
      ]
    },
    {
      "cell_type": "code",
      "source": [
        "response = decode_sequence(\"hello\", model, vectorizer, max_len_target=82, seq_len=128)\n",
        "print(\"Respuesta del modelo:\", response)"
      ],
      "metadata": {
        "colab": {
          "base_uri": "https://localhost:8080/"
        },
        "id": "QZUaEEAohH-5",
        "outputId": "b0bf5192-151a-4a36-90e2-788a7b7dbc1d"
      },
      "id": "QZUaEEAohH-5",
      "execution_count": null,
      "outputs": [
        {
          "output_type": "stream",
          "name": "stdout",
          "text": [
            "Respuesta del modelo: hello , mr\n"
          ]
        }
      ]
    },
    {
      "cell_type": "code",
      "source": [
        "response = decode_sequence(\"how old are you?\", model, vectorizer, max_len_target=82, seq_len=128)\n",
        "print(\"Respuesta del modelo:\", response)"
      ],
      "metadata": {
        "colab": {
          "base_uri": "https://localhost:8080/"
        },
        "id": "GfR-tHy1iPV9",
        "outputId": "d456c923-4b51-4817-b876-bd7f71fe4340"
      },
      "id": "GfR-tHy1iPV9",
      "execution_count": null,
      "outputs": [
        {
          "output_type": "stream",
          "name": "stdout",
          "text": [
            "Respuesta del modelo: how many are you going to be ?\n"
          ]
        }
      ]
    },
    {
      "cell_type": "code",
      "source": [
        "response = decode_sequence(\"where are you from?\", model, vectorizer, max_len_target=82, seq_len=128)\n",
        "print(\"Respuesta del modelo:\", response)"
      ],
      "metadata": {
        "colab": {
          "base_uri": "https://localhost:8080/"
        },
        "id": "7llUjwV_-O3H",
        "outputId": "4b4d8314-e4e4-4ab0-bb1f-0f4e0a8ba9c3"
      },
      "id": "7llUjwV_-O3H",
      "execution_count": null,
      "outputs": [
        {
          "output_type": "stream",
          "name": "stdout",
          "text": [
            "Respuesta del modelo: i am in the cabinet\n"
          ]
        }
      ]
    },
    {
      "cell_type": "code",
      "source": [
        "response = decode_sequence(\"what are you going to do?\", model, vectorizer, max_len_target=82, seq_len=128)\n",
        "print(\"Respuesta del modelo:\", response)"
      ],
      "metadata": {
        "colab": {
          "base_uri": "https://localhost:8080/"
        },
        "id": "wPuXm0ex-eKC",
        "outputId": "a17d80e0-377b-49e2-e98e-c05f342b0e72"
      },
      "id": "wPuXm0ex-eKC",
      "execution_count": null,
      "outputs": [
        {
          "output_type": "stream",
          "name": "stdout",
          "text": [
            "Respuesta del modelo: i am going to be able to get a movie about the dentist\n"
          ]
        }
      ]
    },
    {
      "cell_type": "code",
      "source": [
        "response = decode_sequence(\"what is his name?\", model, vectorizer, max_len_target=82, seq_len=128)\n",
        "print(\"Respuesta del modelo:\", response)"
      ],
      "metadata": {
        "colab": {
          "base_uri": "https://localhost:8080/"
        },
        "id": "FEVeFQ0G-sE_",
        "outputId": "d2bd7913-d987-473f-e2ae-55c74c7e5a2e"
      },
      "id": "FEVeFQ0G-sE_",
      "execution_count": null,
      "outputs": [
        {
          "output_type": "stream",
          "name": "stdout",
          "text": [
            "Respuesta del modelo: he is a [UNK]\n"
          ]
        }
      ]
    },
    {
      "cell_type": "code",
      "source": [
        "response = decode_sequence(\"what is her name?\", model, vectorizer, max_len_target=82, seq_len=128)\n",
        "print(\"Respuesta del modelo:\", response)"
      ],
      "metadata": {
        "colab": {
          "base_uri": "https://localhost:8080/"
        },
        "id": "3fWJQoG9_Iab",
        "outputId": "a8f0300e-126a-4eb1-aaaf-d1c2c195a483"
      },
      "id": "3fWJQoG9_Iab",
      "execution_count": null,
      "outputs": [
        {
          "output_type": "stream",
          "name": "stdout",
          "text": [
            "Respuesta del modelo: she is a [UNK] , [UNK]\n"
          ]
        }
      ]
    },
    {
      "cell_type": "markdown",
      "id": "44608fb6",
      "metadata": {
        "id": "44608fb6"
      },
      "source": [
        "## 4. Evaluación del Modelo"
      ]
    },
    {
      "cell_type": "code",
      "source": [
        "# Generar predicciones para las primeras 100 muestras del test\n",
        "num_samples = 100\n",
        "bleu_scores = []\n",
        "rouge_scores = []\n",
        "\n",
        "for i in range(num_samples):\n",
        "    input_text = test_inputs_text[i]\n",
        "    reference = test_targets_text[i]\n",
        "    prediction = decode_sequence(input_text, model, vectorizer, max_len_target=82, seq_len=128)\n",
        "    reference_tokens = reference.split()\n",
        "    prediction_tokens = prediction.split()\n",
        "    bleu = sentence_bleu([reference_tokens], prediction_tokens, smoothing_function=SmoothingFunction().method1)\n",
        "    bleu_scores.append(bleu)\n",
        "    if rouge_available:\n",
        "        scorer = rouge_scorer.RougeScorer(['rouge1', 'rougeL'], use_stemmer=True)\n",
        "        scores = scorer.score(reference, prediction)\n",
        "        rouge_scores.append(scores)\n",
        "\n",
        "print(f\"BLEU promedio en {num_samples} muestras: {np.mean(bleu_scores):.4f}\")\n",
        "if rouge_available:\n",
        "    avg_rouge1 = np.mean([s['rouge1'].fmeasure for s in rouge_scores])\n",
        "    avg_rougeL = np.mean([s['rougeL'].fmeasure for s in rouge_scores])\n",
        "    print(f\"ROUGE-1 promedio: {avg_rouge1:.4f}\")\n",
        "    print(f\"ROUGE-L promedio: {avg_rougeL:.4f}\")\n",
        "else:\n",
        "    print(\"ROUGE no disponible. Instala con: pip install rouge-score\")"
      ],
      "metadata": {
        "colab": {
          "base_uri": "https://localhost:8080/"
        },
        "id": "JBvjMlPjjhGs",
        "outputId": "f925ef50-6e6e-4a56-b1fd-6e615bd7087f"
      },
      "id": "JBvjMlPjjhGs",
      "execution_count": null,
      "outputs": [
        {
          "output_type": "stream",
          "name": "stdout",
          "text": [
            "BLEU promedio en 100 muestras: 0.0084\n",
            "ROUGE-1 promedio: 0.0915\n",
            "ROUGE-L promedio: 0.0838\n"
          ]
        }
      ]
    },
    {
      "cell_type": "markdown",
      "id": "c9642c36",
      "metadata": {
        "id": "c9642c36"
      },
      "source": [
        "## 5. Ajuste de Hiperparámetros"
      ]
    },
    {
      "cell_type": "code",
      "execution_count": null,
      "id": "197491c9",
      "metadata": {
        "id": "197491c9"
      },
      "outputs": [],
      "source": [
        "# --- Función para construir el modelo Transformer ---\n",
        "def build_transformer_model(\n",
        "    vocab_size=8000,\n",
        "    embed_dim=128,\n",
        "    num_heads=8,\n",
        "    ff_dim=512,\n",
        "    sequence_length=128,\n",
        "    dropout=0.1\n",
        "):\n",
        "    # Embedding compartido\n",
        "    embedding_layer = tf.keras.layers.Embedding(input_dim=vocab_size, output_dim=embed_dim, mask_zero=True)\n",
        "\n",
        "    # Inputs\n",
        "    encoder_inputs = tf.keras.Input(shape=(sequence_length,), name=\"encoder_inputs\")\n",
        "    decoder_inputs = tf.keras.Input(shape=(sequence_length,), name=\"decoder_inputs\")\n",
        "\n",
        "    # Embedding\n",
        "    enc_emb = embedding_layer(encoder_inputs)\n",
        "    dec_emb = embedding_layer(decoder_inputs)\n",
        "\n",
        "    # Encoder y Decoder\n",
        "    encoder = transformer_encoder(embed_dim, num_heads, ff_dim)\n",
        "    decoder = transformer_decoder(embed_dim, num_heads, ff_dim, dropout=dropout)\n",
        "\n",
        "    enc_out = encoder(enc_emb)\n",
        "    dec_out = decoder([dec_emb, enc_out])\n",
        "\n",
        "    # Output final\n",
        "    outputs = tf.keras.layers.Dense(vocab_size)(dec_out)\n",
        "\n",
        "    model = tf.keras.Model(inputs=[encoder_inputs, decoder_inputs], outputs=outputs)\n",
        "    model.compile(\n",
        "        optimizer='adam',\n",
        "        loss=tf.keras.losses.SparseCategoricalCrossentropy(from_logits=True),\n",
        "        metrics=['accuracy']\n",
        "    )\n",
        "    return model\n"
      ]
    },
    {
      "cell_type": "code",
      "source": [
        "decoder_inputs_test, decoder_targets_test = create_decoder_io(test_targets, seq_len=128)"
      ],
      "metadata": {
        "id": "fSu3jFhxEDn8"
      },
      "id": "fSu3jFhxEDn8",
      "execution_count": null,
      "outputs": []
    },
    {
      "cell_type": "code",
      "source": [
        "def calcular_bleu(model, X, y_in, y_out):\n",
        "    # Calcula BLEU promedio para el set de test\n",
        "    scores = []\n",
        "    for i in range(len(X)):\n",
        "        input_seq = X[i]\n",
        "        target_seq = y_out[i]\n",
        "        # Decodifica la predicción (ajusta según tu función de decodificación)\n",
        "        pred = decode_sequence(\" \".join([str(tok) for tok in input_seq if tok != 0]), model, vectorizer, seq_len=MAXLEN)\n",
        "        reference = \" \".join([str(tok) for tok in target_seq if tok != 0])\n",
        "        pred_tokens = pred.split()\n",
        "        ref_tokens = reference.split()\n",
        "        score = sentence_bleu([ref_tokens], pred_tokens, smoothing_function=SmoothingFunction().method1)\n",
        "        scores.append(score)\n",
        "    return np.mean(scores)\n",
        "\n",
        "def calcular_rouge(model, X, y_in, y_out):\n",
        "    # Calcula ROUGE promedio para el set de test\n",
        "    if not rouge_available:\n",
        "        return None\n",
        "    scores = []\n",
        "    for i in range(len(X)):\n",
        "        input_seq = X[i]\n",
        "        target_seq = y_out[i]\n",
        "        pred = decode_sequence(\" \".join([str(tok) for tok in input_seq if tok != 0]), model, vectorizer, seq_len=MAXLEN)\n",
        "        reference = \" \".join([str(tok) for tok in target_seq if tok != 0])\n",
        "        scorer = rouge_scorer.RougeScorer(['rouge1', 'rougeL'], use_stemmer=True)\n",
        "        score = scorer.score(reference, pred)\n",
        "        scores.append(score['rougeL'].fmeasure)\n",
        "    return np.mean(scores)"
      ],
      "metadata": {
        "id": "l8hzE68qBBfU"
      },
      "id": "l8hzE68qBBfU",
      "execution_count": null,
      "outputs": []
    },
    {
      "cell_type": "code",
      "source": [
        "EPOCHS = 10\n",
        "VOCAB_SIZE = 8000\n",
        "EMBED_DIM = 128\n",
        "BATCH_SIZE = 32\n",
        "MAXLEN = 128\n",
        "\n",
        "\n",
        "experiments = [\n",
        "    {\"num_heads\": 2, \"ff_dim\": 64},\n",
        "    {\"num_heads\": 4, \"ff_dim\": 128},\n",
        "    {\"num_heads\": 8, \"ff_dim\": 512}\n",
        "]\n",
        "\n",
        "results = []\n",
        "\n",
        "for config in experiments:\n",
        "    print(f\"\\n🔧 Entrenando con configuración: {config}\")\n",
        "\n",
        "    model = build_transformer_model(\n",
        "        vocab_size=VOCAB_SIZE,\n",
        "        embed_dim=EMBED_DIM,\n",
        "        num_heads=config[\"num_heads\"],\n",
        "        ff_dim=config[\"ff_dim\"],\n",
        "        sequence_length=MAXLEN,\n",
        "        dropout=0.1\n",
        "    )\n",
        "\n",
        "    history = model.fit(\n",
        "        x={\n",
        "            \"encoder_inputs\": train_inputs,\n",
        "            \"decoder_inputs\": decoder_inputs_train\n",
        "        },\n",
        "        y=decoder_targets_train,\n",
        "        validation_data=(\n",
        "            {\n",
        "                \"encoder_inputs\": val_inputs,\n",
        "                \"decoder_inputs\": decoder_inputs_val\n",
        "            },\n",
        "            decoder_targets_val\n",
        "        ),\n",
        "        epochs=EPOCHS,\n",
        "        batch_size=BATCH_SIZE,\n",
        "        callbacks=[early_stop],\n",
        "        verbose=2\n",
        "    )\n",
        "\n",
        "    print(\"📈 Evaluando en test...\")\n",
        "    # Usamos los primeros 100 ejemplos del test para acelerar\n",
        "    bleu_score = calcular_bleu(model, test_inputs[:100], decoder_inputs_test[:100], decoder_targets_test[:100])\n",
        "    rouge_score = calcular_rouge(model, test_inputs[:100], decoder_inputs_test[:100], decoder_targets_test[:100]) if rouge_available else None\n",
        "\n",
        "    print(f\"✅ BLEU: {bleu_score:.4f}\")\n",
        "    if rouge_score is not None:\n",
        "        print(f\"✅ ROUGE-L: {rouge_score:.4f}\")\n",
        "\n",
        "    results.append({\n",
        "        \"num_heads\": config[\"num_heads\"],\n",
        "        \"ff_dim\": config[\"ff_dim\"],\n",
        "        \"bleu\": bleu_score,\n",
        "        \"rougeL\": rouge_score\n",
        "    })\n",
        "\n",
        "# Mostrar resultados\n",
        "results_df = pd.DataFrame(results)\n",
        "display(results_df)\n"
      ],
      "metadata": {
        "colab": {
          "base_uri": "https://localhost:8080/"
        },
        "id": "MWAa3zxvBRqB",
        "outputId": "01fcca0c-3ccf-4341-8805-d345ce5ef8e0"
      },
      "id": "MWAa3zxvBRqB",
      "execution_count": null,
      "outputs": [
        {
          "output_type": "stream",
          "name": "stdout",
          "text": [
            "\n",
            "🔧 Entrenando con configuración: {'num_heads': 2, 'ff_dim': 64}\n"
          ]
        },
        {
          "output_type": "stream",
          "name": "stderr",
          "text": [
            "/usr/local/lib/python3.11/dist-packages/keras/src/layers/layer.py:938: UserWarning: Layer 'functional_12' (of type Functional) was passed an input with a mask attached to it. However, this layer does not support masking and will therefore destroy the mask information. Downstream layers will not see the mask.\n",
            "  warnings.warn(\n",
            "/usr/local/lib/python3.11/dist-packages/keras/src/layers/layer.py:938: UserWarning: Layer 'functional_13' (of type Functional) was passed an input with a mask attached to it. However, this layer does not support masking and will therefore destroy the mask information. Downstream layers will not see the mask.\n",
            "  warnings.warn(\n"
          ]
        },
        {
          "output_type": "stream",
          "name": "stdout",
          "text": [
            "Epoch 1/10\n",
            "2032/2032 - 117s - 57ms/step - accuracy: 0.8992 - loss: 0.6528 - val_accuracy: 0.9053 - val_loss: 0.5258\n",
            "Epoch 2/10\n",
            "2032/2032 - 43s - 21ms/step - accuracy: 0.9042 - loss: 0.5186 - val_accuracy: 0.9071 - val_loss: 0.4995\n",
            "Epoch 3/10\n",
            "2032/2032 - 44s - 22ms/step - accuracy: 0.9062 - loss: 0.4878 - val_accuracy: 0.9078 - val_loss: 0.4882\n",
            "Epoch 4/10\n",
            "2032/2032 - 43s - 21ms/step - accuracy: 0.9076 - loss: 0.4664 - val_accuracy: 0.9086 - val_loss: 0.4816\n",
            "Epoch 5/10\n",
            "2032/2032 - 44s - 22ms/step - accuracy: 0.9091 - loss: 0.4494 - val_accuracy: 0.9089 - val_loss: 0.4790\n",
            "Epoch 6/10\n",
            "2032/2032 - 47s - 23ms/step - accuracy: 0.9105 - loss: 0.4355 - val_accuracy: 0.9094 - val_loss: 0.4771\n",
            "Epoch 7/10\n",
            "2032/2032 - 82s - 40ms/step - accuracy: 0.9117 - loss: 0.4240 - val_accuracy: 0.9097 - val_loss: 0.4769\n",
            "Epoch 8/10\n",
            "2032/2032 - 81s - 40ms/step - accuracy: 0.9129 - loss: 0.4143 - val_accuracy: 0.9099 - val_loss: 0.4782\n",
            "Epoch 9/10\n",
            "2032/2032 - 45s - 22ms/step - accuracy: 0.9139 - loss: 0.4057 - val_accuracy: 0.9102 - val_loss: 0.4790\n",
            "Epoch 10/10\n",
            "2032/2032 - 82s - 41ms/step - accuracy: 0.9148 - loss: 0.3984 - val_accuracy: 0.9103 - val_loss: 0.4822\n",
            "📈 Evaluando en test...\n",
            "✅ BLEU: 0.0000\n",
            "✅ ROUGE-L: 0.0000\n",
            "\n",
            "🔧 Entrenando con configuración: {'num_heads': 4, 'ff_dim': 128}\n"
          ]
        },
        {
          "output_type": "stream",
          "name": "stderr",
          "text": [
            "/usr/local/lib/python3.11/dist-packages/keras/src/layers/layer.py:938: UserWarning: Layer 'functional_15' (of type Functional) was passed an input with a mask attached to it. However, this layer does not support masking and will therefore destroy the mask information. Downstream layers will not see the mask.\n",
            "  warnings.warn(\n",
            "/usr/local/lib/python3.11/dist-packages/keras/src/layers/layer.py:938: UserWarning: Layer 'functional_16' (of type Functional) was passed an input with a mask attached to it. However, this layer does not support masking and will therefore destroy the mask information. Downstream layers will not see the mask.\n",
            "  warnings.warn(\n"
          ]
        },
        {
          "output_type": "stream",
          "name": "stdout",
          "text": [
            "Epoch 1/10\n",
            "2032/2032 - 86s - 43ms/step - accuracy: 0.8994 - loss: 0.6479 - val_accuracy: 0.9055 - val_loss: 0.5237\n",
            "Epoch 2/10\n",
            "2032/2032 - 66s - 32ms/step - accuracy: 0.9047 - loss: 0.5156 - val_accuracy: 0.9075 - val_loss: 0.4972\n",
            "Epoch 3/10\n",
            "2032/2032 - 63s - 31ms/step - accuracy: 0.9067 - loss: 0.4847 - val_accuracy: 0.9084 - val_loss: 0.4839\n",
            "Epoch 4/10\n",
            "2032/2032 - 82s - 40ms/step - accuracy: 0.9083 - loss: 0.4626 - val_accuracy: 0.9090 - val_loss: 0.4777\n",
            "Epoch 5/10\n",
            "2032/2032 - 83s - 41ms/step - accuracy: 0.9099 - loss: 0.4451 - val_accuracy: 0.9097 - val_loss: 0.4749\n",
            "Epoch 6/10\n"
          ]
        }
      ]
    },
    {
      "cell_type": "code",
      "source": [
        "if 'history' in locals() and history is not None:\n",
        "    plt.figure(figsize=(12, 6))\n",
        "\n",
        "    # Plot loss\n",
        "    plt.subplot(1, 2, 1)\n",
        "    plt.plot(history.history['loss'], label='Train Loss')\n",
        "    plt.plot(history.history['val_loss'], label='Validation Loss')\n",
        "    plt.title('Loss vs. Epochs')\n",
        "    plt.xlabel('Epochs')\n",
        "    plt.ylabel('Loss')\n",
        "    plt.legend()\n",
        "    plt.grid(True)\n",
        "\n",
        "    # Plot accuracy\n",
        "    plt.subplot(1, 2, 2)\n",
        "    plt.plot(history.history['accuracy'], label='Train Accuracy')\n",
        "    plt.plot(history.history['val_accuracy'], label='Validation Accuracy')\n",
        "    plt.title('Accuracy vs. Epochs')\n",
        "    plt.xlabel('Epochs')\n",
        "    plt.ylabel('Accuracy')\n",
        "    plt.legend()\n",
        "    plt.grid(True)\n",
        "\n",
        "    plt.tight_layout()\n",
        "    plt.show()\n",
        "\n",
        "# Plot evaluation metrics for different configurations from the experiments\n",
        "if 'results_df' in locals() and not results_df.empty:\n",
        "    results_df['config_label'] = results_df.apply(lambda row: f\"H:{int(row['num_heads'])}, FF:{int(row['ff_dim'])}\", axis=1)\n",
        "\n",
        "    plt.figure(figsize=(10, 6))\n",
        "\n",
        "    # Plot BLEU scores\n",
        "    plt.plot(results_df['config_label'], results_df['bleu'], marker='o', linestyle='-', label='BLEU Score')\n",
        "\n",
        "    # Plot ROUGE-L scores if available\n",
        "    if 'rougeL' in results_df.columns and results_df['rougeL'].isnull().sum() < len(results_df):\n",
        "         plt.plot(results_df['config_label'], results_df['rougeL'], marker='x', linestyle='--', label='ROUGE-L Score')\n",
        "\n",
        "    plt.title('Evaluation Metrics by Transformer Configuration')\n",
        "    plt.xlabel('Configuration (Num Heads, FF Dim)')\n",
        "    plt.ylabel('Score')\n",
        "    plt.ylim(0, 1) # Scores are typically between 0 and 1\n",
        "    plt.legend()\n",
        "    plt.grid(True)\n",
        "    plt.xticks(rotation=45, ha='right') # Rotate labels for readability\n",
        "    plt.tight_layout()\n",
        "    plt.show()\n",
        "\n",
        "else:\n",
        "    print(\"No training history or experiment results found to plot.\")\n"
      ],
      "metadata": {
        "id": "6pb3Gx66FnVq"
      },
      "id": "6pb3Gx66FnVq",
      "execution_count": null,
      "outputs": []
    },
    {
      "cell_type": "markdown",
      "id": "385dac70",
      "metadata": {
        "id": "385dac70"
      },
      "source": [
        "## 6. Presentación de Resultados y Conclusiones"
      ]
    },
    {
      "cell_type": "markdown",
      "id": "54d3e402",
      "metadata": {
        "id": "54d3e402"
      },
      "source": [
        "\n",
        "En esta sección, resumiremos los resultados obtenidos, mostrando cómo los ajustes de los hiperparámetros impactaron en el rendimiento del modelo.\n",
        "- **Resultados Finales**: Comparación de BLEU, ROUGE, y otras métricas para cada configuración.\n",
        "- **Conclusiones**: Reflexión sobre el proceso, dificultades encontradas y aprendizajes obtenidos.\n",
        "\n",
        "¡Gracias por revisar nuestro proyecto! Esperamos que esta implementación demuestre nuestro dominio en el uso de transformers para NLP.\n"
      ]
    }
  ],
  "metadata": {
    "language_info": {
      "name": "python"
    },
    "colab": {
      "provenance": [],
      "gpuType": "T4",
      "toc_visible": true
    },
    "kernelspec": {
      "name": "python3",
      "display_name": "Python 3"
    },
    "accelerator": "GPU"
  },
  "nbformat": 4,
  "nbformat_minor": 5
}